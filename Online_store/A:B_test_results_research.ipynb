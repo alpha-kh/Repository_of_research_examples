{
 "cells": [
  {
   "cell_type": "markdown",
   "metadata": {},
   "source": [
    "# Исследование данных интернет магазина"
   ]
  },
  {
   "cell_type": "markdown",
   "metadata": {},
   "source": [
    "**Описание проекта**\n",
    "\n",
    "Доступны данные крупного интернет-магазина.\n",
    "\n",
    "*Первая часть проекта* - приоритизация гипотез в целях максимизации ожидаемого улучшения ключевых метрик бизнеса \n",
    "\n",
    "*Цель:* Приоритизировать подготовленные совместно с маркетологами гипотезы по увеличению выручки интернет-магазина с указанными параметрами Reach, Impact, Confidence, Effort.\n",
    "\n",
    "\n",
    "*Вторая часть проекта* - анализ результатов A/B-теста\n",
    "\n",
    "*Цель:* Оценить результаты А/В теста на основе изучения основных метрик:\n",
    "\n",
    "- кумулятивной выручки\n",
    "- кумулятивного среднего чека\n",
    "- кумулятивного среднего количества заказов на посетителя.\n",
    "\n",
    "Для выявления точек роста бизнеса, необходимо проанализировать и сравнить данные по пользователям из групп A и B, а также проверить следующие гипотезы:\n",
    "\n",
    "- различий в среднем количестве заказов на пользователя между группами A и B нет\n",
    "- различий в среднем чеке между группами A и B нет\n",
    "\n",
    "Статистическая значимость различий будет рассчитана с помощью U-критерия Манна-Уитни.\n",
    "\n",
    "По результатам оценки будет принято решение о прекращении, продолжении теста или признании большей эффективности одной из групп."
   ]
  },
  {
   "cell_type": "markdown",
   "metadata": {},
   "source": [
    "**Описание данных**\n",
    "\n",
    "Данные для первой части\n",
    "\n",
    "Файл `/datasets/hypothesis.csv` содержит 9 гипотез по увеличению выручки:\n",
    "\n",
    "- `Hypothesis` — краткое описание гипотезы;\n",
    "- `Reach` — охват пользователей по 10-балльной шкале;\n",
    "- `Impact` — влияние на пользователей по 10-балльной шкале;\n",
    "- `Confidence` — уверенность в гипотезе по 10-балльной шкале;\n",
    "- `Efforts` — затраты ресурсов на проверку гипотезы по 10-балльной шкале. Чем больше значение Efforts, тем дороже проверка гипотезы.\n",
    "\n",
    "Данные для второй части\n",
    "\n",
    "Файл `/datasets/orders.csv` содержит результат A/B-теста по заказам\n",
    "\n",
    "- `transactionId` — идентификатор заказа;\n",
    "- `visitorId` — идентификатор пользователя, совершившего заказ;\n",
    "- `date` — дата, когда был совершён заказ;\n",
    "- `revenue` — выручка заказа;\n",
    "- `group` — группа A/B-теста, в которую попал заказ.\n",
    "\n",
    "Файл `/datasets/visitors.csv` содержит результат A/B-теста по посещениям\n",
    "\n",
    "- `date` — дата;\n",
    "- `group` — группа A/B-теста;\n",
    "- `visitors` — количество пользователей в указанную дату в указанной группе A/B-теста"
   ]
  },
  {
   "cell_type": "markdown",
   "metadata": {},
   "source": [
    "## Часть 1. Приоритизация гипотез"
   ]
  },
  {
   "cell_type": "markdown",
   "metadata": {},
   "source": [
    "### Шаг 1. Загрузим данные и подготовим их к анализу"
   ]
  },
  {
   "cell_type": "markdown",
   "metadata": {},
   "source": [
    "#### 1.1 Импортируем необходимые библиотеки и считаем CSV-файлы с данными, сохраним их в датафреймы"
   ]
  },
  {
   "cell_type": "code",
   "execution_count": 1,
   "metadata": {},
   "outputs": [],
   "source": [
    "#импортируем все необходимые библиотеки\n",
    "import pandas as pd\n",
    "import datetime as dt\n",
    "from scipy import stats as st\n",
    "import matplotlib.pyplot as plt\n",
    "import seaborn as sns\n",
    "import numpy as np"
   ]
  },
  {
   "cell_type": "markdown",
   "metadata": {},
   "source": [
    "#### 1.2 Ознакомимся с набором данных. Изучим общую информацию датафрейме"
   ]
  },
  {
   "cell_type": "code",
   "execution_count": 3,
   "metadata": {},
   "outputs": [
    {
     "data": {
      "text/html": [
       "<div>\n",
       "<style scoped>\n",
       "    .dataframe tbody tr th:only-of-type {\n",
       "        vertical-align: middle;\n",
       "    }\n",
       "\n",
       "    .dataframe tbody tr th {\n",
       "        vertical-align: top;\n",
       "    }\n",
       "\n",
       "    .dataframe thead th {\n",
       "        text-align: right;\n",
       "    }\n",
       "</style>\n",
       "<table border=\"1\" class=\"dataframe\">\n",
       "  <thead>\n",
       "    <tr style=\"text-align: right;\">\n",
       "      <th></th>\n",
       "      <th>Hypothesis</th>\n",
       "      <th>Reach</th>\n",
       "      <th>Impact</th>\n",
       "      <th>Confidence</th>\n",
       "      <th>Efforts</th>\n",
       "    </tr>\n",
       "  </thead>\n",
       "  <tbody>\n",
       "    <tr>\n",
       "      <th>0</th>\n",
       "      <td>Добавить два новых канала привлечения трафика,...</td>\n",
       "      <td>3</td>\n",
       "      <td>10</td>\n",
       "      <td>8</td>\n",
       "      <td>6</td>\n",
       "    </tr>\n",
       "    <tr>\n",
       "      <th>1</th>\n",
       "      <td>Запустить собственную службу доставки, что сок...</td>\n",
       "      <td>2</td>\n",
       "      <td>5</td>\n",
       "      <td>4</td>\n",
       "      <td>10</td>\n",
       "    </tr>\n",
       "    <tr>\n",
       "      <th>2</th>\n",
       "      <td>Добавить блоки рекомендаций товаров на сайт ин...</td>\n",
       "      <td>8</td>\n",
       "      <td>3</td>\n",
       "      <td>7</td>\n",
       "      <td>3</td>\n",
       "    </tr>\n",
       "    <tr>\n",
       "      <th>3</th>\n",
       "      <td>Изменить структура категорий, что увеличит кон...</td>\n",
       "      <td>8</td>\n",
       "      <td>3</td>\n",
       "      <td>3</td>\n",
       "      <td>8</td>\n",
       "    </tr>\n",
       "    <tr>\n",
       "      <th>4</th>\n",
       "      <td>Изменить цвет фона главной страницы, чтобы уве...</td>\n",
       "      <td>3</td>\n",
       "      <td>1</td>\n",
       "      <td>1</td>\n",
       "      <td>1</td>\n",
       "    </tr>\n",
       "    <tr>\n",
       "      <th>5</th>\n",
       "      <td>Добавить страницу отзывов клиентов о магазине,...</td>\n",
       "      <td>3</td>\n",
       "      <td>2</td>\n",
       "      <td>2</td>\n",
       "      <td>3</td>\n",
       "    </tr>\n",
       "    <tr>\n",
       "      <th>6</th>\n",
       "      <td>Показать на главной странице баннеры с актуаль...</td>\n",
       "      <td>5</td>\n",
       "      <td>3</td>\n",
       "      <td>8</td>\n",
       "      <td>3</td>\n",
       "    </tr>\n",
       "    <tr>\n",
       "      <th>7</th>\n",
       "      <td>Добавить форму подписки на все основные страни...</td>\n",
       "      <td>10</td>\n",
       "      <td>7</td>\n",
       "      <td>8</td>\n",
       "      <td>5</td>\n",
       "    </tr>\n",
       "    <tr>\n",
       "      <th>8</th>\n",
       "      <td>Запустить акцию, дающую скидку на товар в день...</td>\n",
       "      <td>1</td>\n",
       "      <td>9</td>\n",
       "      <td>9</td>\n",
       "      <td>5</td>\n",
       "    </tr>\n",
       "  </tbody>\n",
       "</table>\n",
       "</div>"
      ],
      "text/plain": [
       "                                          Hypothesis  Reach  Impact  Confidence  Efforts\n",
       "0  Добавить два новых канала привлечения трафика,...      3      10           8        6\n",
       "1  Запустить собственную службу доставки, что сок...      2       5           4       10\n",
       "2  Добавить блоки рекомендаций товаров на сайт ин...      8       3           7        3\n",
       "3  Изменить структура категорий, что увеличит кон...      8       3           3        8\n",
       "4  Изменить цвет фона главной страницы, чтобы уве...      3       1           1        1\n",
       "5  Добавить страницу отзывов клиентов о магазине,...      3       2           2        3\n",
       "6  Показать на главной странице баннеры с актуаль...      5       3           8        3\n",
       "7  Добавить форму подписки на все основные страни...     10       7           8        5\n",
       "8  Запустить акцию, дающую скидку на товар в день...      1       9           9        5"
      ]
     },
     "execution_count": 3,
     "metadata": {},
     "output_type": "execute_result"
    }
   ],
   "source": [
    "#выведем все строки датафрейма, т.к. гипотез всего 9\n",
    "pd.set_option('display.width', 500)\n",
    "data_h"
   ]
  },
  {
   "cell_type": "markdown",
   "metadata": {},
   "source": [
    "Данные по всем параметрам приведены в 10-балльной системе оценки, как указано в описании данных. Самые затратные гипотезы: 2 (запуск собственной службы доставки) и 4 (изменение структуры категорий)."
   ]
  },
  {
   "cell_type": "code",
   "execution_count": 4,
   "metadata": {
    "scrolled": true
   },
   "outputs": [
    {
     "data": {
      "text/plain": [
       "Index(['hypothesis', 'reach', 'impact', 'confidence', 'efforts'], dtype='object')"
      ]
     },
     "execution_count": 4,
     "metadata": {},
     "output_type": "execute_result"
    }
   ],
   "source": [
    "#приведем названия колонок к нижнему регистру\n",
    "data_h.columns = data_h.columns.str.lower()\n",
    "data_h.columns"
   ]
  },
  {
   "cell_type": "code",
   "execution_count": 5,
   "metadata": {},
   "outputs": [
    {
     "data": {
      "text/plain": [
       "hypothesis    object\n",
       "reach          int64\n",
       "impact         int64\n",
       "confidence     int64\n",
       "efforts        int64\n",
       "dtype: object"
      ]
     },
     "execution_count": 5,
     "metadata": {},
     "output_type": "execute_result"
    }
   ],
   "source": [
    "#убедимся, что в датафрейме подходящие для расчетов типы данных\n",
    "data_h.dtypes"
   ]
  },
  {
   "cell_type": "markdown",
   "metadata": {},
   "source": [
    "### Шаг 2. Приоритизируем гипотезы"
   ]
  },
  {
   "cell_type": "markdown",
   "metadata": {},
   "source": [
    "#### 2.1 Применим фреймворк ICE для приоритизации гипотез"
   ]
  },
  {
   "cell_type": "code",
   "execution_count": 6,
   "metadata": {},
   "outputs": [],
   "source": [
    "data_h['ICE'] = (data_h['impact'] * data_h['confidence'] / data_h['efforts']).round(2)"
   ]
  },
  {
   "cell_type": "code",
   "execution_count": 7,
   "metadata": {},
   "outputs": [
    {
     "data": {
      "text/html": [
       "<div>\n",
       "<style scoped>\n",
       "    .dataframe tbody tr th:only-of-type {\n",
       "        vertical-align: middle;\n",
       "    }\n",
       "\n",
       "    .dataframe tbody tr th {\n",
       "        vertical-align: top;\n",
       "    }\n",
       "\n",
       "    .dataframe thead th {\n",
       "        text-align: right;\n",
       "    }\n",
       "</style>\n",
       "<table border=\"1\" class=\"dataframe\">\n",
       "  <thead>\n",
       "    <tr style=\"text-align: right;\">\n",
       "      <th></th>\n",
       "      <th>hypothesis</th>\n",
       "      <th>ICE</th>\n",
       "    </tr>\n",
       "  </thead>\n",
       "  <tbody>\n",
       "    <tr>\n",
       "      <th>8</th>\n",
       "      <td>Запустить акцию, дающую скидку на товар в день рождения</td>\n",
       "      <td>16.20</td>\n",
       "    </tr>\n",
       "    <tr>\n",
       "      <th>0</th>\n",
       "      <td>Добавить два новых канала привлечения трафика, что позволит привлекать на 30% больше пользователей</td>\n",
       "      <td>13.33</td>\n",
       "    </tr>\n",
       "    <tr>\n",
       "      <th>7</th>\n",
       "      <td>Добавить форму подписки на все основные страницы, чтобы собрать базу клиентов для email-рассылок</td>\n",
       "      <td>11.20</td>\n",
       "    </tr>\n",
       "    <tr>\n",
       "      <th>6</th>\n",
       "      <td>Показать на главной странице баннеры с актуальными акциями и распродажами, чтобы увеличить конверсию</td>\n",
       "      <td>8.00</td>\n",
       "    </tr>\n",
       "    <tr>\n",
       "      <th>2</th>\n",
       "      <td>Добавить блоки рекомендаций товаров на сайт интернет магазина, чтобы повысить конверсию и средний чек заказа</td>\n",
       "      <td>7.00</td>\n",
       "    </tr>\n",
       "    <tr>\n",
       "      <th>1</th>\n",
       "      <td>Запустить собственную службу доставки, что сократит срок доставки заказов</td>\n",
       "      <td>2.00</td>\n",
       "    </tr>\n",
       "    <tr>\n",
       "      <th>5</th>\n",
       "      <td>Добавить страницу отзывов клиентов о магазине, что позволит увеличить количество заказов</td>\n",
       "      <td>1.33</td>\n",
       "    </tr>\n",
       "    <tr>\n",
       "      <th>3</th>\n",
       "      <td>Изменить структура категорий, что увеличит конверсию, т.к. пользователи быстрее найдут нужный товар</td>\n",
       "      <td>1.12</td>\n",
       "    </tr>\n",
       "    <tr>\n",
       "      <th>4</th>\n",
       "      <td>Изменить цвет фона главной страницы, чтобы увеличить вовлеченность пользователей</td>\n",
       "      <td>1.00</td>\n",
       "    </tr>\n",
       "  </tbody>\n",
       "</table>\n",
       "</div>"
      ],
      "text/plain": [
       "                                                                                                     hypothesis    ICE\n",
       "8                                                       Запустить акцию, дающую скидку на товар в день рождения  16.20\n",
       "0            Добавить два новых канала привлечения трафика, что позволит привлекать на 30% больше пользователей  13.33\n",
       "7              Добавить форму подписки на все основные страницы, чтобы собрать базу клиентов для email-рассылок  11.20\n",
       "6          Показать на главной странице баннеры с актуальными акциями и распродажами, чтобы увеличить конверсию   8.00\n",
       "2  Добавить блоки рекомендаций товаров на сайт интернет магазина, чтобы повысить конверсию и средний чек заказа   7.00\n",
       "1                                     Запустить собственную службу доставки, что сократит срок доставки заказов   2.00\n",
       "5                      Добавить страницу отзывов клиентов о магазине, что позволит увеличить количество заказов   1.33\n",
       "3           Изменить структура категорий, что увеличит конверсию, т.к. пользователи быстрее найдут нужный товар   1.12\n",
       "4                              Изменить цвет фона главной страницы, чтобы увеличить вовлеченность пользователей   1.00"
      ]
     },
     "execution_count": 7,
     "metadata": {},
     "output_type": "execute_result"
    }
   ],
   "source": [
    "pd.set_option('max_colwidth', 130)\n",
    "data_h[['hypothesis', 'ICE']].sort_values(by='ICE', ascending=False) #отсортируем гипотезы по убыванию приоритета"
   ]
  },
  {
   "cell_type": "markdown",
   "metadata": {},
   "source": [
    "Наибольшее количество баллов по методу ICE получили гипотезы:\n",
    "- 9 (скидка на товар в день рождения), \n",
    "- 1 (+2 новых канала привлечения), \n",
    "- 8 (добавление формы подписки на основные страницы).\n",
    "\n",
    "Также можно выделить гипотезы:\n",
    "- 7 (баннеры с акциями на главной странице),\n",
    "- 3 (блоки с рекомендациями товаров на сайте)"
   ]
  },
  {
   "cell_type": "markdown",
   "metadata": {},
   "source": [
    "#### 2.2 Применим фреймворк RICE для приоритизации гипотез"
   ]
  },
  {
   "cell_type": "code",
   "execution_count": 8,
   "metadata": {},
   "outputs": [],
   "source": [
    "data_h['RICE'] = data_h['reach'] * data_h['impact'] * data_h['confidence'] / data_h['efforts']"
   ]
  },
  {
   "cell_type": "code",
   "execution_count": 9,
   "metadata": {
    "scrolled": true
   },
   "outputs": [
    {
     "data": {
      "text/html": [
       "<div>\n",
       "<style scoped>\n",
       "    .dataframe tbody tr th:only-of-type {\n",
       "        vertical-align: middle;\n",
       "    }\n",
       "\n",
       "    .dataframe tbody tr th {\n",
       "        vertical-align: top;\n",
       "    }\n",
       "\n",
       "    .dataframe thead th {\n",
       "        text-align: right;\n",
       "    }\n",
       "</style>\n",
       "<table border=\"1\" class=\"dataframe\">\n",
       "  <thead>\n",
       "    <tr style=\"text-align: right;\">\n",
       "      <th></th>\n",
       "      <th>hypothesis</th>\n",
       "      <th>RICE</th>\n",
       "    </tr>\n",
       "  </thead>\n",
       "  <tbody>\n",
       "    <tr>\n",
       "      <th>7</th>\n",
       "      <td>Добавить форму подписки на все основные страницы, чтобы собрать базу клиентов для email-рассылок</td>\n",
       "      <td>112.0</td>\n",
       "    </tr>\n",
       "    <tr>\n",
       "      <th>2</th>\n",
       "      <td>Добавить блоки рекомендаций товаров на сайт интернет магазина, чтобы повысить конверсию и средний чек заказа</td>\n",
       "      <td>56.0</td>\n",
       "    </tr>\n",
       "    <tr>\n",
       "      <th>0</th>\n",
       "      <td>Добавить два новых канала привлечения трафика, что позволит привлекать на 30% больше пользователей</td>\n",
       "      <td>40.0</td>\n",
       "    </tr>\n",
       "    <tr>\n",
       "      <th>6</th>\n",
       "      <td>Показать на главной странице баннеры с актуальными акциями и распродажами, чтобы увеличить конверсию</td>\n",
       "      <td>40.0</td>\n",
       "    </tr>\n",
       "    <tr>\n",
       "      <th>8</th>\n",
       "      <td>Запустить акцию, дающую скидку на товар в день рождения</td>\n",
       "      <td>16.2</td>\n",
       "    </tr>\n",
       "    <tr>\n",
       "      <th>3</th>\n",
       "      <td>Изменить структура категорий, что увеличит конверсию, т.к. пользователи быстрее найдут нужный товар</td>\n",
       "      <td>9.0</td>\n",
       "    </tr>\n",
       "    <tr>\n",
       "      <th>1</th>\n",
       "      <td>Запустить собственную службу доставки, что сократит срок доставки заказов</td>\n",
       "      <td>4.0</td>\n",
       "    </tr>\n",
       "    <tr>\n",
       "      <th>5</th>\n",
       "      <td>Добавить страницу отзывов клиентов о магазине, что позволит увеличить количество заказов</td>\n",
       "      <td>4.0</td>\n",
       "    </tr>\n",
       "    <tr>\n",
       "      <th>4</th>\n",
       "      <td>Изменить цвет фона главной страницы, чтобы увеличить вовлеченность пользователей</td>\n",
       "      <td>3.0</td>\n",
       "    </tr>\n",
       "  </tbody>\n",
       "</table>\n",
       "</div>"
      ],
      "text/plain": [
       "                                                                                                     hypothesis   RICE\n",
       "7              Добавить форму подписки на все основные страницы, чтобы собрать базу клиентов для email-рассылок  112.0\n",
       "2  Добавить блоки рекомендаций товаров на сайт интернет магазина, чтобы повысить конверсию и средний чек заказа   56.0\n",
       "0            Добавить два новых канала привлечения трафика, что позволит привлекать на 30% больше пользователей   40.0\n",
       "6          Показать на главной странице баннеры с актуальными акциями и распродажами, чтобы увеличить конверсию   40.0\n",
       "8                                                       Запустить акцию, дающую скидку на товар в день рождения   16.2\n",
       "3           Изменить структура категорий, что увеличит конверсию, т.к. пользователи быстрее найдут нужный товар    9.0\n",
       "1                                     Запустить собственную службу доставки, что сократит срок доставки заказов    4.0\n",
       "5                      Добавить страницу отзывов клиентов о магазине, что позволит увеличить количество заказов    4.0\n",
       "4                              Изменить цвет фона главной страницы, чтобы увеличить вовлеченность пользователей    3.0"
      ]
     },
     "execution_count": 9,
     "metadata": {},
     "output_type": "execute_result"
    }
   ],
   "source": [
    "pd.set_option('max_colwidth', 130)\n",
    "data_h[['hypothesis', 'RICE']].sort_values(by='RICE', ascending=False) #отсортируем гипотезы по убыванию приоритета"
   ]
  },
  {
   "cell_type": "markdown",
   "metadata": {},
   "source": [
    "Наибольшее количество баллов по фреймворку RICE получили те же гипотезы, но теперь отрыв по баллам между ними гораздо больше:\n",
    "- 8 (добавление формы подписки на основные страницы),\n",
    "- 3 (блоки с рекомендациями товаров на сайте),\n",
    "- 1 (+2 новых канала привлечения), \n",
    "- 7 (баннеры с акциями на главной странице)\n",
    "- 9 (скидка на товар в день рождения)."
   ]
  },
  {
   "cell_type": "markdown",
   "metadata": {},
   "source": [
    "### Вывод\n",
    "\n",
    "С добавлением параметра Reach в метод ICE:\n",
    "- Лидировавшая ранее гипотеза 9 (скидка на товар в день рождения) занимает 5 место по важности, а ее вес в 2.5 раза уступает весу гипотез 1 и 7.\n",
    "- Гипотеза 3 (блоки с рекомендациями товаров на сайте) становится второй по перспективности, хотя во фреймворке ICE занимала 5 место.\n",
    "- Добавление новых каналов привлечения трафика и показ баннеров с акциями на главной странице имеют одинаковый вес (гипотезы 1 и 7).\n",
    "- Гипотеза 8 (добавление формы подписки на основные страницы) становится самой перспективной гипотезой, ее оценка в 2 раза превышает оценку следующей по значимости гипотезы (3).\n",
    "\n",
    "Приоритизация гипотез при применении RICE вместо ICE так изменилась, поскольку мы начали учитывать охват пользователей, которых затронут предполагаемые изменения. Скидка на товар в день рождения хорошо влияет на пользователей и маркетологи уверены в ее эффективности, но у этого действия минимальные охваты, вероятно, из-за того, что не все пользователи охотно делятся личной информацией. Форму подписки на всех основных страницах, напротив, увидит максимальное количество посетителей сайта, при этом эксперты так же уверены в эффективности нововведения, поэтому гипотеза 8 становится наиболее перспективной."
   ]
  },
  {
   "cell_type": "markdown",
   "metadata": {},
   "source": [
    "## Часть 2. Анализ A/B-теста"
   ]
  },
  {
   "cell_type": "markdown",
   "metadata": {},
   "source": [
    "### Шаг 1. Загрузим данные и подготовим их к анализу"
   ]
  },
  {
   "cell_type": "markdown",
   "metadata": {},
   "source": [
    "#### 1.1 Считаем CSV-файлы с данными, сохраним их в датафреймы"
   ]
  },
  {
   "cell_type": "code",
   "execution_count": 10,
   "metadata": {},
   "outputs": [],
   "source": [
    "orders = pd.read_csv('/datasets/orders.csv')\n",
    "visitors = pd.read_csv('/datasets/visitors.csv')"
   ]
  },
  {
   "cell_type": "markdown",
   "metadata": {},
   "source": [
    "#### 1.2 Выведем первые строки наборов данных. Изучим общую информацию датафреймах"
   ]
  },
  {
   "cell_type": "code",
   "execution_count": 11,
   "metadata": {},
   "outputs": [
    {
     "data": {
      "text/html": [
       "<div>\n",
       "<style scoped>\n",
       "    .dataframe tbody tr th:only-of-type {\n",
       "        vertical-align: middle;\n",
       "    }\n",
       "\n",
       "    .dataframe tbody tr th {\n",
       "        vertical-align: top;\n",
       "    }\n",
       "\n",
       "    .dataframe thead th {\n",
       "        text-align: right;\n",
       "    }\n",
       "</style>\n",
       "<table border=\"1\" class=\"dataframe\">\n",
       "  <thead>\n",
       "    <tr style=\"text-align: right;\">\n",
       "      <th></th>\n",
       "      <th>transactionId</th>\n",
       "      <th>visitorId</th>\n",
       "      <th>date</th>\n",
       "      <th>revenue</th>\n",
       "      <th>group</th>\n",
       "    </tr>\n",
       "  </thead>\n",
       "  <tbody>\n",
       "    <tr>\n",
       "      <th>0</th>\n",
       "      <td>3667963787</td>\n",
       "      <td>3312258926</td>\n",
       "      <td>2019-08-15</td>\n",
       "      <td>1650</td>\n",
       "      <td>B</td>\n",
       "    </tr>\n",
       "    <tr>\n",
       "      <th>1</th>\n",
       "      <td>2804400009</td>\n",
       "      <td>3642806036</td>\n",
       "      <td>2019-08-15</td>\n",
       "      <td>730</td>\n",
       "      <td>B</td>\n",
       "    </tr>\n",
       "    <tr>\n",
       "      <th>2</th>\n",
       "      <td>2961555356</td>\n",
       "      <td>4069496402</td>\n",
       "      <td>2019-08-15</td>\n",
       "      <td>400</td>\n",
       "      <td>A</td>\n",
       "    </tr>\n",
       "    <tr>\n",
       "      <th>3</th>\n",
       "      <td>3797467345</td>\n",
       "      <td>1196621759</td>\n",
       "      <td>2019-08-15</td>\n",
       "      <td>9759</td>\n",
       "      <td>B</td>\n",
       "    </tr>\n",
       "    <tr>\n",
       "      <th>4</th>\n",
       "      <td>2282983706</td>\n",
       "      <td>2322279887</td>\n",
       "      <td>2019-08-15</td>\n",
       "      <td>2308</td>\n",
       "      <td>B</td>\n",
       "    </tr>\n",
       "  </tbody>\n",
       "</table>\n",
       "</div>"
      ],
      "text/plain": [
       "   transactionId   visitorId        date  revenue group\n",
       "0     3667963787  3312258926  2019-08-15     1650     B\n",
       "1     2804400009  3642806036  2019-08-15      730     B\n",
       "2     2961555356  4069496402  2019-08-15      400     A\n",
       "3     3797467345  1196621759  2019-08-15     9759     B\n",
       "4     2282983706  2322279887  2019-08-15     2308     B"
      ]
     },
     "execution_count": 11,
     "metadata": {},
     "output_type": "execute_result"
    }
   ],
   "source": [
    "orders.head()"
   ]
  },
  {
   "cell_type": "code",
   "execution_count": 12,
   "metadata": {},
   "outputs": [
    {
     "name": "stdout",
     "output_type": "stream",
     "text": [
      "<class 'pandas.core.frame.DataFrame'>\n",
      "RangeIndex: 1197 entries, 0 to 1196\n",
      "Data columns (total 5 columns):\n",
      " #   Column         Non-Null Count  Dtype \n",
      "---  ------         --------------  ----- \n",
      " 0   transactionId  1197 non-null   int64 \n",
      " 1   visitorId      1197 non-null   int64 \n",
      " 2   date           1197 non-null   object\n",
      " 3   revenue        1197 non-null   int64 \n",
      " 4   group          1197 non-null   object\n",
      "dtypes: int64(3), object(2)\n",
      "memory usage: 46.9+ KB\n"
     ]
    }
   ],
   "source": [
    "orders.info()"
   ]
  },
  {
   "cell_type": "code",
   "execution_count": 13,
   "metadata": {},
   "outputs": [
    {
     "data": {
      "text/plain": [
       "Index(['transaction_id', 'visitor_id', 'date', 'revenue', 'group'], dtype='object')"
      ]
     },
     "execution_count": 13,
     "metadata": {},
     "output_type": "execute_result"
    }
   ],
   "source": [
    "#приведем названия столбцов к \"змеиному\" регистру\n",
    "orders = orders.rename(columns={'transactionId': 'transaction_id', 'visitorId': 'visitor_id'})\n",
    "\n",
    "#проверим обновленные названия столбцов\n",
    "orders.columns"
   ]
  },
  {
   "cell_type": "code",
   "execution_count": 14,
   "metadata": {},
   "outputs": [
    {
     "data": {
      "text/plain": [
       "transaction_id             int64\n",
       "visitor_id                 int64\n",
       "date              datetime64[ns]\n",
       "revenue                    int64\n",
       "group                     object\n",
       "dtype: object"
      ]
     },
     "execution_count": 14,
     "metadata": {},
     "output_type": "execute_result"
    }
   ],
   "source": [
    "#приведем столбец date к типу datetime\n",
    "orders['date'] = orders['date'].map(\n",
    "    lambda x: dt.datetime.strptime(x, '%Y-%m-%d')\n",
    ")\n",
    "\n",
    "orders.dtypes"
   ]
  },
  {
   "cell_type": "code",
   "execution_count": 15,
   "metadata": {},
   "outputs": [
    {
     "data": {
      "text/html": [
       "<div>\n",
       "<style scoped>\n",
       "    .dataframe tbody tr th:only-of-type {\n",
       "        vertical-align: middle;\n",
       "    }\n",
       "\n",
       "    .dataframe tbody tr th {\n",
       "        vertical-align: top;\n",
       "    }\n",
       "\n",
       "    .dataframe thead th {\n",
       "        text-align: right;\n",
       "    }\n",
       "</style>\n",
       "<table border=\"1\" class=\"dataframe\">\n",
       "  <thead>\n",
       "    <tr style=\"text-align: right;\">\n",
       "      <th></th>\n",
       "      <th>date</th>\n",
       "      <th>group</th>\n",
       "      <th>visitors</th>\n",
       "    </tr>\n",
       "  </thead>\n",
       "  <tbody>\n",
       "    <tr>\n",
       "      <th>0</th>\n",
       "      <td>2019-08-01</td>\n",
       "      <td>A</td>\n",
       "      <td>719</td>\n",
       "    </tr>\n",
       "    <tr>\n",
       "      <th>1</th>\n",
       "      <td>2019-08-02</td>\n",
       "      <td>A</td>\n",
       "      <td>619</td>\n",
       "    </tr>\n",
       "    <tr>\n",
       "      <th>2</th>\n",
       "      <td>2019-08-03</td>\n",
       "      <td>A</td>\n",
       "      <td>507</td>\n",
       "    </tr>\n",
       "    <tr>\n",
       "      <th>3</th>\n",
       "      <td>2019-08-04</td>\n",
       "      <td>A</td>\n",
       "      <td>717</td>\n",
       "    </tr>\n",
       "    <tr>\n",
       "      <th>4</th>\n",
       "      <td>2019-08-05</td>\n",
       "      <td>A</td>\n",
       "      <td>756</td>\n",
       "    </tr>\n",
       "  </tbody>\n",
       "</table>\n",
       "</div>"
      ],
      "text/plain": [
       "         date group  visitors\n",
       "0  2019-08-01     A       719\n",
       "1  2019-08-02     A       619\n",
       "2  2019-08-03     A       507\n",
       "3  2019-08-04     A       717\n",
       "4  2019-08-05     A       756"
      ]
     },
     "execution_count": 15,
     "metadata": {},
     "output_type": "execute_result"
    }
   ],
   "source": [
    "visitors.head()"
   ]
  },
  {
   "cell_type": "code",
   "execution_count": 16,
   "metadata": {},
   "outputs": [
    {
     "name": "stdout",
     "output_type": "stream",
     "text": [
      "<class 'pandas.core.frame.DataFrame'>\n",
      "RangeIndex: 62 entries, 0 to 61\n",
      "Data columns (total 3 columns):\n",
      " #   Column    Non-Null Count  Dtype \n",
      "---  ------    --------------  ----- \n",
      " 0   date      62 non-null     object\n",
      " 1   group     62 non-null     object\n",
      " 2   visitors  62 non-null     int64 \n",
      "dtypes: int64(1), object(2)\n",
      "memory usage: 1.6+ KB\n"
     ]
    }
   ],
   "source": [
    "visitors.info()"
   ]
  },
  {
   "cell_type": "code",
   "execution_count": 17,
   "metadata": {},
   "outputs": [
    {
     "data": {
      "text/plain": [
       "date        datetime64[ns]\n",
       "group               object\n",
       "visitors             int64\n",
       "dtype: object"
      ]
     },
     "execution_count": 17,
     "metadata": {},
     "output_type": "execute_result"
    }
   ],
   "source": [
    "#приведем столбец date к типу datetime\n",
    "visitors['date'] = visitors['date'].map(\n",
    "    lambda x: dt.datetime.strptime(x, '%Y-%m-%d')\n",
    ")\n",
    "\n",
    "visitors.dtypes"
   ]
  },
  {
   "cell_type": "code",
   "execution_count": 18,
   "metadata": {},
   "outputs": [
    {
     "name": "stdout",
     "output_type": "stream",
     "text": [
      "0 0\n"
     ]
    }
   ],
   "source": [
    "#проверим данные на наличие явных дубликатов\n",
    "print(orders.duplicated().sum(), visitors.duplicated().sum())"
   ]
  },
  {
   "cell_type": "code",
   "execution_count": 19,
   "metadata": {},
   "outputs": [
    {
     "name": "stdout",
     "output_type": "stream",
     "text": [
      "['A' 'B']\n",
      "['A' 'B']\n"
     ]
    }
   ],
   "source": [
    "#проверим данные на наличие явных дубликатов\n",
    "print(orders['group'].sort_values().unique())\n",
    "print(visitors['group'].sort_values().unique())"
   ]
  },
  {
   "cell_type": "markdown",
   "metadata": {},
   "source": [
    "#### 1.3 Соберем кумулятивные данные для анализа"
   ]
  },
  {
   "cell_type": "code",
   "execution_count": 20,
   "metadata": {},
   "outputs": [],
   "source": [
    "#создадим массив уникальных пар значений дат и групп теста\n",
    "dates_groups = orders[['date','group']].drop_duplicates()"
   ]
  },
  {
   "cell_type": "code",
   "execution_count": 21,
   "metadata": {},
   "outputs": [
    {
     "data": {
      "text/html": [
       "<div>\n",
       "<style scoped>\n",
       "    .dataframe tbody tr th:only-of-type {\n",
       "        vertical-align: middle;\n",
       "    }\n",
       "\n",
       "    .dataframe tbody tr th {\n",
       "        vertical-align: top;\n",
       "    }\n",
       "\n",
       "    .dataframe thead th {\n",
       "        text-align: right;\n",
       "    }\n",
       "</style>\n",
       "<table border=\"1\" class=\"dataframe\">\n",
       "  <thead>\n",
       "    <tr style=\"text-align: right;\">\n",
       "      <th></th>\n",
       "      <th>date</th>\n",
       "      <th>group</th>\n",
       "      <th>transaction_id</th>\n",
       "      <th>visitor_id</th>\n",
       "      <th>revenue</th>\n",
       "    </tr>\n",
       "  </thead>\n",
       "  <tbody>\n",
       "    <tr>\n",
       "      <th>55</th>\n",
       "      <td>2019-08-01</td>\n",
       "      <td>A</td>\n",
       "      <td>24</td>\n",
       "      <td>20</td>\n",
       "      <td>148579</td>\n",
       "    </tr>\n",
       "    <tr>\n",
       "      <th>66</th>\n",
       "      <td>2019-08-01</td>\n",
       "      <td>B</td>\n",
       "      <td>21</td>\n",
       "      <td>20</td>\n",
       "      <td>101217</td>\n",
       "    </tr>\n",
       "    <tr>\n",
       "      <th>175</th>\n",
       "      <td>2019-08-02</td>\n",
       "      <td>A</td>\n",
       "      <td>44</td>\n",
       "      <td>38</td>\n",
       "      <td>242401</td>\n",
       "    </tr>\n",
       "    <tr>\n",
       "      <th>173</th>\n",
       "      <td>2019-08-02</td>\n",
       "      <td>B</td>\n",
       "      <td>45</td>\n",
       "      <td>43</td>\n",
       "      <td>266748</td>\n",
       "    </tr>\n",
       "    <tr>\n",
       "      <th>291</th>\n",
       "      <td>2019-08-03</td>\n",
       "      <td>A</td>\n",
       "      <td>68</td>\n",
       "      <td>62</td>\n",
       "      <td>354874</td>\n",
       "    </tr>\n",
       "    <tr>\n",
       "      <th>310</th>\n",
       "      <td>2019-08-03</td>\n",
       "      <td>B</td>\n",
       "      <td>61</td>\n",
       "      <td>59</td>\n",
       "      <td>380996</td>\n",
       "    </tr>\n",
       "    <tr>\n",
       "      <th>499</th>\n",
       "      <td>2019-08-04</td>\n",
       "      <td>A</td>\n",
       "      <td>84</td>\n",
       "      <td>77</td>\n",
       "      <td>425699</td>\n",
       "    </tr>\n",
       "    <tr>\n",
       "      <th>498</th>\n",
       "      <td>2019-08-04</td>\n",
       "      <td>B</td>\n",
       "      <td>78</td>\n",
       "      <td>75</td>\n",
       "      <td>489567</td>\n",
       "    </tr>\n",
       "    <tr>\n",
       "      <th>698</th>\n",
       "      <td>2019-08-05</td>\n",
       "      <td>A</td>\n",
       "      <td>109</td>\n",
       "      <td>100</td>\n",
       "      <td>549917</td>\n",
       "    </tr>\n",
       "    <tr>\n",
       "      <th>699</th>\n",
       "      <td>2019-08-05</td>\n",
       "      <td>B</td>\n",
       "      <td>101</td>\n",
       "      <td>98</td>\n",
       "      <td>581995</td>\n",
       "    </tr>\n",
       "  </tbody>\n",
       "</table>\n",
       "</div>"
      ],
      "text/plain": [
       "          date group  transaction_id  visitor_id  revenue\n",
       "55  2019-08-01     A              24          20   148579\n",
       "66  2019-08-01     B              21          20   101217\n",
       "175 2019-08-02     A              44          38   242401\n",
       "173 2019-08-02     B              45          43   266748\n",
       "291 2019-08-03     A              68          62   354874\n",
       "310 2019-08-03     B              61          59   380996\n",
       "499 2019-08-04     A              84          77   425699\n",
       "498 2019-08-04     B              78          75   489567\n",
       "698 2019-08-05     A             109         100   549917\n",
       "699 2019-08-05     B             101          98   581995"
      ]
     },
     "execution_count": 21,
     "metadata": {},
     "output_type": "execute_result"
    }
   ],
   "source": [
    "#аггрегируем значения по заказам\n",
    "orders_aggregated = dates_groups.apply(lambda x: \n",
    "                                      orders[np.logical_and(orders['date'] <= x['date'], \n",
    "                                                            orders['group'] == x['group'])]\n",
    "                                       .agg({'date' : 'max', \n",
    "                                             'group' : 'max', \n",
    "                                             'transaction_id' : 'nunique', \n",
    "                                             'visitor_id' : 'nunique', \n",
    "                                             'revenue' : 'sum'}), axis=1).sort_values(by=['date','group'])\n",
    "orders_aggregated.head(10)"
   ]
  },
  {
   "cell_type": "code",
   "execution_count": 22,
   "metadata": {},
   "outputs": [
    {
     "data": {
      "text/html": [
       "<div>\n",
       "<style scoped>\n",
       "    .dataframe tbody tr th:only-of-type {\n",
       "        vertical-align: middle;\n",
       "    }\n",
       "\n",
       "    .dataframe tbody tr th {\n",
       "        vertical-align: top;\n",
       "    }\n",
       "\n",
       "    .dataframe thead th {\n",
       "        text-align: right;\n",
       "    }\n",
       "</style>\n",
       "<table border=\"1\" class=\"dataframe\">\n",
       "  <thead>\n",
       "    <tr style=\"text-align: right;\">\n",
       "      <th></th>\n",
       "      <th>date</th>\n",
       "      <th>group</th>\n",
       "      <th>visitors</th>\n",
       "    </tr>\n",
       "  </thead>\n",
       "  <tbody>\n",
       "    <tr>\n",
       "      <th>55</th>\n",
       "      <td>2019-08-01</td>\n",
       "      <td>A</td>\n",
       "      <td>719</td>\n",
       "    </tr>\n",
       "    <tr>\n",
       "      <th>66</th>\n",
       "      <td>2019-08-01</td>\n",
       "      <td>B</td>\n",
       "      <td>713</td>\n",
       "    </tr>\n",
       "    <tr>\n",
       "      <th>175</th>\n",
       "      <td>2019-08-02</td>\n",
       "      <td>A</td>\n",
       "      <td>1338</td>\n",
       "    </tr>\n",
       "    <tr>\n",
       "      <th>173</th>\n",
       "      <td>2019-08-02</td>\n",
       "      <td>B</td>\n",
       "      <td>1294</td>\n",
       "    </tr>\n",
       "    <tr>\n",
       "      <th>291</th>\n",
       "      <td>2019-08-03</td>\n",
       "      <td>A</td>\n",
       "      <td>1845</td>\n",
       "    </tr>\n",
       "    <tr>\n",
       "      <th>310</th>\n",
       "      <td>2019-08-03</td>\n",
       "      <td>B</td>\n",
       "      <td>1803</td>\n",
       "    </tr>\n",
       "  </tbody>\n",
       "</table>\n",
       "</div>"
      ],
      "text/plain": [
       "          date group  visitors\n",
       "55  2019-08-01     A       719\n",
       "66  2019-08-01     B       713\n",
       "175 2019-08-02     A      1338\n",
       "173 2019-08-02     B      1294\n",
       "291 2019-08-03     A      1845\n",
       "310 2019-08-03     B      1803"
      ]
     },
     "execution_count": 22,
     "metadata": {},
     "output_type": "execute_result"
    }
   ],
   "source": [
    "#аггрегируем значения по посещениям\n",
    "visitors_aggregated = dates_groups.apply(lambda x: \n",
    "                                         visitors[np.logical_and(visitors['date'] <= x['date'], \n",
    "                                                                 visitors['group'] == x['group'])]\n",
    "                                         .agg({'date' : 'max', \n",
    "                                               'group' : 'max', \n",
    "                                               'visitors' : 'sum'}), axis=1).sort_values(by=['date','group'])\n",
    "visitors_aggregated.head(6)"
   ]
  },
  {
   "cell_type": "code",
   "execution_count": 23,
   "metadata": {},
   "outputs": [
    {
     "data": {
      "text/html": [
       "<div>\n",
       "<style scoped>\n",
       "    .dataframe tbody tr th:only-of-type {\n",
       "        vertical-align: middle;\n",
       "    }\n",
       "\n",
       "    .dataframe tbody tr th {\n",
       "        vertical-align: top;\n",
       "    }\n",
       "\n",
       "    .dataframe thead th {\n",
       "        text-align: right;\n",
       "    }\n",
       "</style>\n",
       "<table border=\"1\" class=\"dataframe\">\n",
       "  <thead>\n",
       "    <tr style=\"text-align: right;\">\n",
       "      <th></th>\n",
       "      <th>date</th>\n",
       "      <th>group</th>\n",
       "      <th>transaction_id</th>\n",
       "      <th>visitor_id</th>\n",
       "      <th>revenue</th>\n",
       "      <th>visitors</th>\n",
       "    </tr>\n",
       "  </thead>\n",
       "  <tbody>\n",
       "    <tr>\n",
       "      <th>0</th>\n",
       "      <td>2019-08-01</td>\n",
       "      <td>A</td>\n",
       "      <td>24</td>\n",
       "      <td>20</td>\n",
       "      <td>148579</td>\n",
       "      <td>719</td>\n",
       "    </tr>\n",
       "    <tr>\n",
       "      <th>1</th>\n",
       "      <td>2019-08-01</td>\n",
       "      <td>B</td>\n",
       "      <td>21</td>\n",
       "      <td>20</td>\n",
       "      <td>101217</td>\n",
       "      <td>713</td>\n",
       "    </tr>\n",
       "    <tr>\n",
       "      <th>2</th>\n",
       "      <td>2019-08-02</td>\n",
       "      <td>A</td>\n",
       "      <td>44</td>\n",
       "      <td>38</td>\n",
       "      <td>242401</td>\n",
       "      <td>1338</td>\n",
       "    </tr>\n",
       "    <tr>\n",
       "      <th>3</th>\n",
       "      <td>2019-08-02</td>\n",
       "      <td>B</td>\n",
       "      <td>45</td>\n",
       "      <td>43</td>\n",
       "      <td>266748</td>\n",
       "      <td>1294</td>\n",
       "    </tr>\n",
       "    <tr>\n",
       "      <th>4</th>\n",
       "      <td>2019-08-03</td>\n",
       "      <td>A</td>\n",
       "      <td>68</td>\n",
       "      <td>62</td>\n",
       "      <td>354874</td>\n",
       "      <td>1845</td>\n",
       "    </tr>\n",
       "  </tbody>\n",
       "</table>\n",
       "</div>"
      ],
      "text/plain": [
       "        date group  transaction_id  visitor_id  revenue  visitors\n",
       "0 2019-08-01     A              24          20   148579       719\n",
       "1 2019-08-01     B              21          20   101217       713\n",
       "2 2019-08-02     A              44          38   242401      1338\n",
       "3 2019-08-02     B              45          43   266748      1294\n",
       "4 2019-08-03     A              68          62   354874      1845"
      ]
     },
     "execution_count": 23,
     "metadata": {},
     "output_type": "execute_result"
    }
   ],
   "source": [
    "#объединим кумулятивные данные в одной таблице\n",
    "cumulative_data = orders_aggregated.merge(visitors_aggregated, \n",
    "                                          left_on=['date', 'group'], \n",
    "                                          right_on=['date', 'group'])\n",
    "\n",
    "cumulative_data.head()"
   ]
  },
  {
   "cell_type": "code",
   "execution_count": 24,
   "metadata": {},
   "outputs": [
    {
     "data": {
      "text/html": [
       "<div>\n",
       "<style scoped>\n",
       "    .dataframe tbody tr th:only-of-type {\n",
       "        vertical-align: middle;\n",
       "    }\n",
       "\n",
       "    .dataframe tbody tr th {\n",
       "        vertical-align: top;\n",
       "    }\n",
       "\n",
       "    .dataframe thead th {\n",
       "        text-align: right;\n",
       "    }\n",
       "</style>\n",
       "<table border=\"1\" class=\"dataframe\">\n",
       "  <thead>\n",
       "    <tr style=\"text-align: right;\">\n",
       "      <th></th>\n",
       "      <th>date</th>\n",
       "      <th>group</th>\n",
       "      <th>orders</th>\n",
       "      <th>buyers</th>\n",
       "      <th>revenue</th>\n",
       "      <th>visitors</th>\n",
       "    </tr>\n",
       "  </thead>\n",
       "  <tbody>\n",
       "    <tr>\n",
       "      <th>0</th>\n",
       "      <td>2019-08-01</td>\n",
       "      <td>A</td>\n",
       "      <td>24</td>\n",
       "      <td>20</td>\n",
       "      <td>148579</td>\n",
       "      <td>719</td>\n",
       "    </tr>\n",
       "    <tr>\n",
       "      <th>1</th>\n",
       "      <td>2019-08-01</td>\n",
       "      <td>B</td>\n",
       "      <td>21</td>\n",
       "      <td>20</td>\n",
       "      <td>101217</td>\n",
       "      <td>713</td>\n",
       "    </tr>\n",
       "    <tr>\n",
       "      <th>2</th>\n",
       "      <td>2019-08-02</td>\n",
       "      <td>A</td>\n",
       "      <td>44</td>\n",
       "      <td>38</td>\n",
       "      <td>242401</td>\n",
       "      <td>1338</td>\n",
       "    </tr>\n",
       "    <tr>\n",
       "      <th>3</th>\n",
       "      <td>2019-08-02</td>\n",
       "      <td>B</td>\n",
       "      <td>45</td>\n",
       "      <td>43</td>\n",
       "      <td>266748</td>\n",
       "      <td>1294</td>\n",
       "    </tr>\n",
       "    <tr>\n",
       "      <th>4</th>\n",
       "      <td>2019-08-03</td>\n",
       "      <td>A</td>\n",
       "      <td>68</td>\n",
       "      <td>62</td>\n",
       "      <td>354874</td>\n",
       "      <td>1845</td>\n",
       "    </tr>\n",
       "  </tbody>\n",
       "</table>\n",
       "</div>"
      ],
      "text/plain": [
       "        date group  orders  buyers  revenue  visitors\n",
       "0 2019-08-01     A      24      20   148579       719\n",
       "1 2019-08-01     B      21      20   101217       713\n",
       "2 2019-08-02     A      44      38   242401      1338\n",
       "3 2019-08-02     B      45      43   266748      1294\n",
       "4 2019-08-03     A      68      62   354874      1845"
      ]
     },
     "execution_count": 24,
     "metadata": {},
     "output_type": "execute_result"
    }
   ],
   "source": [
    "#присвоим столбцам таблицы новые названия\n",
    "cumulative_data.columns = ['date', 'group', 'orders', 'buyers', 'revenue', 'visitors']\n",
    "\n",
    "cumulative_data.head()"
   ]
  },
  {
   "cell_type": "code",
   "execution_count": 25,
   "metadata": {},
   "outputs": [],
   "source": [
    "#создадим датафрейм с кумулятивным количеством заказов и кумулятивной выручкой по дням в группе А\n",
    "cumulative_revenue_A = cumulative_data[cumulative_data['group']=='A'][['date','revenue', 'orders']]"
   ]
  },
  {
   "cell_type": "code",
   "execution_count": 26,
   "metadata": {},
   "outputs": [],
   "source": [
    "#cоздадим датафрейм с кумулятивным количеством заказов и кумулятивной выручкой по дням в группе B\n",
    "cumulative_revenue_B = cumulative_data[cumulative_data['group']=='B'][['date','revenue', 'orders']]"
   ]
  },
  {
   "cell_type": "markdown",
   "metadata": {},
   "source": [
    "### Шаг 2. Проведем анализ результатов A/B-теста"
   ]
  },
  {
   "cell_type": "markdown",
   "metadata": {},
   "source": [
    "#### 2.1 Построим график кумулятивной выручки по группам"
   ]
  },
  {
   "cell_type": "code",
   "execution_count": 27,
   "metadata": {},
   "outputs": [
    {
     "data": {
      "text/plain": [
       "<matplotlib.legend.Legend at 0x7fe21f1bce20>"
      ]
     },
     "execution_count": 27,
     "metadata": {},
     "output_type": "execute_result"
    },
    {
     "data": {
      "image/png": "[encoded data removed]",
      "text/plain": [
       "<Figure size 864x360 with 1 Axes>"
      ]
     },
     "metadata": {
      "needs_background": "light"
     },
     "output_type": "display_data"
    }
   ],
   "source": [
    "plt.figure(figsize=(12, 5))\n",
    "\n",
    "#график выручки группы А\n",
    "plt.plot(cumulative_revenue_A['date'], cumulative_revenue_A['revenue'], label='A')\n",
    "\n",
    "#график выручки группы B\n",
    "plt.plot(cumulative_revenue_B['date'], cumulative_revenue_B['revenue'], label='B')\n",
    "plt.title('Кумулятивная выручка по группам')\n",
    "plt.ylabel('Выручка, млн руб')\n",
    "plt.legend() "
   ]
  },
  {
   "cell_type": "markdown",
   "metadata": {},
   "source": [
    "Выручка по группе A равномерно увеличивается в течение всего теста, возможно, есть более крупные заказы 13 августа. График выручки по группе B близок по значениям к группе A до определенного момента. С 19 августа выручка по группе B начинает почти в 2 раза превышать выручку по группе A, с этого же момента графики становятся более равномерными."
   ]
  },
  {
   "cell_type": "markdown",
   "metadata": {},
   "source": [
    "#### 2.2 Построим график кумулятивного среднего чека по группам"
   ]
  },
  {
   "cell_type": "code",
   "execution_count": 28,
   "metadata": {
    "scrolled": false
   },
   "outputs": [
    {
     "data": {
      "text/plain": [
       "<matplotlib.legend.Legend at 0x7fe217153880>"
      ]
     },
     "execution_count": 28,
     "metadata": {},
     "output_type": "execute_result"
    },
    {
     "data": {
      "image/png": "[encoded data removed]",
      "text/plain": [
       "<Figure size 864x360 with 1 Axes>"
      ]
     },
     "metadata": {
      "needs_background": "light"
     },
     "output_type": "display_data"
    }
   ],
   "source": [
    "plt.figure(figsize=(12, 5))\n",
    "\n",
    "#график среднего чека группы А\n",
    "plt.plot(cumulative_revenue_A['date'], cumulative_revenue_A['revenue']/cumulative_revenue_A['orders'], label='A')\n",
    "\n",
    "#график среднего чека группы B\n",
    "plt.plot(cumulative_revenue_B['date'], cumulative_revenue_B['revenue']/cumulative_revenue_B['orders'], label='B')\n",
    "plt.title('Кумулятивный средний чек по группам')\n",
    "plt.ylabel('Средний чек, руб')\n",
    "plt.legend() "
   ]
  },
  {
   "cell_type": "markdown",
   "metadata": {},
   "source": [
    "Можно заметить, что в первой половине теста в группу B попадали более крупные заказы, т.к. средний чек по группе A низкий, в то время, как по группе B высокий. Ситуация меняется 13 августа: видим высокий чек по группе A и низкий по группе B, после чего для группы А средний чек начинает  устанавливаться в районе 7 000, для группы B - в районе 10 000, но постепенно падает до 9 500. Средний чек по обеим группам становится более равномерным с 19 августа, так же, как и выручка."
   ]
  },
  {
   "cell_type": "markdown",
   "metadata": {},
   "source": [
    "#### 2.3 Построим график относительного изменения кумулятивного среднего чека группы B к группе A"
   ]
  },
  {
   "cell_type": "code",
   "execution_count": 29,
   "metadata": {},
   "outputs": [
    {
     "data": {
      "text/plain": [
       "<matplotlib.lines.Line2D at 0x7fe216d7b340>"
      ]
     },
     "execution_count": 29,
     "metadata": {},
     "output_type": "execute_result"
    },
    {
     "data": {
      "image/png": "[encoded data removed]",
      "text/plain": [
       "<Figure size 864x360 with 1 Axes>"
      ]
     },
     "metadata": {
      "needs_background": "light"
     },
     "output_type": "display_data"
    }
   ],
   "source": [
    "#соберем данные по группам в одном датафрейме\n",
    "merged_cumulative_revenue = cumulative_revenue_A.merge(cumulative_revenue_B, \n",
    "                                                       left_on='date', \n",
    "                                                       right_on='date', \n",
    "                                                       how='left', \n",
    "                                                       suffixes=['A', 'B'])\n",
    "\n",
    "#поcтроим график относительного изменения средних чеков\n",
    "plt.figure(figsize=(12, 5))\n",
    "\n",
    "plt.plot(merged_cumulative_revenue['date'], \n",
    "         (merged_cumulative_revenue['revenueB']/merged_cumulative_revenue['ordersB'])/\n",
    "         (merged_cumulative_revenue['revenueA']/merged_cumulative_revenue['ordersA'])-1)\n",
    "plt.title('Относительное изменение кумулятивного среднего чека группы B к группе A')\n",
    "plt.ylabel('Прирост')\n",
    "\n",
    "#добавляем ось X\n",
    "plt.axhline(y=0, color='black', linestyle='--')"
   ]
  },
  {
   "cell_type": "markdown",
   "metadata": {},
   "source": [
    "Чеки группы B в среднем на 30% выше чеков группы A, однако ближе к середине теста график резко падает. Возможно, это сигнал об аномально высоких чеках."
   ]
  },
  {
   "cell_type": "markdown",
   "metadata": {},
   "source": [
    "#### 2.4 Построим график кумулятивного среднего количества заказов на посетителя по группам"
   ]
  },
  {
   "cell_type": "code",
   "execution_count": 30,
   "metadata": {},
   "outputs": [
    {
     "data": {
      "text/plain": [
       "(18109.0, 18139.0, 0.0, 0.04)"
      ]
     },
     "execution_count": 30,
     "metadata": {},
     "output_type": "execute_result"
    },
    {
     "data": {
      "image/png": "[encoded data removed]",
      "text/plain": [
       "<Figure size 864x360 with 1 Axes>"
      ]
     },
     "metadata": {
      "needs_background": "light"
     },
     "output_type": "display_data"
    }
   ],
   "source": [
    "#посчитаем среднее количество заказов на посетителя\n",
    "cumulative_data['conversion'] = cumulative_data['orders'] / cumulative_data['visitors']\n",
    "\n",
    "#данные по группе A\n",
    "cumulative_data_A = cumulative_data[cumulative_data['group']=='A']\n",
    "\n",
    "#данные по группе B\n",
    "cumulative_data_B = cumulative_data[cumulative_data['group']=='B']\n",
    "\n",
    "#построим графики\n",
    "plt.figure(figsize=(12, 5))\n",
    "\n",
    "plt.plot(cumulative_data_A['date'], cumulative_data_A['conversion'], label='A')\n",
    "plt.plot(cumulative_data_B['date'], cumulative_data_B['conversion'], label='B')\n",
    "plt.title('Кумулятивное среднее количество заказов на посетителя группы B к группе A')\n",
    "plt.ylabel('Конверсия')\n",
    "plt.legend()\n",
    "\n",
    "#зададим масштаб осей\n",
    "plt.axis([cumulative_data['date'].min(), cumulative_data['date'].max(), 0, 0.040]) "
   ]
  },
  {
   "cell_type": "markdown",
   "metadata": {},
   "source": [
    "Графики по обеим группам колеблются до 19 августа, после конверсия по группе A устанавливается на уровне 3%, для группы B - на уровне 3.5%."
   ]
  },
  {
   "cell_type": "markdown",
   "metadata": {},
   "source": [
    "#### 2.5 Построим график относительного изменения кумулятивного среднего количества заказов на посетителя группы B к группе A"
   ]
  },
  {
   "cell_type": "code",
   "execution_count": 31,
   "metadata": {
    "scrolled": false
   },
   "outputs": [
    {
     "data": {
      "text/plain": [
       "(18109.0, 18139.0, -0.4, 0.4)"
      ]
     },
     "execution_count": 31,
     "metadata": {},
     "output_type": "execute_result"
    },
    {
     "data": {
      "image/png": "[encoded data removed]",
      "text/plain": [
       "<Figure size 864x360 with 1 Axes>"
      ]
     },
     "metadata": {
      "needs_background": "light"
     },
     "output_type": "display_data"
    }
   ],
   "source": [
    "merged_сumulative_сonversions = cumulative_data_A[['date','conversion']].merge(\n",
    "    cumulative_data_B[['date','conversion']], \n",
    "    left_on='date', \n",
    "    right_on='date', \n",
    "    how='left', \n",
    "    suffixes=['A', 'B'])\n",
    "\n",
    "#построим графики\n",
    "plt.figure(figsize=(12, 5))\n",
    "\n",
    "plt.plot(merged_сumulative_сonversions['date'], \n",
    "         merged_сumulative_сonversions['conversionB']/merged_сumulative_сonversions['conversionA']-1)\n",
    "plt.title('Относительное изменение кумулятивного среднего количества заказов на посетителя группы B к группе A')\n",
    "plt.ylabel('Прирост')\n",
    "\n",
    "plt.axhline(y=0, color='black', linestyle='--')\n",
    "plt.axhline(y=0.21, color='grey', linestyle='--')\n",
    "plt.axis([merged_сumulative_сonversions['date'].min(), \n",
    "          merged_сumulative_сonversions['date'].max(), \n",
    "          -0.4, 0.4])"
   ]
  },
  {
   "cell_type": "markdown",
   "metadata": {},
   "source": [
    "Среднее количество заказов группы B относительно группы A имеет резкие колебания в первые дни теста, но практически с самого начала в группе B заказов больше. В середине теста с 11 по 22 августа количество заказов в группе B на 15-20% превышает количество заказов в группе A, после видим небольшой спад и график устанавливается в райноне 11%."
   ]
  },
  {
   "cell_type": "markdown",
   "metadata": {},
   "source": [
    "#### 2.6 Построим точечный график количества заказов по пользователям\n",
    "Сделаем выводы и предположения."
   ]
  },
  {
   "cell_type": "code",
   "execution_count": 32,
   "metadata": {},
   "outputs": [
    {
     "data": {
      "text/html": [
       "<div>\n",
       "<style scoped>\n",
       "    .dataframe tbody tr th:only-of-type {\n",
       "        vertical-align: middle;\n",
       "    }\n",
       "\n",
       "    .dataframe tbody tr th {\n",
       "        vertical-align: top;\n",
       "    }\n",
       "\n",
       "    .dataframe thead th {\n",
       "        text-align: right;\n",
       "    }\n",
       "</style>\n",
       "<table border=\"1\" class=\"dataframe\">\n",
       "  <thead>\n",
       "    <tr style=\"text-align: right;\">\n",
       "      <th></th>\n",
       "      <th>visitor_id</th>\n",
       "      <th>orders</th>\n",
       "    </tr>\n",
       "  </thead>\n",
       "  <tbody>\n",
       "    <tr>\n",
       "      <th>1023</th>\n",
       "      <td>4256040402</td>\n",
       "      <td>11</td>\n",
       "    </tr>\n",
       "    <tr>\n",
       "      <th>591</th>\n",
       "      <td>2458001652</td>\n",
       "      <td>11</td>\n",
       "    </tr>\n",
       "    <tr>\n",
       "      <th>569</th>\n",
       "      <td>2378935119</td>\n",
       "      <td>9</td>\n",
       "    </tr>\n",
       "    <tr>\n",
       "      <th>487</th>\n",
       "      <td>2038680547</td>\n",
       "      <td>8</td>\n",
       "    </tr>\n",
       "    <tr>\n",
       "      <th>44</th>\n",
       "      <td>199603092</td>\n",
       "      <td>5</td>\n",
       "    </tr>\n",
       "    <tr>\n",
       "      <th>744</th>\n",
       "      <td>3062433592</td>\n",
       "      <td>5</td>\n",
       "    </tr>\n",
       "    <tr>\n",
       "      <th>55</th>\n",
       "      <td>237748145</td>\n",
       "      <td>5</td>\n",
       "    </tr>\n",
       "    <tr>\n",
       "      <th>917</th>\n",
       "      <td>3803269165</td>\n",
       "      <td>5</td>\n",
       "    </tr>\n",
       "    <tr>\n",
       "      <th>299</th>\n",
       "      <td>1230306981</td>\n",
       "      <td>5</td>\n",
       "    </tr>\n",
       "    <tr>\n",
       "      <th>897</th>\n",
       "      <td>3717692402</td>\n",
       "      <td>5</td>\n",
       "    </tr>\n",
       "  </tbody>\n",
       "</table>\n",
       "</div>"
      ],
      "text/plain": [
       "      visitor_id  orders\n",
       "1023  4256040402      11\n",
       "591   2458001652      11\n",
       "569   2378935119       9\n",
       "487   2038680547       8\n",
       "44     199603092       5\n",
       "744   3062433592       5\n",
       "55     237748145       5\n",
       "917   3803269165       5\n",
       "299   1230306981       5\n",
       "897   3717692402       5"
      ]
     },
     "execution_count": 32,
     "metadata": {},
     "output_type": "execute_result"
    }
   ],
   "source": [
    "orders_by_users = (orders.groupby('visitor_id', as_index=False)\n",
    "                   .agg({'transaction_id': 'nunique'}))\n",
    "orders_by_users.columns = ['visitor_id', 'orders']\n",
    "\n",
    "orders_by_users.sort_values(by='orders', ascending=False).head(10)"
   ]
  },
  {
   "cell_type": "code",
   "execution_count": 33,
   "metadata": {
    "scrolled": false
   },
   "outputs": [
    {
     "data": {
      "text/plain": [
       "Text(0, 0.5, 'Количество заказов')"
      ]
     },
     "execution_count": 33,
     "metadata": {},
     "output_type": "execute_result"
    },
    {
     "data": {
      "image/png": "[encoded data removed]",
      "text/plain": [
       "<Figure size 720x360 with 1 Axes>"
      ]
     },
     "metadata": {
      "needs_background": "light"
     },
     "output_type": "display_data"
    }
   ],
   "source": [
    "#сформируем серию из чисел от 0 до количества наблюдений в orders_by_users\n",
    "x_values = pd.Series(range(0, len(orders_by_users)))\n",
    "\n",
    "plt.figure(figsize=(10, 5))\n",
    "plt.scatter(x_values, orders_by_users['orders'])\n",
    "plt.title('Распределение количества заказов на пользователя')\n",
    "plt.ylabel('Количество заказов')"
   ]
  },
  {
   "cell_type": "markdown",
   "metadata": {},
   "source": [
    "Большая часть пользователей делала всего один заказ. Более двух заказов совершалось очень редко. Также можно заметить явные выбросы - больше 4 заказов. Следует определить границы для более точного выявления аномальных пользователей."
   ]
  },
  {
   "cell_type": "markdown",
   "metadata": {},
   "source": [
    "#### 2.7 Посчитаем 95-й и 99-й перцентили количества заказов на пользователя"
   ]
  },
  {
   "cell_type": "code",
   "execution_count": 34,
   "metadata": {},
   "outputs": [
    {
     "data": {
      "text/plain": [
       "array([2., 4.])"
      ]
     },
     "execution_count": 34,
     "metadata": {},
     "output_type": "execute_result"
    }
   ],
   "source": [
    "np.percentile(orders_by_users['orders'], [95, 99])"
   ]
  },
  {
   "cell_type": "markdown",
   "metadata": {},
   "source": [
    "Не более 5% пользователей совершали больше 2 заказов, не более 1% пользователей - больше 4 заказов. Пользователей, оформивших более 4 заказов, можно считать аномальными."
   ]
  },
  {
   "cell_type": "markdown",
   "metadata": {},
   "source": [
    "#### 2.8 Построим точечный график стоимостей заказов"
   ]
  },
  {
   "cell_type": "code",
   "execution_count": 35,
   "metadata": {},
   "outputs": [
    {
     "data": {
      "text/html": [
       "<div>\n",
       "<style scoped>\n",
       "    .dataframe tbody tr th:only-of-type {\n",
       "        vertical-align: middle;\n",
       "    }\n",
       "\n",
       "    .dataframe tbody tr th {\n",
       "        vertical-align: top;\n",
       "    }\n",
       "\n",
       "    .dataframe thead th {\n",
       "        text-align: right;\n",
       "    }\n",
       "</style>\n",
       "<table border=\"1\" class=\"dataframe\">\n",
       "  <thead>\n",
       "    <tr style=\"text-align: right;\">\n",
       "      <th></th>\n",
       "      <th>transaction_id</th>\n",
       "      <th>visitor_id</th>\n",
       "      <th>date</th>\n",
       "      <th>revenue</th>\n",
       "      <th>group</th>\n",
       "    </tr>\n",
       "  </thead>\n",
       "  <tbody>\n",
       "    <tr>\n",
       "      <th>425</th>\n",
       "      <td>590470918</td>\n",
       "      <td>1920142716</td>\n",
       "      <td>2019-08-19</td>\n",
       "      <td>1294500</td>\n",
       "      <td>B</td>\n",
       "    </tr>\n",
       "    <tr>\n",
       "      <th>1196</th>\n",
       "      <td>3936777065</td>\n",
       "      <td>2108080724</td>\n",
       "      <td>2019-08-15</td>\n",
       "      <td>202740</td>\n",
       "      <td>B</td>\n",
       "    </tr>\n",
       "    <tr>\n",
       "      <th>858</th>\n",
       "      <td>192721366</td>\n",
       "      <td>1316129916</td>\n",
       "      <td>2019-08-27</td>\n",
       "      <td>93940</td>\n",
       "      <td>A</td>\n",
       "    </tr>\n",
       "    <tr>\n",
       "      <th>1136</th>\n",
       "      <td>666610489</td>\n",
       "      <td>1307669133</td>\n",
       "      <td>2019-08-13</td>\n",
       "      <td>92550</td>\n",
       "      <td>A</td>\n",
       "    </tr>\n",
       "    <tr>\n",
       "      <th>744</th>\n",
       "      <td>3668308183</td>\n",
       "      <td>888512513</td>\n",
       "      <td>2019-08-27</td>\n",
       "      <td>86620</td>\n",
       "      <td>B</td>\n",
       "    </tr>\n",
       "    <tr>\n",
       "      <th>682</th>\n",
       "      <td>1216533772</td>\n",
       "      <td>4266935830</td>\n",
       "      <td>2019-08-29</td>\n",
       "      <td>78990</td>\n",
       "      <td>B</td>\n",
       "    </tr>\n",
       "    <tr>\n",
       "      <th>662</th>\n",
       "      <td>1811671147</td>\n",
       "      <td>4266935830</td>\n",
       "      <td>2019-08-29</td>\n",
       "      <td>78990</td>\n",
       "      <td>A</td>\n",
       "    </tr>\n",
       "    <tr>\n",
       "      <th>743</th>\n",
       "      <td>3603576309</td>\n",
       "      <td>4133034833</td>\n",
       "      <td>2019-08-09</td>\n",
       "      <td>67990</td>\n",
       "      <td>A</td>\n",
       "    </tr>\n",
       "    <tr>\n",
       "      <th>1103</th>\n",
       "      <td>1348774318</td>\n",
       "      <td>1164614297</td>\n",
       "      <td>2019-08-12</td>\n",
       "      <td>66350</td>\n",
       "      <td>A</td>\n",
       "    </tr>\n",
       "    <tr>\n",
       "      <th>1099</th>\n",
       "      <td>316924019</td>\n",
       "      <td>148427295</td>\n",
       "      <td>2019-08-12</td>\n",
       "      <td>65710</td>\n",
       "      <td>A</td>\n",
       "    </tr>\n",
       "  </tbody>\n",
       "</table>\n",
       "</div>"
      ],
      "text/plain": [
       "      transaction_id  visitor_id       date  revenue group\n",
       "425        590470918  1920142716 2019-08-19  1294500     B\n",
       "1196      3936777065  2108080724 2019-08-15   202740     B\n",
       "858        192721366  1316129916 2019-08-27    93940     A\n",
       "1136       666610489  1307669133 2019-08-13    92550     A\n",
       "744       3668308183   888512513 2019-08-27    86620     B\n",
       "682       1216533772  4266935830 2019-08-29    78990     B\n",
       "662       1811671147  4266935830 2019-08-29    78990     A\n",
       "743       3603576309  4133034833 2019-08-09    67990     A\n",
       "1103      1348774318  1164614297 2019-08-12    66350     A\n",
       "1099       316924019   148427295 2019-08-12    65710     A"
      ]
     },
     "execution_count": 35,
     "metadata": {},
     "output_type": "execute_result"
    }
   ],
   "source": [
    "orders.sort_values(by='revenue', ascending=False).head(10)"
   ]
  },
  {
   "cell_type": "code",
   "execution_count": 36,
   "metadata": {
    "scrolled": false
   },
   "outputs": [
    {
     "data": {
      "text/plain": [
       "Text(0, 0.5, 'Выручка, млн руб.')"
      ]
     },
     "execution_count": 36,
     "metadata": {},
     "output_type": "execute_result"
    },
    {
     "data": {
      "image/png": "[encoded data removed]",
      "text/plain": [
       "<Figure size 720x360 with 1 Axes>"
      ]
     },
     "metadata": {
      "needs_background": "light"
     },
     "output_type": "display_data"
    }
   ],
   "source": [
    "#сформируем серию из чисел от 0 до количества наблюдений в orders\n",
    "x_values = pd.Series(range(0, len(orders['revenue'])))\n",
    "\n",
    "plt.figure(figsize=(10, 5))\n",
    "plt.scatter(x_values, orders['revenue'])\n",
    "plt.title('Распределение выручки по заказам')\n",
    "plt.ylabel('Выручка, млн руб.')"
   ]
  },
  {
   "cell_type": "markdown",
   "metadata": {},
   "source": [
    "Сумма большей части заказов менее 50 тыс руб, также видим выбросы в районе 200 тыс руб и более 1,3 млн руб."
   ]
  },
  {
   "cell_type": "markdown",
   "metadata": {},
   "source": [
    "#### 2.9 Посчитаем 95-й и 99-й перцентили стоимости заказов"
   ]
  },
  {
   "cell_type": "code",
   "execution_count": 37,
   "metadata": {},
   "outputs": [
    {
     "data": {
      "text/plain": [
       "array([28000. , 58233.2])"
      ]
     },
     "execution_count": 37,
     "metadata": {},
     "output_type": "execute_result"
    }
   ],
   "source": [
    "np.percentile(orders['revenue'], [95, 99])"
   ]
  },
  {
   "cell_type": "markdown",
   "metadata": {},
   "source": [
    "Заказы, стоимостью выше 28 000 руб. составляют не более 5%. Не более, чем 1% заказов имеет средний чек выше 58 233 руб. Примем заказы дороже 30 000 руб за аномальные."
   ]
  },
  {
   "cell_type": "markdown",
   "metadata": {},
   "source": [
    "#### 2.10 Посчитаем статистическую значимость различий в среднем количестве заказов на посетителя между группами по «сырым» данным"
   ]
  },
  {
   "cell_type": "code",
   "execution_count": 38,
   "metadata": {},
   "outputs": [],
   "source": [
    "visitors_A_daily = visitors[visitors['group'] == 'A'][['date', 'visitors']]\n",
    "visitors_A_daily.columns = ['date', 'visitors_per_date_A']\n",
    "\n",
    "visitors_A_cummulative = visitors_A_daily.apply(lambda x: visitors_A_daily[visitors_A_daily['date'] <= x['date']]\n",
    "                                                .agg({'date': 'max', \n",
    "                                                      'visitors_per_date_A': 'sum'}), \n",
    "                                                axis=1)\n",
    "visitors_A_cummulative.columns = ['date', 'visitors_cummulative_A']"
   ]
  },
  {
   "cell_type": "code",
   "execution_count": 39,
   "metadata": {},
   "outputs": [],
   "source": [
    "visitors_B_daily = visitors[visitors['group'] == 'B'][['date', 'visitors']]\n",
    "visitors_B_daily.columns = ['date', 'visitors_per_date_B']\n",
    "\n",
    "visitors_B_cummulative = visitors_B_daily.apply(lambda x: visitors_B_daily[visitors_B_daily['date'] <= x['date']]\n",
    "                                                .agg({'date': 'max', \n",
    "                                                      'visitors_per_date_B': 'sum'}), \n",
    "                                                axis=1)\n",
    "visitors_B_cummulative.columns = ['date', 'visitors_cummulative_B']"
   ]
  },
  {
   "cell_type": "code",
   "execution_count": 40,
   "metadata": {},
   "outputs": [],
   "source": [
    "orders_A_daily = (orders[orders['group'] == 'A'][['date', 'transaction_id', 'visitor_id', 'revenue']]\n",
    "                  .groupby('date', as_index=False)\n",
    "                  .agg({'transaction_id': pd.Series.nunique, \n",
    "                        'revenue': 'sum'}))\n",
    "orders_A_daily.columns = ['date', 'orders_per_date_A', 'revenue_per_date_A']\n",
    "\n",
    "orders_A_cummulative = orders_A_daily.apply(lambda x: orders_A_daily[orders_A_daily['date'] <= x['date']]\n",
    "                                            .agg({'date': 'max', \n",
    "                                                  'orders_per_date_A': 'sum', \n",
    "                                                  'revenue_per_date_A': 'sum'}),axis=1).sort_values(by=['date'])\n",
    "orders_A_cummulative.columns = ['date', 'orders_cummulative_A', 'revenue_cummulative_A']"
   ]
  },
  {
   "cell_type": "code",
   "execution_count": 41,
   "metadata": {},
   "outputs": [],
   "source": [
    "orders_B_daily = (orders[orders['group'] == 'B'][['date', 'transaction_id', 'visitor_id', 'revenue']]\n",
    "                  .groupby('date', as_index=False)\n",
    "                  .agg({'transaction_id': pd.Series.nunique, \n",
    "                        'revenue': 'sum'}))\n",
    "orders_B_daily.columns = ['date', 'orders_per_date_B', 'revenue_per_date_B']\n",
    "\n",
    "orders_B_cummulative = orders_B_daily.apply(lambda x: orders_B_daily[orders_B_daily['date'] <= x['date']]\n",
    "                                            .agg({'date': 'max', \n",
    "                                                  'orders_per_date_B': 'sum', \n",
    "                                                  'revenue_per_date_B': 'sum'}),axis=1).sort_values(by=['date'])\n",
    "orders_B_cummulative.columns = ['date', 'orders_cummulative_B', 'revenue_cummulative_B']"
   ]
  },
  {
   "cell_type": "code",
   "execution_count": 42,
   "metadata": {},
   "outputs": [
    {
     "data": {
      "text/html": [
       "<div>\n",
       "<style scoped>\n",
       "    .dataframe tbody tr th:only-of-type {\n",
       "        vertical-align: middle;\n",
       "    }\n",
       "\n",
       "    .dataframe tbody tr th {\n",
       "        vertical-align: top;\n",
       "    }\n",
       "\n",
       "    .dataframe thead th {\n",
       "        text-align: right;\n",
       "    }\n",
       "</style>\n",
       "<table border=\"1\" class=\"dataframe\">\n",
       "  <thead>\n",
       "    <tr style=\"text-align: right;\">\n",
       "      <th></th>\n",
       "      <th>date</th>\n",
       "      <th>orders_per_date_A</th>\n",
       "      <th>revenue_per_date_A</th>\n",
       "      <th>orders_per_date_B</th>\n",
       "      <th>revenue_per_date_B</th>\n",
       "      <th>orders_cummulative_A</th>\n",
       "      <th>revenue_cummulative_A</th>\n",
       "      <th>orders_cummulative_B</th>\n",
       "      <th>revenue_cummulative_B</th>\n",
       "      <th>visitors_per_date_A</th>\n",
       "      <th>visitors_per_date_B</th>\n",
       "      <th>visitors_cummulative_A</th>\n",
       "      <th>visitors_cummulative_B</th>\n",
       "    </tr>\n",
       "  </thead>\n",
       "  <tbody>\n",
       "    <tr>\n",
       "      <th>0</th>\n",
       "      <td>2019-08-01</td>\n",
       "      <td>24</td>\n",
       "      <td>148579</td>\n",
       "      <td>21</td>\n",
       "      <td>101217</td>\n",
       "      <td>24</td>\n",
       "      <td>148579</td>\n",
       "      <td>21</td>\n",
       "      <td>101217</td>\n",
       "      <td>719</td>\n",
       "      <td>713</td>\n",
       "      <td>719</td>\n",
       "      <td>713</td>\n",
       "    </tr>\n",
       "    <tr>\n",
       "      <th>1</th>\n",
       "      <td>2019-08-02</td>\n",
       "      <td>20</td>\n",
       "      <td>93822</td>\n",
       "      <td>24</td>\n",
       "      <td>165531</td>\n",
       "      <td>44</td>\n",
       "      <td>242401</td>\n",
       "      <td>45</td>\n",
       "      <td>266748</td>\n",
       "      <td>619</td>\n",
       "      <td>581</td>\n",
       "      <td>1338</td>\n",
       "      <td>1294</td>\n",
       "    </tr>\n",
       "    <tr>\n",
       "      <th>2</th>\n",
       "      <td>2019-08-03</td>\n",
       "      <td>24</td>\n",
       "      <td>112473</td>\n",
       "      <td>16</td>\n",
       "      <td>114248</td>\n",
       "      <td>68</td>\n",
       "      <td>354874</td>\n",
       "      <td>61</td>\n",
       "      <td>380996</td>\n",
       "      <td>507</td>\n",
       "      <td>509</td>\n",
       "      <td>1845</td>\n",
       "      <td>1803</td>\n",
       "    </tr>\n",
       "    <tr>\n",
       "      <th>3</th>\n",
       "      <td>2019-08-04</td>\n",
       "      <td>16</td>\n",
       "      <td>70825</td>\n",
       "      <td>17</td>\n",
       "      <td>108571</td>\n",
       "      <td>84</td>\n",
       "      <td>425699</td>\n",
       "      <td>78</td>\n",
       "      <td>489567</td>\n",
       "      <td>717</td>\n",
       "      <td>770</td>\n",
       "      <td>2562</td>\n",
       "      <td>2573</td>\n",
       "    </tr>\n",
       "    <tr>\n",
       "      <th>4</th>\n",
       "      <td>2019-08-05</td>\n",
       "      <td>25</td>\n",
       "      <td>124218</td>\n",
       "      <td>23</td>\n",
       "      <td>92428</td>\n",
       "      <td>109</td>\n",
       "      <td>549917</td>\n",
       "      <td>101</td>\n",
       "      <td>581995</td>\n",
       "      <td>756</td>\n",
       "      <td>707</td>\n",
       "      <td>3318</td>\n",
       "      <td>3280</td>\n",
       "    </tr>\n",
       "  </tbody>\n",
       "</table>\n",
       "</div>"
      ],
      "text/plain": [
       "        date  orders_per_date_A  revenue_per_date_A  orders_per_date_B  revenue_per_date_B  orders_cummulative_A  revenue_cummulative_A  orders_cummulative_B  revenue_cummulative_B  visitors_per_date_A  visitors_per_date_B  visitors_cummulative_A  visitors_cummulative_B\n",
       "0 2019-08-01                 24              148579                 21              101217                    24                 148579                    21                 101217                  719                  713                     719                     713\n",
       "1 2019-08-02                 20               93822                 24              165531                    44                 242401                    45                 266748                  619                  581                    1338                    1294\n",
       "2 2019-08-03                 24              112473                 16              114248                    68                 354874                    61                 380996                  507                  509                    1845                    1803\n",
       "3 2019-08-04                 16               70825                 17              108571                    84                 425699                    78                 489567                  717                  770                    2562                    2573\n",
       "4 2019-08-05                 25              124218                 23               92428                   109                 549917                   101                 581995                  756                  707                    3318                    3280"
      ]
     },
     "execution_count": 42,
     "metadata": {},
     "output_type": "execute_result"
    }
   ],
   "source": [
    "data = (orders_A_daily\n",
    "        .merge(orders_B_daily, left_on='date', right_on='date', how='left')\n",
    "        .merge(orders_A_cummulative, left_on='date', right_on='date', how='left')\n",
    "        .merge(orders_B_cummulative, left_on='date', right_on='date', how='left')\n",
    "        .merge(visitors_A_daily, left_on='date', right_on='date', how='left')\n",
    "        .merge(visitors_B_daily, left_on='date', right_on='date', how='left')\n",
    "        .merge(visitors_A_cummulative, left_on='date', right_on='date', how='left')\n",
    "        .merge(visitors_B_cummulative, left_on='date', right_on='date', how='left')\n",
    ")\n",
    "\n",
    "data.head()"
   ]
  },
  {
   "cell_type": "code",
   "execution_count": 43,
   "metadata": {},
   "outputs": [],
   "source": [
    "#число заказов для пользователей группы A, совершивших хотя бы 1 заказ\n",
    "orders_by_users_A = (orders[orders['group'] == 'A']\n",
    "                     .groupby('visitor_id', as_index=False)\n",
    "                     .agg({'transaction_id': pd.Series.nunique}))\n",
    "orders_by_users_A.columns = ['visitor_id', 'orders']"
   ]
  },
  {
   "cell_type": "code",
   "execution_count": 44,
   "metadata": {},
   "outputs": [],
   "source": [
    "#число заказов для пользователей группы B, совершивших хотя бы 1 заказ\n",
    "orders_by_users_B = (orders[orders['group'] == 'B']\n",
    "                     .groupby('visitor_id', as_index=False)\n",
    "                     .agg({'transaction_id': pd.Series.nunique}))\n",
    "orders_by_users_B.columns = ['visitor_id', 'orders']"
   ]
  },
  {
   "cell_type": "code",
   "execution_count": 45,
   "metadata": {},
   "outputs": [],
   "source": [
    "#для пользователей с заказами - число заказов, для пользователей без заказов - 0\n",
    "sample_A = pd.concat([orders_by_users_A['orders'], \n",
    "                      pd.Series(0, \n",
    "                                index=np.arange(data['visitors_per_date_A'].sum() - len(orders_by_users_A['orders'])),\n",
    "                                name='orders')], \n",
    "                     axis=0)"
   ]
  },
  {
   "cell_type": "code",
   "execution_count": 46,
   "metadata": {},
   "outputs": [],
   "source": [
    "sample_B = pd.concat([orders_by_users_B['orders'], \n",
    "                      pd.Series(0, \n",
    "                                index=np.arange(data['visitors_per_date_B'].sum() - len(orders_by_users_B['orders'])),\n",
    "                                name='orders')], \n",
    "                     axis=0)"
   ]
  },
  {
   "cell_type": "markdown",
   "metadata": {},
   "source": [
    "Сформулируем нулевую и альтернативные гипотезы:\n",
    "\n",
    "$H_{0}$: различий в среднем количестве заказов на пользователя между группами A и B нет\n",
    "\n",
    "$H_{1}$: в среднем количестве заказов на пользователя между группами A и B есть различия"
   ]
  },
  {
   "cell_type": "code",
   "execution_count": 47,
   "metadata": {
    "scrolled": true
   },
   "outputs": [
    {
     "name": "stdout",
     "output_type": "stream",
     "text": [
      "p_value: 0.017\n",
      "Прирост среднего количества заказов группы B к группе A: 0.138\n"
     ]
    }
   ],
   "source": [
    "print('p_value:', \"{0:.3f}\".format(st.mannwhitneyu(sample_A, sample_B)[1]))\n",
    "\n",
    "print('Прирост среднего количества заказов группы B к группе A:', \"{0:.3f}\".format(sample_B.mean() / sample_A.mean() - 1))"
   ]
  },
  {
   "cell_type": "markdown",
   "metadata": {},
   "source": [
    "Отвергаем нулевую гипотезу, т.к. p-value < 0.05, а относительное различие между средним количеством заказов группы B к группе A составляет почти 14%. \n",
    "\n",
    "Стоит отметить, что при уровне значимости 1% нулевая гипотеза бы не отвергалась."
   ]
  },
  {
   "cell_type": "markdown",
   "metadata": {},
   "source": [
    "#### 2.11 Посчитаем статистическую значимость различий в среднем чеке заказа между группами по «сырым» данным"
   ]
  },
  {
   "cell_type": "markdown",
   "metadata": {},
   "source": [
    "Сформулируем нулевую и альтернативные гипотезы:\n",
    "\n",
    "$H_{0}$: различий в среднем чеке между группами A и B нет\n",
    "\n",
    "$H_{1}$: в среднем чеке между группами A и B есть различия"
   ]
  },
  {
   "cell_type": "code",
   "execution_count": 48,
   "metadata": {},
   "outputs": [
    {
     "name": "stdout",
     "output_type": "stream",
     "text": [
      "p_value: 0.729\n",
      "Прирост среднего чека группы B к группе A: 0.259\n"
     ]
    }
   ],
   "source": [
    "print('p_value:', '{0:.3f}'.format(st.mannwhitneyu(orders[orders['group']=='A']['revenue'],\n",
    "                                                   orders[orders['group']=='B']['revenue'])[1]))\n",
    "\n",
    "print('Прирост среднего чека группы B к группе A:', \n",
    "      '{0:.3f}'.format(orders[orders['group']=='B']['revenue'].mean()/\n",
    "                       orders[orders['group']=='A']['revenue'].mean()-1))"
   ]
  },
  {
   "cell_type": "markdown",
   "metadata": {},
   "source": [
    "P-value > 0.05, значит статистически значимых отличий между средними чеками групп A и B нет. Однако относительное различие в средних чеков составляет почти 26%, поэтому стоит провести дополнительный тест на данных с исключением аномалий."
   ]
  },
  {
   "cell_type": "markdown",
   "metadata": {},
   "source": [
    "#### 2.12 Посчитаем статистическую значимость различий в среднем количестве заказов на посетителя между группами по «очищенным» данным"
   ]
  },
  {
   "cell_type": "markdown",
   "metadata": {},
   "source": [
    "Исключим пользователей совершивших более 4-х покупок (1% пользователей с наибольшим числом заказов), а также тех, кто совершил заказы дороже 30 000 рублей (от 1% до 5% пользователей с самыми дорогими заказами)."
   ]
  },
  {
   "cell_type": "code",
   "execution_count": 49,
   "metadata": {},
   "outputs": [
    {
     "name": "stdout",
     "output_type": "stream",
     "text": [
      "1099    148427295\n",
      "684     358944393\n",
      "648     382846391\n",
      "1137    759473111\n",
      "339     834731816\n",
      "Name: visitor_id, dtype: int64\n",
      "29\n"
     ]
    }
   ],
   "source": [
    "users_with_many_orders = pd.concat([orders_by_users_A[orders_by_users_A['orders'] > 4]['visitor_id'],\n",
    "                                    orders_by_users_B[orders_by_users_B['orders'] > 4]['visitor_id']],\n",
    "                                   axis=0)\n",
    "\n",
    "users_with_expensive_orders = orders[orders['revenue'] > 40000]['visitor_id']\n",
    "abnormal_users = (pd.concat([users_with_many_orders, users_with_expensive_orders], axis=0)\n",
    "                  .drop_duplicates()\n",
    "                  .sort_values())\n",
    "\n",
    "print(abnormal_users.head())\n",
    "print(abnormal_users.shape[0])"
   ]
  },
  {
   "cell_type": "markdown",
   "metadata": {},
   "source": [
    "Пользователей с аномальными заказами - 29. Исключим их из выборки для проведения тестов."
   ]
  },
  {
   "cell_type": "code",
   "execution_count": 50,
   "metadata": {},
   "outputs": [],
   "source": [
    "sample_A_filtered = pd.concat([orders_by_users_A\n",
    "                               [np.logical_not(orders_by_users_A['visitor_id'].isin(abnormal_users))]['orders'],\n",
    "                               pd.Series(0,\n",
    "                                         index=np.arange(\n",
    "                                             data['visitors_per_date_A'].sum() - len(orders_by_users_A['orders'])),\n",
    "                                         name='orders')],\n",
    "                              axis=0)"
   ]
  },
  {
   "cell_type": "code",
   "execution_count": 51,
   "metadata": {},
   "outputs": [],
   "source": [
    "sample_B_filtered = pd.concat([orders_by_users_B\n",
    "                               [np.logical_not(orders_by_users_B['visitor_id'].isin(abnormal_users))]['orders'],\n",
    "                               pd.Series(0,\n",
    "                                         index=np.arange(\n",
    "                                             data['visitors_per_date_B'].sum() - len(orders_by_users_B['orders'])),\n",
    "                                         name='orders')],\n",
    "                              axis=0)"
   ]
  },
  {
   "cell_type": "code",
   "execution_count": 52,
   "metadata": {},
   "outputs": [
    {
     "name": "stdout",
     "output_type": "stream",
     "text": [
      "p_value: 0.010\n",
      "Прирост среднего количества заказов группы B к группе A: 0.166\n"
     ]
    }
   ],
   "source": [
    "print('p_value:', '{0:.3f}'.format(st.mannwhitneyu(sample_A_filtered, sample_B_filtered)[1]))\n",
    "\n",
    "print('Прирост среднего количества заказов группы B к группе A:', \n",
    "      '{0:.3f}'.format(sample_B_filtered.mean()/sample_A_filtered.mean()-1))"
   ]
  },
  {
   "cell_type": "markdown",
   "metadata": {},
   "source": [
    "После очистки данных от аномальных пользователей p-value также меньше 0.05, относительное различие между средним количеством заказов 16.6%. Нулевую гипотезу об отсутствии различий в среднем количестве заказов на пользователя между группами A и B отвергаем. Пользователи из группы B совершают значительно больше заказов в интернет-магазине, чем пользователи из группы A."
   ]
  },
  {
   "cell_type": "markdown",
   "metadata": {},
   "source": [
    "#### 2.13 Посчитаем статистическую значимость различий в среднем чеке заказа между группами по «очищенным» данным"
   ]
  },
  {
   "cell_type": "code",
   "execution_count": 53,
   "metadata": {},
   "outputs": [
    {
     "name": "stdout",
     "output_type": "stream",
     "text": [
      "0.612\n",
      "0.069\n"
     ]
    }
   ],
   "source": [
    "print('{0:.3f}'.format(st.mannwhitneyu(\n",
    "    orders[np.logical_and(orders['group'] == 'A',\n",
    "                          np.logical_not(orders['visitor_id'].isin(abnormal_users)))]['revenue'],\n",
    "    orders[np.logical_and(orders['group'] == 'B',\n",
    "                          np.logical_not(orders['visitor_id'].isin(abnormal_users)))]['revenue'])[1]))\n",
    "\n",
    "print(\"{0:.3f}\".format(orders[\n",
    "    np.logical_and(orders['group'] == 'B',\n",
    "                   np.logical_not(orders['visitor_id'].isin(abnormal_users)))]['revenue'].mean()/ \n",
    "                       orders[\n",
    "                           np.logical_and(\n",
    "                               orders['group'] == 'A',\n",
    "                               np.logical_not(orders['visitor_id'].isin(abnormal_users)))]['revenue'].mean()\n",
    "                       - 1))"
   ]
  },
  {
   "cell_type": "markdown",
   "metadata": {},
   "source": [
    "P-value уменьшился, но он все так же больше 0.05, значит статистически значимых отличий между средними чеками групп даже после удаления аномалий A и B нет. К тому же, относительное различие в средних чеков с 26%, снизилось до 7%. Нет оснований отвергать нулевую гипотезу о равенстве средних чеков между двумя группами."
   ]
  },
  {
   "cell_type": "markdown",
   "metadata": {},
   "source": [
    "#### Вывод:\n",
    "\n",
    "- По среднему чеку между группами нет статистически значимого различия и по сырым, и по очищенным данным. \n",
    "\n",
    "- С определенного момента выручка по группе B начинает почти в 2 раза превышать выручку по группе A, с этого же момента графики становятся более равномерными.\n",
    "\n",
    "- Есть статистически значимое различие по среднему количеству заказа между группами как по сырым данным, так и после исключения аномалий. Относительное различие по конверсии составляет почти 17%.\n",
    "\n",
    "- График различия конверсии между группами показывает, что результаты группы B лучше группы A: до середины теста они имеют тенденцию к росту, после немного снижаются и устанавливаются возле одного значения.\n",
    "\n",
    "Поскольку достигнуто статистически значимое различие между группами по конверсии даже после очистки данных от аномальных значений, выручка группы B за последние 2 недели теста выше выручки группы A в 2 раза, а график относительного различия конверсии свидетельствует, что результаты группы B стабильно лучше результатов группы A, принято решение остановить тест и зафиксировать эффективность изменений, тестируемых на группе B.\n"
   ]
  }
 ],
 "metadata": {
  "ExecuteTimeLog": [
   {
    "duration": 4,
    "start_time": "2024-07-22T16:02:02.960Z"
   },
   {
    "duration": 1288,
    "start_time": "2024-07-22T18:33:01.649Z"
   },
   {
    "duration": 94,
    "start_time": "2024-07-22T18:35:02.134Z"
   },
   {
    "duration": 11,
    "start_time": "2024-07-22T18:36:17.639Z"
   },
   {
    "duration": 8,
    "start_time": "2024-07-22T18:36:31.702Z"
   },
   {
    "duration": 8,
    "start_time": "2024-07-22T18:38:15.251Z"
   },
   {
    "duration": 5,
    "start_time": "2024-07-22T18:38:55.397Z"
   },
   {
    "duration": 8,
    "start_time": "2024-07-22T18:42:24.670Z"
   },
   {
    "duration": 107,
    "start_time": "2024-07-22T18:43:05.887Z"
   },
   {
    "duration": 7,
    "start_time": "2024-07-22T18:43:23.560Z"
   },
   {
    "duration": 8,
    "start_time": "2024-07-22T18:43:29.911Z"
   },
   {
    "duration": 8,
    "start_time": "2024-07-22T18:43:36.410Z"
   },
   {
    "duration": 8,
    "start_time": "2024-07-22T18:43:47.102Z"
   },
   {
    "duration": 8,
    "start_time": "2024-07-22T18:43:53.506Z"
   },
   {
    "duration": 8,
    "start_time": "2024-07-22T18:44:07.086Z"
   },
   {
    "duration": 4,
    "start_time": "2024-07-22T18:46:09.545Z"
   },
   {
    "duration": 5,
    "start_time": "2024-07-22T18:46:18.299Z"
   },
   {
    "duration": 5,
    "start_time": "2024-07-22T18:47:05.759Z"
   },
   {
    "duration": 8,
    "start_time": "2024-07-22T18:55:41.853Z"
   },
   {
    "duration": 1072,
    "start_time": "2024-07-22T18:55:49.225Z"
   },
   {
    "duration": 30,
    "start_time": "2024-07-22T18:55:50.299Z"
   },
   {
    "duration": 10,
    "start_time": "2024-07-22T18:55:50.331Z"
   },
   {
    "duration": 10,
    "start_time": "2024-07-22T18:55:50.343Z"
   },
   {
    "duration": 6,
    "start_time": "2024-07-22T18:55:50.354Z"
   },
   {
    "duration": 12,
    "start_time": "2024-07-22T18:55:50.362Z"
   },
   {
    "duration": 9,
    "start_time": "2024-07-22T18:56:19.496Z"
   },
   {
    "duration": 9,
    "start_time": "2024-07-22T18:56:39.685Z"
   },
   {
    "duration": 4,
    "start_time": "2024-07-22T18:57:03.324Z"
   },
   {
    "duration": 9,
    "start_time": "2024-07-22T18:57:05.325Z"
   },
   {
    "duration": 9,
    "start_time": "2024-07-22T18:57:21.358Z"
   },
   {
    "duration": 10,
    "start_time": "2024-07-22T18:57:30.107Z"
   },
   {
    "duration": 8,
    "start_time": "2024-07-22T18:57:36.361Z"
   },
   {
    "duration": 9,
    "start_time": "2024-07-22T18:59:57.169Z"
   },
   {
    "duration": 1151,
    "start_time": "2024-07-22T19:02:30.053Z"
   },
   {
    "duration": 32,
    "start_time": "2024-07-22T19:02:31.205Z"
   },
   {
    "duration": 19,
    "start_time": "2024-07-22T19:02:31.238Z"
   },
   {
    "duration": 34,
    "start_time": "2024-07-22T19:02:31.258Z"
   },
   {
    "duration": 34,
    "start_time": "2024-07-22T19:02:31.293Z"
   },
   {
    "duration": 35,
    "start_time": "2024-07-22T19:02:31.328Z"
   },
   {
    "duration": 40,
    "start_time": "2024-07-22T19:02:31.364Z"
   },
   {
    "duration": 203,
    "start_time": "2024-07-22T19:02:31.405Z"
   },
   {
    "duration": 0,
    "start_time": "2024-07-22T19:02:31.609Z"
   },
   {
    "duration": 2,
    "start_time": "2024-07-22T19:03:09.440Z"
   },
   {
    "duration": 109,
    "start_time": "2024-07-22T19:03:09.446Z"
   },
   {
    "duration": 7,
    "start_time": "2024-07-22T19:03:09.557Z"
   },
   {
    "duration": 45,
    "start_time": "2024-07-22T19:03:09.565Z"
   },
   {
    "duration": 20,
    "start_time": "2024-07-22T19:03:09.612Z"
   },
   {
    "duration": 5,
    "start_time": "2024-07-22T19:03:09.633Z"
   },
   {
    "duration": 11,
    "start_time": "2024-07-22T19:03:09.639Z"
   },
   {
    "duration": 25,
    "start_time": "2024-07-22T19:03:09.652Z"
   },
   {
    "duration": 9,
    "start_time": "2024-07-22T19:03:12.325Z"
   },
   {
    "duration": 4,
    "start_time": "2024-07-22T19:20:04.596Z"
   },
   {
    "duration": 3,
    "start_time": "2024-07-22T19:20:18.103Z"
   },
   {
    "duration": 176,
    "start_time": "2024-07-22T20:18:54.821Z"
   },
   {
    "duration": 8,
    "start_time": "2024-07-22T20:19:21.195Z"
   },
   {
    "duration": 7,
    "start_time": "2024-07-22T20:20:16.237Z"
   },
   {
    "duration": 11,
    "start_time": "2024-07-22T20:20:23.188Z"
   },
   {
    "duration": 8,
    "start_time": "2024-07-22T20:21:03.230Z"
   },
   {
    "duration": 10,
    "start_time": "2024-07-22T20:21:16.576Z"
   },
   {
    "duration": 5,
    "start_time": "2024-07-22T20:23:07.510Z"
   },
   {
    "duration": 6,
    "start_time": "2024-07-22T20:24:51.672Z"
   },
   {
    "duration": 1441,
    "start_time": "2024-07-23T08:31:39.421Z"
   },
   {
    "duration": 74,
    "start_time": "2024-07-23T08:31:40.873Z"
   },
   {
    "duration": 12,
    "start_time": "2024-07-23T08:31:40.949Z"
   },
   {
    "duration": 25,
    "start_time": "2024-07-23T08:31:40.964Z"
   },
   {
    "duration": 43,
    "start_time": "2024-07-23T08:31:40.990Z"
   },
   {
    "duration": 40,
    "start_time": "2024-07-23T08:31:41.035Z"
   },
   {
    "duration": 33,
    "start_time": "2024-07-23T08:31:41.077Z"
   },
   {
    "duration": 21,
    "start_time": "2024-07-23T08:31:41.112Z"
   },
   {
    "duration": 37,
    "start_time": "2024-07-23T08:31:41.134Z"
   },
   {
    "duration": 191,
    "start_time": "2024-07-23T08:31:41.173Z"
   },
   {
    "duration": 8,
    "start_time": "2024-07-23T08:31:41.373Z"
   },
   {
    "duration": 23,
    "start_time": "2024-07-23T08:31:41.383Z"
   },
   {
    "duration": 39,
    "start_time": "2024-07-23T08:31:41.407Z"
   },
   {
    "duration": 49,
    "start_time": "2024-07-23T08:31:41.447Z"
   },
   {
    "duration": 23,
    "start_time": "2024-07-23T08:31:41.498Z"
   },
   {
    "duration": 53,
    "start_time": "2024-07-23T08:31:41.522Z"
   },
   {
    "duration": 6,
    "start_time": "2024-07-23T08:38:01.704Z"
   },
   {
    "duration": 3,
    "start_time": "2024-07-23T08:50:52.094Z"
   },
   {
    "duration": 31,
    "start_time": "2024-07-23T08:50:52.099Z"
   },
   {
    "duration": 9,
    "start_time": "2024-07-23T08:50:52.132Z"
   },
   {
    "duration": 5,
    "start_time": "2024-07-23T08:50:52.143Z"
   },
   {
    "duration": 7,
    "start_time": "2024-07-23T08:50:52.150Z"
   },
   {
    "duration": 10,
    "start_time": "2024-07-23T08:50:52.159Z"
   },
   {
    "duration": 21,
    "start_time": "2024-07-23T08:50:52.171Z"
   },
   {
    "duration": 5,
    "start_time": "2024-07-23T08:50:52.195Z"
   },
   {
    "duration": 10,
    "start_time": "2024-07-23T08:50:52.202Z"
   },
   {
    "duration": 54,
    "start_time": "2024-07-23T08:50:52.213Z"
   },
   {
    "duration": 8,
    "start_time": "2024-07-23T08:50:52.268Z"
   },
   {
    "duration": 10,
    "start_time": "2024-07-23T08:50:52.278Z"
   },
   {
    "duration": 5,
    "start_time": "2024-07-23T08:50:52.290Z"
   },
   {
    "duration": 390,
    "start_time": "2024-07-23T08:50:52.298Z"
   },
   {
    "duration": 0,
    "start_time": "2024-07-23T08:50:52.690Z"
   },
   {
    "duration": 0,
    "start_time": "2024-07-23T08:50:52.691Z"
   },
   {
    "duration": 0,
    "start_time": "2024-07-23T08:50:52.692Z"
   },
   {
    "duration": 0,
    "start_time": "2024-07-23T08:50:52.693Z"
   },
   {
    "duration": 0,
    "start_time": "2024-07-23T08:50:52.694Z"
   },
   {
    "duration": 4,
    "start_time": "2024-07-23T08:51:36.016Z"
   },
   {
    "duration": 38,
    "start_time": "2024-07-23T08:51:36.022Z"
   },
   {
    "duration": 12,
    "start_time": "2024-07-23T08:51:36.063Z"
   },
   {
    "duration": 17,
    "start_time": "2024-07-23T08:51:36.076Z"
   },
   {
    "duration": 9,
    "start_time": "2024-07-23T08:51:36.096Z"
   },
   {
    "duration": 87,
    "start_time": "2024-07-23T08:51:36.107Z"
   },
   {
    "duration": 99,
    "start_time": "2024-07-23T08:51:36.195Z"
   },
   {
    "duration": 11,
    "start_time": "2024-07-23T08:51:36.295Z"
   },
   {
    "duration": 31,
    "start_time": "2024-07-23T08:51:36.307Z"
   },
   {
    "duration": 60,
    "start_time": "2024-07-23T08:51:36.340Z"
   },
   {
    "duration": 10,
    "start_time": "2024-07-23T08:51:36.403Z"
   },
   {
    "duration": 17,
    "start_time": "2024-07-23T08:51:36.415Z"
   },
   {
    "duration": 6,
    "start_time": "2024-07-23T08:51:36.434Z"
   },
   {
    "duration": 24,
    "start_time": "2024-07-23T08:51:36.441Z"
   },
   {
    "duration": 13,
    "start_time": "2024-07-23T08:51:36.466Z"
   },
   {
    "duration": 22,
    "start_time": "2024-07-23T08:51:36.481Z"
   },
   {
    "duration": 285,
    "start_time": "2024-07-23T08:51:36.506Z"
   },
   {
    "duration": 0,
    "start_time": "2024-07-23T08:51:36.793Z"
   },
   {
    "duration": 0,
    "start_time": "2024-07-23T08:51:36.794Z"
   },
   {
    "duration": 4,
    "start_time": "2024-07-23T08:57:51.908Z"
   },
   {
    "duration": 37,
    "start_time": "2024-07-23T08:57:51.914Z"
   },
   {
    "duration": 8,
    "start_time": "2024-07-23T08:57:51.953Z"
   },
   {
    "duration": 14,
    "start_time": "2024-07-23T08:57:51.963Z"
   },
   {
    "duration": 8,
    "start_time": "2024-07-23T08:57:51.979Z"
   },
   {
    "duration": 13,
    "start_time": "2024-07-23T08:57:51.989Z"
   },
   {
    "duration": 17,
    "start_time": "2024-07-23T08:57:52.004Z"
   },
   {
    "duration": 9,
    "start_time": "2024-07-23T08:57:52.023Z"
   },
   {
    "duration": 35,
    "start_time": "2024-07-23T08:57:52.034Z"
   },
   {
    "duration": 61,
    "start_time": "2024-07-23T08:57:52.071Z"
   },
   {
    "duration": 8,
    "start_time": "2024-07-23T08:57:52.134Z"
   },
   {
    "duration": 13,
    "start_time": "2024-07-23T08:57:52.143Z"
   },
   {
    "duration": 20,
    "start_time": "2024-07-23T08:57:52.157Z"
   },
   {
    "duration": 13,
    "start_time": "2024-07-23T08:57:52.180Z"
   },
   {
    "duration": 10,
    "start_time": "2024-07-23T08:57:52.194Z"
   },
   {
    "duration": 18,
    "start_time": "2024-07-23T08:57:52.206Z"
   },
   {
    "duration": 10,
    "start_time": "2024-07-23T08:57:52.225Z"
   },
   {
    "duration": 10,
    "start_time": "2024-07-23T08:57:52.237Z"
   },
   {
    "duration": 6,
    "start_time": "2024-07-23T08:57:52.249Z"
   },
   {
    "duration": 301,
    "start_time": "2024-07-23T08:58:13.503Z"
   },
   {
    "duration": 324,
    "start_time": "2024-07-23T08:58:19.645Z"
   },
   {
    "duration": 1246,
    "start_time": "2024-07-23T08:58:29.475Z"
   },
   {
    "duration": 28,
    "start_time": "2024-07-23T08:58:30.724Z"
   },
   {
    "duration": 54,
    "start_time": "2024-07-23T08:58:30.754Z"
   },
   {
    "duration": 61,
    "start_time": "2024-07-23T08:58:30.810Z"
   },
   {
    "duration": 40,
    "start_time": "2024-07-23T08:58:30.873Z"
   },
   {
    "duration": 73,
    "start_time": "2024-07-23T08:58:30.914Z"
   },
   {
    "duration": 83,
    "start_time": "2024-07-23T08:58:30.989Z"
   },
   {
    "duration": 43,
    "start_time": "2024-07-23T08:58:31.073Z"
   },
   {
    "duration": 65,
    "start_time": "2024-07-23T08:58:31.118Z"
   },
   {
    "duration": 94,
    "start_time": "2024-07-23T08:58:31.184Z"
   },
   {
    "duration": 8,
    "start_time": "2024-07-23T08:58:31.279Z"
   },
   {
    "duration": 29,
    "start_time": "2024-07-23T08:58:31.288Z"
   },
   {
    "duration": 34,
    "start_time": "2024-07-23T08:58:31.319Z"
   },
   {
    "duration": 56,
    "start_time": "2024-07-23T08:58:31.355Z"
   },
   {
    "duration": 10,
    "start_time": "2024-07-23T08:58:31.412Z"
   },
   {
    "duration": 47,
    "start_time": "2024-07-23T08:58:31.424Z"
   },
   {
    "duration": 21,
    "start_time": "2024-07-23T08:58:31.477Z"
   },
   {
    "duration": 31,
    "start_time": "2024-07-23T08:58:31.499Z"
   },
   {
    "duration": 46,
    "start_time": "2024-07-23T08:58:31.532Z"
   },
   {
    "duration": 1109,
    "start_time": "2024-07-23T08:59:08.516Z"
   },
   {
    "duration": 29,
    "start_time": "2024-07-23T08:59:09.627Z"
   },
   {
    "duration": 17,
    "start_time": "2024-07-23T08:59:09.657Z"
   },
   {
    "duration": 6,
    "start_time": "2024-07-23T08:59:09.676Z"
   },
   {
    "duration": 18,
    "start_time": "2024-07-23T08:59:09.684Z"
   },
   {
    "duration": 6,
    "start_time": "2024-07-23T08:59:09.703Z"
   },
   {
    "duration": 16,
    "start_time": "2024-07-23T08:59:09.710Z"
   },
   {
    "duration": 5,
    "start_time": "2024-07-23T08:59:09.728Z"
   },
   {
    "duration": 40,
    "start_time": "2024-07-23T08:59:09.735Z"
   },
   {
    "duration": 55,
    "start_time": "2024-07-23T08:59:09.777Z"
   },
   {
    "duration": 13,
    "start_time": "2024-07-23T08:59:09.834Z"
   },
   {
    "duration": 28,
    "start_time": "2024-07-23T08:59:09.849Z"
   },
   {
    "duration": 7,
    "start_time": "2024-07-23T08:59:09.879Z"
   },
   {
    "duration": 15,
    "start_time": "2024-07-23T08:59:09.889Z"
   },
   {
    "duration": 10,
    "start_time": "2024-07-23T08:59:09.906Z"
   },
   {
    "duration": 7,
    "start_time": "2024-07-23T08:59:09.917Z"
   },
   {
    "duration": 10,
    "start_time": "2024-07-23T08:59:09.926Z"
   },
   {
    "duration": 22,
    "start_time": "2024-07-23T08:59:09.961Z"
   },
   {
    "duration": 8,
    "start_time": "2024-07-23T08:59:09.985Z"
   },
   {
    "duration": 10,
    "start_time": "2024-07-23T08:59:09.994Z"
   },
   {
    "duration": 4,
    "start_time": "2024-07-23T09:01:15.162Z"
   },
   {
    "duration": 60,
    "start_time": "2024-07-23T09:01:15.169Z"
   },
   {
    "duration": 8,
    "start_time": "2024-07-23T09:01:15.231Z"
   },
   {
    "duration": 33,
    "start_time": "2024-07-23T09:01:15.240Z"
   },
   {
    "duration": 25,
    "start_time": "2024-07-23T09:01:15.276Z"
   },
   {
    "duration": 46,
    "start_time": "2024-07-23T09:01:15.304Z"
   },
   {
    "duration": 13,
    "start_time": "2024-07-23T09:01:15.352Z"
   },
   {
    "duration": 14,
    "start_time": "2024-07-23T09:01:15.366Z"
   },
   {
    "duration": 23,
    "start_time": "2024-07-23T09:01:15.382Z"
   },
   {
    "duration": 83,
    "start_time": "2024-07-23T09:01:15.407Z"
   },
   {
    "duration": 8,
    "start_time": "2024-07-23T09:01:15.491Z"
   },
   {
    "duration": 24,
    "start_time": "2024-07-23T09:01:15.501Z"
   },
   {
    "duration": 7,
    "start_time": "2024-07-23T09:01:15.527Z"
   },
   {
    "duration": 15,
    "start_time": "2024-07-23T09:01:15.536Z"
   },
   {
    "duration": 28,
    "start_time": "2024-07-23T09:01:15.552Z"
   },
   {
    "duration": 16,
    "start_time": "2024-07-23T09:01:15.581Z"
   },
   {
    "duration": 17,
    "start_time": "2024-07-23T09:01:15.598Z"
   },
   {
    "duration": 8,
    "start_time": "2024-07-23T09:01:15.617Z"
   },
   {
    "duration": 5,
    "start_time": "2024-07-23T09:01:15.627Z"
   },
   {
    "duration": 5,
    "start_time": "2024-07-23T09:05:00.543Z"
   },
   {
    "duration": 5,
    "start_time": "2024-07-23T09:07:54.269Z"
   },
   {
    "duration": 3,
    "start_time": "2024-07-23T09:10:47.316Z"
   },
   {
    "duration": 71,
    "start_time": "2024-07-23T09:10:47.321Z"
   },
   {
    "duration": 8,
    "start_time": "2024-07-23T09:10:47.395Z"
   },
   {
    "duration": 22,
    "start_time": "2024-07-23T09:10:47.405Z"
   },
   {
    "duration": 50,
    "start_time": "2024-07-23T09:10:47.430Z"
   },
   {
    "duration": 40,
    "start_time": "2024-07-23T09:10:47.482Z"
   },
   {
    "duration": 55,
    "start_time": "2024-07-23T09:10:47.524Z"
   },
   {
    "duration": 25,
    "start_time": "2024-07-23T09:10:47.581Z"
   },
   {
    "duration": 49,
    "start_time": "2024-07-23T09:10:47.608Z"
   },
   {
    "duration": 74,
    "start_time": "2024-07-23T09:10:47.659Z"
   },
   {
    "duration": 11,
    "start_time": "2024-07-23T09:10:47.736Z"
   },
   {
    "duration": 32,
    "start_time": "2024-07-23T09:10:47.749Z"
   },
   {
    "duration": 30,
    "start_time": "2024-07-23T09:10:47.783Z"
   },
   {
    "duration": 44,
    "start_time": "2024-07-23T09:10:47.815Z"
   },
   {
    "duration": 24,
    "start_time": "2024-07-23T09:10:47.861Z"
   },
   {
    "duration": 49,
    "start_time": "2024-07-23T09:10:47.887Z"
   },
   {
    "duration": 16,
    "start_time": "2024-07-23T09:10:47.938Z"
   },
   {
    "duration": 12,
    "start_time": "2024-07-23T09:10:47.956Z"
   },
   {
    "duration": 24,
    "start_time": "2024-07-23T09:10:47.970Z"
   },
   {
    "duration": 29,
    "start_time": "2024-07-23T09:10:47.996Z"
   },
   {
    "duration": 175,
    "start_time": "2024-07-23T09:10:50.714Z"
   },
   {
    "duration": 173,
    "start_time": "2024-07-23T09:11:00.886Z"
   },
   {
    "duration": 8,
    "start_time": "2024-07-23T09:16:56.464Z"
   },
   {
    "duration": 152,
    "start_time": "2024-07-23T09:17:41.953Z"
   },
   {
    "duration": 117,
    "start_time": "2024-07-23T09:17:52.695Z"
   },
   {
    "duration": 10,
    "start_time": "2024-07-23T09:21:06.193Z"
   },
   {
    "duration": 14,
    "start_time": "2024-07-23T09:21:15.433Z"
   },
   {
    "duration": 13,
    "start_time": "2024-07-23T09:22:22.068Z"
   },
   {
    "duration": 9,
    "start_time": "2024-07-23T09:22:31.729Z"
   },
   {
    "duration": 10,
    "start_time": "2024-07-23T09:23:34.443Z"
   },
   {
    "duration": 3,
    "start_time": "2024-07-23T09:26:52.804Z"
   },
   {
    "duration": 36,
    "start_time": "2024-07-23T09:26:52.809Z"
   },
   {
    "duration": 10,
    "start_time": "2024-07-23T09:26:52.847Z"
   },
   {
    "duration": 5,
    "start_time": "2024-07-23T09:26:52.859Z"
   },
   {
    "duration": 6,
    "start_time": "2024-07-23T09:26:52.865Z"
   },
   {
    "duration": 3,
    "start_time": "2024-07-23T09:26:52.873Z"
   },
   {
    "duration": 10,
    "start_time": "2024-07-23T09:26:52.878Z"
   },
   {
    "duration": 6,
    "start_time": "2024-07-23T09:26:52.889Z"
   },
   {
    "duration": 14,
    "start_time": "2024-07-23T09:26:52.896Z"
   },
   {
    "duration": 53,
    "start_time": "2024-07-23T09:26:52.912Z"
   },
   {
    "duration": 7,
    "start_time": "2024-07-23T09:26:52.967Z"
   },
   {
    "duration": 34,
    "start_time": "2024-07-23T09:26:52.975Z"
   },
   {
    "duration": 12,
    "start_time": "2024-07-23T09:26:53.011Z"
   },
   {
    "duration": 22,
    "start_time": "2024-07-23T09:26:53.025Z"
   },
   {
    "duration": 58,
    "start_time": "2024-07-23T09:26:53.048Z"
   },
   {
    "duration": 11,
    "start_time": "2024-07-23T09:26:53.108Z"
   },
   {
    "duration": 10,
    "start_time": "2024-07-23T09:26:53.120Z"
   },
   {
    "duration": 6,
    "start_time": "2024-07-23T09:26:53.131Z"
   },
   {
    "duration": 5,
    "start_time": "2024-07-23T09:26:53.138Z"
   },
   {
    "duration": 16,
    "start_time": "2024-07-23T09:26:53.144Z"
   },
   {
    "duration": 157,
    "start_time": "2024-07-23T09:26:53.161Z"
   },
   {
    "duration": 122,
    "start_time": "2024-07-23T09:26:53.319Z"
   },
   {
    "duration": 19,
    "start_time": "2024-07-23T09:26:53.443Z"
   },
   {
    "duration": 35,
    "start_time": "2024-07-23T09:26:53.464Z"
   },
   {
    "duration": 21,
    "start_time": "2024-07-23T09:26:53.501Z"
   },
   {
    "duration": 17,
    "start_time": "2024-07-23T09:26:53.524Z"
   },
   {
    "duration": 236,
    "start_time": "2024-07-23T09:28:43.377Z"
   },
   {
    "duration": 194,
    "start_time": "2024-07-23T09:29:30.645Z"
   },
   {
    "duration": 178,
    "start_time": "2024-07-23T09:31:23.926Z"
   },
   {
    "duration": 215,
    "start_time": "2024-07-23T09:31:36.153Z"
   },
   {
    "duration": 177,
    "start_time": "2024-07-23T09:31:40.117Z"
   },
   {
    "duration": 8,
    "start_time": "2024-07-23T09:37:54.691Z"
   },
   {
    "duration": 9,
    "start_time": "2024-07-23T09:39:32.101Z"
   },
   {
    "duration": 8,
    "start_time": "2024-07-23T09:39:51.291Z"
   },
   {
    "duration": 169,
    "start_time": "2024-07-23T09:45:47.638Z"
   },
   {
    "duration": 217,
    "start_time": "2024-07-23T09:46:03.112Z"
   },
   {
    "duration": 4,
    "start_time": "2024-07-23T10:46:33.060Z"
   },
   {
    "duration": 31,
    "start_time": "2024-07-23T10:46:33.099Z"
   },
   {
    "duration": 12,
    "start_time": "2024-07-23T10:46:33.132Z"
   },
   {
    "duration": 14,
    "start_time": "2024-07-23T10:46:33.146Z"
   },
   {
    "duration": 9,
    "start_time": "2024-07-23T10:46:33.163Z"
   },
   {
    "duration": 5,
    "start_time": "2024-07-23T10:46:33.174Z"
   },
   {
    "duration": 21,
    "start_time": "2024-07-23T10:46:33.181Z"
   },
   {
    "duration": 16,
    "start_time": "2024-07-23T10:46:33.204Z"
   },
   {
    "duration": 31,
    "start_time": "2024-07-23T10:46:33.222Z"
   },
   {
    "duration": 65,
    "start_time": "2024-07-23T10:46:33.254Z"
   },
   {
    "duration": 8,
    "start_time": "2024-07-23T10:46:33.322Z"
   },
   {
    "duration": 152,
    "start_time": "2024-07-23T10:46:33.332Z"
   },
   {
    "duration": 20,
    "start_time": "2024-07-23T10:46:33.485Z"
   },
   {
    "duration": 21,
    "start_time": "2024-07-23T10:46:33.507Z"
   },
   {
    "duration": 20,
    "start_time": "2024-07-23T10:46:33.530Z"
   },
   {
    "duration": 22,
    "start_time": "2024-07-23T10:46:33.551Z"
   },
   {
    "duration": 25,
    "start_time": "2024-07-23T10:46:33.575Z"
   },
   {
    "duration": 22,
    "start_time": "2024-07-23T10:46:33.602Z"
   },
   {
    "duration": 19,
    "start_time": "2024-07-23T10:46:33.626Z"
   },
   {
    "duration": 16,
    "start_time": "2024-07-23T10:46:33.647Z"
   },
   {
    "duration": 188,
    "start_time": "2024-07-23T10:46:33.664Z"
   },
   {
    "duration": 124,
    "start_time": "2024-07-23T10:46:33.853Z"
   },
   {
    "duration": 11,
    "start_time": "2024-07-23T10:46:33.978Z"
   },
   {
    "duration": 15,
    "start_time": "2024-07-23T10:46:33.991Z"
   },
   {
    "duration": 12,
    "start_time": "2024-07-23T10:46:34.007Z"
   },
   {
    "duration": 8,
    "start_time": "2024-07-23T10:46:34.021Z"
   },
   {
    "duration": 41,
    "start_time": "2024-07-23T10:46:34.030Z"
   },
   {
    "duration": 10,
    "start_time": "2024-07-23T10:46:34.074Z"
   },
   {
    "duration": 181,
    "start_time": "2024-07-23T10:46:34.086Z"
   },
   {
    "duration": 193,
    "start_time": "2024-07-23T10:46:37.134Z"
   },
   {
    "duration": 49,
    "start_time": "2024-07-23T19:56:33.956Z"
   },
   {
    "duration": 1279,
    "start_time": "2024-07-23T19:56:42.162Z"
   },
   {
    "duration": 97,
    "start_time": "2024-07-23T19:56:43.444Z"
   },
   {
    "duration": 11,
    "start_time": "2024-07-23T19:56:43.543Z"
   },
   {
    "duration": 5,
    "start_time": "2024-07-23T19:56:43.556Z"
   },
   {
    "duration": 12,
    "start_time": "2024-07-23T19:56:43.563Z"
   },
   {
    "duration": 8,
    "start_time": "2024-07-23T19:56:43.576Z"
   },
   {
    "duration": 14,
    "start_time": "2024-07-23T19:56:43.585Z"
   },
   {
    "duration": 13,
    "start_time": "2024-07-23T19:56:43.600Z"
   },
   {
    "duration": 12,
    "start_time": "2024-07-23T19:56:43.614Z"
   },
   {
    "duration": 185,
    "start_time": "2024-07-23T19:56:43.627Z"
   },
   {
    "duration": 8,
    "start_time": "2024-07-23T19:56:43.813Z"
   },
   {
    "duration": 17,
    "start_time": "2024-07-23T19:56:43.822Z"
   },
   {
    "duration": 18,
    "start_time": "2024-07-23T19:56:43.840Z"
   },
   {
    "duration": 14,
    "start_time": "2024-07-23T19:56:43.860Z"
   },
   {
    "duration": 7,
    "start_time": "2024-07-23T19:56:43.876Z"
   },
   {
    "duration": 10,
    "start_time": "2024-07-23T19:56:43.884Z"
   },
   {
    "duration": 15,
    "start_time": "2024-07-23T19:56:43.896Z"
   },
   {
    "duration": 10,
    "start_time": "2024-07-23T19:56:43.912Z"
   },
   {
    "duration": 5,
    "start_time": "2024-07-23T19:56:43.923Z"
   },
   {
    "duration": 5,
    "start_time": "2024-07-23T19:56:43.930Z"
   },
   {
    "duration": 184,
    "start_time": "2024-07-23T19:56:43.936Z"
   },
   {
    "duration": 127,
    "start_time": "2024-07-23T19:56:44.121Z"
   },
   {
    "duration": 11,
    "start_time": "2024-07-23T19:56:44.249Z"
   },
   {
    "duration": 12,
    "start_time": "2024-07-23T19:56:44.262Z"
   },
   {
    "duration": 10,
    "start_time": "2024-07-23T19:56:44.275Z"
   },
   {
    "duration": 23,
    "start_time": "2024-07-23T19:56:44.286Z"
   },
   {
    "duration": 24,
    "start_time": "2024-07-23T19:56:44.311Z"
   },
   {
    "duration": 14,
    "start_time": "2024-07-23T19:56:44.337Z"
   },
   {
    "duration": 285,
    "start_time": "2024-07-23T19:56:44.353Z"
   },
   {
    "duration": 190,
    "start_time": "2024-07-23T19:56:44.639Z"
   },
   {
    "duration": 79,
    "start_time": "2024-07-23T19:56:44.830Z"
   },
   {
    "duration": 15,
    "start_time": "2024-07-23T19:56:57.996Z"
   },
   {
    "duration": 15,
    "start_time": "2024-07-23T19:57:10.300Z"
   },
   {
    "duration": 15,
    "start_time": "2024-07-23T19:58:39.908Z"
   },
   {
    "duration": 13,
    "start_time": "2024-07-23T19:59:07.355Z"
   },
   {
    "duration": 13,
    "start_time": "2024-07-23T19:59:51.508Z"
   },
   {
    "duration": 325,
    "start_time": "2024-07-23T20:01:05.916Z"
   },
   {
    "duration": 284,
    "start_time": "2024-07-23T20:02:51.136Z"
   },
   {
    "duration": 229,
    "start_time": "2024-07-23T20:19:12.665Z"
   },
   {
    "duration": 232,
    "start_time": "2024-07-23T20:22:17.708Z"
   },
   {
    "duration": 214,
    "start_time": "2024-07-23T20:22:50.028Z"
   },
   {
    "duration": 208,
    "start_time": "2024-07-23T20:29:00.274Z"
   },
   {
    "duration": 266,
    "start_time": "2024-07-23T20:29:11.049Z"
   },
   {
    "duration": 185,
    "start_time": "2024-07-23T20:29:23.684Z"
   },
   {
    "duration": 191,
    "start_time": "2024-07-23T20:29:57.357Z"
   },
   {
    "duration": 1443,
    "start_time": "2024-07-24T04:52:44.865Z"
   },
   {
    "duration": 86,
    "start_time": "2024-07-24T04:52:46.310Z"
   },
   {
    "duration": 14,
    "start_time": "2024-07-24T04:52:46.397Z"
   },
   {
    "duration": 5,
    "start_time": "2024-07-24T04:52:46.413Z"
   },
   {
    "duration": 5,
    "start_time": "2024-07-24T04:52:46.421Z"
   },
   {
    "duration": 8,
    "start_time": "2024-07-24T04:52:46.427Z"
   },
   {
    "duration": 10,
    "start_time": "2024-07-24T04:52:46.437Z"
   },
   {
    "duration": 5,
    "start_time": "2024-07-24T04:52:46.448Z"
   },
   {
    "duration": 25,
    "start_time": "2024-07-24T04:52:46.455Z"
   },
   {
    "duration": 177,
    "start_time": "2024-07-24T04:52:46.482Z"
   },
   {
    "duration": 8,
    "start_time": "2024-07-24T04:52:46.660Z"
   },
   {
    "duration": 13,
    "start_time": "2024-07-24T04:52:46.670Z"
   },
   {
    "duration": 5,
    "start_time": "2024-07-24T04:52:46.685Z"
   },
   {
    "duration": 17,
    "start_time": "2024-07-24T04:52:46.693Z"
   },
   {
    "duration": 10,
    "start_time": "2024-07-24T04:52:46.712Z"
   },
   {
    "duration": 39,
    "start_time": "2024-07-24T04:52:46.723Z"
   },
   {
    "duration": 12,
    "start_time": "2024-07-24T04:52:46.764Z"
   },
   {
    "duration": 13,
    "start_time": "2024-07-24T04:52:46.777Z"
   },
   {
    "duration": 5,
    "start_time": "2024-07-24T04:52:46.792Z"
   },
   {
    "duration": 5,
    "start_time": "2024-07-24T04:52:46.799Z"
   },
   {
    "duration": 200,
    "start_time": "2024-07-24T04:52:46.806Z"
   },
   {
    "duration": 136,
    "start_time": "2024-07-24T04:52:47.008Z"
   },
   {
    "duration": 22,
    "start_time": "2024-07-24T04:52:47.145Z"
   },
   {
    "duration": 33,
    "start_time": "2024-07-24T04:52:47.168Z"
   },
   {
    "duration": 20,
    "start_time": "2024-07-24T04:52:47.202Z"
   },
   {
    "duration": 6,
    "start_time": "2024-07-24T04:52:47.224Z"
   },
   {
    "duration": 287,
    "start_time": "2024-07-24T04:52:47.231Z"
   },
   {
    "duration": 228,
    "start_time": "2024-07-24T04:52:47.519Z"
   },
   {
    "duration": 357,
    "start_time": "2024-07-24T04:52:47.749Z"
   },
   {
    "duration": 219,
    "start_time": "2024-07-24T04:52:48.108Z"
   },
   {
    "duration": 113,
    "start_time": "2024-07-24T04:59:53.997Z"
   },
   {
    "duration": 1405,
    "start_time": "2024-07-25T11:51:40.423Z"
   },
   {
    "duration": 70,
    "start_time": "2024-07-25T11:51:41.830Z"
   },
   {
    "duration": 12,
    "start_time": "2024-07-25T11:51:41.901Z"
   },
   {
    "duration": 25,
    "start_time": "2024-07-25T11:51:41.915Z"
   },
   {
    "duration": 9,
    "start_time": "2024-07-25T11:51:41.942Z"
   },
   {
    "duration": 18,
    "start_time": "2024-07-25T11:51:41.952Z"
   },
   {
    "duration": 33,
    "start_time": "2024-07-25T11:51:41.972Z"
   },
   {
    "duration": 46,
    "start_time": "2024-07-25T11:51:42.007Z"
   },
   {
    "duration": 34,
    "start_time": "2024-07-25T11:51:42.055Z"
   },
   {
    "duration": 165,
    "start_time": "2024-07-25T11:51:42.092Z"
   },
   {
    "duration": 8,
    "start_time": "2024-07-25T11:51:42.259Z"
   },
   {
    "duration": 17,
    "start_time": "2024-07-25T11:51:42.268Z"
   },
   {
    "duration": 9,
    "start_time": "2024-07-25T11:51:42.287Z"
   },
   {
    "duration": 42,
    "start_time": "2024-07-25T11:51:42.297Z"
   },
   {
    "duration": 10,
    "start_time": "2024-07-25T11:51:42.340Z"
   },
   {
    "duration": 26,
    "start_time": "2024-07-25T11:51:42.351Z"
   },
   {
    "duration": 12,
    "start_time": "2024-07-25T11:51:42.379Z"
   },
   {
    "duration": 16,
    "start_time": "2024-07-25T11:51:42.393Z"
   },
   {
    "duration": 6,
    "start_time": "2024-07-25T11:51:42.411Z"
   },
   {
    "duration": 11,
    "start_time": "2024-07-25T11:51:42.418Z"
   },
   {
    "duration": 186,
    "start_time": "2024-07-25T11:51:42.430Z"
   },
   {
    "duration": 133,
    "start_time": "2024-07-25T11:51:42.618Z"
   },
   {
    "duration": 12,
    "start_time": "2024-07-25T11:51:42.752Z"
   },
   {
    "duration": 68,
    "start_time": "2024-07-25T11:51:42.765Z"
   },
   {
    "duration": 8,
    "start_time": "2024-07-25T11:51:42.835Z"
   },
   {
    "duration": 13,
    "start_time": "2024-07-25T11:51:42.846Z"
   },
   {
    "duration": 292,
    "start_time": "2024-07-25T11:51:42.861Z"
   },
   {
    "duration": 223,
    "start_time": "2024-07-25T11:51:43.156Z"
   },
   {
    "duration": 362,
    "start_time": "2024-07-25T11:51:43.381Z"
   },
   {
    "duration": 208,
    "start_time": "2024-07-25T11:51:43.744Z"
   },
   {
    "duration": 114,
    "start_time": "2024-07-25T11:51:43.953Z"
   },
   {
    "duration": 285,
    "start_time": "2024-07-25T11:52:15.149Z"
   },
   {
    "duration": 304,
    "start_time": "2024-07-25T11:54:05.041Z"
   },
   {
    "duration": 328,
    "start_time": "2024-07-25T11:54:11.998Z"
   },
   {
    "duration": 422,
    "start_time": "2024-07-25T11:54:22.186Z"
   },
   {
    "duration": 290,
    "start_time": "2024-07-25T11:54:46.742Z"
   },
   {
    "duration": 284,
    "start_time": "2024-07-25T11:55:38.442Z"
   },
   {
    "duration": 332,
    "start_time": "2024-07-25T11:55:45.576Z"
   },
   {
    "duration": 362,
    "start_time": "2024-07-25T11:55:49.994Z"
   },
   {
    "duration": 291,
    "start_time": "2024-07-25T11:56:07.159Z"
   },
   {
    "duration": 373,
    "start_time": "2024-07-25T11:57:15.876Z"
   },
   {
    "duration": 309,
    "start_time": "2024-07-25T12:02:41.450Z"
   },
   {
    "duration": 314,
    "start_time": "2024-07-25T12:02:54.265Z"
   },
   {
    "duration": 315,
    "start_time": "2024-07-25T12:03:01.031Z"
   },
   {
    "duration": 341,
    "start_time": "2024-07-25T12:03:22.480Z"
   },
   {
    "duration": 327,
    "start_time": "2024-07-25T12:03:27.759Z"
   },
   {
    "duration": 413,
    "start_time": "2024-07-25T12:09:25.105Z"
   },
   {
    "duration": 318,
    "start_time": "2024-07-25T12:10:14.218Z"
   },
   {
    "duration": 12,
    "start_time": "2024-07-25T12:26:32.733Z"
   },
   {
    "duration": 9,
    "start_time": "2024-07-25T12:28:15.936Z"
   },
   {
    "duration": 14,
    "start_time": "2024-07-25T12:28:41.285Z"
   },
   {
    "duration": 9,
    "start_time": "2024-07-25T12:29:07.864Z"
   },
   {
    "duration": 17,
    "start_time": "2024-07-25T12:29:43.779Z"
   },
   {
    "duration": 120,
    "start_time": "2024-07-25T12:30:18.303Z"
   },
   {
    "duration": 10,
    "start_time": "2024-07-25T12:35:28.212Z"
   },
   {
    "duration": 10,
    "start_time": "2024-07-25T12:35:34.301Z"
   },
   {
    "duration": 13,
    "start_time": "2024-07-25T12:35:41.215Z"
   },
   {
    "duration": 9,
    "start_time": "2024-07-25T12:35:55.418Z"
   },
   {
    "duration": 206,
    "start_time": "2024-07-25T12:36:17.721Z"
   },
   {
    "duration": 202,
    "start_time": "2024-07-25T12:37:06.503Z"
   },
   {
    "duration": 297,
    "start_time": "2024-07-25T12:38:29.463Z"
   },
   {
    "duration": 346,
    "start_time": "2024-07-25T12:41:09.875Z"
   },
   {
    "duration": 364,
    "start_time": "2024-07-25T12:42:48.972Z"
   },
   {
    "duration": 213,
    "start_time": "2024-07-25T12:43:38.434Z"
   },
   {
    "duration": 207,
    "start_time": "2024-07-25T12:48:04.026Z"
   },
   {
    "duration": 12,
    "start_time": "2024-07-25T12:49:02.636Z"
   },
   {
    "duration": 11,
    "start_time": "2024-07-25T12:49:14.141Z"
   },
   {
    "duration": 154,
    "start_time": "2024-07-25T12:57:00.815Z"
   },
   {
    "duration": 126,
    "start_time": "2024-07-25T12:57:13.816Z"
   },
   {
    "duration": 6,
    "start_time": "2024-07-25T12:58:03.942Z"
   },
   {
    "duration": 4,
    "start_time": "2024-07-25T13:09:25.314Z"
   },
   {
    "duration": 36,
    "start_time": "2024-07-25T13:09:25.321Z"
   },
   {
    "duration": 9,
    "start_time": "2024-07-25T13:09:25.359Z"
   },
   {
    "duration": 21,
    "start_time": "2024-07-25T13:09:25.369Z"
   },
   {
    "duration": 9,
    "start_time": "2024-07-25T13:09:25.392Z"
   },
   {
    "duration": 7,
    "start_time": "2024-07-25T13:09:25.403Z"
   },
   {
    "duration": 19,
    "start_time": "2024-07-25T13:09:25.411Z"
   },
   {
    "duration": 28,
    "start_time": "2024-07-25T13:09:25.432Z"
   },
   {
    "duration": 23,
    "start_time": "2024-07-25T13:09:25.462Z"
   },
   {
    "duration": 58,
    "start_time": "2024-07-25T13:09:25.487Z"
   },
   {
    "duration": 109,
    "start_time": "2024-07-25T13:09:25.548Z"
   },
   {
    "duration": 15,
    "start_time": "2024-07-25T13:09:25.659Z"
   },
   {
    "duration": 14,
    "start_time": "2024-07-25T13:09:25.675Z"
   },
   {
    "duration": 25,
    "start_time": "2024-07-25T13:09:25.690Z"
   },
   {
    "duration": 8,
    "start_time": "2024-07-25T13:09:25.716Z"
   },
   {
    "duration": 14,
    "start_time": "2024-07-25T13:09:25.726Z"
   },
   {
    "duration": 20,
    "start_time": "2024-07-25T13:09:25.742Z"
   },
   {
    "duration": 26,
    "start_time": "2024-07-25T13:09:25.763Z"
   },
   {
    "duration": 13,
    "start_time": "2024-07-25T13:09:25.791Z"
   },
   {
    "duration": 15,
    "start_time": "2024-07-25T13:09:25.806Z"
   },
   {
    "duration": 189,
    "start_time": "2024-07-25T13:09:25.822Z"
   },
   {
    "duration": 150,
    "start_time": "2024-07-25T13:09:26.013Z"
   },
   {
    "duration": 23,
    "start_time": "2024-07-25T13:09:26.165Z"
   },
   {
    "duration": 20,
    "start_time": "2024-07-25T13:09:26.189Z"
   },
   {
    "duration": 7,
    "start_time": "2024-07-25T13:09:26.211Z"
   },
   {
    "duration": 15,
    "start_time": "2024-07-25T13:09:26.219Z"
   },
   {
    "duration": 207,
    "start_time": "2024-07-25T13:09:26.236Z"
   },
   {
    "duration": 243,
    "start_time": "2024-07-25T13:09:26.445Z"
   },
   {
    "duration": 334,
    "start_time": "2024-07-25T13:09:26.691Z"
   },
   {
    "duration": 220,
    "start_time": "2024-07-25T13:09:27.027Z"
   },
   {
    "duration": 329,
    "start_time": "2024-07-25T13:09:27.249Z"
   },
   {
    "duration": 12,
    "start_time": "2024-07-25T13:09:27.579Z"
   },
   {
    "duration": 171,
    "start_time": "2024-07-25T13:09:27.593Z"
   },
   {
    "duration": 5,
    "start_time": "2024-07-25T13:09:27.765Z"
   },
   {
    "duration": 28,
    "start_time": "2024-07-25T13:09:27.772Z"
   },
   {
    "duration": 142,
    "start_time": "2024-07-25T13:09:27.802Z"
   },
   {
    "duration": 5,
    "start_time": "2024-07-25T13:09:27.946Z"
   },
   {
    "duration": 135,
    "start_time": "2024-07-25T13:12:28.105Z"
   },
   {
    "duration": 130,
    "start_time": "2024-07-25T13:14:24.446Z"
   },
   {
    "duration": 156,
    "start_time": "2024-07-25T13:15:20.136Z"
   },
   {
    "duration": 179,
    "start_time": "2024-07-25T13:18:41.489Z"
   },
   {
    "duration": 152,
    "start_time": "2024-07-25T13:19:00.572Z"
   },
   {
    "duration": 152,
    "start_time": "2024-07-25T13:19:05.159Z"
   },
   {
    "duration": 153,
    "start_time": "2024-07-25T13:19:13.225Z"
   },
   {
    "duration": 5,
    "start_time": "2024-07-25T13:33:39.174Z"
   },
   {
    "duration": 5,
    "start_time": "2024-07-25T13:33:52.657Z"
   },
   {
    "duration": 4,
    "start_time": "2024-07-25T14:00:52.570Z"
   },
   {
    "duration": 41,
    "start_time": "2024-07-25T14:00:52.576Z"
   },
   {
    "duration": 12,
    "start_time": "2024-07-25T14:00:52.619Z"
   },
   {
    "duration": 18,
    "start_time": "2024-07-25T14:00:52.634Z"
   },
   {
    "duration": 19,
    "start_time": "2024-07-25T14:00:52.654Z"
   },
   {
    "duration": 12,
    "start_time": "2024-07-25T14:00:52.675Z"
   },
   {
    "duration": 21,
    "start_time": "2024-07-25T14:00:52.689Z"
   },
   {
    "duration": 8,
    "start_time": "2024-07-25T14:00:52.713Z"
   },
   {
    "duration": 23,
    "start_time": "2024-07-25T14:00:52.724Z"
   },
   {
    "duration": 50,
    "start_time": "2024-07-25T14:00:52.749Z"
   },
   {
    "duration": 12,
    "start_time": "2024-07-25T14:00:52.801Z"
   },
   {
    "duration": 26,
    "start_time": "2024-07-25T14:00:52.815Z"
   },
   {
    "duration": 6,
    "start_time": "2024-07-25T14:00:52.843Z"
   },
   {
    "duration": 14,
    "start_time": "2024-07-25T14:00:52.971Z"
   },
   {
    "duration": 25,
    "start_time": "2024-07-25T14:00:52.987Z"
   },
   {
    "duration": 13,
    "start_time": "2024-07-25T14:00:53.016Z"
   },
   {
    "duration": 9,
    "start_time": "2024-07-25T14:00:53.030Z"
   },
   {
    "duration": 26,
    "start_time": "2024-07-25T14:00:53.041Z"
   },
   {
    "duration": 6,
    "start_time": "2024-07-25T14:00:53.069Z"
   },
   {
    "duration": 63,
    "start_time": "2024-07-25T14:00:53.076Z"
   },
   {
    "duration": 188,
    "start_time": "2024-07-25T14:00:53.140Z"
   },
   {
    "duration": 168,
    "start_time": "2024-07-25T14:00:53.329Z"
   },
   {
    "duration": 18,
    "start_time": "2024-07-25T14:00:53.499Z"
   },
   {
    "duration": 28,
    "start_time": "2024-07-25T14:00:53.520Z"
   },
   {
    "duration": 7,
    "start_time": "2024-07-25T14:00:53.550Z"
   },
   {
    "duration": 20,
    "start_time": "2024-07-25T14:00:53.558Z"
   },
   {
    "duration": 259,
    "start_time": "2024-07-25T14:00:53.579Z"
   },
   {
    "duration": 239,
    "start_time": "2024-07-25T14:00:53.840Z"
   },
   {
    "duration": 388,
    "start_time": "2024-07-25T14:00:54.081Z"
   },
   {
    "duration": 250,
    "start_time": "2024-07-25T14:00:54.470Z"
   },
   {
    "duration": 347,
    "start_time": "2024-07-25T14:00:54.723Z"
   },
   {
    "duration": 12,
    "start_time": "2024-07-25T14:00:55.071Z"
   },
   {
    "duration": 224,
    "start_time": "2024-07-25T14:00:55.085Z"
   },
   {
    "duration": 14,
    "start_time": "2024-07-25T14:00:55.312Z"
   },
   {
    "duration": 22,
    "start_time": "2024-07-25T14:00:55.328Z"
   },
   {
    "duration": 162,
    "start_time": "2024-07-25T14:00:55.351Z"
   },
   {
    "duration": 6,
    "start_time": "2024-07-25T14:00:55.516Z"
   },
   {
    "duration": 192,
    "start_time": "2024-07-25T14:02:05.946Z"
   },
   {
    "duration": 179,
    "start_time": "2024-07-25T14:02:12.784Z"
   },
   {
    "duration": 173,
    "start_time": "2024-07-25T14:02:17.471Z"
   },
   {
    "duration": 186,
    "start_time": "2024-07-25T14:02:50.500Z"
   },
   {
    "duration": 3,
    "start_time": "2024-07-25T14:37:04.888Z"
   },
   {
    "duration": 37,
    "start_time": "2024-07-25T14:37:04.895Z"
   },
   {
    "duration": 17,
    "start_time": "2024-07-25T14:37:04.934Z"
   },
   {
    "duration": 7,
    "start_time": "2024-07-25T14:37:04.953Z"
   },
   {
    "duration": 5,
    "start_time": "2024-07-25T14:37:04.962Z"
   },
   {
    "duration": 8,
    "start_time": "2024-07-25T14:37:04.969Z"
   },
   {
    "duration": 12,
    "start_time": "2024-07-25T14:37:04.978Z"
   },
   {
    "duration": 6,
    "start_time": "2024-07-25T14:37:04.991Z"
   },
   {
    "duration": 25,
    "start_time": "2024-07-25T14:37:04.999Z"
   },
   {
    "duration": 55,
    "start_time": "2024-07-25T14:37:05.026Z"
   },
   {
    "duration": 10,
    "start_time": "2024-07-25T14:37:05.083Z"
   },
   {
    "duration": 28,
    "start_time": "2024-07-25T14:37:05.094Z"
   },
   {
    "duration": 7,
    "start_time": "2024-07-25T14:37:05.125Z"
   },
   {
    "duration": 18,
    "start_time": "2024-07-25T14:37:05.134Z"
   },
   {
    "duration": 15,
    "start_time": "2024-07-25T14:37:05.154Z"
   },
   {
    "duration": 78,
    "start_time": "2024-07-25T14:37:05.170Z"
   },
   {
    "duration": 9,
    "start_time": "2024-07-25T14:37:05.250Z"
   },
   {
    "duration": 26,
    "start_time": "2024-07-25T14:37:05.261Z"
   },
   {
    "duration": 14,
    "start_time": "2024-07-25T14:37:05.289Z"
   },
   {
    "duration": 11,
    "start_time": "2024-07-25T14:37:05.304Z"
   },
   {
    "duration": 184,
    "start_time": "2024-07-25T14:37:05.317Z"
   },
   {
    "duration": 132,
    "start_time": "2024-07-25T14:37:05.505Z"
   },
   {
    "duration": 11,
    "start_time": "2024-07-25T14:37:05.639Z"
   },
   {
    "duration": 27,
    "start_time": "2024-07-25T14:37:05.654Z"
   },
   {
    "duration": 17,
    "start_time": "2024-07-25T14:37:05.683Z"
   },
   {
    "duration": 28,
    "start_time": "2024-07-25T14:37:05.702Z"
   },
   {
    "duration": 217,
    "start_time": "2024-07-25T14:37:05.732Z"
   },
   {
    "duration": 259,
    "start_time": "2024-07-25T14:37:05.951Z"
   },
   {
    "duration": 347,
    "start_time": "2024-07-25T14:37:06.213Z"
   },
   {
    "duration": 270,
    "start_time": "2024-07-25T14:37:06.561Z"
   },
   {
    "duration": 342,
    "start_time": "2024-07-25T14:37:06.834Z"
   },
   {
    "duration": 12,
    "start_time": "2024-07-25T14:37:07.178Z"
   },
   {
    "duration": 324,
    "start_time": "2024-07-25T14:37:07.192Z"
   },
   {
    "duration": 5,
    "start_time": "2024-07-25T14:37:07.518Z"
   },
   {
    "duration": 18,
    "start_time": "2024-07-25T14:37:07.526Z"
   },
   {
    "duration": 210,
    "start_time": "2024-07-25T14:37:07.546Z"
   },
   {
    "duration": 6,
    "start_time": "2024-07-25T14:37:07.758Z"
   },
   {
    "duration": 80,
    "start_time": "2024-07-25T14:37:07.765Z"
   },
   {
    "duration": 56,
    "start_time": "2024-07-25T14:37:07.847Z"
   },
   {
    "duration": 67,
    "start_time": "2024-07-25T14:37:07.905Z"
   },
   {
    "duration": 87,
    "start_time": "2024-07-25T14:37:07.973Z"
   },
   {
    "duration": 42,
    "start_time": "2024-07-25T14:37:08.062Z"
   },
   {
    "duration": 88,
    "start_time": "2024-07-25T14:37:08.107Z"
   },
   {
    "duration": 113,
    "start_time": "2024-07-25T14:37:08.196Z"
   },
   {
    "duration": 15,
    "start_time": "2024-07-25T14:37:08.312Z"
   },
   {
    "duration": 0,
    "start_time": "2024-07-25T14:37:08.328Z"
   },
   {
    "duration": 0,
    "start_time": "2024-07-25T14:37:08.330Z"
   },
   {
    "duration": 4,
    "start_time": "2024-07-25T14:38:13.585Z"
   },
   {
    "duration": 26,
    "start_time": "2024-07-25T14:38:13.601Z"
   },
   {
    "duration": 10,
    "start_time": "2024-07-25T14:38:13.629Z"
   },
   {
    "duration": 14,
    "start_time": "2024-07-25T14:38:13.640Z"
   },
   {
    "duration": 14,
    "start_time": "2024-07-25T14:38:13.657Z"
   },
   {
    "duration": 10,
    "start_time": "2024-07-25T14:38:13.673Z"
   },
   {
    "duration": 16,
    "start_time": "2024-07-25T14:38:13.685Z"
   },
   {
    "duration": 14,
    "start_time": "2024-07-25T14:38:13.703Z"
   },
   {
    "duration": 18,
    "start_time": "2024-07-25T14:38:13.720Z"
   },
   {
    "duration": 50,
    "start_time": "2024-07-25T14:38:13.740Z"
   },
   {
    "duration": 8,
    "start_time": "2024-07-25T14:38:13.791Z"
   },
   {
    "duration": 28,
    "start_time": "2024-07-25T14:38:13.800Z"
   },
   {
    "duration": 7,
    "start_time": "2024-07-25T14:38:13.829Z"
   },
   {
    "duration": 15,
    "start_time": "2024-07-25T14:38:13.838Z"
   },
   {
    "duration": 14,
    "start_time": "2024-07-25T14:38:13.855Z"
   },
   {
    "duration": 12,
    "start_time": "2024-07-25T14:38:13.871Z"
   },
   {
    "duration": 26,
    "start_time": "2024-07-25T14:38:13.884Z"
   },
   {
    "duration": 9,
    "start_time": "2024-07-25T14:38:13.912Z"
   },
   {
    "duration": 12,
    "start_time": "2024-07-25T14:38:13.923Z"
   },
   {
    "duration": 8,
    "start_time": "2024-07-25T14:38:13.937Z"
   },
   {
    "duration": 199,
    "start_time": "2024-07-25T14:38:13.948Z"
   },
   {
    "duration": 136,
    "start_time": "2024-07-25T14:38:14.149Z"
   },
   {
    "duration": 25,
    "start_time": "2024-07-25T14:38:14.287Z"
   },
   {
    "duration": 23,
    "start_time": "2024-07-25T14:38:14.313Z"
   },
   {
    "duration": 33,
    "start_time": "2024-07-25T14:38:14.338Z"
   },
   {
    "duration": 13,
    "start_time": "2024-07-25T14:38:14.372Z"
   },
   {
    "duration": 212,
    "start_time": "2024-07-25T14:38:14.387Z"
   },
   {
    "duration": 230,
    "start_time": "2024-07-25T14:38:14.605Z"
   },
   {
    "duration": 335,
    "start_time": "2024-07-25T14:38:14.837Z"
   },
   {
    "duration": 247,
    "start_time": "2024-07-25T14:38:15.174Z"
   },
   {
    "duration": 335,
    "start_time": "2024-07-25T14:38:15.423Z"
   },
   {
    "duration": 11,
    "start_time": "2024-07-25T14:38:15.760Z"
   },
   {
    "duration": 149,
    "start_time": "2024-07-25T14:38:15.772Z"
   },
   {
    "duration": 6,
    "start_time": "2024-07-25T14:38:15.923Z"
   },
   {
    "duration": 13,
    "start_time": "2024-07-25T14:38:15.931Z"
   },
   {
    "duration": 203,
    "start_time": "2024-07-25T14:38:15.946Z"
   },
   {
    "duration": 5,
    "start_time": "2024-07-25T14:38:16.150Z"
   },
   {
    "duration": 69,
    "start_time": "2024-07-25T14:38:16.157Z"
   },
   {
    "duration": 45,
    "start_time": "2024-07-25T14:38:16.228Z"
   },
   {
    "duration": 104,
    "start_time": "2024-07-25T14:38:16.277Z"
   },
   {
    "duration": 58,
    "start_time": "2024-07-25T14:38:16.382Z"
   },
   {
    "duration": 28,
    "start_time": "2024-07-25T14:38:16.441Z"
   },
   {
    "duration": 108,
    "start_time": "2024-07-25T14:38:16.471Z"
   },
   {
    "duration": 98,
    "start_time": "2024-07-25T14:38:16.581Z"
   },
   {
    "duration": 5,
    "start_time": "2024-07-25T14:38:16.680Z"
   },
   {
    "duration": 20,
    "start_time": "2024-07-25T14:38:16.686Z"
   },
   {
    "duration": 30,
    "start_time": "2024-07-25T14:38:16.708Z"
   },
   {
    "duration": 28,
    "start_time": "2024-07-25T14:38:37.680Z"
   },
   {
    "duration": 32,
    "start_time": "2024-07-25T14:39:39.583Z"
   },
   {
    "duration": 27,
    "start_time": "2024-07-25T14:39:48.341Z"
   },
   {
    "duration": 35,
    "start_time": "2024-07-25T14:41:23.510Z"
   },
   {
    "duration": 26,
    "start_time": "2024-07-25T14:41:33.231Z"
   },
   {
    "duration": 30,
    "start_time": "2024-07-25T14:45:18.783Z"
   },
   {
    "duration": 35,
    "start_time": "2024-07-25T14:45:49.812Z"
   },
   {
    "duration": 6,
    "start_time": "2024-07-25T14:46:14.062Z"
   },
   {
    "duration": 27,
    "start_time": "2024-07-25T14:48:03.969Z"
   },
   {
    "duration": 8,
    "start_time": "2024-07-25T14:51:25.826Z"
   },
   {
    "duration": 13,
    "start_time": "2024-07-25T14:51:33.092Z"
   },
   {
    "duration": 9,
    "start_time": "2024-07-25T14:54:51.626Z"
   },
   {
    "duration": 28,
    "start_time": "2024-07-25T14:59:45.607Z"
   },
   {
    "duration": 27,
    "start_time": "2024-07-25T15:06:17.640Z"
   },
   {
    "duration": 12,
    "start_time": "2024-07-25T15:16:45.762Z"
   },
   {
    "duration": 11,
    "start_time": "2024-07-25T15:17:03.846Z"
   },
   {
    "duration": 11,
    "start_time": "2024-07-25T15:18:46.760Z"
   },
   {
    "duration": 13,
    "start_time": "2024-07-25T15:22:05.160Z"
   },
   {
    "duration": 16,
    "start_time": "2024-07-25T15:22:09.240Z"
   },
   {
    "duration": 11,
    "start_time": "2024-07-25T15:32:33.165Z"
   },
   {
    "duration": 9,
    "start_time": "2024-07-25T15:32:46.124Z"
   },
   {
    "duration": 9,
    "start_time": "2024-07-25T15:33:55.622Z"
   },
   {
    "duration": 1042,
    "start_time": "2024-07-25T15:35:37.292Z"
   },
   {
    "duration": 5,
    "start_time": "2024-07-25T15:35:50.788Z"
   },
   {
    "duration": 5,
    "start_time": "2024-07-25T15:36:03.658Z"
   },
   {
    "duration": 9,
    "start_time": "2024-07-25T15:37:55.960Z"
   },
   {
    "duration": 5,
    "start_time": "2024-07-25T15:38:02.725Z"
   },
   {
    "duration": 11,
    "start_time": "2024-07-25T15:39:40.432Z"
   },
   {
    "duration": 10,
    "start_time": "2024-07-25T15:43:36.528Z"
   },
   {
    "duration": 6,
    "start_time": "2024-07-25T15:43:42.088Z"
   },
   {
    "duration": 8,
    "start_time": "2024-07-25T15:44:34.578Z"
   },
   {
    "duration": 9,
    "start_time": "2024-07-25T15:45:32.324Z"
   },
   {
    "duration": 4,
    "start_time": "2024-07-25T15:54:40.193Z"
   },
   {
    "duration": 33,
    "start_time": "2024-07-25T15:54:40.199Z"
   },
   {
    "duration": 9,
    "start_time": "2024-07-25T15:54:40.234Z"
   },
   {
    "duration": 6,
    "start_time": "2024-07-25T15:54:40.401Z"
   },
   {
    "duration": 10,
    "start_time": "2024-07-25T15:54:40.409Z"
   },
   {
    "duration": 9,
    "start_time": "2024-07-25T15:54:40.421Z"
   },
   {
    "duration": 14,
    "start_time": "2024-07-25T15:54:40.431Z"
   },
   {
    "duration": 7,
    "start_time": "2024-07-25T15:54:40.448Z"
   },
   {
    "duration": 17,
    "start_time": "2024-07-25T15:54:40.456Z"
   },
   {
    "duration": 54,
    "start_time": "2024-07-25T15:54:40.475Z"
   },
   {
    "duration": 7,
    "start_time": "2024-07-25T15:54:40.531Z"
   },
   {
    "duration": 77,
    "start_time": "2024-07-25T15:54:40.539Z"
   },
   {
    "duration": 9,
    "start_time": "2024-07-25T15:54:40.618Z"
   },
   {
    "duration": 21,
    "start_time": "2024-07-25T15:54:40.628Z"
   },
   {
    "duration": 8,
    "start_time": "2024-07-25T15:54:40.651Z"
   },
   {
    "duration": 14,
    "start_time": "2024-07-25T15:54:40.661Z"
   },
   {
    "duration": 76,
    "start_time": "2024-07-25T15:54:40.679Z"
   },
   {
    "duration": 15,
    "start_time": "2024-07-25T15:54:40.757Z"
   },
   {
    "duration": 11,
    "start_time": "2024-07-25T15:54:40.774Z"
   },
   {
    "duration": 15,
    "start_time": "2024-07-25T15:54:40.786Z"
   },
   {
    "duration": 203,
    "start_time": "2024-07-25T15:54:40.803Z"
   },
   {
    "duration": 139,
    "start_time": "2024-07-25T15:54:41.008Z"
   },
   {
    "duration": 13,
    "start_time": "2024-07-25T15:54:41.149Z"
   },
   {
    "duration": 13,
    "start_time": "2024-07-25T15:54:41.164Z"
   },
   {
    "duration": 27,
    "start_time": "2024-07-25T15:54:41.179Z"
   },
   {
    "duration": 6,
    "start_time": "2024-07-25T15:54:41.208Z"
   },
   {
    "duration": 226,
    "start_time": "2024-07-25T15:54:41.215Z"
   },
   {
    "duration": 220,
    "start_time": "2024-07-25T15:54:41.443Z"
   },
   {
    "duration": 310,
    "start_time": "2024-07-25T15:54:41.665Z"
   },
   {
    "duration": 246,
    "start_time": "2024-07-25T15:54:41.978Z"
   },
   {
    "duration": 323,
    "start_time": "2024-07-25T15:54:42.225Z"
   },
   {
    "duration": 11,
    "start_time": "2024-07-25T15:54:42.551Z"
   },
   {
    "duration": 211,
    "start_time": "2024-07-25T15:54:42.563Z"
   },
   {
    "duration": 5,
    "start_time": "2024-07-25T15:54:42.775Z"
   },
   {
    "duration": 10,
    "start_time": "2024-07-25T15:54:42.782Z"
   },
   {
    "duration": 177,
    "start_time": "2024-07-25T15:54:42.794Z"
   },
   {
    "duration": 5,
    "start_time": "2024-07-25T15:54:42.972Z"
   },
   {
    "duration": 60,
    "start_time": "2024-07-25T15:54:42.979Z"
   },
   {
    "duration": 46,
    "start_time": "2024-07-25T15:54:43.041Z"
   },
   {
    "duration": 73,
    "start_time": "2024-07-25T15:54:43.089Z"
   },
   {
    "duration": 72,
    "start_time": "2024-07-25T15:54:43.164Z"
   },
   {
    "duration": 29,
    "start_time": "2024-07-25T15:54:43.238Z"
   },
   {
    "duration": 88,
    "start_time": "2024-07-25T15:54:43.268Z"
   },
   {
    "duration": 109,
    "start_time": "2024-07-25T15:54:43.358Z"
   },
   {
    "duration": 6,
    "start_time": "2024-07-25T15:54:43.469Z"
   },
   {
    "duration": 8,
    "start_time": "2024-07-25T15:54:43.477Z"
   },
   {
    "duration": 46,
    "start_time": "2024-07-25T15:54:43.486Z"
   },
   {
    "duration": 13,
    "start_time": "2024-07-25T15:54:43.533Z"
   },
   {
    "duration": 19,
    "start_time": "2024-07-25T15:54:43.547Z"
   },
   {
    "duration": 33,
    "start_time": "2024-07-25T15:54:43.568Z"
   },
   {
    "duration": 35,
    "start_time": "2024-07-25T15:54:43.603Z"
   },
   {
    "duration": 40,
    "start_time": "2024-07-25T15:54:43.640Z"
   },
   {
    "duration": 28,
    "start_time": "2024-07-25T15:54:50.663Z"
   },
   {
    "duration": 27,
    "start_time": "2024-07-25T15:54:54.099Z"
   },
   {
    "duration": 3,
    "start_time": "2024-07-25T15:56:29.982Z"
   },
   {
    "duration": 29,
    "start_time": "2024-07-25T15:56:29.989Z"
   },
   {
    "duration": 11,
    "start_time": "2024-07-25T15:56:30.020Z"
   },
   {
    "duration": 35,
    "start_time": "2024-07-25T15:56:30.033Z"
   },
   {
    "duration": 40,
    "start_time": "2024-07-25T15:56:30.071Z"
   },
   {
    "duration": 84,
    "start_time": "2024-07-25T15:56:30.113Z"
   },
   {
    "duration": 64,
    "start_time": "2024-07-25T15:56:30.198Z"
   },
   {
    "duration": 95,
    "start_time": "2024-07-25T15:56:30.265Z"
   },
   {
    "duration": 76,
    "start_time": "2024-07-25T15:56:30.361Z"
   },
   {
    "duration": 117,
    "start_time": "2024-07-25T15:56:30.438Z"
   },
   {
    "duration": 9,
    "start_time": "2024-07-25T15:56:30.556Z"
   },
   {
    "duration": 127,
    "start_time": "2024-07-25T15:56:30.567Z"
   },
   {
    "duration": 117,
    "start_time": "2024-07-25T15:56:30.696Z"
   },
   {
    "duration": 115,
    "start_time": "2024-07-25T15:56:30.817Z"
   },
   {
    "duration": 115,
    "start_time": "2024-07-25T15:56:30.935Z"
   },
   {
    "duration": 51,
    "start_time": "2024-07-25T15:56:31.052Z"
   },
   {
    "duration": 69,
    "start_time": "2024-07-25T15:56:31.105Z"
   },
   {
    "duration": 42,
    "start_time": "2024-07-25T15:56:31.177Z"
   },
   {
    "duration": 67,
    "start_time": "2024-07-25T15:56:31.221Z"
   },
   {
    "duration": 62,
    "start_time": "2024-07-25T15:56:31.290Z"
   },
   {
    "duration": 481,
    "start_time": "2024-07-25T15:56:31.354Z"
   },
   {
    "duration": 133,
    "start_time": "2024-07-25T15:56:31.837Z"
   },
   {
    "duration": 12,
    "start_time": "2024-07-25T15:56:31.972Z"
   },
   {
    "duration": 43,
    "start_time": "2024-07-25T15:56:31.986Z"
   },
   {
    "duration": 30,
    "start_time": "2024-07-25T15:56:32.031Z"
   },
   {
    "duration": 17,
    "start_time": "2024-07-25T15:56:32.062Z"
   },
   {
    "duration": 410,
    "start_time": "2024-07-25T15:56:32.081Z"
   },
   {
    "duration": 243,
    "start_time": "2024-07-25T15:56:32.493Z"
   },
   {
    "duration": 319,
    "start_time": "2024-07-25T15:56:32.738Z"
   },
   {
    "duration": 237,
    "start_time": "2024-07-25T15:56:33.058Z"
   },
   {
    "duration": 349,
    "start_time": "2024-07-25T15:56:33.297Z"
   },
   {
    "duration": 12,
    "start_time": "2024-07-25T15:56:33.650Z"
   },
   {
    "duration": 161,
    "start_time": "2024-07-25T15:56:33.663Z"
   },
   {
    "duration": 8,
    "start_time": "2024-07-25T15:56:33.826Z"
   },
   {
    "duration": 12,
    "start_time": "2024-07-25T15:56:33.836Z"
   },
   {
    "duration": 199,
    "start_time": "2024-07-25T15:56:33.849Z"
   },
   {
    "duration": 6,
    "start_time": "2024-07-25T15:56:34.050Z"
   },
   {
    "duration": 78,
    "start_time": "2024-07-25T15:56:34.057Z"
   },
   {
    "duration": 49,
    "start_time": "2024-07-25T15:56:34.136Z"
   },
   {
    "duration": 87,
    "start_time": "2024-07-25T15:56:34.187Z"
   },
   {
    "duration": 91,
    "start_time": "2024-07-25T15:56:34.275Z"
   },
   {
    "duration": 52,
    "start_time": "2024-07-25T15:56:34.369Z"
   },
   {
    "duration": 98,
    "start_time": "2024-07-25T15:56:34.423Z"
   },
   {
    "duration": 103,
    "start_time": "2024-07-25T15:56:34.522Z"
   },
   {
    "duration": 21,
    "start_time": "2024-07-25T15:56:34.626Z"
   },
   {
    "duration": 5,
    "start_time": "2024-07-25T15:56:34.648Z"
   },
   {
    "duration": 34,
    "start_time": "2024-07-25T15:56:34.654Z"
   },
   {
    "duration": 11,
    "start_time": "2024-07-25T15:56:34.690Z"
   },
   {
    "duration": 80,
    "start_time": "2024-07-25T15:56:34.706Z"
   },
   {
    "duration": 7,
    "start_time": "2024-07-25T15:56:34.788Z"
   },
   {
    "duration": 6,
    "start_time": "2024-07-25T15:56:34.797Z"
   },
   {
    "duration": 35,
    "start_time": "2024-07-25T15:56:34.805Z"
   },
   {
    "duration": 3,
    "start_time": "2024-07-25T15:57:04.598Z"
   },
   {
    "duration": 70,
    "start_time": "2024-07-25T15:57:04.603Z"
   },
   {
    "duration": 9,
    "start_time": "2024-07-25T15:57:04.675Z"
   },
   {
    "duration": 76,
    "start_time": "2024-07-25T15:57:04.686Z"
   },
   {
    "duration": 8,
    "start_time": "2024-07-25T15:57:04.764Z"
   },
   {
    "duration": 12,
    "start_time": "2024-07-25T15:57:04.774Z"
   },
   {
    "duration": 12,
    "start_time": "2024-07-25T15:57:04.789Z"
   },
   {
    "duration": 7,
    "start_time": "2024-07-25T15:57:04.803Z"
   },
   {
    "duration": 19,
    "start_time": "2024-07-25T15:57:04.812Z"
   },
   {
    "duration": 57,
    "start_time": "2024-07-25T15:57:04.848Z"
   },
   {
    "duration": 12,
    "start_time": "2024-07-25T15:57:04.911Z"
   },
   {
    "duration": 18,
    "start_time": "2024-07-25T15:57:04.925Z"
   },
   {
    "duration": 7,
    "start_time": "2024-07-25T15:57:04.945Z"
   },
   {
    "duration": 15,
    "start_time": "2024-07-25T15:57:04.955Z"
   },
   {
    "duration": 35,
    "start_time": "2024-07-25T15:57:04.972Z"
   },
   {
    "duration": 13,
    "start_time": "2024-07-25T15:57:05.010Z"
   },
   {
    "duration": 17,
    "start_time": "2024-07-25T15:57:05.025Z"
   },
   {
    "duration": 13,
    "start_time": "2024-07-25T15:57:05.044Z"
   },
   {
    "duration": 7,
    "start_time": "2024-07-25T15:57:05.059Z"
   },
   {
    "duration": 6,
    "start_time": "2024-07-25T15:57:05.068Z"
   },
   {
    "duration": 216,
    "start_time": "2024-07-25T15:57:05.104Z"
   },
   {
    "duration": 130,
    "start_time": "2024-07-25T15:57:05.322Z"
   },
   {
    "duration": 13,
    "start_time": "2024-07-25T15:57:05.455Z"
   },
   {
    "duration": 21,
    "start_time": "2024-07-25T15:57:05.470Z"
   },
   {
    "duration": 23,
    "start_time": "2024-07-25T15:57:05.493Z"
   },
   {
    "duration": 48,
    "start_time": "2024-07-25T15:57:05.518Z"
   },
   {
    "duration": 237,
    "start_time": "2024-07-25T15:57:05.568Z"
   },
   {
    "duration": 246,
    "start_time": "2024-07-25T15:57:05.807Z"
   },
   {
    "duration": 389,
    "start_time": "2024-07-25T15:57:06.054Z"
   },
   {
    "duration": 247,
    "start_time": "2024-07-25T15:57:06.444Z"
   },
   {
    "duration": 373,
    "start_time": "2024-07-25T15:57:06.693Z"
   },
   {
    "duration": 12,
    "start_time": "2024-07-25T15:57:07.068Z"
   },
   {
    "duration": 174,
    "start_time": "2024-07-25T15:57:07.081Z"
   },
   {
    "duration": 5,
    "start_time": "2024-07-25T15:57:07.257Z"
   },
   {
    "duration": 10,
    "start_time": "2024-07-25T15:57:07.263Z"
   },
   {
    "duration": 193,
    "start_time": "2024-07-25T15:57:07.275Z"
   },
   {
    "duration": 6,
    "start_time": "2024-07-25T15:57:07.469Z"
   },
   {
    "duration": 69,
    "start_time": "2024-07-25T15:57:07.477Z"
   },
   {
    "duration": 48,
    "start_time": "2024-07-25T15:57:07.549Z"
   },
   {
    "duration": 71,
    "start_time": "2024-07-25T15:57:07.598Z"
   },
   {
    "duration": 79,
    "start_time": "2024-07-25T15:57:07.671Z"
   },
   {
    "duration": 27,
    "start_time": "2024-07-25T15:57:07.752Z"
   },
   {
    "duration": 110,
    "start_time": "2024-07-25T15:57:07.781Z"
   },
   {
    "duration": 115,
    "start_time": "2024-07-25T15:57:07.893Z"
   },
   {
    "duration": 10,
    "start_time": "2024-07-25T15:57:08.010Z"
   },
   {
    "duration": 17,
    "start_time": "2024-07-25T15:57:08.022Z"
   },
   {
    "duration": 46,
    "start_time": "2024-07-25T15:57:08.041Z"
   },
   {
    "duration": 17,
    "start_time": "2024-07-25T15:57:08.089Z"
   },
   {
    "duration": 11,
    "start_time": "2024-07-25T15:57:08.108Z"
   },
   {
    "duration": 6,
    "start_time": "2024-07-25T15:57:08.124Z"
   },
   {
    "duration": 15,
    "start_time": "2024-07-25T15:57:08.131Z"
   },
   {
    "duration": 25,
    "start_time": "2024-07-25T15:57:11.758Z"
   },
   {
    "duration": 22,
    "start_time": "2024-07-25T16:09:34.034Z"
   },
   {
    "duration": 3,
    "start_time": "2024-07-25T16:09:40.192Z"
   },
   {
    "duration": 49,
    "start_time": "2024-07-25T16:09:40.199Z"
   },
   {
    "duration": 9,
    "start_time": "2024-07-25T16:09:40.251Z"
   },
   {
    "duration": 12,
    "start_time": "2024-07-25T16:09:40.262Z"
   },
   {
    "duration": 9,
    "start_time": "2024-07-25T16:09:40.277Z"
   },
   {
    "duration": 11,
    "start_time": "2024-07-25T16:09:40.288Z"
   },
   {
    "duration": 22,
    "start_time": "2024-07-25T16:09:40.302Z"
   },
   {
    "duration": 25,
    "start_time": "2024-07-25T16:09:40.326Z"
   },
   {
    "duration": 19,
    "start_time": "2024-07-25T16:09:40.353Z"
   },
   {
    "duration": 56,
    "start_time": "2024-07-25T16:09:40.375Z"
   },
   {
    "duration": 9,
    "start_time": "2024-07-25T16:09:40.435Z"
   },
   {
    "duration": 21,
    "start_time": "2024-07-25T16:09:40.446Z"
   },
   {
    "duration": 13,
    "start_time": "2024-07-25T16:09:40.469Z"
   },
   {
    "duration": 22,
    "start_time": "2024-07-25T16:09:40.483Z"
   },
   {
    "duration": 12,
    "start_time": "2024-07-25T16:09:40.507Z"
   },
   {
    "duration": 24,
    "start_time": "2024-07-25T16:09:40.521Z"
   },
   {
    "duration": 19,
    "start_time": "2024-07-25T16:09:40.546Z"
   },
   {
    "duration": 6,
    "start_time": "2024-07-25T16:09:40.567Z"
   },
   {
    "duration": 6,
    "start_time": "2024-07-25T16:09:40.575Z"
   },
   {
    "duration": 20,
    "start_time": "2024-07-25T16:09:40.582Z"
   },
   {
    "duration": 196,
    "start_time": "2024-07-25T16:09:40.604Z"
   },
   {
    "duration": 164,
    "start_time": "2024-07-25T16:09:40.804Z"
   },
   {
    "duration": 13,
    "start_time": "2024-07-25T16:09:40.970Z"
   },
   {
    "duration": 21,
    "start_time": "2024-07-25T16:09:40.985Z"
   },
   {
    "duration": 18,
    "start_time": "2024-07-25T16:09:41.007Z"
   },
   {
    "duration": 12,
    "start_time": "2024-07-25T16:09:41.026Z"
   },
   {
    "duration": 242,
    "start_time": "2024-07-25T16:09:41.040Z"
   },
   {
    "duration": 226,
    "start_time": "2024-07-25T16:09:41.283Z"
   },
   {
    "duration": 326,
    "start_time": "2024-07-25T16:09:41.513Z"
   },
   {
    "duration": 240,
    "start_time": "2024-07-25T16:09:41.841Z"
   },
   {
    "duration": 371,
    "start_time": "2024-07-25T16:09:42.083Z"
   },
   {
    "duration": 16,
    "start_time": "2024-07-25T16:09:42.457Z"
   },
   {
    "duration": 155,
    "start_time": "2024-07-25T16:09:42.475Z"
   },
   {
    "duration": 5,
    "start_time": "2024-07-25T16:09:42.633Z"
   },
   {
    "duration": 11,
    "start_time": "2024-07-25T16:09:42.640Z"
   },
   {
    "duration": 512,
    "start_time": "2024-07-25T16:09:42.653Z"
   },
   {
    "duration": 5,
    "start_time": "2024-07-25T16:09:43.167Z"
   },
   {
    "duration": 81,
    "start_time": "2024-07-25T16:09:43.174Z"
   },
   {
    "duration": 62,
    "start_time": "2024-07-25T16:09:43.256Z"
   },
   {
    "duration": 85,
    "start_time": "2024-07-25T16:09:43.320Z"
   },
   {
    "duration": 64,
    "start_time": "2024-07-25T16:09:43.407Z"
   },
   {
    "duration": 52,
    "start_time": "2024-07-25T16:09:43.473Z"
   },
   {
    "duration": 73,
    "start_time": "2024-07-25T16:09:43.532Z"
   },
   {
    "duration": 81,
    "start_time": "2024-07-25T16:09:43.606Z"
   },
   {
    "duration": 20,
    "start_time": "2024-07-25T16:09:43.688Z"
   },
   {
    "duration": 25,
    "start_time": "2024-07-25T16:09:43.710Z"
   },
   {
    "duration": 31,
    "start_time": "2024-07-25T16:09:43.737Z"
   },
   {
    "duration": 12,
    "start_time": "2024-07-25T16:09:43.770Z"
   },
   {
    "duration": 14,
    "start_time": "2024-07-25T16:09:43.784Z"
   },
   {
    "duration": 35,
    "start_time": "2024-07-25T16:09:43.800Z"
   },
   {
    "duration": 23,
    "start_time": "2024-07-25T16:09:43.837Z"
   },
   {
    "duration": 44,
    "start_time": "2024-07-25T16:09:43.862Z"
   },
   {
    "duration": 25,
    "start_time": "2024-07-25T16:09:43.908Z"
   },
   {
    "duration": 4,
    "start_time": "2024-07-25T16:11:00.629Z"
   },
   {
    "duration": 99,
    "start_time": "2024-07-25T16:11:00.637Z"
   },
   {
    "duration": 192,
    "start_time": "2024-07-25T16:11:00.738Z"
   },
   {
    "duration": 85,
    "start_time": "2024-07-25T16:11:00.932Z"
   },
   {
    "duration": 76,
    "start_time": "2024-07-25T16:11:01.020Z"
   },
   {
    "duration": 47,
    "start_time": "2024-07-25T16:11:01.098Z"
   },
   {
    "duration": 36,
    "start_time": "2024-07-25T16:11:01.147Z"
   },
   {
    "duration": 60,
    "start_time": "2024-07-25T16:11:01.185Z"
   },
   {
    "duration": 53,
    "start_time": "2024-07-25T16:11:01.247Z"
   },
   {
    "duration": 207,
    "start_time": "2024-07-25T16:11:01.302Z"
   },
   {
    "duration": 8,
    "start_time": "2024-07-25T16:11:01.512Z"
   },
   {
    "duration": 198,
    "start_time": "2024-07-25T16:11:01.522Z"
   },
   {
    "duration": 195,
    "start_time": "2024-07-25T16:11:01.722Z"
   },
   {
    "duration": 118,
    "start_time": "2024-07-25T16:11:01.919Z"
   },
   {
    "duration": 64,
    "start_time": "2024-07-25T16:11:02.039Z"
   },
   {
    "duration": 48,
    "start_time": "2024-07-25T16:11:02.105Z"
   },
   {
    "duration": 51,
    "start_time": "2024-07-25T16:11:02.155Z"
   },
   {
    "duration": 26,
    "start_time": "2024-07-25T16:11:02.208Z"
   },
   {
    "duration": 16,
    "start_time": "2024-07-25T16:11:02.236Z"
   },
   {
    "duration": 22,
    "start_time": "2024-07-25T16:11:02.254Z"
   },
   {
    "duration": 241,
    "start_time": "2024-07-25T16:11:02.277Z"
   },
   {
    "duration": 138,
    "start_time": "2024-07-25T16:11:02.520Z"
   },
   {
    "duration": 13,
    "start_time": "2024-07-25T16:11:02.660Z"
   },
   {
    "duration": 123,
    "start_time": "2024-07-25T16:11:02.675Z"
   },
   {
    "duration": 27,
    "start_time": "2024-07-25T16:11:02.800Z"
   },
   {
    "duration": 25,
    "start_time": "2024-07-25T16:11:02.829Z"
   },
   {
    "duration": 243,
    "start_time": "2024-07-25T16:11:02.856Z"
   },
   {
    "duration": 208,
    "start_time": "2024-07-25T16:11:03.105Z"
   },
   {
    "duration": 314,
    "start_time": "2024-07-25T16:11:03.317Z"
   },
   {
    "duration": 226,
    "start_time": "2024-07-25T16:11:03.633Z"
   },
   {
    "duration": 357,
    "start_time": "2024-07-25T16:11:03.861Z"
   },
   {
    "duration": 12,
    "start_time": "2024-07-25T16:11:04.220Z"
   },
   {
    "duration": 160,
    "start_time": "2024-07-25T16:11:04.233Z"
   },
   {
    "duration": 13,
    "start_time": "2024-07-25T16:11:04.395Z"
   },
   {
    "duration": 11,
    "start_time": "2024-07-25T16:11:04.410Z"
   },
   {
    "duration": 184,
    "start_time": "2024-07-25T16:11:04.423Z"
   },
   {
    "duration": 5,
    "start_time": "2024-07-25T16:11:04.608Z"
   },
   {
    "duration": 52,
    "start_time": "2024-07-25T16:11:04.615Z"
   },
   {
    "duration": 166,
    "start_time": "2024-07-25T16:11:04.669Z"
   },
   {
    "duration": 71,
    "start_time": "2024-07-25T16:11:04.836Z"
   },
   {
    "duration": 65,
    "start_time": "2024-07-25T16:11:04.909Z"
   },
   {
    "duration": 45,
    "start_time": "2024-07-25T16:11:04.976Z"
   },
   {
    "duration": 69,
    "start_time": "2024-07-25T16:11:05.023Z"
   },
   {
    "duration": 93,
    "start_time": "2024-07-25T16:11:05.094Z"
   },
   {
    "duration": 5,
    "start_time": "2024-07-25T16:11:05.189Z"
   },
   {
    "duration": 8,
    "start_time": "2024-07-25T16:11:05.206Z"
   },
   {
    "duration": 33,
    "start_time": "2024-07-25T16:11:05.216Z"
   },
   {
    "duration": 11,
    "start_time": "2024-07-25T16:11:05.251Z"
   },
   {
    "duration": 25,
    "start_time": "2024-07-25T16:11:05.263Z"
   },
   {
    "duration": 15,
    "start_time": "2024-07-25T16:11:05.290Z"
   },
   {
    "duration": 14,
    "start_time": "2024-07-25T16:11:05.307Z"
   },
   {
    "duration": 28,
    "start_time": "2024-07-25T16:11:05.323Z"
   },
   {
    "duration": 15,
    "start_time": "2024-07-25T16:11:05.353Z"
   },
   {
    "duration": 13,
    "start_time": "2024-07-25T16:12:19.638Z"
   },
   {
    "duration": 4,
    "start_time": "2024-07-25T16:48:57.520Z"
   },
   {
    "duration": 35,
    "start_time": "2024-07-25T16:48:57.530Z"
   },
   {
    "duration": 9,
    "start_time": "2024-07-25T16:48:57.567Z"
   },
   {
    "duration": 6,
    "start_time": "2024-07-25T16:48:57.577Z"
   },
   {
    "duration": 7,
    "start_time": "2024-07-25T16:48:57.585Z"
   },
   {
    "duration": 9,
    "start_time": "2024-07-25T16:48:57.593Z"
   },
   {
    "duration": 11,
    "start_time": "2024-07-25T16:48:57.603Z"
   },
   {
    "duration": 6,
    "start_time": "2024-07-25T16:48:57.616Z"
   },
   {
    "duration": 16,
    "start_time": "2024-07-25T16:48:57.623Z"
   },
   {
    "duration": 82,
    "start_time": "2024-07-25T16:48:57.641Z"
   },
   {
    "duration": 8,
    "start_time": "2024-07-25T16:48:57.725Z"
   },
   {
    "duration": 30,
    "start_time": "2024-07-25T16:48:57.734Z"
   },
   {
    "duration": 8,
    "start_time": "2024-07-25T16:48:57.765Z"
   },
   {
    "duration": 31,
    "start_time": "2024-07-25T16:48:57.774Z"
   },
   {
    "duration": 36,
    "start_time": "2024-07-25T16:48:57.807Z"
   },
   {
    "duration": 30,
    "start_time": "2024-07-25T16:48:57.844Z"
   },
   {
    "duration": 18,
    "start_time": "2024-07-25T16:48:57.875Z"
   },
   {
    "duration": 14,
    "start_time": "2024-07-25T16:48:57.895Z"
   },
   {
    "duration": 11,
    "start_time": "2024-07-25T16:48:57.912Z"
   },
   {
    "duration": 17,
    "start_time": "2024-07-25T16:48:57.925Z"
   },
   {
    "duration": 177,
    "start_time": "2024-07-25T16:48:57.944Z"
   },
   {
    "duration": 151,
    "start_time": "2024-07-25T16:48:58.122Z"
   },
   {
    "duration": 16,
    "start_time": "2024-07-25T16:48:58.276Z"
   },
   {
    "duration": 32,
    "start_time": "2024-07-25T16:48:58.294Z"
   },
   {
    "duration": 11,
    "start_time": "2024-07-25T16:48:58.328Z"
   },
   {
    "duration": 8,
    "start_time": "2024-07-25T16:48:58.340Z"
   },
   {
    "duration": 226,
    "start_time": "2024-07-25T16:48:58.349Z"
   },
   {
    "duration": 251,
    "start_time": "2024-07-25T16:48:58.577Z"
   },
   {
    "duration": 312,
    "start_time": "2024-07-25T16:48:58.830Z"
   },
   {
    "duration": 228,
    "start_time": "2024-07-25T16:48:59.144Z"
   },
   {
    "duration": 357,
    "start_time": "2024-07-25T16:48:59.374Z"
   },
   {
    "duration": 16,
    "start_time": "2024-07-25T16:48:59.734Z"
   },
   {
    "duration": 161,
    "start_time": "2024-07-25T16:48:59.752Z"
   },
   {
    "duration": 6,
    "start_time": "2024-07-25T16:48:59.915Z"
   },
   {
    "duration": 14,
    "start_time": "2024-07-25T16:48:59.922Z"
   },
   {
    "duration": 209,
    "start_time": "2024-07-25T16:48:59.938Z"
   },
   {
    "duration": 6,
    "start_time": "2024-07-25T16:49:00.149Z"
   },
   {
    "duration": 102,
    "start_time": "2024-07-25T16:49:00.157Z"
   },
   {
    "duration": 106,
    "start_time": "2024-07-25T16:49:00.261Z"
   },
   {
    "duration": 102,
    "start_time": "2024-07-25T16:49:00.369Z"
   },
   {
    "duration": 107,
    "start_time": "2024-07-25T16:49:00.473Z"
   },
   {
    "duration": 66,
    "start_time": "2024-07-25T16:49:00.581Z"
   },
   {
    "duration": 157,
    "start_time": "2024-07-25T16:49:00.651Z"
   },
   {
    "duration": 77,
    "start_time": "2024-07-25T16:49:00.810Z"
   },
   {
    "duration": 129,
    "start_time": "2024-07-25T16:49:00.889Z"
   },
   {
    "duration": 105,
    "start_time": "2024-07-25T16:49:01.020Z"
   },
   {
    "duration": 97,
    "start_time": "2024-07-25T16:49:01.126Z"
   },
   {
    "duration": 37,
    "start_time": "2024-07-25T16:49:01.226Z"
   },
   {
    "duration": 50,
    "start_time": "2024-07-25T16:49:01.265Z"
   },
   {
    "duration": 30,
    "start_time": "2024-07-25T16:49:01.316Z"
   },
   {
    "duration": 5,
    "start_time": "2024-07-25T16:49:03.970Z"
   },
   {
    "duration": 27,
    "start_time": "2024-07-25T16:49:12.240Z"
   },
   {
    "duration": 14,
    "start_time": "2024-07-25T16:49:28.721Z"
   },
   {
    "duration": 4,
    "start_time": "2024-07-25T16:51:54.844Z"
   },
   {
    "duration": 142,
    "start_time": "2024-07-25T16:51:54.851Z"
   },
   {
    "duration": 7,
    "start_time": "2024-07-25T16:51:54.996Z"
   },
   {
    "duration": 10,
    "start_time": "2024-07-25T16:51:55.005Z"
   },
   {
    "duration": 8,
    "start_time": "2024-07-25T16:51:55.017Z"
   },
   {
    "duration": 6,
    "start_time": "2024-07-25T16:51:55.027Z"
   },
   {
    "duration": 11,
    "start_time": "2024-07-25T16:51:55.035Z"
   },
   {
    "duration": 68,
    "start_time": "2024-07-25T16:51:55.048Z"
   },
   {
    "duration": 11,
    "start_time": "2024-07-25T16:51:55.118Z"
   },
   {
    "duration": 49,
    "start_time": "2024-07-25T16:51:55.131Z"
   },
   {
    "duration": 8,
    "start_time": "2024-07-25T16:51:55.183Z"
   },
   {
    "duration": 11,
    "start_time": "2024-07-25T16:51:55.192Z"
   },
   {
    "duration": 14,
    "start_time": "2024-07-25T16:51:55.205Z"
   },
   {
    "duration": 30,
    "start_time": "2024-07-25T16:51:55.220Z"
   },
   {
    "duration": 27,
    "start_time": "2024-07-25T16:51:55.251Z"
   },
   {
    "duration": 44,
    "start_time": "2024-07-25T16:51:55.280Z"
   },
   {
    "duration": 37,
    "start_time": "2024-07-25T16:51:55.325Z"
   },
   {
    "duration": 55,
    "start_time": "2024-07-25T16:51:55.364Z"
   },
   {
    "duration": 32,
    "start_time": "2024-07-25T16:51:55.421Z"
   },
   {
    "duration": 99,
    "start_time": "2024-07-25T16:51:55.455Z"
   },
   {
    "duration": 213,
    "start_time": "2024-07-25T16:51:55.556Z"
   },
   {
    "duration": 141,
    "start_time": "2024-07-25T16:51:55.771Z"
   },
   {
    "duration": 26,
    "start_time": "2024-07-25T16:51:55.914Z"
   },
   {
    "duration": 11,
    "start_time": "2024-07-25T16:51:55.943Z"
   },
   {
    "duration": 8,
    "start_time": "2024-07-25T16:51:55.956Z"
   },
   {
    "duration": 8,
    "start_time": "2024-07-25T16:51:55.966Z"
   },
   {
    "duration": 289,
    "start_time": "2024-07-25T16:51:55.976Z"
   },
   {
    "duration": 222,
    "start_time": "2024-07-25T16:51:56.266Z"
   },
   {
    "duration": 333,
    "start_time": "2024-07-25T16:51:56.492Z"
   },
   {
    "duration": 226,
    "start_time": "2024-07-25T16:51:56.827Z"
   },
   {
    "duration": 324,
    "start_time": "2024-07-25T16:51:57.054Z"
   },
   {
    "duration": 11,
    "start_time": "2024-07-25T16:51:57.380Z"
   },
   {
    "duration": 172,
    "start_time": "2024-07-25T16:51:57.392Z"
   },
   {
    "duration": 5,
    "start_time": "2024-07-25T16:51:57.566Z"
   },
   {
    "duration": 19,
    "start_time": "2024-07-25T16:51:57.572Z"
   },
   {
    "duration": 189,
    "start_time": "2024-07-25T16:51:57.593Z"
   },
   {
    "duration": 5,
    "start_time": "2024-07-25T16:51:57.783Z"
   },
   {
    "duration": 258,
    "start_time": "2024-07-25T16:51:57.790Z"
   },
   {
    "duration": 47,
    "start_time": "2024-07-25T16:51:58.050Z"
   },
   {
    "duration": 58,
    "start_time": "2024-07-25T16:51:58.105Z"
   },
   {
    "duration": 70,
    "start_time": "2024-07-25T16:51:58.165Z"
   },
   {
    "duration": 32,
    "start_time": "2024-07-25T16:51:58.237Z"
   },
   {
    "duration": 85,
    "start_time": "2024-07-25T16:51:58.271Z"
   },
   {
    "duration": 95,
    "start_time": "2024-07-25T16:51:58.358Z"
   },
   {
    "duration": 5,
    "start_time": "2024-07-25T16:51:58.455Z"
   },
   {
    "duration": 4,
    "start_time": "2024-07-25T16:51:58.462Z"
   },
   {
    "duration": 49,
    "start_time": "2024-07-25T16:51:58.468Z"
   },
   {
    "duration": 11,
    "start_time": "2024-07-25T16:51:58.518Z"
   },
   {
    "duration": 10,
    "start_time": "2024-07-25T16:51:58.531Z"
   },
   {
    "duration": 9,
    "start_time": "2024-07-25T16:52:28.657Z"
   },
   {
    "duration": 10,
    "start_time": "2024-07-25T16:54:10.144Z"
   },
   {
    "duration": 3,
    "start_time": "2024-07-25T16:54:34.228Z"
   },
   {
    "duration": 28,
    "start_time": "2024-07-25T16:54:34.234Z"
   },
   {
    "duration": 9,
    "start_time": "2024-07-25T16:54:34.264Z"
   },
   {
    "duration": 7,
    "start_time": "2024-07-25T16:54:34.275Z"
   },
   {
    "duration": 5,
    "start_time": "2024-07-25T16:54:34.284Z"
   },
   {
    "duration": 23,
    "start_time": "2024-07-25T16:54:34.291Z"
   },
   {
    "duration": 12,
    "start_time": "2024-07-25T16:54:34.316Z"
   },
   {
    "duration": 9,
    "start_time": "2024-07-25T16:54:34.329Z"
   },
   {
    "duration": 34,
    "start_time": "2024-07-25T16:54:34.340Z"
   },
   {
    "duration": 59,
    "start_time": "2024-07-25T16:54:34.377Z"
   },
   {
    "duration": 12,
    "start_time": "2024-07-25T16:54:34.438Z"
   },
   {
    "duration": 26,
    "start_time": "2024-07-25T16:54:34.452Z"
   },
   {
    "duration": 7,
    "start_time": "2024-07-25T16:54:34.480Z"
   },
   {
    "duration": 20,
    "start_time": "2024-07-25T16:54:34.489Z"
   },
   {
    "duration": 8,
    "start_time": "2024-07-25T16:54:34.510Z"
   },
   {
    "duration": 12,
    "start_time": "2024-07-25T16:54:34.520Z"
   },
   {
    "duration": 17,
    "start_time": "2024-07-25T16:54:34.534Z"
   },
   {
    "duration": 17,
    "start_time": "2024-07-25T16:54:34.552Z"
   },
   {
    "duration": 9,
    "start_time": "2024-07-25T16:54:34.571Z"
   },
   {
    "duration": 24,
    "start_time": "2024-07-25T16:54:34.581Z"
   },
   {
    "duration": 210,
    "start_time": "2024-07-25T16:54:34.607Z"
   },
   {
    "duration": 146,
    "start_time": "2024-07-25T16:54:34.821Z"
   },
   {
    "duration": 13,
    "start_time": "2024-07-25T16:54:34.969Z"
   },
   {
    "duration": 37,
    "start_time": "2024-07-25T16:54:34.984Z"
   },
   {
    "duration": 9,
    "start_time": "2024-07-25T16:54:35.023Z"
   },
   {
    "duration": 17,
    "start_time": "2024-07-25T16:54:35.033Z"
   },
   {
    "duration": 251,
    "start_time": "2024-07-25T16:54:35.052Z"
   },
   {
    "duration": 252,
    "start_time": "2024-07-25T16:54:35.305Z"
   },
   {
    "duration": 312,
    "start_time": "2024-07-25T16:54:35.559Z"
   },
   {
    "duration": 252,
    "start_time": "2024-07-25T16:54:35.872Z"
   },
   {
    "duration": 329,
    "start_time": "2024-07-25T16:54:36.126Z"
   },
   {
    "duration": 13,
    "start_time": "2024-07-25T16:54:36.457Z"
   },
   {
    "duration": 158,
    "start_time": "2024-07-25T16:54:36.472Z"
   },
   {
    "duration": 5,
    "start_time": "2024-07-25T16:54:36.632Z"
   },
   {
    "duration": 13,
    "start_time": "2024-07-25T16:54:36.639Z"
   },
   {
    "duration": 207,
    "start_time": "2024-07-25T16:54:36.654Z"
   },
   {
    "duration": 6,
    "start_time": "2024-07-25T16:54:36.863Z"
   },
   {
    "duration": 141,
    "start_time": "2024-07-25T16:54:36.872Z"
   },
   {
    "duration": 61,
    "start_time": "2024-07-25T16:54:37.015Z"
   },
   {
    "duration": 106,
    "start_time": "2024-07-25T16:54:37.079Z"
   },
   {
    "duration": 66,
    "start_time": "2024-07-25T16:54:37.186Z"
   },
   {
    "duration": 31,
    "start_time": "2024-07-25T16:54:37.253Z"
   },
   {
    "duration": 91,
    "start_time": "2024-07-25T16:54:37.286Z"
   },
   {
    "duration": 110,
    "start_time": "2024-07-25T16:54:37.379Z"
   },
   {
    "duration": 7,
    "start_time": "2024-07-25T16:54:37.491Z"
   },
   {
    "duration": 21,
    "start_time": "2024-07-25T16:54:37.506Z"
   },
   {
    "duration": 45,
    "start_time": "2024-07-25T16:54:37.529Z"
   },
   {
    "duration": 12,
    "start_time": "2024-07-25T16:54:37.576Z"
   },
   {
    "duration": 20,
    "start_time": "2024-07-25T16:54:37.590Z"
   },
   {
    "duration": 47,
    "start_time": "2024-07-25T16:54:37.611Z"
   },
   {
    "duration": 20,
    "start_time": "2024-07-25T16:54:37.660Z"
   },
   {
    "duration": 43,
    "start_time": "2024-07-25T16:54:37.682Z"
   },
   {
    "duration": 3,
    "start_time": "2024-07-25T16:54:48.294Z"
   },
   {
    "duration": 46,
    "start_time": "2024-07-25T16:54:48.300Z"
   },
   {
    "duration": 8,
    "start_time": "2024-07-25T16:54:48.348Z"
   },
   {
    "duration": 7,
    "start_time": "2024-07-25T16:54:48.358Z"
   },
   {
    "duration": 7,
    "start_time": "2024-07-25T16:54:48.367Z"
   },
   {
    "duration": 13,
    "start_time": "2024-07-25T16:54:48.375Z"
   },
   {
    "duration": 17,
    "start_time": "2024-07-25T16:54:48.389Z"
   },
   {
    "duration": 5,
    "start_time": "2024-07-25T16:54:48.408Z"
   },
   {
    "duration": 46,
    "start_time": "2024-07-25T16:54:48.414Z"
   },
   {
    "duration": 54,
    "start_time": "2024-07-25T16:54:48.461Z"
   },
   {
    "duration": 12,
    "start_time": "2024-07-25T16:54:48.518Z"
   },
   {
    "duration": 18,
    "start_time": "2024-07-25T16:54:48.532Z"
   },
   {
    "duration": 9,
    "start_time": "2024-07-25T16:54:48.552Z"
   },
   {
    "duration": 28,
    "start_time": "2024-07-25T16:54:48.563Z"
   },
   {
    "duration": 8,
    "start_time": "2024-07-25T16:54:48.593Z"
   },
   {
    "duration": 13,
    "start_time": "2024-07-25T16:54:48.605Z"
   },
   {
    "duration": 24,
    "start_time": "2024-07-25T16:54:48.620Z"
   },
   {
    "duration": 26,
    "start_time": "2024-07-25T16:54:48.646Z"
   },
   {
    "duration": 5,
    "start_time": "2024-07-25T16:54:48.674Z"
   },
   {
    "duration": 18,
    "start_time": "2024-07-25T16:54:48.681Z"
   },
   {
    "duration": 197,
    "start_time": "2024-07-25T16:54:48.701Z"
   },
   {
    "duration": 138,
    "start_time": "2024-07-25T16:54:48.904Z"
   },
   {
    "duration": 13,
    "start_time": "2024-07-25T16:54:49.044Z"
   },
   {
    "duration": 90,
    "start_time": "2024-07-25T16:54:49.059Z"
   },
   {
    "duration": 30,
    "start_time": "2024-07-25T16:54:49.151Z"
   },
   {
    "duration": 14,
    "start_time": "2024-07-25T16:54:49.182Z"
   },
   {
    "duration": 225,
    "start_time": "2024-07-25T16:54:49.199Z"
   },
   {
    "duration": 225,
    "start_time": "2024-07-25T16:54:49.426Z"
   },
   {
    "duration": 326,
    "start_time": "2024-07-25T16:54:49.656Z"
   },
   {
    "duration": 231,
    "start_time": "2024-07-25T16:54:49.984Z"
   },
   {
    "duration": 356,
    "start_time": "2024-07-25T16:54:50.216Z"
   },
   {
    "duration": 13,
    "start_time": "2024-07-25T16:54:50.574Z"
   },
   {
    "duration": 168,
    "start_time": "2024-07-25T16:54:50.588Z"
   },
   {
    "duration": 7,
    "start_time": "2024-07-25T16:54:50.758Z"
   },
   {
    "duration": 27,
    "start_time": "2024-07-25T16:54:50.768Z"
   },
   {
    "duration": 278,
    "start_time": "2024-07-25T16:54:50.796Z"
   },
   {
    "duration": 5,
    "start_time": "2024-07-25T16:54:51.076Z"
   },
   {
    "duration": 105,
    "start_time": "2024-07-25T16:54:51.083Z"
   },
   {
    "duration": 65,
    "start_time": "2024-07-25T16:54:51.190Z"
   },
   {
    "duration": 106,
    "start_time": "2024-07-25T16:54:51.257Z"
   },
   {
    "duration": 97,
    "start_time": "2024-07-25T16:54:51.365Z"
   },
   {
    "duration": 30,
    "start_time": "2024-07-25T16:54:51.464Z"
   },
   {
    "duration": 115,
    "start_time": "2024-07-25T16:54:51.495Z"
   },
   {
    "duration": 80,
    "start_time": "2024-07-25T16:54:51.612Z"
   },
   {
    "duration": 15,
    "start_time": "2024-07-25T16:54:51.693Z"
   },
   {
    "duration": 16,
    "start_time": "2024-07-25T16:54:51.709Z"
   },
   {
    "duration": 45,
    "start_time": "2024-07-25T16:54:51.727Z"
   },
   {
    "duration": 20,
    "start_time": "2024-07-25T16:54:51.774Z"
   },
   {
    "duration": 13,
    "start_time": "2024-07-25T16:54:51.796Z"
   },
   {
    "duration": 7,
    "start_time": "2024-07-25T16:54:51.811Z"
   },
   {
    "duration": 47,
    "start_time": "2024-07-25T16:54:51.820Z"
   },
   {
    "duration": 63,
    "start_time": "2024-07-25T16:54:51.868Z"
   },
   {
    "duration": 15,
    "start_time": "2024-07-25T16:54:51.933Z"
   },
   {
    "duration": 1290,
    "start_time": "2024-07-25T19:41:46.485Z"
   },
   {
    "duration": 84,
    "start_time": "2024-07-25T19:41:47.777Z"
   },
   {
    "duration": 11,
    "start_time": "2024-07-25T19:41:47.862Z"
   },
   {
    "duration": 7,
    "start_time": "2024-07-25T19:41:47.874Z"
   },
   {
    "duration": 5,
    "start_time": "2024-07-25T19:41:47.883Z"
   },
   {
    "duration": 15,
    "start_time": "2024-07-25T19:41:47.890Z"
   },
   {
    "duration": 10,
    "start_time": "2024-07-25T19:41:47.906Z"
   },
   {
    "duration": 18,
    "start_time": "2024-07-25T19:41:47.918Z"
   },
   {
    "duration": 24,
    "start_time": "2024-07-25T19:41:47.937Z"
   },
   {
    "duration": 159,
    "start_time": "2024-07-25T19:41:47.963Z"
   },
   {
    "duration": 7,
    "start_time": "2024-07-25T19:41:48.124Z"
   },
   {
    "duration": 17,
    "start_time": "2024-07-25T19:41:48.133Z"
   },
   {
    "duration": 11,
    "start_time": "2024-07-25T19:41:48.152Z"
   },
   {
    "duration": 28,
    "start_time": "2024-07-25T19:41:48.165Z"
   },
   {
    "duration": 6,
    "start_time": "2024-07-25T19:41:48.195Z"
   },
   {
    "duration": 10,
    "start_time": "2024-07-25T19:41:48.203Z"
   },
   {
    "duration": 6,
    "start_time": "2024-07-25T19:41:48.214Z"
   },
   {
    "duration": 13,
    "start_time": "2024-07-25T19:41:48.222Z"
   },
   {
    "duration": 8,
    "start_time": "2024-07-25T19:41:48.236Z"
   },
   {
    "duration": 7,
    "start_time": "2024-07-25T19:41:48.245Z"
   },
   {
    "duration": 174,
    "start_time": "2024-07-25T19:41:48.254Z"
   },
   {
    "duration": 117,
    "start_time": "2024-07-25T19:41:48.430Z"
   },
   {
    "duration": 12,
    "start_time": "2024-07-25T19:41:48.548Z"
   },
   {
    "duration": 22,
    "start_time": "2024-07-25T19:41:48.561Z"
   },
   {
    "duration": 5,
    "start_time": "2024-07-25T19:41:48.585Z"
   },
   {
    "duration": 5,
    "start_time": "2024-07-25T19:41:48.591Z"
   },
   {
    "duration": 281,
    "start_time": "2024-07-25T19:41:48.597Z"
   },
   {
    "duration": 192,
    "start_time": "2024-07-25T19:41:48.880Z"
   },
   {
    "duration": 350,
    "start_time": "2024-07-25T19:41:49.074Z"
   },
   {
    "duration": 196,
    "start_time": "2024-07-25T19:41:49.426Z"
   },
   {
    "duration": 305,
    "start_time": "2024-07-25T19:41:49.623Z"
   },
   {
    "duration": 12,
    "start_time": "2024-07-25T19:41:49.930Z"
   },
   {
    "duration": 149,
    "start_time": "2024-07-25T19:41:49.944Z"
   },
   {
    "duration": 4,
    "start_time": "2024-07-25T19:41:50.095Z"
   },
   {
    "duration": 16,
    "start_time": "2024-07-25T19:41:50.101Z"
   },
   {
    "duration": 195,
    "start_time": "2024-07-25T19:41:50.118Z"
   },
   {
    "duration": 5,
    "start_time": "2024-07-25T19:41:50.314Z"
   },
   {
    "duration": 67,
    "start_time": "2024-07-25T19:41:50.320Z"
   },
   {
    "duration": 41,
    "start_time": "2024-07-25T19:41:50.389Z"
   },
   {
    "duration": 106,
    "start_time": "2024-07-25T19:41:50.432Z"
   },
   {
    "duration": 55,
    "start_time": "2024-07-25T19:41:50.541Z"
   },
   {
    "duration": 39,
    "start_time": "2024-07-25T19:41:50.598Z"
   },
   {
    "duration": 72,
    "start_time": "2024-07-25T19:41:50.639Z"
   },
   {
    "duration": 90,
    "start_time": "2024-07-25T19:41:50.713Z"
   },
   {
    "duration": 3,
    "start_time": "2024-07-25T19:41:50.805Z"
   },
   {
    "duration": 7,
    "start_time": "2024-07-25T19:41:50.809Z"
   },
   {
    "duration": 25,
    "start_time": "2024-07-25T19:41:50.817Z"
   },
   {
    "duration": 10,
    "start_time": "2024-07-25T19:41:50.843Z"
   },
   {
    "duration": 32,
    "start_time": "2024-07-25T19:41:50.854Z"
   },
   {
    "duration": 6,
    "start_time": "2024-07-25T19:41:50.887Z"
   },
   {
    "duration": 7,
    "start_time": "2024-07-25T19:41:50.894Z"
   },
   {
    "duration": 28,
    "start_time": "2024-07-25T19:41:50.902Z"
   },
   {
    "duration": 12,
    "start_time": "2024-07-25T19:41:50.932Z"
   },
   {
    "duration": 4,
    "start_time": "2024-07-25T19:42:26.626Z"
   },
   {
    "duration": 9,
    "start_time": "2024-07-25T19:42:28.240Z"
   },
   {
    "duration": 1341,
    "start_time": "2024-07-26T08:15:27.428Z"
   },
   {
    "duration": 85,
    "start_time": "2024-07-26T08:15:28.771Z"
   },
   {
    "duration": 13,
    "start_time": "2024-07-26T08:15:28.858Z"
   },
   {
    "duration": 5,
    "start_time": "2024-07-26T08:15:28.873Z"
   },
   {
    "duration": 6,
    "start_time": "2024-07-26T08:15:28.879Z"
   },
   {
    "duration": 8,
    "start_time": "2024-07-26T08:15:28.887Z"
   },
   {
    "duration": 11,
    "start_time": "2024-07-26T08:15:28.897Z"
   },
   {
    "duration": 9,
    "start_time": "2024-07-26T08:15:28.909Z"
   },
   {
    "duration": 16,
    "start_time": "2024-07-26T08:15:28.920Z"
   },
   {
    "duration": 156,
    "start_time": "2024-07-26T08:15:28.939Z"
   },
   {
    "duration": 8,
    "start_time": "2024-07-26T08:15:29.097Z"
   },
   {
    "duration": 13,
    "start_time": "2024-07-26T08:15:29.106Z"
   },
   {
    "duration": 10,
    "start_time": "2024-07-26T08:15:29.120Z"
   },
   {
    "duration": 23,
    "start_time": "2024-07-26T08:15:29.132Z"
   },
   {
    "duration": 8,
    "start_time": "2024-07-26T08:15:29.157Z"
   },
   {
    "duration": 25,
    "start_time": "2024-07-26T08:15:29.166Z"
   },
   {
    "duration": 7,
    "start_time": "2024-07-26T08:15:29.193Z"
   },
   {
    "duration": 19,
    "start_time": "2024-07-26T08:15:29.202Z"
   },
   {
    "duration": 8,
    "start_time": "2024-07-26T08:15:29.222Z"
   },
   {
    "duration": 7,
    "start_time": "2024-07-26T08:15:29.232Z"
   },
   {
    "duration": 196,
    "start_time": "2024-07-26T08:15:29.241Z"
   },
   {
    "duration": 146,
    "start_time": "2024-07-26T08:15:29.439Z"
   },
   {
    "duration": 14,
    "start_time": "2024-07-26T08:15:29.586Z"
   },
   {
    "duration": 24,
    "start_time": "2024-07-26T08:15:29.601Z"
   },
   {
    "duration": 8,
    "start_time": "2024-07-26T08:15:29.626Z"
   },
   {
    "duration": 6,
    "start_time": "2024-07-26T08:15:29.635Z"
   },
   {
    "duration": 299,
    "start_time": "2024-07-26T08:15:29.643Z"
   },
   {
    "duration": 229,
    "start_time": "2024-07-26T08:15:29.947Z"
   },
   {
    "duration": 374,
    "start_time": "2024-07-26T08:15:30.178Z"
   },
   {
    "duration": 233,
    "start_time": "2024-07-26T08:15:30.554Z"
   },
   {
    "duration": 346,
    "start_time": "2024-07-26T08:15:30.788Z"
   },
   {
    "duration": 11,
    "start_time": "2024-07-26T08:15:31.136Z"
   },
   {
    "duration": 222,
    "start_time": "2024-07-26T08:15:31.149Z"
   },
   {
    "duration": 13,
    "start_time": "2024-07-26T08:15:31.373Z"
   },
   {
    "duration": 125,
    "start_time": "2024-07-26T08:15:31.387Z"
   },
   {
    "duration": 209,
    "start_time": "2024-07-26T08:15:31.514Z"
   },
   {
    "duration": 5,
    "start_time": "2024-07-26T08:15:31.725Z"
   },
   {
    "duration": 83,
    "start_time": "2024-07-26T08:15:31.732Z"
   },
   {
    "duration": 69,
    "start_time": "2024-07-26T08:15:31.817Z"
   },
   {
    "duration": 61,
    "start_time": "2024-07-26T08:15:31.889Z"
   },
   {
    "duration": 76,
    "start_time": "2024-07-26T08:15:31.952Z"
   },
   {
    "duration": 29,
    "start_time": "2024-07-26T08:15:32.030Z"
   },
   {
    "duration": 90,
    "start_time": "2024-07-26T08:15:32.061Z"
   },
   {
    "duration": 90,
    "start_time": "2024-07-26T08:15:32.152Z"
   },
   {
    "duration": 5,
    "start_time": "2024-07-26T08:15:32.244Z"
   },
   {
    "duration": 13,
    "start_time": "2024-07-26T08:15:32.251Z"
   },
   {
    "duration": 85,
    "start_time": "2024-07-26T08:15:32.266Z"
   },
   {
    "duration": 11,
    "start_time": "2024-07-26T08:15:32.353Z"
   },
   {
    "duration": 9,
    "start_time": "2024-07-26T08:15:32.366Z"
   },
   {
    "duration": 7,
    "start_time": "2024-07-26T08:15:32.376Z"
   },
   {
    "duration": 6,
    "start_time": "2024-07-26T08:15:32.385Z"
   },
   {
    "duration": 33,
    "start_time": "2024-07-26T08:15:32.393Z"
   },
   {
    "duration": 13,
    "start_time": "2024-07-26T08:15:32.427Z"
   },
   {
    "duration": 1121,
    "start_time": "2024-07-26T08:30:18.125Z"
   },
   {
    "duration": 29,
    "start_time": "2024-07-26T08:30:19.247Z"
   },
   {
    "duration": 11,
    "start_time": "2024-07-26T08:30:19.278Z"
   },
   {
    "duration": 11,
    "start_time": "2024-07-26T08:30:19.291Z"
   },
   {
    "duration": 16,
    "start_time": "2024-07-26T08:30:19.304Z"
   },
   {
    "duration": 6,
    "start_time": "2024-07-26T08:30:19.321Z"
   },
   {
    "duration": 18,
    "start_time": "2024-07-26T08:30:19.328Z"
   },
   {
    "duration": 5,
    "start_time": "2024-07-26T08:30:19.348Z"
   },
   {
    "duration": 11,
    "start_time": "2024-07-26T08:30:19.354Z"
   },
   {
    "duration": 54,
    "start_time": "2024-07-26T08:30:19.367Z"
   },
   {
    "duration": 8,
    "start_time": "2024-07-26T08:30:19.422Z"
   },
   {
    "duration": 17,
    "start_time": "2024-07-26T08:30:19.431Z"
   },
   {
    "duration": 11,
    "start_time": "2024-07-26T08:30:19.449Z"
   },
   {
    "duration": 19,
    "start_time": "2024-07-26T08:30:19.462Z"
   },
   {
    "duration": 14,
    "start_time": "2024-07-26T08:30:19.483Z"
   },
   {
    "duration": 15,
    "start_time": "2024-07-26T08:30:19.499Z"
   },
   {
    "duration": 7,
    "start_time": "2024-07-26T08:30:19.516Z"
   },
   {
    "duration": 8,
    "start_time": "2024-07-26T08:30:19.524Z"
   },
   {
    "duration": 5,
    "start_time": "2024-07-26T08:30:19.533Z"
   },
   {
    "duration": 5,
    "start_time": "2024-07-26T08:30:19.540Z"
   },
   {
    "duration": 188,
    "start_time": "2024-07-26T08:30:19.546Z"
   },
   {
    "duration": 132,
    "start_time": "2024-07-26T08:30:19.736Z"
   },
   {
    "duration": 25,
    "start_time": "2024-07-26T08:30:19.869Z"
   },
   {
    "duration": 10,
    "start_time": "2024-07-26T08:30:19.896Z"
   },
   {
    "duration": 5,
    "start_time": "2024-07-26T08:30:19.907Z"
   },
   {
    "duration": 7,
    "start_time": "2024-07-26T08:30:19.914Z"
   },
   {
    "duration": 327,
    "start_time": "2024-07-26T08:30:19.922Z"
   },
   {
    "duration": 214,
    "start_time": "2024-07-26T08:30:20.252Z"
   },
   {
    "duration": 324,
    "start_time": "2024-07-26T08:30:20.468Z"
   },
   {
    "duration": 220,
    "start_time": "2024-07-26T08:30:20.794Z"
   },
   {
    "duration": 330,
    "start_time": "2024-07-26T08:30:21.016Z"
   },
   {
    "duration": 10,
    "start_time": "2024-07-26T08:30:21.348Z"
   },
   {
    "duration": 148,
    "start_time": "2024-07-26T08:30:21.360Z"
   },
   {
    "duration": 5,
    "start_time": "2024-07-26T08:30:21.510Z"
   },
   {
    "duration": 12,
    "start_time": "2024-07-26T08:30:21.516Z"
   },
   {
    "duration": 173,
    "start_time": "2024-07-26T08:30:21.529Z"
   },
   {
    "duration": 5,
    "start_time": "2024-07-26T08:30:21.703Z"
   },
   {
    "duration": 50,
    "start_time": "2024-07-26T08:30:21.710Z"
   },
   {
    "duration": 58,
    "start_time": "2024-07-26T08:30:21.762Z"
   },
   {
    "duration": 92,
    "start_time": "2024-07-26T08:30:21.822Z"
   },
   {
    "duration": 56,
    "start_time": "2024-07-26T08:30:21.915Z"
   },
   {
    "duration": 33,
    "start_time": "2024-07-26T08:30:21.972Z"
   },
   {
    "duration": 83,
    "start_time": "2024-07-26T08:30:22.007Z"
   },
   {
    "duration": 105,
    "start_time": "2024-07-26T08:30:22.092Z"
   },
   {
    "duration": 4,
    "start_time": "2024-07-26T08:30:22.199Z"
   },
   {
    "duration": 6,
    "start_time": "2024-07-26T08:30:22.205Z"
   },
   {
    "duration": 38,
    "start_time": "2024-07-26T08:30:22.212Z"
   },
   {
    "duration": 11,
    "start_time": "2024-07-26T08:30:22.252Z"
   },
   {
    "duration": 8,
    "start_time": "2024-07-26T08:30:22.264Z"
   },
   {
    "duration": 19,
    "start_time": "2024-07-26T08:30:22.285Z"
   },
   {
    "duration": 6,
    "start_time": "2024-07-26T08:30:22.306Z"
   },
   {
    "duration": 98,
    "start_time": "2024-07-26T08:30:22.313Z"
   },
   {
    "duration": 13,
    "start_time": "2024-07-26T08:30:22.413Z"
   }
  ],
  "kernelspec": {
   "display_name": "Python 3 (ipykernel)",
   "language": "python",
   "name": "python3"
  },
  "language_info": {
   "codemirror_mode": {
    "name": "ipython",
    "version": 3
   },
   "file_extension": ".py",
   "mimetype": "text/x-python",
   "name": "python",
   "nbconvert_exporter": "python",
   "pygments_lexer": "ipython3",
   "version": "3.11.9"
  },
  "toc": {
   "base_numbering": 1,
   "nav_menu": {},
   "number_sections": false,
   "sideBar": true,
   "skip_h1_title": true,
   "title_cell": "Table of Contents",
   "title_sidebar": "Contents",
   "toc_cell": false,
   "toc_position": {},
   "toc_section_display": true,
   "toc_window_display": true
  }
 },
 "nbformat": 4,
 "nbformat_minor": 2
}
