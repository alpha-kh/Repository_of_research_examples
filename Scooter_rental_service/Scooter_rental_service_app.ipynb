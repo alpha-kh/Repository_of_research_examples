{
 "cells": [
  {
   "cell_type": "markdown",
   "id": "7b048d07",
   "metadata": {},
   "source": [
    "# Исследование данных по пользователям сервиса аренды самокатов"
   ]
  },
  {
   "cell_type": "markdown",
   "id": "2d7c3e1e",
   "metadata": {},
   "source": [
    "**Описание проекта**\n",
    "\n",
    "Имеются данные о некоторых пользователях из нескольких городов сервиса аренды самокатов GoFast, а также об их поездках.\n",
    "\n",
    "Чтобы совершать поездки по городу, пользователи сервиса GoFast пользуются мобильным приложением. \n",
    "\n",
    "Сервисом можно пользоваться:\n",
    "- без подписки:\n",
    "абонентская плата отсутствует;\n",
    "стоимость одной минуты поездки — 8 рублей;\n",
    "стоимость старта (начала поездки) — 50 рублей;\n",
    "- с подпиской Ultra:\n",
    "абонентская плата — 199 рублей в месяц;\n",
    "стоимость одной минуты поездки — 6 рублей;\n",
    "стоимость старта — бесплатно.\n",
    "\n",
    "Для выявления точек роста бизнеса, необходимо проанализировать и сравнить данные по пользователям с подпиской и без нее, а также проверить следующие гипотезы:\n",
    "\n",
    "- пользователи с подпиской тратят больше времени на поездки;\n",
    "- среднее расстояние, которое проезжают пользователи с подпиской за одну поездку, не превышает 3130 метров;\n",
    "- помесячная выручка от пользователей с подпиской по месяцам выше, чем выручка от пользователей без подписки."
   ]
  },
  {
   "cell_type": "markdown",
   "id": "2598a344",
   "metadata": {},
   "source": [
    "**Описание данных**\n",
    "\n",
    "В основных данных есть информация о пользователях, их поездках и подписках.\n",
    "\n",
    "Пользователи — `users_go.csv`\n",
    "\n",
    "* `user_id` - уникальный идентификатор пользователя\n",
    "* `name` - имя пользователя\n",
    "* `age` - возраст\n",
    "* `city` - город\n",
    "* `subscription_type` - тип подписки (free, ultra)\n",
    "\n",
    "Поездки — `rides_go.csv`\n",
    "\n",
    "* `user_id` - уникальный идентификатор пользователя\n",
    "* `distance` - расстояние, которое пользователь проехал в текущей сессии (в метрах)\n",
    "* `duration` - продолжительность сессии (в минутах) — время с того момента, как пользователь нажал кнопку «Начать поездку» до момента, как он нажал кнопку «Завершить поездку»\n",
    "* `date` - дата совершения поездки\n",
    "\n",
    "Подписки — `subscriptions_go.csv`\n",
    "\n",
    "* `subscription_type` - тип подписки\n",
    "* `minute_price` - стоимость одной минуты поездки по данной подписке\n",
    "* `start_ride_price` - стоимость начала поездки\n",
    "* `subscription_fee` - стоимость ежемесячного платежа\t"
   ]
  },
  {
   "cell_type": "markdown",
   "id": "afb16d4d",
   "metadata": {},
   "source": [
    "#### Шаг 1. Загрузка данных"
   ]
  },
  {
   "cell_type": "markdown",
   "id": "3eb4d26f",
   "metadata": {},
   "source": [
    "1.1 Импортируем необходимые библиотеки и считаем CSV-файлы с данными, сохраним их в датафреймы"
   ]
  },
  {
   "cell_type": "code",
   "execution_count": 1,
   "id": "d8fc0188",
   "metadata": {},
   "outputs": [],
   "source": [
    "#импортируем необходимые библиотеки\n",
    "import pandas as pd\n",
    "import matplotlib.pyplot as plt\n",
    "import numpy as np\n",
    "from scipy import stats as st"
   ]
  },
  {
   "cell_type": "code",
   "execution_count": 2,
   "id": "e234798e",
   "metadata": {},
   "outputs": [],
   "source": [
    "users = pd.read_csv('/datasets/users_go.csv')"
   ]
  },
  {
   "cell_type": "code",
   "execution_count": 3,
   "id": "777c423f",
   "metadata": {},
   "outputs": [],
   "source": [
    "rides = pd.read_csv('/datasets/rides_go.csv')"
   ]
  },
  {
   "cell_type": "code",
   "execution_count": 4,
   "id": "96bc2cf5",
   "metadata": {},
   "outputs": [],
   "source": [
    "subs = pd.read_csv('/datasets/subscriptions_go.csv')"
   ]
  },
  {
   "cell_type": "markdown",
   "id": "db4b8aaf",
   "metadata": {},
   "source": [
    "1.2 Выведем первые строки каждого набора данных. Изучим общую информацию о каждом датафрейме."
   ]
  },
  {
   "cell_type": "code",
   "execution_count": 5,
   "id": "d0e227ec",
   "metadata": {},
   "outputs": [
    {
     "data": {
      "text/html": [
       "<div>\n",
       "<style scoped>\n",
       "    .dataframe tbody tr th:only-of-type {\n",
       "        vertical-align: middle;\n",
       "    }\n",
       "\n",
       "    .dataframe tbody tr th {\n",
       "        vertical-align: top;\n",
       "    }\n",
       "\n",
       "    .dataframe thead th {\n",
       "        text-align: right;\n",
       "    }\n",
       "</style>\n",
       "<table border=\"1\" class=\"dataframe\">\n",
       "  <thead>\n",
       "    <tr style=\"text-align: right;\">\n",
       "      <th></th>\n",
       "      <th>user_id</th>\n",
       "      <th>name</th>\n",
       "      <th>age</th>\n",
       "      <th>city</th>\n",
       "      <th>subscription_type</th>\n",
       "    </tr>\n",
       "  </thead>\n",
       "  <tbody>\n",
       "    <tr>\n",
       "      <th>0</th>\n",
       "      <td>1</td>\n",
       "      <td>Кира</td>\n",
       "      <td>22</td>\n",
       "      <td>Тюмень</td>\n",
       "      <td>ultra</td>\n",
       "    </tr>\n",
       "    <tr>\n",
       "      <th>1</th>\n",
       "      <td>2</td>\n",
       "      <td>Станислав</td>\n",
       "      <td>31</td>\n",
       "      <td>Омск</td>\n",
       "      <td>ultra</td>\n",
       "    </tr>\n",
       "    <tr>\n",
       "      <th>2</th>\n",
       "      <td>3</td>\n",
       "      <td>Алексей</td>\n",
       "      <td>20</td>\n",
       "      <td>Москва</td>\n",
       "      <td>ultra</td>\n",
       "    </tr>\n",
       "    <tr>\n",
       "      <th>3</th>\n",
       "      <td>4</td>\n",
       "      <td>Константин</td>\n",
       "      <td>26</td>\n",
       "      <td>Ростов-на-Дону</td>\n",
       "      <td>ultra</td>\n",
       "    </tr>\n",
       "    <tr>\n",
       "      <th>4</th>\n",
       "      <td>5</td>\n",
       "      <td>Адель</td>\n",
       "      <td>28</td>\n",
       "      <td>Омск</td>\n",
       "      <td>ultra</td>\n",
       "    </tr>\n",
       "    <tr>\n",
       "      <th>5</th>\n",
       "      <td>6</td>\n",
       "      <td>Регина</td>\n",
       "      <td>25</td>\n",
       "      <td>Краснодар</td>\n",
       "      <td>ultra</td>\n",
       "    </tr>\n",
       "    <tr>\n",
       "      <th>6</th>\n",
       "      <td>7</td>\n",
       "      <td>Игорь</td>\n",
       "      <td>23</td>\n",
       "      <td>Омск</td>\n",
       "      <td>ultra</td>\n",
       "    </tr>\n",
       "    <tr>\n",
       "      <th>7</th>\n",
       "      <td>8</td>\n",
       "      <td>Юрий</td>\n",
       "      <td>23</td>\n",
       "      <td>Краснодар</td>\n",
       "      <td>ultra</td>\n",
       "    </tr>\n",
       "    <tr>\n",
       "      <th>8</th>\n",
       "      <td>9</td>\n",
       "      <td>Ян</td>\n",
       "      <td>21</td>\n",
       "      <td>Пятигорск</td>\n",
       "      <td>ultra</td>\n",
       "    </tr>\n",
       "    <tr>\n",
       "      <th>9</th>\n",
       "      <td>10</td>\n",
       "      <td>Валерий</td>\n",
       "      <td>18</td>\n",
       "      <td>Екатеринбург</td>\n",
       "      <td>ultra</td>\n",
       "    </tr>\n",
       "  </tbody>\n",
       "</table>\n",
       "</div>"
      ],
      "text/plain": [
       "   user_id        name  age            city subscription_type\n",
       "0        1        Кира   22          Тюмень             ultra\n",
       "1        2   Станислав   31            Омск             ultra\n",
       "2        3     Алексей   20          Москва             ultra\n",
       "3        4  Константин   26  Ростов-на-Дону             ultra\n",
       "4        5       Адель   28            Омск             ultra\n",
       "5        6      Регина   25       Краснодар             ultra\n",
       "6        7       Игорь   23            Омск             ultra\n",
       "7        8        Юрий   23       Краснодар             ultra\n",
       "8        9          Ян   21       Пятигорск             ultra\n",
       "9       10     Валерий   18    Екатеринбург             ultra"
      ]
     },
     "execution_count": 5,
     "metadata": {},
     "output_type": "execute_result"
    }
   ],
   "source": [
    "users.head(10)"
   ]
  },
  {
   "cell_type": "code",
   "execution_count": 6,
   "id": "d75f8e2c",
   "metadata": {},
   "outputs": [
    {
     "name": "stdout",
     "output_type": "stream",
     "text": [
      "<class 'pandas.core.frame.DataFrame'>\n",
      "RangeIndex: 1565 entries, 0 to 1564\n",
      "Data columns (total 5 columns):\n",
      " #   Column             Non-Null Count  Dtype \n",
      "---  ------             --------------  ----- \n",
      " 0   user_id            1565 non-null   int64 \n",
      " 1   name               1565 non-null   object\n",
      " 2   age                1565 non-null   int64 \n",
      " 3   city               1565 non-null   object\n",
      " 4   subscription_type  1565 non-null   object\n",
      "dtypes: int64(2), object(3)\n",
      "memory usage: 61.3+ KB\n"
     ]
    }
   ],
   "source": [
    "users.info()"
   ]
  },
  {
   "cell_type": "code",
   "execution_count": 7,
   "id": "e2f1cf6b",
   "metadata": {},
   "outputs": [
    {
     "data": {
      "text/html": [
       "<div>\n",
       "<style scoped>\n",
       "    .dataframe tbody tr th:only-of-type {\n",
       "        vertical-align: middle;\n",
       "    }\n",
       "\n",
       "    .dataframe tbody tr th {\n",
       "        vertical-align: top;\n",
       "    }\n",
       "\n",
       "    .dataframe thead th {\n",
       "        text-align: right;\n",
       "    }\n",
       "</style>\n",
       "<table border=\"1\" class=\"dataframe\">\n",
       "  <thead>\n",
       "    <tr style=\"text-align: right;\">\n",
       "      <th></th>\n",
       "      <th>user_id</th>\n",
       "      <th>distance</th>\n",
       "      <th>duration</th>\n",
       "      <th>date</th>\n",
       "    </tr>\n",
       "  </thead>\n",
       "  <tbody>\n",
       "    <tr>\n",
       "      <th>0</th>\n",
       "      <td>1</td>\n",
       "      <td>4409.919140</td>\n",
       "      <td>25.599769</td>\n",
       "      <td>2021-01-01</td>\n",
       "    </tr>\n",
       "    <tr>\n",
       "      <th>1</th>\n",
       "      <td>1</td>\n",
       "      <td>2617.592153</td>\n",
       "      <td>15.816871</td>\n",
       "      <td>2021-01-18</td>\n",
       "    </tr>\n",
       "    <tr>\n",
       "      <th>2</th>\n",
       "      <td>1</td>\n",
       "      <td>754.159807</td>\n",
       "      <td>6.232113</td>\n",
       "      <td>2021-04-20</td>\n",
       "    </tr>\n",
       "    <tr>\n",
       "      <th>3</th>\n",
       "      <td>1</td>\n",
       "      <td>2694.783254</td>\n",
       "      <td>18.511000</td>\n",
       "      <td>2021-08-11</td>\n",
       "    </tr>\n",
       "    <tr>\n",
       "      <th>4</th>\n",
       "      <td>1</td>\n",
       "      <td>4028.687306</td>\n",
       "      <td>26.265803</td>\n",
       "      <td>2021-08-28</td>\n",
       "    </tr>\n",
       "    <tr>\n",
       "      <th>5</th>\n",
       "      <td>1</td>\n",
       "      <td>2770.890808</td>\n",
       "      <td>16.650138</td>\n",
       "      <td>2021-10-09</td>\n",
       "    </tr>\n",
       "    <tr>\n",
       "      <th>6</th>\n",
       "      <td>1</td>\n",
       "      <td>3039.020292</td>\n",
       "      <td>14.927879</td>\n",
       "      <td>2021-10-19</td>\n",
       "    </tr>\n",
       "    <tr>\n",
       "      <th>7</th>\n",
       "      <td>1</td>\n",
       "      <td>2842.118050</td>\n",
       "      <td>23.117468</td>\n",
       "      <td>2021-11-06</td>\n",
       "    </tr>\n",
       "    <tr>\n",
       "      <th>8</th>\n",
       "      <td>1</td>\n",
       "      <td>3412.690668</td>\n",
       "      <td>15.238072</td>\n",
       "      <td>2021-11-14</td>\n",
       "    </tr>\n",
       "    <tr>\n",
       "      <th>9</th>\n",
       "      <td>1</td>\n",
       "      <td>748.690645</td>\n",
       "      <td>15.041884</td>\n",
       "      <td>2021-11-22</td>\n",
       "    </tr>\n",
       "  </tbody>\n",
       "</table>\n",
       "</div>"
      ],
      "text/plain": [
       "   user_id     distance   duration        date\n",
       "0        1  4409.919140  25.599769  2021-01-01\n",
       "1        1  2617.592153  15.816871  2021-01-18\n",
       "2        1   754.159807   6.232113  2021-04-20\n",
       "3        1  2694.783254  18.511000  2021-08-11\n",
       "4        1  4028.687306  26.265803  2021-08-28\n",
       "5        1  2770.890808  16.650138  2021-10-09\n",
       "6        1  3039.020292  14.927879  2021-10-19\n",
       "7        1  2842.118050  23.117468  2021-11-06\n",
       "8        1  3412.690668  15.238072  2021-11-14\n",
       "9        1   748.690645  15.041884  2021-11-22"
      ]
     },
     "execution_count": 7,
     "metadata": {},
     "output_type": "execute_result"
    }
   ],
   "source": [
    "rides.head(10)"
   ]
  },
  {
   "cell_type": "code",
   "execution_count": 8,
   "id": "d8392c5d",
   "metadata": {
    "scrolled": true
   },
   "outputs": [
    {
     "name": "stdout",
     "output_type": "stream",
     "text": [
      "<class 'pandas.core.frame.DataFrame'>\n",
      "RangeIndex: 18068 entries, 0 to 18067\n",
      "Data columns (total 4 columns):\n",
      " #   Column    Non-Null Count  Dtype  \n",
      "---  ------    --------------  -----  \n",
      " 0   user_id   18068 non-null  int64  \n",
      " 1   distance  18068 non-null  float64\n",
      " 2   duration  18068 non-null  float64\n",
      " 3   date      18068 non-null  object \n",
      "dtypes: float64(2), int64(1), object(1)\n",
      "memory usage: 564.8+ KB\n"
     ]
    }
   ],
   "source": [
    "rides.info()"
   ]
  },
  {
   "cell_type": "code",
   "execution_count": 9,
   "id": "1c776c71",
   "metadata": {},
   "outputs": [
    {
     "name": "stdout",
     "output_type": "stream",
     "text": [
      "Период: 2021-01-01 - 2021-12-30\n"
     ]
    }
   ],
   "source": [
    "#посмотрим, какой временной промежуток охватывают данные\n",
    "print('Период:', pd.to_datetime(rides['date'], format='%Y-%m-%d').dt.date.min(), '-', \n",
    "      pd.to_datetime(rides['date'], format='%Y-%m-%d').dt.date.max())"
   ]
  },
  {
   "cell_type": "code",
   "execution_count": 10,
   "id": "db1b20e8",
   "metadata": {},
   "outputs": [
    {
     "data": {
      "text/html": [
       "<div>\n",
       "<style scoped>\n",
       "    .dataframe tbody tr th:only-of-type {\n",
       "        vertical-align: middle;\n",
       "    }\n",
       "\n",
       "    .dataframe tbody tr th {\n",
       "        vertical-align: top;\n",
       "    }\n",
       "\n",
       "    .dataframe thead th {\n",
       "        text-align: right;\n",
       "    }\n",
       "</style>\n",
       "<table border=\"1\" class=\"dataframe\">\n",
       "  <thead>\n",
       "    <tr style=\"text-align: right;\">\n",
       "      <th></th>\n",
       "      <th>subscription_type</th>\n",
       "      <th>minute_price</th>\n",
       "      <th>start_ride_price</th>\n",
       "      <th>subscription_fee</th>\n",
       "    </tr>\n",
       "  </thead>\n",
       "  <tbody>\n",
       "    <tr>\n",
       "      <th>0</th>\n",
       "      <td>free</td>\n",
       "      <td>8</td>\n",
       "      <td>50</td>\n",
       "      <td>0</td>\n",
       "    </tr>\n",
       "    <tr>\n",
       "      <th>1</th>\n",
       "      <td>ultra</td>\n",
       "      <td>6</td>\n",
       "      <td>0</td>\n",
       "      <td>199</td>\n",
       "    </tr>\n",
       "  </tbody>\n",
       "</table>\n",
       "</div>"
      ],
      "text/plain": [
       "  subscription_type  minute_price  start_ride_price  subscription_fee\n",
       "0              free             8                50                 0\n",
       "1             ultra             6                 0               199"
      ]
     },
     "execution_count": 10,
     "metadata": {},
     "output_type": "execute_result"
    }
   ],
   "source": [
    "subs.head()"
   ]
  },
  {
   "cell_type": "code",
   "execution_count": 11,
   "id": "0eb18109",
   "metadata": {
    "scrolled": true
   },
   "outputs": [
    {
     "name": "stdout",
     "output_type": "stream",
     "text": [
      "<class 'pandas.core.frame.DataFrame'>\n",
      "RangeIndex: 2 entries, 0 to 1\n",
      "Data columns (total 4 columns):\n",
      " #   Column             Non-Null Count  Dtype \n",
      "---  ------             --------------  ----- \n",
      " 0   subscription_type  2 non-null      object\n",
      " 1   minute_price       2 non-null      int64 \n",
      " 2   start_ride_price   2 non-null      int64 \n",
      " 3   subscription_fee   2 non-null      int64 \n",
      "dtypes: int64(3), object(1)\n",
      "memory usage: 192.0+ bytes\n"
     ]
    }
   ],
   "source": [
    "subs.info()"
   ]
  },
  {
   "cell_type": "markdown",
   "id": "9fbc36f0",
   "metadata": {},
   "source": [
    "**Вывод:** В данных нет пропущенных значений, соблюден единый стиль в названиях колонок, содержание датафреймов соответствует заявленному в описании данных. В датафреймах `users` и `subs` типы данных во всех колонках определены верно, в датафрейме `rides` дата определена как object, необходимо привести к типу datetime."
   ]
  },
  {
   "cell_type": "markdown",
   "id": "8fea3226",
   "metadata": {},
   "source": [
    "#### Шаг 2. Предобработка данных"
   ]
  },
  {
   "cell_type": "markdown",
   "id": "ad476654",
   "metadata": {},
   "source": [
    "2.1 Приведем столбец `date` датафрейма `rides` к типу даты pandas."
   ]
  },
  {
   "cell_type": "code",
   "execution_count": 12,
   "id": "b65a21af",
   "metadata": {},
   "outputs": [],
   "source": [
    "rides['date'] = pd.to_datetime(rides['date'], format='%Y-%m-%d')"
   ]
  },
  {
   "cell_type": "markdown",
   "id": "9ca69cb6",
   "metadata": {},
   "source": [
    "2.2 Создадим новый столбец с номером месяца на основе столбца `date`."
   ]
  },
  {
   "cell_type": "code",
   "execution_count": 13,
   "id": "8fef0e07",
   "metadata": {},
   "outputs": [],
   "source": [
    "rides['month'] = pd.to_datetime(rides['date'], format='%Y-%m-%d').dt.month"
   ]
  },
  {
   "cell_type": "code",
   "execution_count": 14,
   "id": "9c7988a0",
   "metadata": {},
   "outputs": [
    {
     "data": {
      "text/html": [
       "<div>\n",
       "<style scoped>\n",
       "    .dataframe tbody tr th:only-of-type {\n",
       "        vertical-align: middle;\n",
       "    }\n",
       "\n",
       "    .dataframe tbody tr th {\n",
       "        vertical-align: top;\n",
       "    }\n",
       "\n",
       "    .dataframe thead th {\n",
       "        text-align: right;\n",
       "    }\n",
       "</style>\n",
       "<table border=\"1\" class=\"dataframe\">\n",
       "  <thead>\n",
       "    <tr style=\"text-align: right;\">\n",
       "      <th></th>\n",
       "      <th>user_id</th>\n",
       "      <th>distance</th>\n",
       "      <th>duration</th>\n",
       "      <th>date</th>\n",
       "      <th>month</th>\n",
       "    </tr>\n",
       "  </thead>\n",
       "  <tbody>\n",
       "    <tr>\n",
       "      <th>0</th>\n",
       "      <td>1</td>\n",
       "      <td>4409.919140</td>\n",
       "      <td>25.599769</td>\n",
       "      <td>2021-01-01</td>\n",
       "      <td>1</td>\n",
       "    </tr>\n",
       "    <tr>\n",
       "      <th>1</th>\n",
       "      <td>1</td>\n",
       "      <td>2617.592153</td>\n",
       "      <td>15.816871</td>\n",
       "      <td>2021-01-18</td>\n",
       "      <td>1</td>\n",
       "    </tr>\n",
       "    <tr>\n",
       "      <th>2</th>\n",
       "      <td>1</td>\n",
       "      <td>754.159807</td>\n",
       "      <td>6.232113</td>\n",
       "      <td>2021-04-20</td>\n",
       "      <td>4</td>\n",
       "    </tr>\n",
       "    <tr>\n",
       "      <th>3</th>\n",
       "      <td>1</td>\n",
       "      <td>2694.783254</td>\n",
       "      <td>18.511000</td>\n",
       "      <td>2021-08-11</td>\n",
       "      <td>8</td>\n",
       "    </tr>\n",
       "    <tr>\n",
       "      <th>4</th>\n",
       "      <td>1</td>\n",
       "      <td>4028.687306</td>\n",
       "      <td>26.265803</td>\n",
       "      <td>2021-08-28</td>\n",
       "      <td>8</td>\n",
       "    </tr>\n",
       "  </tbody>\n",
       "</table>\n",
       "</div>"
      ],
      "text/plain": [
       "   user_id     distance   duration       date  month\n",
       "0        1  4409.919140  25.599769 2021-01-01      1\n",
       "1        1  2617.592153  15.816871 2021-01-18      1\n",
       "2        1   754.159807   6.232113 2021-04-20      4\n",
       "3        1  2694.783254  18.511000 2021-08-11      8\n",
       "4        1  4028.687306  26.265803 2021-08-28      8"
      ]
     },
     "execution_count": 14,
     "metadata": {},
     "output_type": "execute_result"
    }
   ],
   "source": [
    "rides.head()"
   ]
  },
  {
   "cell_type": "code",
   "execution_count": 15,
   "id": "df540207",
   "metadata": {},
   "outputs": [
    {
     "name": "stdout",
     "output_type": "stream",
     "text": [
      "<class 'pandas.core.frame.DataFrame'>\n",
      "RangeIndex: 18068 entries, 0 to 18067\n",
      "Data columns (total 5 columns):\n",
      " #   Column    Non-Null Count  Dtype         \n",
      "---  ------    --------------  -----         \n",
      " 0   user_id   18068 non-null  int64         \n",
      " 1   distance  18068 non-null  float64       \n",
      " 2   duration  18068 non-null  float64       \n",
      " 3   date      18068 non-null  datetime64[ns]\n",
      " 4   month     18068 non-null  int64         \n",
      "dtypes: datetime64[ns](1), float64(2), int64(2)\n",
      "memory usage: 705.9 KB\n"
     ]
    }
   ],
   "source": [
    "rides.info()"
   ]
  },
  {
   "cell_type": "markdown",
   "id": "8e927a3e",
   "metadata": {},
   "source": [
    "2.3 Проверим наличие пропущенных значений, аномалий и дубликатов в датафреймах. Обработаем их, если такие значения присутствуют."
   ]
  },
  {
   "cell_type": "code",
   "execution_count": 16,
   "id": "df3d025d",
   "metadata": {},
   "outputs": [
    {
     "data": {
      "text/plain": [
       "user_id              0\n",
       "name                 0\n",
       "age                  0\n",
       "city                 0\n",
       "subscription_type    0\n",
       "dtype: int64"
      ]
     },
     "execution_count": 16,
     "metadata": {},
     "output_type": "execute_result"
    }
   ],
   "source": [
    "users.isna().sum()"
   ]
  },
  {
   "cell_type": "code",
   "execution_count": 17,
   "id": "cdfb4f13",
   "metadata": {},
   "outputs": [
    {
     "data": {
      "text/plain": [
       "31"
      ]
     },
     "execution_count": 17,
     "metadata": {},
     "output_type": "execute_result"
    }
   ],
   "source": [
    "users.duplicated().sum()"
   ]
  },
  {
   "cell_type": "code",
   "execution_count": 18,
   "id": "3a17ab6c",
   "metadata": {},
   "outputs": [],
   "source": [
    "users = users.drop_duplicates().reset_index(drop=True)"
   ]
  },
  {
   "cell_type": "code",
   "execution_count": 19,
   "id": "7ee10227",
   "metadata": {},
   "outputs": [
    {
     "data": {
      "text/plain": [
       "0"
      ]
     },
     "execution_count": 19,
     "metadata": {},
     "output_type": "execute_result"
    }
   ],
   "source": [
    "users.duplicated().sum()"
   ]
  },
  {
   "cell_type": "code",
   "execution_count": 20,
   "id": "0f390220",
   "metadata": {},
   "outputs": [
    {
     "data": {
      "text/plain": [
       "array([12, 13, 14, 15, 16, 17, 18, 19, 20, 21, 22, 23, 24, 25, 26, 27, 28,\n",
       "       29, 30, 31, 32, 33, 34, 35, 36, 37, 38, 39, 43])"
      ]
     },
     "execution_count": 20,
     "metadata": {},
     "output_type": "execute_result"
    }
   ],
   "source": [
    "#проверим наличие аномальных значений возраста\n",
    "users['age'].sort_values().unique()"
   ]
  },
  {
   "cell_type": "code",
   "execution_count": 21,
   "id": "3e074399",
   "metadata": {},
   "outputs": [
    {
     "data": {
      "text/plain": [
       "array(['Екатеринбург', 'Краснодар', 'Москва', 'Омск', 'Пятигорск',\n",
       "       'Ростов-на-Дону', 'Сочи', 'Тюмень'], dtype=object)"
      ]
     },
     "execution_count": 21,
     "metadata": {},
     "output_type": "execute_result"
    }
   ],
   "source": [
    "#проверим наличие неявных дубликатов\n",
    "users['city'].sort_values().unique()"
   ]
  },
  {
   "cell_type": "code",
   "execution_count": 22,
   "id": "7464bf35",
   "metadata": {},
   "outputs": [
    {
     "data": {
      "text/plain": [
       "user_id     0\n",
       "distance    0\n",
       "duration    0\n",
       "date        0\n",
       "month       0\n",
       "dtype: int64"
      ]
     },
     "execution_count": 22,
     "metadata": {},
     "output_type": "execute_result"
    }
   ],
   "source": [
    "rides.isna().sum()"
   ]
  },
  {
   "cell_type": "code",
   "execution_count": 23,
   "id": "46d838ca",
   "metadata": {},
   "outputs": [
    {
     "data": {
      "text/plain": [
       "0"
      ]
     },
     "execution_count": 23,
     "metadata": {},
     "output_type": "execute_result"
    }
   ],
   "source": [
    "rides.duplicated().sum()"
   ]
  },
  {
   "cell_type": "code",
   "execution_count": 24,
   "id": "2a13b300",
   "metadata": {},
   "outputs": [
    {
     "data": {
      "text/plain": [
       "subscription_type    0\n",
       "minute_price         0\n",
       "start_ride_price     0\n",
       "subscription_fee     0\n",
       "dtype: int64"
      ]
     },
     "execution_count": 24,
     "metadata": {},
     "output_type": "execute_result"
    }
   ],
   "source": [
    "subs.isna().sum()"
   ]
  },
  {
   "cell_type": "code",
   "execution_count": 25,
   "id": "1501b4ca",
   "metadata": {
    "scrolled": true
   },
   "outputs": [
    {
     "data": {
      "text/plain": [
       "0"
      ]
     },
     "execution_count": 25,
     "metadata": {},
     "output_type": "execute_result"
    }
   ],
   "source": [
    "subs.duplicated().sum()"
   ]
  },
  {
   "cell_type": "markdown",
   "id": "7f958a9e",
   "metadata": {},
   "source": [
    "**Вывод:** В ходе предобработки данных привели столбец `date` датафрейма `rides` к типу даты pandas, вывели месяц в отдельный столбец. Пропущенных значений в данных нет, в датафрейме `users` обнаружили и устранили строки-дубликаты. Убедились в отсутствии неявных дубликатов в `city` и аномальных значений в `age`. Однако обнаружили данные по пользователям в возрасте 12-17 лет, при том, что у сервисов проката действует возрастное ограничение, и арендовать электросамокат могут только совершеннолетние граждане. Вероятно, наличие таких данных техническая ошибка."
   ]
  },
  {
   "cell_type": "markdown",
   "id": "1a7ebe3c",
   "metadata": {},
   "source": [
    "#### Шаг 3. Исследовательский анализ данных"
   ]
  },
  {
   "cell_type": "markdown",
   "id": "2e44e538",
   "metadata": {},
   "source": [
    "Опишем и визуализируем общую информацию о пользователях и поездках."
   ]
  },
  {
   "cell_type": "markdown",
   "id": "b719e2c7",
   "metadata": {},
   "source": [
    "3.1 Частота встречаемости городов"
   ]
  },
  {
   "cell_type": "code",
   "execution_count": 26,
   "id": "5ff13d2c",
   "metadata": {
    "scrolled": true
   },
   "outputs": [
    {
     "data": {
      "image/png": "[encoded data removed]",
      "text/plain": [
       "<Figure size 432x288 with 1 Axes>"
      ]
     },
     "metadata": {
      "needs_background": "light"
     },
     "output_type": "display_data"
    }
   ],
   "source": [
    "users['city'].value_counts(ascending=True).plot.barh(grid=True)\n",
    "plt.title('Частота встречаемости городов')\n",
    "plt.xlabel('Частота')\n",
    "plt.show()"
   ]
  },
  {
   "cell_type": "code",
   "execution_count": 27,
   "id": "284658b3",
   "metadata": {},
   "outputs": [
    {
     "data": {
      "text/plain": [
       "Пятигорск         219\n",
       "Екатеринбург      204\n",
       "Ростов-на-Дону    198\n",
       "Краснодар         193\n",
       "Сочи              189\n",
       "Омск              183\n",
       "Тюмень            180\n",
       "Москва            168\n",
       "Name: city, dtype: int64"
      ]
     },
     "execution_count": 27,
     "metadata": {},
     "output_type": "execute_result"
    }
   ],
   "source": [
    "users['city'].value_counts()"
   ]
  },
  {
   "cell_type": "markdown",
   "id": "89c91f66",
   "metadata": {},
   "source": [
    "Данные по городам в выборке представлены достаточно равномерно. 168 пользователей из Москвы - это наименее представленный в выборке город, примерно по 180 пользователей из Тюмени и Омска, примерно по 200 - из Сочи, Краснодара, Ростова-на-Дону и Екатеринбурга. Наиболее часто встречаются данные по пользователям из Пятигорска - 219 раз."
   ]
  },
  {
   "cell_type": "raw",
   "id": "0f19e9b5",
   "metadata": {},
   "source": [
    "3.2 Соотношение пользователей с подпиской и без подписки"
   ]
  },
  {
   "cell_type": "code",
   "execution_count": 28,
   "id": "2f6f7a3d",
   "metadata": {
    "scrolled": true
   },
   "outputs": [
    {
     "data": {
      "image/png": "[encoded data removed]",
      "text/plain": [
       "<Figure size 288x216 with 1 Axes>"
      ]
     },
     "metadata": {},
     "output_type": "display_data"
    }
   ],
   "source": [
    "(users['subscription_type'].value_counts()\n",
    " .plot(kind='pie', autopct='%1.0f%%', textprops={'fontsize':12}, figsize=(4, 3), grid=True).axes.yaxis.set_visible(False))\n",
    "plt.title('Пользователи с подпиской и без подписки')\n",
    "plt.show()"
   ]
  },
  {
   "cell_type": "markdown",
   "id": "b3808a94",
   "metadata": {},
   "source": [
    "Пользователи с подпиской составляют 46% выборки, пользователи без подписки - 54%."
   ]
  },
  {
   "cell_type": "markdown",
   "id": "0b2a78c3",
   "metadata": {},
   "source": [
    "3.3 Возраст пользователей"
   ]
  },
  {
   "cell_type": "code",
   "execution_count": 29,
   "id": "a2304220",
   "metadata": {},
   "outputs": [
    {
     "data": {
      "image/png": "[encoded data removed]",
      "text/plain": [
       "<Figure size 288x216 with 1 Axes>"
      ]
     },
     "metadata": {
      "needs_background": "light"
     },
     "output_type": "display_data"
    }
   ],
   "source": [
    "users['age'].plot(kind='hist', bins=11, figsize=(4, 3), grid=True)\n",
    "plt.title('Распределение пользователей по возрасту')\n",
    "plt.xlabel('Возраст')\n",
    "plt.ylabel('Количество пользователей')\n",
    "plt.show()"
   ]
  },
  {
   "cell_type": "markdown",
   "id": "ff7b6d7b",
   "metadata": {},
   "source": [
    "Наибольшее количество пользователей самокатов (около 750 человек) - в возрасте 20-25 лет, примерно 500 пользователей в возрасте 25-35 лет, около 200 пользователей 15-20 лет, пользователей младше 15 и старше 35 лет крайне мало - около 50 человек в совокупности. "
   ]
  },
  {
   "cell_type": "markdown",
   "id": "22906ad9",
   "metadata": {},
   "source": [
    "3.4 Расстояние, которое пользователь преодолел за одну поездку"
   ]
  },
  {
   "cell_type": "code",
   "execution_count": 30,
   "id": "67b50fcf",
   "metadata": {},
   "outputs": [
    {
     "data": {
      "image/png": "[encoded data removed]",
      "text/plain": [
       "<Figure size 288x216 with 1 Axes>"
      ]
     },
     "metadata": {
      "needs_background": "light"
     },
     "output_type": "display_data"
    },
    {
     "data": {
      "image/png": "[encoded data removed]",
      "text/plain": [
       "<Figure size 288x216 with 1 Axes>"
      ]
     },
     "metadata": {
      "needs_background": "light"
     },
     "output_type": "display_data"
    },
    {
     "data": {
      "text/plain": [
       "count    18068.000000\n",
       "mean      3070.659976\n",
       "std       1116.831209\n",
       "min          0.855683\n",
       "25%       2543.226360\n",
       "50%       3133.609994\n",
       "75%       3776.222735\n",
       "max       7211.007745\n",
       "Name: distance, dtype: float64"
      ]
     },
     "execution_count": 30,
     "metadata": {},
     "output_type": "execute_result"
    }
   ],
   "source": [
    "rides['distance'].plot.box(figsize=(4, 3), grid=True)\n",
    "plt.title('Преодоленное расстояние за поездку')\n",
    "plt.ylabel('Расстояние, м')\n",
    "plt.show()\n",
    "\n",
    "rides['distance'].plot(kind='hist', bins=20, figsize=(4, 3), grid=True)\n",
    "plt.title('Преодоленное расстояние за поездку')\n",
    "plt.xlabel('Расстояние, м')\n",
    "plt.ylabel('Количество поездок')\n",
    "plt.show()\n",
    "\n",
    "rides['distance'].describe()"
   ]
  },
  {
   "cell_type": "markdown",
   "id": "61a9617f",
   "metadata": {},
   "source": [
    "Самая распространенная дистанция при поездке на самокате - 3 км, это можно увидеть как по графику, так и по значениям среднего и медианы. Слева и справа от этого значения близко к нормальному распределены поездки с расстояниями от 2 до 5 км. Поездки дальше 5 км стремятся к нулю. На промежутке от 0 до 1 км есть небольшой пик, вероятно, связанный с использованием самокатов как транспорта последней мили."
   ]
  },
  {
   "cell_type": "markdown",
   "id": "f4aff176",
   "metadata": {},
   "source": [
    "3.5 Продолжительность поездок"
   ]
  },
  {
   "cell_type": "code",
   "execution_count": 31,
   "id": "8ef6e762",
   "metadata": {
    "scrolled": false
   },
   "outputs": [
    {
     "data": {
      "image/png": "[encoded data removed]",
      "text/plain": [
       "<Figure size 288x216 with 1 Axes>"
      ]
     },
     "metadata": {
      "needs_background": "light"
     },
     "output_type": "display_data"
    },
    {
     "data": {
      "image/png": "[encoded data removed]",
      "text/plain": [
       "<Figure size 288x216 with 1 Axes>"
      ]
     },
     "metadata": {
      "needs_background": "light"
     },
     "output_type": "display_data"
    },
    {
     "data": {
      "text/plain": [
       "count    18068.000000\n",
       "mean        17.805011\n",
       "std          6.091051\n",
       "min          0.500000\n",
       "25%         13.597563\n",
       "50%         17.678395\n",
       "75%         21.724800\n",
       "max         40.823963\n",
       "Name: duration, dtype: float64"
      ]
     },
     "execution_count": 31,
     "metadata": {},
     "output_type": "execute_result"
    }
   ],
   "source": [
    "rides['duration'].plot.box(figsize=(4, 3), grid=True)\n",
    "plt.title('Распределение времени поездки пользователей')\n",
    "plt.ylabel('Время, мин.')\n",
    "plt.show()\n",
    "\n",
    "rides['duration'].plot(kind='hist', bins=12, figsize=(4, 3), grid=True)\n",
    "plt.title('Распределение времени поездки пользователей')\n",
    "plt.xlabel('Время, мин.')\n",
    "plt.ylabel('Количество поездок')\n",
    "plt.show()\n",
    "\n",
    "rides['duration'].describe()"
   ]
  },
  {
   "cell_type": "markdown",
   "id": "22e3f037",
   "metadata": {},
   "source": [
    "По гистограмме видим распределение, близкое к нормальному, с центральным значением около 18 минут. Около 3000 поездок совершено в временном промежутке 10-15 минут, примерно столько же прездок занимают время 20-25 минут. Исходя из данных графика, поездки меньше 3 минут можно считать аномально короткими, хотя при средней скорости 15 км/ч за это время можно проехать 750 м. Поездки дольше 35 минут также выбиваются за пределы допустимых значений. При этом максимальное значение составляет 41 минуту, что является вполне реалистичным значением, учитывая отсутствие ограничений по времени аренды и представленность в прокате самокатов с высокой емкостью батареи."
   ]
  },
  {
   "cell_type": "code",
   "execution_count": 32,
   "id": "1b6ca2c8",
   "metadata": {},
   "outputs": [
    {
     "data": {
      "text/html": [
       "<div>\n",
       "<style scoped>\n",
       "    .dataframe tbody tr th:only-of-type {\n",
       "        vertical-align: middle;\n",
       "    }\n",
       "\n",
       "    .dataframe tbody tr th {\n",
       "        vertical-align: top;\n",
       "    }\n",
       "\n",
       "    .dataframe thead tr th {\n",
       "        text-align: left;\n",
       "    }\n",
       "\n",
       "    .dataframe thead tr:last-of-type th {\n",
       "        text-align: right;\n",
       "    }\n",
       "</style>\n",
       "<table border=\"1\" class=\"dataframe\">\n",
       "  <thead>\n",
       "    <tr>\n",
       "      <th></th>\n",
       "      <th>mean</th>\n",
       "      <th>count</th>\n",
       "    </tr>\n",
       "    <tr>\n",
       "      <th></th>\n",
       "      <th>distance</th>\n",
       "      <th>distance</th>\n",
       "    </tr>\n",
       "    <tr>\n",
       "      <th>duration</th>\n",
       "      <th></th>\n",
       "      <th></th>\n",
       "    </tr>\n",
       "  </thead>\n",
       "  <tbody>\n",
       "    <tr>\n",
       "      <th>0.5</th>\n",
       "      <td>5113.176549</td>\n",
       "      <td>95</td>\n",
       "    </tr>\n",
       "  </tbody>\n",
       "</table>\n",
       "</div>"
      ],
      "text/plain": [
       "                 mean    count\n",
       "             distance distance\n",
       "duration                      \n",
       "0.5       5113.176549       95"
      ]
     },
     "execution_count": 32,
     "metadata": {},
     "output_type": "execute_result"
    }
   ],
   "source": [
    "#посмотрим среднее расстояние для поездок менее 2 минут\n",
    "rides.query('duration <= 2').pivot_table(index='duration', values='distance', aggfunc=['mean', 'count'])"
   ]
  },
  {
   "cell_type": "code",
   "execution_count": 33,
   "id": "f70ecff6",
   "metadata": {},
   "outputs": [
    {
     "data": {
      "text/plain": [
       "208.20000000000002"
      ]
     },
     "execution_count": 33,
     "metadata": {},
     "output_type": "execute_result"
    }
   ],
   "source": [
    "#рассчитаем, какое расстояние можно проехать при разрешенной максимальной скорости 25 км/ч (6.94 м/с):\n",
    "6.94 * 30"
   ]
  },
  {
   "cell_type": "markdown",
   "id": "b0da4e32",
   "metadata": {},
   "source": [
    "Из описания и предобработки данных мы знаем, что в колонке `duration` содержатся непрерывные числовые данные. Однако при фильтрации коротких поездок длительностью менее 2 минут, мы обнаруживаем только одно значение для 95 поездок - 0.5, что эквивалентно 30 секундам, при этом среднее расстояние для таких поездок больше 5 км, а самокат при максимальной разрешенной скорости 25 км/ч может проехать только 208 м - почти в 25 раз меньше. Очевидно, в этих строках ошибка либо в расстояниии, либо в продолжительности поездки."
   ]
  },
  {
   "cell_type": "markdown",
   "id": "2973e31e",
   "metadata": {},
   "source": [
    "**Вывод**: Данные по городам в выборке представлены достаточно равномерно. Наиболее часто встречаются данные по пользователям из Пятигорска - 219 раз, наименее представленный в выборке город (168 пользователей) - Москва.\n",
    "\n",
    "Пользователи с подпиской составляют 46% выборки, пользователи без подписки - 54%.\n",
    "\n",
    "Наибольшее количество пользователей самокатов (около 750 человек) - в возрасте 20-25 лет, примерно 500 пользователей в возрасте 25-35 лет, около 200 пользователей 15-20 лет, пользователей младше 15 и старше 35 лет крайне мало - около 50 человек в совокупности. Стоит обратить внимание, что сервисы кикшеринга с самого появления имеют возрастное ограничение для пользователей - арендовать самокат можно с 18 лет - соответственно, возраст пользователей младше этого возраста указан ошибочно.\n",
    "\n",
    "Чаще всего пользователи преодолевают на самокате расстояние 3 км, поездки дальше 5 км стремятся к нулю. На промежутке от 0 до 1 км есть небольшой пик, вероятно, связанный с использованием самокатов как транспорта последней мили.\n",
    "\n",
    "В среднем пользователи тратят на поездку от 10 до 25 минут. Поездки дольше 35 минут выбиваются за пределы допустимых значений на графике, но максимальное значение составляет 41 минуту, что является вполне реалистичным значением, учитывая отсутствие ограничений по времени аренды и представленность в прокате самокатов с высокой емкостью батареи.\n",
    "\n",
    "Ориентируясь на \"ящик с усами\", поездки меньше 3 минут можно считать аномально короткими, хотя при средней скорости 15 км/ч за это время можно проехать 750 м, а на максимальной - более 1200 м. При фильтрации коротких поездок длительностью менее 2 минут, обнаружили, что 95 поездок длятся 30 секунд, при этом среднее расстояние для таких поездок больше 5 км. В реальности же самокат при максимальной разрешенной скорости 25 км/ч может проехать за это время 208 м - почти в 25 раз меньше. Очевидно, в этих строках приведены ошибочные данные по расстоянию или продолжительности поездки."
   ]
  },
  {
   "cell_type": "markdown",
   "id": "77df39dc",
   "metadata": {},
   "source": [
    "#### Шаг 4. Объединение данных"
   ]
  },
  {
   "cell_type": "markdown",
   "id": "1493d41f",
   "metadata": {},
   "source": [
    "4.1 Объединим данные о пользователях, поездках и подписках в один датафрейм. Для этого воспользуемся методом merge()"
   ]
  },
  {
   "cell_type": "code",
   "execution_count": 34,
   "id": "a0190abd",
   "metadata": {},
   "outputs": [],
   "source": [
    "data = (\n",
    "    users\n",
    "    .merge(rides, on='user_id', how='left')\n",
    "    .merge(subs, on='subscription_type', how='left')\n",
    ")"
   ]
  },
  {
   "cell_type": "code",
   "execution_count": 35,
   "id": "fe4569b1",
   "metadata": {},
   "outputs": [
    {
     "data": {
      "text/html": [
       "<div>\n",
       "<style scoped>\n",
       "    .dataframe tbody tr th:only-of-type {\n",
       "        vertical-align: middle;\n",
       "    }\n",
       "\n",
       "    .dataframe tbody tr th {\n",
       "        vertical-align: top;\n",
       "    }\n",
       "\n",
       "    .dataframe thead th {\n",
       "        text-align: right;\n",
       "    }\n",
       "</style>\n",
       "<table border=\"1\" class=\"dataframe\">\n",
       "  <thead>\n",
       "    <tr style=\"text-align: right;\">\n",
       "      <th></th>\n",
       "      <th>user_id</th>\n",
       "      <th>name</th>\n",
       "      <th>age</th>\n",
       "      <th>city</th>\n",
       "      <th>subscription_type</th>\n",
       "      <th>distance</th>\n",
       "      <th>duration</th>\n",
       "      <th>date</th>\n",
       "      <th>month</th>\n",
       "      <th>minute_price</th>\n",
       "      <th>start_ride_price</th>\n",
       "      <th>subscription_fee</th>\n",
       "    </tr>\n",
       "  </thead>\n",
       "  <tbody>\n",
       "    <tr>\n",
       "      <th>0</th>\n",
       "      <td>1</td>\n",
       "      <td>Кира</td>\n",
       "      <td>22</td>\n",
       "      <td>Тюмень</td>\n",
       "      <td>ultra</td>\n",
       "      <td>4409.919140</td>\n",
       "      <td>25.599769</td>\n",
       "      <td>2021-01-01</td>\n",
       "      <td>1</td>\n",
       "      <td>6</td>\n",
       "      <td>0</td>\n",
       "      <td>199</td>\n",
       "    </tr>\n",
       "    <tr>\n",
       "      <th>1</th>\n",
       "      <td>1</td>\n",
       "      <td>Кира</td>\n",
       "      <td>22</td>\n",
       "      <td>Тюмень</td>\n",
       "      <td>ultra</td>\n",
       "      <td>2617.592153</td>\n",
       "      <td>15.816871</td>\n",
       "      <td>2021-01-18</td>\n",
       "      <td>1</td>\n",
       "      <td>6</td>\n",
       "      <td>0</td>\n",
       "      <td>199</td>\n",
       "    </tr>\n",
       "    <tr>\n",
       "      <th>2</th>\n",
       "      <td>1</td>\n",
       "      <td>Кира</td>\n",
       "      <td>22</td>\n",
       "      <td>Тюмень</td>\n",
       "      <td>ultra</td>\n",
       "      <td>754.159807</td>\n",
       "      <td>6.232113</td>\n",
       "      <td>2021-04-20</td>\n",
       "      <td>4</td>\n",
       "      <td>6</td>\n",
       "      <td>0</td>\n",
       "      <td>199</td>\n",
       "    </tr>\n",
       "    <tr>\n",
       "      <th>3</th>\n",
       "      <td>1</td>\n",
       "      <td>Кира</td>\n",
       "      <td>22</td>\n",
       "      <td>Тюмень</td>\n",
       "      <td>ultra</td>\n",
       "      <td>2694.783254</td>\n",
       "      <td>18.511000</td>\n",
       "      <td>2021-08-11</td>\n",
       "      <td>8</td>\n",
       "      <td>6</td>\n",
       "      <td>0</td>\n",
       "      <td>199</td>\n",
       "    </tr>\n",
       "    <tr>\n",
       "      <th>4</th>\n",
       "      <td>1</td>\n",
       "      <td>Кира</td>\n",
       "      <td>22</td>\n",
       "      <td>Тюмень</td>\n",
       "      <td>ultra</td>\n",
       "      <td>4028.687306</td>\n",
       "      <td>26.265803</td>\n",
       "      <td>2021-08-28</td>\n",
       "      <td>8</td>\n",
       "      <td>6</td>\n",
       "      <td>0</td>\n",
       "      <td>199</td>\n",
       "    </tr>\n",
       "  </tbody>\n",
       "</table>\n",
       "</div>"
      ],
      "text/plain": [
       "   user_id  name  age    city subscription_type     distance   duration  \\\n",
       "0        1  Кира   22  Тюмень             ultra  4409.919140  25.599769   \n",
       "1        1  Кира   22  Тюмень             ultra  2617.592153  15.816871   \n",
       "2        1  Кира   22  Тюмень             ultra   754.159807   6.232113   \n",
       "3        1  Кира   22  Тюмень             ultra  2694.783254  18.511000   \n",
       "4        1  Кира   22  Тюмень             ultra  4028.687306  26.265803   \n",
       "\n",
       "        date  month  minute_price  start_ride_price  subscription_fee  \n",
       "0 2021-01-01      1             6                 0               199  \n",
       "1 2021-01-18      1             6                 0               199  \n",
       "2 2021-04-20      4             6                 0               199  \n",
       "3 2021-08-11      8             6                 0               199  \n",
       "4 2021-08-28      8             6                 0               199  "
      ]
     },
     "execution_count": 35,
     "metadata": {},
     "output_type": "execute_result"
    }
   ],
   "source": [
    "#посмотрим результат операции\n",
    "data.head()"
   ]
  },
  {
   "cell_type": "code",
   "execution_count": 36,
   "id": "15cba7e8",
   "metadata": {},
   "outputs": [
    {
     "data": {
      "text/plain": [
       "True"
      ]
     },
     "execution_count": 36,
     "metadata": {},
     "output_type": "execute_result"
    }
   ],
   "source": [
    "len(data) == len(rides)"
   ]
  },
  {
   "cell_type": "code",
   "execution_count": 37,
   "id": "d97f0656",
   "metadata": {},
   "outputs": [
    {
     "data": {
      "text/plain": [
       "user_id              0\n",
       "name                 0\n",
       "age                  0\n",
       "city                 0\n",
       "subscription_type    0\n",
       "distance             0\n",
       "duration             0\n",
       "date                 0\n",
       "month                0\n",
       "minute_price         0\n",
       "start_ride_price     0\n",
       "subscription_fee     0\n",
       "dtype: int64"
      ]
     },
     "execution_count": 37,
     "metadata": {},
     "output_type": "execute_result"
    }
   ],
   "source": [
    "data.isna().sum()"
   ]
  },
  {
   "cell_type": "markdown",
   "id": "fa16589f",
   "metadata": {},
   "source": [
    "4.2 Создадим ещё два датафрейма, основывыясь на `data`:\n",
    "\n",
    "- c данными о пользователях без подписки;\n",
    "- с данными о пользователях с подпиской."
   ]
  },
  {
   "cell_type": "code",
   "execution_count": 38,
   "id": "f2e45d25",
   "metadata": {},
   "outputs": [],
   "source": [
    "data_free = data.query('subscription_type == \"free\"')"
   ]
  },
  {
   "cell_type": "code",
   "execution_count": 39,
   "id": "0170f816",
   "metadata": {},
   "outputs": [],
   "source": [
    "data_ultra = data.query('subscription_type == \"ultra\"')"
   ]
  },
  {
   "cell_type": "markdown",
   "id": "3beaa78b",
   "metadata": {},
   "source": [
    "4.3 Визуализируем информацию о расстоянии и времени поездок для пользователей обеих категорий."
   ]
  },
  {
   "cell_type": "code",
   "execution_count": 40,
   "id": "b2f41c9d",
   "metadata": {},
   "outputs": [
    {
     "data": {
      "text/plain": [
       "<matplotlib.legend.Legend at 0x7f70b574ce20>"
      ]
     },
     "execution_count": 40,
     "metadata": {},
     "output_type": "execute_result"
    },
    {
     "data": {
      "image/png": "[encoded data removed]",
      "text/plain": [
       "<Figure size 432x288 with 1 Axes>"
      ]
     },
     "metadata": {
      "needs_background": "light"
     },
     "output_type": "display_data"
    }
   ],
   "source": [
    "ax = data_free['distance'].plot(kind='hist', bins=25, linewidth=5, alpha=0.7, label='free')\n",
    "data_ultra['distance'].plot(kind='hist', bins=25, linewidth=5, alpha=0.7, label='ultra', ax=ax, grid=True)\n",
    "plt.title('Расстояние за поездку по категориям')\n",
    "plt.xlabel('Расстояние, м')\n",
    "plt.ylabel('Количество поездок')\n",
    "plt.legend()"
   ]
  },
  {
   "cell_type": "code",
   "execution_count": 41,
   "id": "7c5bc9d0",
   "metadata": {
    "scrolled": true
   },
   "outputs": [
    {
     "data": {
      "text/plain": [
       "<matplotlib.legend.Legend at 0x7f7138662850>"
      ]
     },
     "execution_count": 41,
     "metadata": {},
     "output_type": "execute_result"
    },
    {
     "data": {
      "image/png": "[encoded data removed]",
      "text/plain": [
       "<Figure size 432x288 with 1 Axes>"
      ]
     },
     "metadata": {
      "needs_background": "light"
     },
     "output_type": "display_data"
    }
   ],
   "source": [
    "ax = data_free['duration'].plot(kind='hist', bins=25, linewidth=5, alpha=0.7, label='free')\n",
    "data_ultra['duration'].plot(kind='hist', bins=25, linewidth=5, alpha=0.7, label='ultra', ax=ax, grid=True)\n",
    "plt.title('Продолжительность поездки по категориям')\n",
    "plt.xlabel('Продолжительность, мин')\n",
    "plt.ylabel('Количество поездок')\n",
    "plt.legend()"
   ]
  },
  {
   "cell_type": "markdown",
   "id": "a2d77dfd",
   "metadata": {},
   "source": [
    "**Вывод:** Создали новые датафреймы c данными о пользователях без подписки и с данными о пользователях с подпиской. Проверили распределение данных по этим категориям: и по расстоянию за поездку, и по продолжительности поездки данные распределены достаточно равномерно для пользователей с подпиской и без нее. Различие в количестве наблюдений незначительное, поэтому нет оснований считать, что дисперсии выборок различны."
   ]
  },
  {
   "cell_type": "markdown",
   "id": "f4888b3f",
   "metadata": {},
   "source": [
    "#### Шаг 5. Подсчёт выручки"
   ]
  },
  {
   "cell_type": "markdown",
   "id": "e052df03",
   "metadata": {},
   "source": [
    "5.1 Создадим датафрейм с агрегированными данными о поездках на основе датафрейма с объединёнными данными из шага 4: найдем суммарное расстояние, количество поездок и суммарное время для каждого пользователя за каждый месяц."
   ]
  },
  {
   "cell_type": "code",
   "execution_count": 42,
   "id": "c53fbaee",
   "metadata": {},
   "outputs": [],
   "source": [
    "#округлим продолжительность каждой поездки до следующего целого числа\n",
    "data['duration'] = np.ceil(data['duration']).astype(int)"
   ]
  },
  {
   "cell_type": "code",
   "execution_count": 43,
   "id": "be946485",
   "metadata": {},
   "outputs": [],
   "source": [
    "user_month = (data\n",
    "              .pivot_table(\n",
    "                  index=['user_id', 'month', 'subscription_type', 'minute_price','start_ride_price', 'subscription_fee'], \n",
    "                  values=['distance', 'duration'], \n",
    "                  aggfunc=['sum', 'count'])\n",
    "             )\n",
    "user_month.columns = ['distance', 'duration', 'count', 'rides_count']"
   ]
  },
  {
   "cell_type": "code",
   "execution_count": 44,
   "id": "829cceb3",
   "metadata": {},
   "outputs": [],
   "source": [
    "#удалим индексы, чтобы сводная приняла табличный вид\n",
    "#удалим дублированный столбец по количеству поездок\n",
    "user_month = user_month.reset_index().drop('count', axis=1)"
   ]
  },
  {
   "cell_type": "code",
   "execution_count": 45,
   "id": "dbe82486",
   "metadata": {},
   "outputs": [
    {
     "data": {
      "text/html": [
       "<div>\n",
       "<style scoped>\n",
       "    .dataframe tbody tr th:only-of-type {\n",
       "        vertical-align: middle;\n",
       "    }\n",
       "\n",
       "    .dataframe tbody tr th {\n",
       "        vertical-align: top;\n",
       "    }\n",
       "\n",
       "    .dataframe thead th {\n",
       "        text-align: right;\n",
       "    }\n",
       "</style>\n",
       "<table border=\"1\" class=\"dataframe\">\n",
       "  <thead>\n",
       "    <tr style=\"text-align: right;\">\n",
       "      <th></th>\n",
       "      <th>user_id</th>\n",
       "      <th>month</th>\n",
       "      <th>subscription_type</th>\n",
       "      <th>minute_price</th>\n",
       "      <th>start_ride_price</th>\n",
       "      <th>subscription_fee</th>\n",
       "      <th>distance</th>\n",
       "      <th>duration</th>\n",
       "      <th>rides_count</th>\n",
       "    </tr>\n",
       "  </thead>\n",
       "  <tbody>\n",
       "    <tr>\n",
       "      <th>0</th>\n",
       "      <td>1</td>\n",
       "      <td>1</td>\n",
       "      <td>ultra</td>\n",
       "      <td>6</td>\n",
       "      <td>0</td>\n",
       "      <td>199</td>\n",
       "      <td>7027.511294</td>\n",
       "      <td>42</td>\n",
       "      <td>2</td>\n",
       "    </tr>\n",
       "    <tr>\n",
       "      <th>1</th>\n",
       "      <td>1</td>\n",
       "      <td>4</td>\n",
       "      <td>ultra</td>\n",
       "      <td>6</td>\n",
       "      <td>0</td>\n",
       "      <td>199</td>\n",
       "      <td>754.159807</td>\n",
       "      <td>7</td>\n",
       "      <td>1</td>\n",
       "    </tr>\n",
       "    <tr>\n",
       "      <th>2</th>\n",
       "      <td>1</td>\n",
       "      <td>8</td>\n",
       "      <td>ultra</td>\n",
       "      <td>6</td>\n",
       "      <td>0</td>\n",
       "      <td>199</td>\n",
       "      <td>6723.470560</td>\n",
       "      <td>46</td>\n",
       "      <td>2</td>\n",
       "    </tr>\n",
       "    <tr>\n",
       "      <th>3</th>\n",
       "      <td>1</td>\n",
       "      <td>10</td>\n",
       "      <td>ultra</td>\n",
       "      <td>6</td>\n",
       "      <td>0</td>\n",
       "      <td>199</td>\n",
       "      <td>5809.911100</td>\n",
       "      <td>32</td>\n",
       "      <td>2</td>\n",
       "    </tr>\n",
       "    <tr>\n",
       "      <th>4</th>\n",
       "      <td>1</td>\n",
       "      <td>11</td>\n",
       "      <td>ultra</td>\n",
       "      <td>6</td>\n",
       "      <td>0</td>\n",
       "      <td>199</td>\n",
       "      <td>7003.499363</td>\n",
       "      <td>56</td>\n",
       "      <td>3</td>\n",
       "    </tr>\n",
       "  </tbody>\n",
       "</table>\n",
       "</div>"
      ],
      "text/plain": [
       "   user_id  month subscription_type  minute_price  start_ride_price  \\\n",
       "0        1      1             ultra             6                 0   \n",
       "1        1      4             ultra             6                 0   \n",
       "2        1      8             ultra             6                 0   \n",
       "3        1     10             ultra             6                 0   \n",
       "4        1     11             ultra             6                 0   \n",
       "\n",
       "   subscription_fee     distance  duration  rides_count  \n",
       "0               199  7027.511294        42            2  \n",
       "1               199   754.159807         7            1  \n",
       "2               199  6723.470560        46            2  \n",
       "3               199  5809.911100        32            2  \n",
       "4               199  7003.499363        56            3  "
      ]
     },
     "execution_count": 45,
     "metadata": {},
     "output_type": "execute_result"
    }
   ],
   "source": [
    "#выведем получившуюся таблицу\n",
    "user_month.head()"
   ]
  },
  {
   "cell_type": "markdown",
   "id": "ff5650c3",
   "metadata": {},
   "source": [
    "5.2 Добавим в датафрейм столбец с помесячной выручкой, которую принёс каждый пользователь. Для этого обратитимся к информации об условиях оплаты для подписчиков и тех, у кого нет подписки. \n",
    "\n",
    "Помесячную выручку рассчитаем по формуле: стоимость старта поездки ×  количество поездок + стоимость одной минуты поездки × общая продолжительность всех поездок в минутах + стоимость подписки "
   ]
  },
  {
   "cell_type": "code",
   "execution_count": 46,
   "id": "177f92c7",
   "metadata": {},
   "outputs": [],
   "source": [
    "#рассчитаем помесячную выручку по каждому пользователю\n",
    "user_month['revenue'] = (\n",
    "    user_month['start_ride_price'] * user_month['rides_count'] + \n",
    "    user_month['minute_price'] * user_month['duration'] + user_month['subscription_fee'])"
   ]
  },
  {
   "cell_type": "code",
   "execution_count": 47,
   "id": "7800ceb2",
   "metadata": {},
   "outputs": [
    {
     "data": {
      "text/html": [
       "<div>\n",
       "<style scoped>\n",
       "    .dataframe tbody tr th:only-of-type {\n",
       "        vertical-align: middle;\n",
       "    }\n",
       "\n",
       "    .dataframe tbody tr th {\n",
       "        vertical-align: top;\n",
       "    }\n",
       "\n",
       "    .dataframe thead th {\n",
       "        text-align: right;\n",
       "    }\n",
       "</style>\n",
       "<table border=\"1\" class=\"dataframe\">\n",
       "  <thead>\n",
       "    <tr style=\"text-align: right;\">\n",
       "      <th></th>\n",
       "      <th>user_id</th>\n",
       "      <th>month</th>\n",
       "      <th>subscription_type</th>\n",
       "      <th>minute_price</th>\n",
       "      <th>start_ride_price</th>\n",
       "      <th>subscription_fee</th>\n",
       "      <th>distance</th>\n",
       "      <th>duration</th>\n",
       "      <th>rides_count</th>\n",
       "      <th>revenue</th>\n",
       "    </tr>\n",
       "  </thead>\n",
       "  <tbody>\n",
       "    <tr>\n",
       "      <th>0</th>\n",
       "      <td>1</td>\n",
       "      <td>1</td>\n",
       "      <td>ultra</td>\n",
       "      <td>6</td>\n",
       "      <td>0</td>\n",
       "      <td>199</td>\n",
       "      <td>7027.511294</td>\n",
       "      <td>42</td>\n",
       "      <td>2</td>\n",
       "      <td>451</td>\n",
       "    </tr>\n",
       "    <tr>\n",
       "      <th>1</th>\n",
       "      <td>1</td>\n",
       "      <td>4</td>\n",
       "      <td>ultra</td>\n",
       "      <td>6</td>\n",
       "      <td>0</td>\n",
       "      <td>199</td>\n",
       "      <td>754.159807</td>\n",
       "      <td>7</td>\n",
       "      <td>1</td>\n",
       "      <td>241</td>\n",
       "    </tr>\n",
       "    <tr>\n",
       "      <th>2</th>\n",
       "      <td>1</td>\n",
       "      <td>8</td>\n",
       "      <td>ultra</td>\n",
       "      <td>6</td>\n",
       "      <td>0</td>\n",
       "      <td>199</td>\n",
       "      <td>6723.470560</td>\n",
       "      <td>46</td>\n",
       "      <td>2</td>\n",
       "      <td>475</td>\n",
       "    </tr>\n",
       "    <tr>\n",
       "      <th>3</th>\n",
       "      <td>1</td>\n",
       "      <td>10</td>\n",
       "      <td>ultra</td>\n",
       "      <td>6</td>\n",
       "      <td>0</td>\n",
       "      <td>199</td>\n",
       "      <td>5809.911100</td>\n",
       "      <td>32</td>\n",
       "      <td>2</td>\n",
       "      <td>391</td>\n",
       "    </tr>\n",
       "    <tr>\n",
       "      <th>4</th>\n",
       "      <td>1</td>\n",
       "      <td>11</td>\n",
       "      <td>ultra</td>\n",
       "      <td>6</td>\n",
       "      <td>0</td>\n",
       "      <td>199</td>\n",
       "      <td>7003.499363</td>\n",
       "      <td>56</td>\n",
       "      <td>3</td>\n",
       "      <td>535</td>\n",
       "    </tr>\n",
       "  </tbody>\n",
       "</table>\n",
       "</div>"
      ],
      "text/plain": [
       "   user_id  month subscription_type  minute_price  start_ride_price  \\\n",
       "0        1      1             ultra             6                 0   \n",
       "1        1      4             ultra             6                 0   \n",
       "2        1      8             ultra             6                 0   \n",
       "3        1     10             ultra             6                 0   \n",
       "4        1     11             ultra             6                 0   \n",
       "\n",
       "   subscription_fee     distance  duration  rides_count  revenue  \n",
       "0               199  7027.511294        42            2      451  \n",
       "1               199   754.159807         7            1      241  \n",
       "2               199  6723.470560        46            2      475  \n",
       "3               199  5809.911100        32            2      391  \n",
       "4               199  7003.499363        56            3      535  "
      ]
     },
     "execution_count": 47,
     "metadata": {},
     "output_type": "execute_result"
    }
   ],
   "source": [
    "#выведем конечную таблицу для проверки\n",
    "user_month.head()"
   ]
  },
  {
   "cell_type": "markdown",
   "id": "963dd963",
   "metadata": {},
   "source": [
    "**Вывод:** Создали новый датафрейм `user_month` с данными по количеству поездок, суммарному расстоянию и времени для каждого пользователя за каждый месяц. Рассчитали помесячную выручку по каждому пользователю, эти данные пригодятся для проверки гипотез на шаге 6."
   ]
  },
  {
   "cell_type": "markdown",
   "id": "8817ed13",
   "metadata": {},
   "source": [
    "#### Шаг 6. Проверка гипотез"
   ]
  },
  {
   "cell_type": "markdown",
   "id": "d0365918",
   "metadata": {},
   "source": [
    "Продакт-менеджеры сервиса хотят увеличить количество пользователей с подпиской. Для этого они будут проводить различные акции, но сначала нужно выяснить несколько важных моментов.\n",
    "\n",
    "6.1 Важно понять, тратят ли пользователи с подпиской больше времени на поездки? Если да, то пользователи с подпиской могут быть «выгоднее» для компании. Проверим гипотезу. Используем исходные данные о продолжительности каждой сессии — отдельно для подписчиков и тех, у кого нет подписки. \n",
    "\n",
    "Сформулируем нулевую и альтернативные гипотезы:"
   ]
  },
  {
   "cell_type": "markdown",
   "id": "6fd50308",
   "metadata": {},
   "source": [
    "$H_{0}$: Среднее время поездки пользователей с подпиской равно среднему времени поездки пользователей без подписки\n",
    "\n",
    "$H_{1}$: Среднее время поездки пользователей с подпиской больше, чем среднее время поездки пользователей без подписки"
   ]
  },
  {
   "cell_type": "markdown",
   "id": "4412402b",
   "metadata": {},
   "source": [
    "Для проверки гипотезы используем двухвыборочный t-тест для независимых выборок. Исходя из графика распределения продолжительности поездок по категориям, будем считать, что дисперсии рассматриваемых выборок равны и не будем обозначать в t-тесте `equal_var`, поскольку по умолчанию он принимает значение `True`."
   ]
  },
  {
   "cell_type": "code",
   "execution_count": 48,
   "id": "1257b2f8",
   "metadata": {},
   "outputs": [
    {
     "name": "stdout",
     "output_type": "stream",
     "text": [
      "Среднее время с подпиской: 18.54198516280583\n",
      "Среднее время без подписки: 17.39090929866399\n",
      "p-значение: 1.2804098316645618e-34\n",
      "Отвергаем нулевую гипотезу в пользу альтернативной\n"
     ]
    }
   ],
   "source": [
    "#выведем среднее значение для обеих выборок\n",
    "print('Среднее время с подпиской:', np.mean(data_ultra['duration']))\n",
    "print('Среднее время без подписки:', np.mean(data_free['duration']))\n",
    "\n",
    "alpha = 0.05\n",
    "\n",
    "results = st.ttest_ind(\n",
    "    data_ultra['duration'],\n",
    "    data_free['duration'],\n",
    "    alternative='greater'\n",
    ")\n",
    "\n",
    "print('p-значение:', results.pvalue)\n",
    "\n",
    "if results.pvalue < alpha:\n",
    "    print('Отвергаем нулевую гипотезу в пользу альтернативной')\n",
    "else:\n",
    "    print('Не получилось отвергнуть нулевую гипотезу')"
   ]
  },
  {
   "cell_type": "markdown",
   "id": "1562bef3",
   "metadata": {},
   "source": [
    "**Вывод:** Значение p-value меньше выбранного уровня значимости, соответственно, равенство средней длительности поездки пользователей с подпиской и без нее маловероятно. Поэтому есть основания считать, что среднее время поездки пользователей с подпиской больше, чем среднее время поездки пользователей без подписки."
   ]
  },
  {
   "cell_type": "markdown",
   "id": "0d69e311",
   "metadata": {},
   "source": [
    "6.2 Расстояние одной поездки в 3130 метров — оптимальное с точки зрения износа самоката. Можно ли сказать, что среднее расстояние, которое проезжают пользователи с подпиской за одну поездку, не превышает 3130 метров?\n",
    "\n",
    "Сформулируем нулевую и альтернативную гипотезы:"
   ]
  },
  {
   "cell_type": "markdown",
   "id": "4141bdd6",
   "metadata": {},
   "source": [
    "$H_{0}$: Среднее преодоленное расстояние пользователей с подпиской за одну поездку равно 3130 м\n",
    "\n",
    "$H_{1}$: Среднее преодоленное расстояние пользователей с подпиской за одну поездку больше 3130 м"
   ]
  },
  {
   "cell_type": "markdown",
   "id": "d8677e64",
   "metadata": {},
   "source": [
    "Для проверки гипотезы используем одновыборочный t-тест"
   ]
  },
  {
   "cell_type": "code",
   "execution_count": 49,
   "id": "04075605",
   "metadata": {},
   "outputs": [
    {
     "name": "stdout",
     "output_type": "stream",
     "text": [
      "Среднее расстояние пользователей с подпиской: 3115.4453880370247\n",
      "p-значение: 0.9195368847849785\n",
      "Не получилось отвергнуть нулевую гипотезу\n"
     ]
    }
   ],
   "source": [
    "print('Среднее расстояние пользователей с подпиской:', np.mean(data_ultra['distance']))\n",
    "\n",
    "value = 3130\n",
    "alpha = 0.05\n",
    "\n",
    "results = st.ttest_1samp(\n",
    "    data_ultra['distance'],\n",
    "    value,\n",
    "    alternative='greater'\n",
    ")\n",
    "\n",
    "print('p-значение:', results.pvalue)\n",
    "\n",
    "if results.pvalue < alpha:\n",
    "    print('Отвергаем нулевую гипотезу в пользу альтернативной')\n",
    "else:\n",
    "    print('Не получилось отвергнуть нулевую гипотезу')"
   ]
  },
  {
   "cell_type": "markdown",
   "id": "3ca02120",
   "metadata": {},
   "source": [
    "**Вывод:** Вероятность случайно получить расстояние, близкое к 3130 м равна почти 92% и она больше уровня статистической значимости, поэтому по анализируемым данным нельзя с отвергнуть нулевую гипотезу. Поэтому можно сказать, что среднее расстояние, которое проезжают пользователи с подпиской за одну поездку, не превышает 3130 метров."
   ]
  },
  {
   "cell_type": "markdown",
   "id": "a77f2caf",
   "metadata": {},
   "source": [
    "6.3 Проверим гипотезу о том, будет ли помесячная выручка от пользователей с подпиской по месяцам выше, чем выручка от пользователей без подписки.\n",
    "\n",
    "Сформулируем нулевую и альтернативную гипотезы:"
   ]
  },
  {
   "cell_type": "markdown",
   "id": "8564b06b",
   "metadata": {},
   "source": [
    "$H_{0}$: Средняя помесячная выручка от пользователей с подпиской равна выручке от пользователей без подписки.\n",
    "\n",
    "$H_{1}$: Средняя помесячная выручка от пользователей с подпиской выше, чем выручка от пользователей без подписки."
   ]
  },
  {
   "cell_type": "markdown",
   "id": "68f37440",
   "metadata": {},
   "source": [
    "Посмотрим распределение помесячной выручки пользователей с подпиской и без нее на графике."
   ]
  },
  {
   "cell_type": "code",
   "execution_count": 50,
   "id": "852c7133",
   "metadata": {},
   "outputs": [
    {
     "data": {
      "text/plain": [
       "<matplotlib.legend.Legend at 0x7f70b5913310>"
      ]
     },
     "execution_count": 50,
     "metadata": {},
     "output_type": "execute_result"
    },
    {
     "data": {
      "image/png": "[encoded data removed]",
      "text/plain": [
       "<Figure size 432x288 with 1 Axes>"
      ]
     },
     "metadata": {
      "needs_background": "light"
     },
     "output_type": "display_data"
    }
   ],
   "source": [
    "ax = user_month.query('subscription_type == \"free\"')['revenue'].plot(kind='hist', bins=25, linewidth=5, alpha=0.7, label='free')\n",
    "user_month.query('subscription_type == \"ultra\"')['revenue'].plot(kind='hist', bins=25, linewidth=5, alpha=0.7, label='ultra', ax=ax, grid=True)\n",
    "plt.title('Выручка по категориям')\n",
    "plt.xlabel('Помесячная выручка на пользователя, руб')\n",
    "plt.ylabel('Количество наблюдений')\n",
    "plt.legend()"
   ]
  },
  {
   "cell_type": "markdown",
   "id": "dbe22343",
   "metadata": {},
   "source": [
    "Для проверки гипотезы используем двухвыборочный t-тест для независимых выборок. По графику распределения выручки по категориям, видим, что данных по пользователям без подписки гораздо больше, чем по подписанным пользователям, а также центр выборки по пользователям с подпиской смещен вправо. Есть высокая вероятность, что дисперсии рассматриваемых выборок различны, поэтому в t-тесте параметру `equal_var` передадим значение `False`."
   ]
  },
  {
   "cell_type": "code",
   "execution_count": 51,
   "id": "d4bce830",
   "metadata": {},
   "outputs": [
    {
     "name": "stdout",
     "output_type": "stream",
     "text": [
      "Средняя выручка с подпиской: 362.7921906022502\n",
      "Средняя выручка без подписки: 328.6413651073845\n",
      "p-значение: 8.874140893976874e-40\n",
      "Отвергаем нулевую гипотезу в пользу альтернативной\n"
     ]
    }
   ],
   "source": [
    "#выведем среднее значение для обеих выборок\n",
    "print('Средняя выручка с подпиской:', np.mean(user_month.query('subscription_type == \"ultra\"')['revenue']))\n",
    "print('Средняя выручка без подписки:', np.mean(user_month.query('subscription_type == \"free\"')['revenue']))\n",
    "\n",
    "#зададим уровень статистической значимости\n",
    "alpha = 0.05\n",
    "\n",
    "#проверим нулевую гипотезу\n",
    "results = st.ttest_ind(\n",
    "    user_month.query('subscription_type == \"ultra\"')['revenue'],\n",
    "    user_month.query('subscription_type == \"free\"')['revenue'],\n",
    "    equal_var=False,\n",
    "    alternative='greater'\n",
    ")\n",
    "\n",
    "#выведем вероятность при верной нулевой гипотезе получить наблюдаемое значение\n",
    "print('p-значение:', results.pvalue)\n",
    "\n",
    "if results.pvalue < alpha:\n",
    "    print('Отвергаем нулевую гипотезу в пользу альтернативной')\n",
    "else:\n",
    "    print('Не получилось отвергнуть нулевую гипотезу')"
   ]
  },
  {
   "cell_type": "markdown",
   "id": "bc54616d",
   "metadata": {},
   "source": [
    "**Вывод:** Полученное значение p-value гораздо ниже заданного уровня значимости, поэтому отвергаем нулевую гипотезу в пользу альтернативной. Можно полагать, что помесячная выручка от пользователей с подпиской по месяцам выше, чем выручка от пользователей без подписки."
   ]
  },
  {
   "cell_type": "markdown",
   "id": "777604ad",
   "metadata": {},
   "source": [
    "#### Общий вывод"
   ]
  },
  {
   "cell_type": "markdown",
   "id": "8add75c8",
   "metadata": {},
   "source": [
    "В ходе предобработки данных привели колонки к корректному типу даты, обнаружили и устранили строки-дубликаты, убедились в отсутствии неявных дубликатов и аномальных значений. Обнаружили данные по пользователям в возрасте 12-17 лет, при том, что у сервисов проката действует возрастное ограничение, и арендовать электросамокат могут только совершеннолетние граждане. Вероятно, наличие таких данных техническая ошибка.\n",
    "\n",
    "Данные по городам в выборке представлены достаточно равномерно. Наиболее часто встречаются данные по пользователям из Пятигорска - 219 раз, наименее представленный в выборке город (168 пользователей) - Москва.\n",
    "\n",
    "Пользователи с подпиской составляют 46% выборки, пользователи без подписки - 54%.\n",
    "\n",
    "Наибольшее количество пользователей самокатов (около 750 человек) - в возрасте 20-25 лет, примерно 500 пользователей в возрасте 25-35 лет, около 200 пользователей 15-20 лет, пользователей младше 15 и старше 35 лет крайне мало - около 50 человек в совокупности. \n",
    "\n",
    "Чаще всего пользователи преодолевают на самокате расстояние 3 км, поездки дальше 5 км стремятся к нулю. На графиках можно увидеть пик районе 500 м, вероятно, связанный с использованием самокатов как транспорта последней мили.\n",
    "\n",
    "В среднем пользователи тратят на поездку от 10 до 25 минут. Максимальное значение составляет 41 минуту, что является вполне реалистичным значением, учитывая отсутствие ограничений по времени аренды и представленность в прокате самокатов с высокой емкостью батареи.\n",
    "\n",
    "При фильтрации коротких поездок длительностью менее 2 минут, обнаружили, что 95 поездок длятся 30 секунд, при этом среднее расстояние для таких поездок больше 5 км. В реальности же самокат при максимальной разрешенной скорости 25 км/ч может проехать за это время 208 м - почти в 25 раз меньше. Очевидно, в этих строках приведены ошибочные данные по расстоянию или продолжительности поездки.\n",
    "\n",
    "Создали новые датафреймы и рассчитали помесячную выручку по каждому пользователю для проверки гипотез.\n",
    "\n",
    "В ходе проверки гипотез выявили, что:\n",
    "\n",
    "- есть основания считать, что среднее время поездки пользователей с подпиской больше, чем среднее время поездки пользователей без подписки;\n",
    "\n",
    "- среднее расстояние, которое проезжают пользователи с подпиской за одну поездку, не превышает 3130 метров;\n",
    "\n",
    "- можно полагать, что помесячная выручка от пользователей с подпиской по месяцам выше, чем выручка от пользователей без подписки.\n",
    "\n",
    "**Рекомендации:**\n",
    "\n",
    "- проверить данные в `users` на корректность для пользователей с указанным возрастом менее 18 лет;\n",
    "- проверить длительность поездок со значением 0.5 минут в `rides`, в ходе исследования обнаружены ошибочны значения по длительности поездок в 30 секунд со средним расстоянием около 5 км."
   ]
  }
 ],
 "metadata": {
  "ExecuteTimeLog": [
   {
    "duration": 1270,
    "start_time": "2024-05-03T18:11:51.604Z"
   },
   {
    "duration": 3,
    "start_time": "2024-05-03T18:43:08.780Z"
   },
   {
    "duration": 3,
    "start_time": "2024-05-03T18:53:36.400Z"
   },
   {
    "duration": 111,
    "start_time": "2024-05-03T18:53:36.405Z"
   },
   {
    "duration": 141,
    "start_time": "2024-05-03T18:53:36.517Z"
   },
   {
    "duration": 69,
    "start_time": "2024-05-03T18:53:36.660Z"
   },
   {
    "duration": 13,
    "start_time": "2024-05-03T18:53:39.548Z"
   },
   {
    "duration": 3,
    "start_time": "2024-05-03T18:55:18.452Z"
   },
   {
    "duration": 28,
    "start_time": "2024-05-03T18:55:18.479Z"
   },
   {
    "duration": 28,
    "start_time": "2024-05-03T18:55:18.509Z"
   },
   {
    "duration": 16,
    "start_time": "2024-05-03T18:55:18.539Z"
   },
   {
    "duration": 8,
    "start_time": "2024-05-03T18:55:18.557Z"
   },
   {
    "duration": 16,
    "start_time": "2024-05-03T18:55:18.567Z"
   },
   {
    "duration": 11,
    "start_time": "2024-05-03T18:55:18.585Z"
   },
   {
    "duration": 20,
    "start_time": "2024-05-03T18:55:18.597Z"
   },
   {
    "duration": 7,
    "start_time": "2024-05-03T18:55:18.619Z"
   },
   {
    "duration": 10,
    "start_time": "2024-05-03T18:55:28.540Z"
   },
   {
    "duration": 7,
    "start_time": "2024-05-03T19:03:21.938Z"
   },
   {
    "duration": 10,
    "start_time": "2024-05-03T19:03:23.820Z"
   },
   {
    "duration": 4,
    "start_time": "2024-05-03T19:28:14.114Z"
   },
   {
    "duration": 32,
    "start_time": "2024-05-03T19:28:14.122Z"
   },
   {
    "duration": 27,
    "start_time": "2024-05-03T19:28:14.157Z"
   },
   {
    "duration": 15,
    "start_time": "2024-05-03T19:28:14.186Z"
   },
   {
    "duration": 9,
    "start_time": "2024-05-03T19:28:14.203Z"
   },
   {
    "duration": 11,
    "start_time": "2024-05-03T19:28:14.214Z"
   },
   {
    "duration": 9,
    "start_time": "2024-05-03T19:28:14.317Z"
   },
   {
    "duration": 23,
    "start_time": "2024-05-03T19:28:14.328Z"
   },
   {
    "duration": 8,
    "start_time": "2024-05-03T19:28:14.353Z"
   },
   {
    "duration": 12,
    "start_time": "2024-05-03T19:28:14.363Z"
   },
   {
    "duration": 31,
    "start_time": "2024-05-03T19:28:14.377Z"
   },
   {
    "duration": 19,
    "start_time": "2024-05-03T19:28:14.409Z"
   },
   {
    "duration": 14,
    "start_time": "2024-05-03T19:28:14.430Z"
   },
   {
    "duration": 11,
    "start_time": "2024-05-03T19:28:23.748Z"
   },
   {
    "duration": 3,
    "start_time": "2024-05-03T19:30:53.744Z"
   },
   {
    "duration": 29,
    "start_time": "2024-05-03T19:30:53.749Z"
   },
   {
    "duration": 32,
    "start_time": "2024-05-03T19:30:53.780Z"
   },
   {
    "duration": 16,
    "start_time": "2024-05-03T19:30:53.813Z"
   },
   {
    "duration": 9,
    "start_time": "2024-05-03T19:30:53.831Z"
   },
   {
    "duration": 11,
    "start_time": "2024-05-03T19:30:53.842Z"
   },
   {
    "duration": 10,
    "start_time": "2024-05-03T19:30:53.878Z"
   },
   {
    "duration": 17,
    "start_time": "2024-05-03T19:30:53.890Z"
   },
   {
    "duration": 7,
    "start_time": "2024-05-03T19:30:53.908Z"
   },
   {
    "duration": 15,
    "start_time": "2024-05-03T19:30:53.917Z"
   },
   {
    "duration": 11,
    "start_time": "2024-05-03T19:30:53.933Z"
   },
   {
    "duration": 22,
    "start_time": "2024-05-03T19:30:53.946Z"
   },
   {
    "duration": 9,
    "start_time": "2024-05-03T19:30:53.970Z"
   },
   {
    "duration": 11,
    "start_time": "2024-05-03T19:30:53.984Z"
   },
   {
    "duration": 26,
    "start_time": "2024-05-03T19:30:53.997Z"
   },
   {
    "duration": 10,
    "start_time": "2024-05-03T19:30:54.025Z"
   },
   {
    "duration": 5,
    "start_time": "2024-05-03T19:30:58.927Z"
   },
   {
    "duration": 3,
    "start_time": "2024-05-03T19:32:38.545Z"
   },
   {
    "duration": 46,
    "start_time": "2024-05-03T19:32:38.550Z"
   },
   {
    "duration": 30,
    "start_time": "2024-05-03T19:32:38.597Z"
   },
   {
    "duration": 16,
    "start_time": "2024-05-03T19:32:38.628Z"
   },
   {
    "duration": 10,
    "start_time": "2024-05-03T19:32:38.646Z"
   },
   {
    "duration": 16,
    "start_time": "2024-05-03T19:32:38.658Z"
   },
   {
    "duration": 15,
    "start_time": "2024-05-03T19:32:38.676Z"
   },
   {
    "duration": 27,
    "start_time": "2024-05-03T19:32:38.692Z"
   },
   {
    "duration": 7,
    "start_time": "2024-05-03T19:32:38.721Z"
   },
   {
    "duration": 31,
    "start_time": "2024-05-03T19:32:38.729Z"
   },
   {
    "duration": 17,
    "start_time": "2024-05-03T19:32:38.763Z"
   },
   {
    "duration": 39,
    "start_time": "2024-05-03T19:32:38.782Z"
   },
   {
    "duration": 33,
    "start_time": "2024-05-03T19:32:38.823Z"
   },
   {
    "duration": 26,
    "start_time": "2024-05-03T19:32:38.859Z"
   },
   {
    "duration": 7,
    "start_time": "2024-05-03T19:32:38.888Z"
   },
   {
    "duration": 7,
    "start_time": "2024-05-03T19:32:38.896Z"
   },
   {
    "duration": 7,
    "start_time": "2024-05-03T19:32:38.904Z"
   },
   {
    "duration": 10,
    "start_time": "2024-05-03T19:32:38.913Z"
   },
   {
    "duration": 6,
    "start_time": "2024-05-03T19:32:38.925Z"
   },
   {
    "duration": 5,
    "start_time": "2024-05-03T19:32:47.553Z"
   },
   {
    "duration": 3,
    "start_time": "2024-05-03T19:37:19.123Z"
   },
   {
    "duration": 28,
    "start_time": "2024-05-03T19:37:19.130Z"
   },
   {
    "duration": 28,
    "start_time": "2024-05-03T19:37:19.160Z"
   },
   {
    "duration": 16,
    "start_time": "2024-05-03T19:37:19.189Z"
   },
   {
    "duration": 8,
    "start_time": "2024-05-03T19:37:19.206Z"
   },
   {
    "duration": 17,
    "start_time": "2024-05-03T19:37:19.216Z"
   },
   {
    "duration": 9,
    "start_time": "2024-05-03T19:37:19.243Z"
   },
   {
    "duration": 11,
    "start_time": "2024-05-03T19:37:19.254Z"
   },
   {
    "duration": 7,
    "start_time": "2024-05-03T19:37:19.267Z"
   },
   {
    "duration": 40,
    "start_time": "2024-05-03T19:37:19.275Z"
   },
   {
    "duration": 10,
    "start_time": "2024-05-03T19:37:19.317Z"
   },
   {
    "duration": 19,
    "start_time": "2024-05-03T19:37:19.328Z"
   },
   {
    "duration": 20,
    "start_time": "2024-05-03T19:37:19.349Z"
   },
   {
    "duration": 22,
    "start_time": "2024-05-03T19:37:19.371Z"
   },
   {
    "duration": 6,
    "start_time": "2024-05-03T19:37:19.394Z"
   },
   {
    "duration": 12,
    "start_time": "2024-05-03T19:37:19.402Z"
   },
   {
    "duration": 14,
    "start_time": "2024-05-03T19:37:19.416Z"
   },
   {
    "duration": 6,
    "start_time": "2024-05-03T19:37:19.432Z"
   },
   {
    "duration": 5,
    "start_time": "2024-05-03T19:37:19.439Z"
   },
   {
    "duration": 5,
    "start_time": "2024-05-03T19:37:19.446Z"
   },
   {
    "duration": 8,
    "start_time": "2024-05-03T19:37:19.546Z"
   },
   {
    "duration": 5,
    "start_time": "2024-05-03T19:37:19.556Z"
   },
   {
    "duration": 7,
    "start_time": "2024-05-03T19:37:24.893Z"
   },
   {
    "duration": 5,
    "start_time": "2024-05-03T19:38:10.923Z"
   },
   {
    "duration": 3,
    "start_time": "2024-05-03T20:47:10.854Z"
   },
   {
    "duration": 33,
    "start_time": "2024-05-03T20:47:10.858Z"
   },
   {
    "duration": 27,
    "start_time": "2024-05-03T20:47:10.893Z"
   },
   {
    "duration": 15,
    "start_time": "2024-05-03T20:47:10.921Z"
   },
   {
    "duration": 9,
    "start_time": "2024-05-03T20:47:10.938Z"
   },
   {
    "duration": 16,
    "start_time": "2024-05-03T20:47:10.948Z"
   },
   {
    "duration": 19,
    "start_time": "2024-05-03T20:47:10.965Z"
   },
   {
    "duration": 11,
    "start_time": "2024-05-03T20:47:10.986Z"
   },
   {
    "duration": 7,
    "start_time": "2024-05-03T20:47:10.998Z"
   },
   {
    "duration": 17,
    "start_time": "2024-05-03T20:47:11.014Z"
   },
   {
    "duration": 8,
    "start_time": "2024-05-03T20:47:11.033Z"
   },
   {
    "duration": 18,
    "start_time": "2024-05-03T20:47:11.042Z"
   },
   {
    "duration": 13,
    "start_time": "2024-05-03T20:47:11.062Z"
   },
   {
    "duration": 14,
    "start_time": "2024-05-03T20:47:11.077Z"
   },
   {
    "duration": 5,
    "start_time": "2024-05-03T20:47:11.093Z"
   },
   {
    "duration": 6,
    "start_time": "2024-05-03T20:47:11.114Z"
   },
   {
    "duration": 13,
    "start_time": "2024-05-03T20:47:11.121Z"
   },
   {
    "duration": 5,
    "start_time": "2024-05-03T20:47:11.136Z"
   },
   {
    "duration": 5,
    "start_time": "2024-05-03T20:47:11.143Z"
   },
   {
    "duration": 5,
    "start_time": "2024-05-03T20:47:22.820Z"
   },
   {
    "duration": 6,
    "start_time": "2024-05-03T20:47:23.896Z"
   },
   {
    "duration": 2,
    "start_time": "2024-05-03T20:48:54.566Z"
   },
   {
    "duration": 36,
    "start_time": "2024-05-03T20:48:54.572Z"
   },
   {
    "duration": 38,
    "start_time": "2024-05-03T20:48:54.609Z"
   },
   {
    "duration": 15,
    "start_time": "2024-05-03T20:48:54.649Z"
   },
   {
    "duration": 14,
    "start_time": "2024-05-03T20:48:54.665Z"
   },
   {
    "duration": 14,
    "start_time": "2024-05-03T20:48:54.682Z"
   },
   {
    "duration": 33,
    "start_time": "2024-05-03T20:48:54.697Z"
   },
   {
    "duration": 40,
    "start_time": "2024-05-03T20:48:54.732Z"
   },
   {
    "duration": 20,
    "start_time": "2024-05-03T20:48:54.773Z"
   },
   {
    "duration": 41,
    "start_time": "2024-05-03T20:48:54.794Z"
   },
   {
    "duration": 25,
    "start_time": "2024-05-03T20:48:54.837Z"
   },
   {
    "duration": 28,
    "start_time": "2024-05-03T20:48:54.863Z"
   },
   {
    "duration": 33,
    "start_time": "2024-05-03T20:48:54.893Z"
   },
   {
    "duration": 40,
    "start_time": "2024-05-03T20:48:54.928Z"
   },
   {
    "duration": 5,
    "start_time": "2024-05-03T20:48:54.970Z"
   },
   {
    "duration": 15,
    "start_time": "2024-05-03T20:48:54.977Z"
   },
   {
    "duration": 31,
    "start_time": "2024-05-03T20:48:54.993Z"
   },
   {
    "duration": 32,
    "start_time": "2024-05-03T20:48:55.026Z"
   },
   {
    "duration": 13,
    "start_time": "2024-05-03T20:48:55.061Z"
   },
   {
    "duration": 22,
    "start_time": "2024-05-03T20:48:55.075Z"
   },
   {
    "duration": 28,
    "start_time": "2024-05-03T20:48:55.099Z"
   },
   {
    "duration": 28,
    "start_time": "2024-05-03T20:48:55.129Z"
   },
   {
    "duration": 4,
    "start_time": "2024-05-03T20:48:55.158Z"
   },
   {
    "duration": 2,
    "start_time": "2024-05-03T20:49:46.572Z"
   },
   {
    "duration": 35,
    "start_time": "2024-05-03T20:49:46.575Z"
   },
   {
    "duration": 28,
    "start_time": "2024-05-03T20:49:46.612Z"
   },
   {
    "duration": 15,
    "start_time": "2024-05-03T20:49:46.641Z"
   },
   {
    "duration": 7,
    "start_time": "2024-05-03T20:49:46.658Z"
   },
   {
    "duration": 13,
    "start_time": "2024-05-03T20:49:46.667Z"
   },
   {
    "duration": 13,
    "start_time": "2024-05-03T20:49:46.681Z"
   },
   {
    "duration": 11,
    "start_time": "2024-05-03T20:49:46.695Z"
   },
   {
    "duration": 6,
    "start_time": "2024-05-03T20:49:46.707Z"
   },
   {
    "duration": 11,
    "start_time": "2024-05-03T20:49:46.723Z"
   },
   {
    "duration": 7,
    "start_time": "2024-05-03T20:49:46.736Z"
   },
   {
    "duration": 13,
    "start_time": "2024-05-03T20:49:46.744Z"
   },
   {
    "duration": 12,
    "start_time": "2024-05-03T20:49:46.758Z"
   },
   {
    "duration": 9,
    "start_time": "2024-05-03T20:49:46.771Z"
   },
   {
    "duration": 5,
    "start_time": "2024-05-03T20:49:46.781Z"
   },
   {
    "duration": 28,
    "start_time": "2024-05-03T20:49:46.787Z"
   },
   {
    "duration": 8,
    "start_time": "2024-05-03T20:49:46.818Z"
   },
   {
    "duration": 11,
    "start_time": "2024-05-03T20:49:46.828Z"
   },
   {
    "duration": 4,
    "start_time": "2024-05-03T20:49:46.840Z"
   },
   {
    "duration": 4,
    "start_time": "2024-05-03T20:49:46.846Z"
   },
   {
    "duration": 5,
    "start_time": "2024-05-03T20:49:46.852Z"
   },
   {
    "duration": 9,
    "start_time": "2024-05-03T20:49:46.858Z"
   },
   {
    "duration": 6,
    "start_time": "2024-05-03T20:49:46.868Z"
   },
   {
    "duration": 4,
    "start_time": "2024-05-03T20:49:51.486Z"
   },
   {
    "duration": 9,
    "start_time": "2024-05-03T20:51:03.020Z"
   },
   {
    "duration": 10,
    "start_time": "2024-05-03T20:53:32.074Z"
   },
   {
    "duration": 105,
    "start_time": "2024-05-03T20:57:50.453Z"
   },
   {
    "duration": 83,
    "start_time": "2024-05-03T20:58:09.763Z"
   },
   {
    "duration": 28,
    "start_time": "2024-05-03T20:58:34.082Z"
   },
   {
    "duration": 18,
    "start_time": "2024-05-03T21:00:50.997Z"
   },
   {
    "duration": 588,
    "start_time": "2024-05-03T21:01:27.109Z"
   },
   {
    "duration": 23,
    "start_time": "2024-05-03T21:01:49.957Z"
   },
   {
    "duration": 101,
    "start_time": "2024-05-03T21:02:50.645Z"
   },
   {
    "duration": 48,
    "start_time": "2024-05-03T21:05:35.496Z"
   },
   {
    "duration": 3,
    "start_time": "2024-05-03T21:06:08.553Z"
   },
   {
    "duration": 31,
    "start_time": "2024-05-03T21:06:08.560Z"
   },
   {
    "duration": 29,
    "start_time": "2024-05-03T21:06:08.593Z"
   },
   {
    "duration": 15,
    "start_time": "2024-05-03T21:06:08.623Z"
   },
   {
    "duration": 9,
    "start_time": "2024-05-03T21:06:08.640Z"
   },
   {
    "duration": 12,
    "start_time": "2024-05-03T21:06:08.651Z"
   },
   {
    "duration": 14,
    "start_time": "2024-05-03T21:06:08.664Z"
   },
   {
    "duration": 14,
    "start_time": "2024-05-03T21:06:08.680Z"
   },
   {
    "duration": 38,
    "start_time": "2024-05-03T21:06:08.696Z"
   },
   {
    "duration": 8,
    "start_time": "2024-05-03T21:06:08.736Z"
   },
   {
    "duration": 13,
    "start_time": "2024-05-03T21:06:08.745Z"
   },
   {
    "duration": 13,
    "start_time": "2024-05-03T21:06:08.760Z"
   },
   {
    "duration": 40,
    "start_time": "2024-05-03T21:06:08.775Z"
   },
   {
    "duration": 10,
    "start_time": "2024-05-03T21:06:08.817Z"
   },
   {
    "duration": 29,
    "start_time": "2024-05-03T21:06:08.829Z"
   },
   {
    "duration": 8,
    "start_time": "2024-05-03T21:06:08.859Z"
   },
   {
    "duration": 11,
    "start_time": "2024-05-03T21:06:08.868Z"
   },
   {
    "duration": 5,
    "start_time": "2024-05-03T21:06:08.881Z"
   },
   {
    "duration": 5,
    "start_time": "2024-05-03T21:06:08.888Z"
   },
   {
    "duration": 23,
    "start_time": "2024-05-03T21:06:08.895Z"
   },
   {
    "duration": 11,
    "start_time": "2024-05-03T21:06:08.919Z"
   },
   {
    "duration": 9,
    "start_time": "2024-05-03T21:06:08.932Z"
   },
   {
    "duration": 8,
    "start_time": "2024-05-03T21:06:08.943Z"
   },
   {
    "duration": 5,
    "start_time": "2024-05-03T21:06:08.952Z"
   },
   {
    "duration": 5,
    "start_time": "2024-05-03T21:06:12.203Z"
   },
   {
    "duration": 65,
    "start_time": "2024-05-03T21:34:23.905Z"
   },
   {
    "duration": 87,
    "start_time": "2024-05-03T21:37:18.526Z"
   },
   {
    "duration": 1410,
    "start_time": "2024-05-04T14:52:59.189Z"
   },
   {
    "duration": 104,
    "start_time": "2024-05-04T14:53:00.602Z"
   },
   {
    "duration": 139,
    "start_time": "2024-05-04T14:53:00.708Z"
   },
   {
    "duration": 70,
    "start_time": "2024-05-04T14:53:00.849Z"
   },
   {
    "duration": 20,
    "start_time": "2024-05-04T14:53:00.922Z"
   },
   {
    "duration": 73,
    "start_time": "2024-05-04T14:53:00.944Z"
   },
   {
    "duration": 35,
    "start_time": "2024-05-04T14:53:01.020Z"
   },
   {
    "duration": 96,
    "start_time": "2024-05-04T14:53:01.057Z"
   },
   {
    "duration": 63,
    "start_time": "2024-05-04T14:53:01.154Z"
   },
   {
    "duration": 11,
    "start_time": "2024-05-04T14:53:01.218Z"
   },
   {
    "duration": 57,
    "start_time": "2024-05-04T14:53:01.231Z"
   },
   {
    "duration": 16,
    "start_time": "2024-05-04T14:53:01.296Z"
   },
   {
    "duration": 43,
    "start_time": "2024-05-04T14:53:01.319Z"
   },
   {
    "duration": 43,
    "start_time": "2024-05-04T14:53:01.365Z"
   },
   {
    "duration": 61,
    "start_time": "2024-05-04T14:53:01.409Z"
   },
   {
    "duration": 26,
    "start_time": "2024-05-04T14:53:01.472Z"
   },
   {
    "duration": 68,
    "start_time": "2024-05-04T14:53:01.500Z"
   },
   {
    "duration": 83,
    "start_time": "2024-05-04T14:53:01.570Z"
   },
   {
    "duration": 57,
    "start_time": "2024-05-04T14:53:01.655Z"
   },
   {
    "duration": 57,
    "start_time": "2024-05-04T14:53:01.713Z"
   },
   {
    "duration": 69,
    "start_time": "2024-05-04T14:53:01.772Z"
   },
   {
    "duration": 66,
    "start_time": "2024-05-04T14:53:01.843Z"
   },
   {
    "duration": 178,
    "start_time": "2024-05-04T14:53:01.911Z"
   },
   {
    "duration": 66,
    "start_time": "2024-05-04T14:53:02.091Z"
   },
   {
    "duration": 38,
    "start_time": "2024-05-04T14:53:02.158Z"
   },
   {
    "duration": 138,
    "start_time": "2024-05-04T14:56:36.578Z"
   },
   {
    "duration": 11,
    "start_time": "2024-05-04T14:57:10.086Z"
   },
   {
    "duration": 15,
    "start_time": "2024-05-04T14:57:23.717Z"
   },
   {
    "duration": 164,
    "start_time": "2024-05-04T14:59:19.161Z"
   },
   {
    "duration": 16,
    "start_time": "2024-05-04T14:59:44.636Z"
   },
   {
    "duration": 166,
    "start_time": "2024-05-04T15:02:13.161Z"
   },
   {
    "duration": 11,
    "start_time": "2024-05-04T15:02:48.754Z"
   },
   {
    "duration": 132,
    "start_time": "2024-05-04T15:03:02.685Z"
   },
   {
    "duration": 138,
    "start_time": "2024-05-04T15:03:16.287Z"
   },
   {
    "duration": 141,
    "start_time": "2024-05-04T15:04:28.371Z"
   },
   {
    "duration": 164,
    "start_time": "2024-05-04T15:06:49.534Z"
   },
   {
    "duration": 147,
    "start_time": "2024-05-04T15:06:57.835Z"
   },
   {
    "duration": 160,
    "start_time": "2024-05-04T15:52:23.751Z"
   },
   {
    "duration": 249,
    "start_time": "2024-05-04T15:58:55.690Z"
   },
   {
    "duration": 165,
    "start_time": "2024-05-04T15:59:27.079Z"
   },
   {
    "duration": 160,
    "start_time": "2024-05-04T15:59:42.010Z"
   },
   {
    "duration": 162,
    "start_time": "2024-05-04T15:59:52.770Z"
   },
   {
    "duration": 165,
    "start_time": "2024-05-04T15:59:58.605Z"
   },
   {
    "duration": 153,
    "start_time": "2024-05-04T16:01:46.777Z"
   },
   {
    "duration": 158,
    "start_time": "2024-05-04T16:10:58.603Z"
   },
   {
    "duration": 163,
    "start_time": "2024-05-04T16:11:13.558Z"
   },
   {
    "duration": 84,
    "start_time": "2024-05-04T16:14:11.660Z"
   },
   {
    "duration": 150,
    "start_time": "2024-05-04T16:14:18.850Z"
   },
   {
    "duration": 153,
    "start_time": "2024-05-04T16:15:54.494Z"
   },
   {
    "duration": 138,
    "start_time": "2024-05-04T16:22:21.314Z"
   },
   {
    "duration": 223,
    "start_time": "2024-05-04T16:23:14.138Z"
   },
   {
    "duration": 142,
    "start_time": "2024-05-04T16:26:30.359Z"
   },
   {
    "duration": 2,
    "start_time": "2024-05-04T16:27:05.920Z"
   },
   {
    "duration": 111,
    "start_time": "2024-05-04T16:27:11.752Z"
   },
   {
    "duration": 171,
    "start_time": "2024-05-04T16:27:53.762Z"
   },
   {
    "duration": 2137,
    "start_time": "2024-05-04T16:37:04.705Z"
   },
   {
    "duration": 163,
    "start_time": "2024-05-04T16:38:20.461Z"
   },
   {
    "duration": 7,
    "start_time": "2024-05-04T16:38:50.870Z"
   },
   {
    "duration": 262,
    "start_time": "2024-05-04T16:42:17.604Z"
   },
   {
    "duration": 4,
    "start_time": "2024-05-04T16:42:56.926Z"
   },
   {
    "duration": 5,
    "start_time": "2024-05-04T16:43:14.755Z"
   },
   {
    "duration": 12,
    "start_time": "2024-05-04T16:44:13.175Z"
   },
   {
    "duration": 11,
    "start_time": "2024-05-04T16:44:32.187Z"
   },
   {
    "duration": 5,
    "start_time": "2024-05-04T16:45:11.716Z"
   },
   {
    "duration": 13,
    "start_time": "2024-05-04T16:47:55.932Z"
   },
   {
    "duration": 8,
    "start_time": "2024-05-04T16:48:10.570Z"
   },
   {
    "duration": 18,
    "start_time": "2024-05-04T16:50:01.143Z"
   },
   {
    "duration": 9,
    "start_time": "2024-05-04T16:50:14.170Z"
   },
   {
    "duration": 7,
    "start_time": "2024-05-04T16:50:28.883Z"
   },
   {
    "duration": 301,
    "start_time": "2024-05-04T16:54:04.674Z"
   },
   {
    "duration": 9,
    "start_time": "2024-05-04T16:54:21.679Z"
   },
   {
    "duration": 7,
    "start_time": "2024-05-04T16:54:25.794Z"
   },
   {
    "duration": 1138,
    "start_time": "2024-05-04T16:57:08.408Z"
   },
   {
    "duration": 179,
    "start_time": "2024-05-04T16:57:34.040Z"
   },
   {
    "duration": 5340,
    "start_time": "2024-05-04T16:57:58.121Z"
   },
   {
    "duration": 189,
    "start_time": "2024-05-04T16:58:34.033Z"
   },
   {
    "duration": 1263,
    "start_time": "2024-05-06T09:47:29.076Z"
   },
   {
    "duration": 77,
    "start_time": "2024-05-06T09:47:30.341Z"
   },
   {
    "duration": 78,
    "start_time": "2024-05-06T09:47:30.419Z"
   },
   {
    "duration": 62,
    "start_time": "2024-05-06T09:47:30.498Z"
   },
   {
    "duration": 15,
    "start_time": "2024-05-06T09:47:30.562Z"
   },
   {
    "duration": 92,
    "start_time": "2024-05-06T09:47:30.579Z"
   },
   {
    "duration": 62,
    "start_time": "2024-05-06T09:47:30.673Z"
   },
   {
    "duration": 59,
    "start_time": "2024-05-06T09:47:30.737Z"
   },
   {
    "duration": 58,
    "start_time": "2024-05-06T09:47:30.798Z"
   },
   {
    "duration": 40,
    "start_time": "2024-05-06T09:47:30.858Z"
   },
   {
    "duration": 56,
    "start_time": "2024-05-06T09:47:30.900Z"
   },
   {
    "duration": 46,
    "start_time": "2024-05-06T09:47:30.958Z"
   },
   {
    "duration": 89,
    "start_time": "2024-05-06T09:47:31.006Z"
   },
   {
    "duration": 65,
    "start_time": "2024-05-06T09:47:31.099Z"
   },
   {
    "duration": 83,
    "start_time": "2024-05-06T09:47:31.166Z"
   },
   {
    "duration": 50,
    "start_time": "2024-05-06T09:47:31.251Z"
   },
   {
    "duration": 25,
    "start_time": "2024-05-06T09:47:31.302Z"
   },
   {
    "duration": 21,
    "start_time": "2024-05-06T09:47:31.328Z"
   },
   {
    "duration": 19,
    "start_time": "2024-05-06T09:47:31.350Z"
   },
   {
    "duration": 46,
    "start_time": "2024-05-06T09:47:31.371Z"
   },
   {
    "duration": 78,
    "start_time": "2024-05-06T09:47:31.418Z"
   },
   {
    "duration": 29,
    "start_time": "2024-05-06T09:47:31.497Z"
   },
   {
    "duration": 13,
    "start_time": "2024-05-06T09:47:31.528Z"
   },
   {
    "duration": 5,
    "start_time": "2024-05-06T09:47:31.543Z"
   },
   {
    "duration": 12,
    "start_time": "2024-05-06T09:47:31.550Z"
   },
   {
    "duration": 14,
    "start_time": "2024-05-06T09:47:31.564Z"
   },
   {
    "duration": 6,
    "start_time": "2024-05-06T09:47:31.579Z"
   },
   {
    "duration": 9,
    "start_time": "2024-05-06T09:47:31.587Z"
   },
   {
    "duration": 4622,
    "start_time": "2024-05-06T09:47:40.718Z"
   },
   {
    "duration": 143,
    "start_time": "2024-05-06T09:48:19.522Z"
   },
   {
    "duration": 141,
    "start_time": "2024-05-06T09:49:01.975Z"
   },
   {
    "duration": 136,
    "start_time": "2024-05-06T09:51:32.242Z"
   },
   {
    "duration": 140,
    "start_time": "2024-05-06T09:52:56.600Z"
   },
   {
    "duration": 140,
    "start_time": "2024-05-06T09:53:05.126Z"
   },
   {
    "duration": 157,
    "start_time": "2024-05-06T09:53:13.193Z"
   },
   {
    "duration": 151,
    "start_time": "2024-05-06T09:53:29.654Z"
   },
   {
    "duration": 3,
    "start_time": "2024-05-06T09:59:43.294Z"
   },
   {
    "duration": 49,
    "start_time": "2024-05-06T09:59:43.299Z"
   },
   {
    "duration": 29,
    "start_time": "2024-05-06T09:59:43.349Z"
   },
   {
    "duration": 16,
    "start_time": "2024-05-06T09:59:43.380Z"
   },
   {
    "duration": 8,
    "start_time": "2024-05-06T09:59:43.398Z"
   },
   {
    "duration": 24,
    "start_time": "2024-05-06T09:59:43.408Z"
   },
   {
    "duration": 13,
    "start_time": "2024-05-06T09:59:43.434Z"
   },
   {
    "duration": 31,
    "start_time": "2024-05-06T09:59:43.448Z"
   },
   {
    "duration": 24,
    "start_time": "2024-05-06T09:59:43.481Z"
   },
   {
    "duration": 7,
    "start_time": "2024-05-06T09:59:43.507Z"
   },
   {
    "duration": 13,
    "start_time": "2024-05-06T09:59:43.515Z"
   },
   {
    "duration": 6,
    "start_time": "2024-05-06T09:59:43.530Z"
   },
   {
    "duration": 224,
    "start_time": "2024-05-06T09:59:43.538Z"
   },
   {
    "duration": 14,
    "start_time": "2024-05-06T09:59:43.764Z"
   },
   {
    "duration": 24,
    "start_time": "2024-05-06T09:59:43.780Z"
   },
   {
    "duration": 5,
    "start_time": "2024-05-06T09:59:43.806Z"
   },
   {
    "duration": 5,
    "start_time": "2024-05-06T09:59:43.813Z"
   },
   {
    "duration": 5,
    "start_time": "2024-05-06T09:59:43.819Z"
   },
   {
    "duration": 6,
    "start_time": "2024-05-06T09:59:43.825Z"
   },
   {
    "duration": 5,
    "start_time": "2024-05-06T09:59:43.832Z"
   },
   {
    "duration": 29,
    "start_time": "2024-05-06T09:59:43.838Z"
   },
   {
    "duration": 27,
    "start_time": "2024-05-06T09:59:43.869Z"
   },
   {
    "duration": 9,
    "start_time": "2024-05-06T09:59:43.898Z"
   },
   {
    "duration": 6,
    "start_time": "2024-05-06T09:59:43.908Z"
   },
   {
    "duration": 6,
    "start_time": "2024-05-06T09:59:43.916Z"
   },
   {
    "duration": 153,
    "start_time": "2024-05-06T09:59:43.924Z"
   },
   {
    "duration": 3,
    "start_time": "2024-05-06T10:00:12.484Z"
   },
   {
    "duration": 62,
    "start_time": "2024-05-06T10:00:12.489Z"
   },
   {
    "duration": 29,
    "start_time": "2024-05-06T10:00:12.552Z"
   },
   {
    "duration": 29,
    "start_time": "2024-05-06T10:00:12.583Z"
   },
   {
    "duration": 21,
    "start_time": "2024-05-06T10:00:12.615Z"
   },
   {
    "duration": 53,
    "start_time": "2024-05-06T10:00:12.638Z"
   },
   {
    "duration": 47,
    "start_time": "2024-05-06T10:00:12.693Z"
   },
   {
    "duration": 25,
    "start_time": "2024-05-06T10:00:12.741Z"
   },
   {
    "duration": 26,
    "start_time": "2024-05-06T10:00:12.767Z"
   },
   {
    "duration": 13,
    "start_time": "2024-05-06T10:00:12.795Z"
   },
   {
    "duration": 28,
    "start_time": "2024-05-06T10:00:12.810Z"
   },
   {
    "duration": 36,
    "start_time": "2024-05-06T10:00:12.840Z"
   },
   {
    "duration": 32,
    "start_time": "2024-05-06T10:00:12.880Z"
   },
   {
    "duration": 40,
    "start_time": "2024-05-06T10:00:12.913Z"
   },
   {
    "duration": 44,
    "start_time": "2024-05-06T10:00:12.955Z"
   },
   {
    "duration": 16,
    "start_time": "2024-05-06T10:00:13.001Z"
   },
   {
    "duration": 32,
    "start_time": "2024-05-06T10:00:13.019Z"
   },
   {
    "duration": 16,
    "start_time": "2024-05-06T10:00:13.053Z"
   },
   {
    "duration": 26,
    "start_time": "2024-05-06T10:00:13.071Z"
   },
   {
    "duration": 21,
    "start_time": "2024-05-06T10:00:13.098Z"
   },
   {
    "duration": 22,
    "start_time": "2024-05-06T10:00:13.121Z"
   },
   {
    "duration": 30,
    "start_time": "2024-05-06T10:00:13.145Z"
   },
   {
    "duration": 17,
    "start_time": "2024-05-06T10:00:13.178Z"
   },
   {
    "duration": 28,
    "start_time": "2024-05-06T10:00:13.196Z"
   },
   {
    "duration": 12,
    "start_time": "2024-05-06T10:00:13.226Z"
   },
   {
    "duration": 142,
    "start_time": "2024-05-06T10:00:13.239Z"
   },
   {
    "duration": 68,
    "start_time": "2024-05-06T10:00:24.640Z"
   },
   {
    "duration": 128,
    "start_time": "2024-05-06T10:05:20.573Z"
   },
   {
    "duration": 47,
    "start_time": "2024-05-06T14:12:17.665Z"
   },
   {
    "duration": 1293,
    "start_time": "2024-05-06T14:12:25.839Z"
   },
   {
    "duration": 105,
    "start_time": "2024-05-06T14:12:27.134Z"
   },
   {
    "duration": 140,
    "start_time": "2024-05-06T14:12:27.241Z"
   },
   {
    "duration": 70,
    "start_time": "2024-05-06T14:12:27.384Z"
   },
   {
    "duration": 13,
    "start_time": "2024-05-06T14:12:27.455Z"
   },
   {
    "duration": 10,
    "start_time": "2024-05-06T14:12:27.469Z"
   },
   {
    "duration": 9,
    "start_time": "2024-05-06T14:12:27.480Z"
   },
   {
    "duration": 16,
    "start_time": "2024-05-06T14:12:27.491Z"
   },
   {
    "duration": 32,
    "start_time": "2024-05-06T14:12:27.508Z"
   },
   {
    "duration": 6,
    "start_time": "2024-05-06T14:12:27.542Z"
   },
   {
    "duration": 11,
    "start_time": "2024-05-06T14:12:27.549Z"
   },
   {
    "duration": 7,
    "start_time": "2024-05-06T14:12:27.561Z"
   },
   {
    "duration": 13,
    "start_time": "2024-05-06T14:12:27.569Z"
   },
   {
    "duration": 19,
    "start_time": "2024-05-06T14:12:27.583Z"
   },
   {
    "duration": 44,
    "start_time": "2024-05-06T14:12:27.603Z"
   },
   {
    "duration": 6,
    "start_time": "2024-05-06T14:12:27.648Z"
   },
   {
    "duration": 6,
    "start_time": "2024-05-06T14:12:27.655Z"
   },
   {
    "duration": 5,
    "start_time": "2024-05-06T14:12:27.662Z"
   },
   {
    "duration": 7,
    "start_time": "2024-05-06T14:12:27.668Z"
   },
   {
    "duration": 7,
    "start_time": "2024-05-06T14:12:27.676Z"
   },
   {
    "duration": 9,
    "start_time": "2024-05-06T14:12:27.685Z"
   },
   {
    "duration": 24,
    "start_time": "2024-05-06T14:12:27.695Z"
   },
   {
    "duration": 13,
    "start_time": "2024-05-06T14:12:27.720Z"
   },
   {
    "duration": 16,
    "start_time": "2024-05-06T14:12:27.735Z"
   },
   {
    "duration": 6,
    "start_time": "2024-05-06T14:12:27.753Z"
   },
   {
    "duration": 148,
    "start_time": "2024-05-06T14:12:27.761Z"
   },
   {
    "duration": 73,
    "start_time": "2024-05-06T14:12:27.910Z"
   },
   {
    "duration": 114,
    "start_time": "2024-05-06T14:12:34.729Z"
   },
   {
    "duration": 196,
    "start_time": "2024-05-06T14:13:42.966Z"
   },
   {
    "duration": 234,
    "start_time": "2024-05-06T14:15:17.788Z"
   },
   {
    "duration": 242,
    "start_time": "2024-05-06T14:17:42.071Z"
   },
   {
    "duration": 219,
    "start_time": "2024-05-06T14:19:28.233Z"
   },
   {
    "duration": 248,
    "start_time": "2024-05-06T14:20:38.639Z"
   },
   {
    "duration": 81,
    "start_time": "2024-05-06T14:21:20.611Z"
   },
   {
    "duration": 275,
    "start_time": "2024-05-06T14:21:26.887Z"
   },
   {
    "duration": 237,
    "start_time": "2024-05-06T14:21:34.489Z"
   },
   {
    "duration": 324,
    "start_time": "2024-05-06T14:21:40.607Z"
   },
   {
    "duration": 249,
    "start_time": "2024-05-06T14:21:46.777Z"
   },
   {
    "duration": 77,
    "start_time": "2024-05-06T14:44:50.776Z"
   },
   {
    "duration": 3,
    "start_time": "2024-05-06T15:04:30.423Z"
   },
   {
    "duration": 108,
    "start_time": "2024-05-06T15:04:30.428Z"
   },
   {
    "duration": 86,
    "start_time": "2024-05-06T15:04:30.538Z"
   },
   {
    "duration": 54,
    "start_time": "2024-05-06T15:04:30.626Z"
   },
   {
    "duration": 42,
    "start_time": "2024-05-06T15:04:30.682Z"
   },
   {
    "duration": 55,
    "start_time": "2024-05-06T15:04:30.725Z"
   },
   {
    "duration": 49,
    "start_time": "2024-05-06T15:04:30.782Z"
   },
   {
    "duration": 38,
    "start_time": "2024-05-06T15:04:30.833Z"
   },
   {
    "duration": 55,
    "start_time": "2024-05-06T15:04:30.873Z"
   },
   {
    "duration": 36,
    "start_time": "2024-05-06T15:04:30.930Z"
   },
   {
    "duration": 88,
    "start_time": "2024-05-06T15:04:30.967Z"
   },
   {
    "duration": 75,
    "start_time": "2024-05-06T15:04:31.057Z"
   },
   {
    "duration": 80,
    "start_time": "2024-05-06T15:04:31.134Z"
   },
   {
    "duration": 39,
    "start_time": "2024-05-06T15:04:31.217Z"
   },
   {
    "duration": 76,
    "start_time": "2024-05-06T15:04:31.257Z"
   },
   {
    "duration": 37,
    "start_time": "2024-05-06T15:04:31.334Z"
   },
   {
    "duration": 63,
    "start_time": "2024-05-06T15:04:31.373Z"
   },
   {
    "duration": 131,
    "start_time": "2024-05-06T15:04:31.437Z"
   },
   {
    "duration": 39,
    "start_time": "2024-05-06T15:04:31.569Z"
   },
   {
    "duration": 27,
    "start_time": "2024-05-06T15:04:31.610Z"
   },
   {
    "duration": 28,
    "start_time": "2024-05-06T15:04:31.639Z"
   },
   {
    "duration": 43,
    "start_time": "2024-05-06T15:04:31.668Z"
   },
   {
    "duration": 29,
    "start_time": "2024-05-06T15:04:31.713Z"
   },
   {
    "duration": 18,
    "start_time": "2024-05-06T15:04:31.743Z"
   },
   {
    "duration": 21,
    "start_time": "2024-05-06T15:04:31.762Z"
   },
   {
    "duration": 154,
    "start_time": "2024-05-06T15:04:31.785Z"
   },
   {
    "duration": 80,
    "start_time": "2024-05-06T15:04:31.941Z"
   },
   {
    "duration": 152,
    "start_time": "2024-05-06T15:04:36.874Z"
   },
   {
    "duration": 80,
    "start_time": "2024-05-06T15:06:12.715Z"
   },
   {
    "duration": 73,
    "start_time": "2024-05-06T15:06:25.904Z"
   },
   {
    "duration": 81,
    "start_time": "2024-05-06T15:06:31.824Z"
   },
   {
    "duration": 170,
    "start_time": "2024-05-06T15:06:46.641Z"
   },
   {
    "duration": 334,
    "start_time": "2024-05-06T15:07:07.322Z"
   },
   {
    "duration": 77,
    "start_time": "2024-05-06T15:07:14.588Z"
   },
   {
    "duration": 118,
    "start_time": "2024-05-06T15:07:47.354Z"
   },
   {
    "duration": 129,
    "start_time": "2024-05-06T15:08:03.237Z"
   },
   {
    "duration": 75,
    "start_time": "2024-05-06T15:11:06.682Z"
   },
   {
    "duration": 73,
    "start_time": "2024-05-06T15:11:22.554Z"
   },
   {
    "duration": 72,
    "start_time": "2024-05-06T15:11:29.366Z"
   },
   {
    "duration": 3,
    "start_time": "2024-05-06T15:19:30.899Z"
   },
   {
    "duration": 29,
    "start_time": "2024-05-06T15:19:31.049Z"
   },
   {
    "duration": 54,
    "start_time": "2024-05-06T15:19:31.079Z"
   },
   {
    "duration": 41,
    "start_time": "2024-05-06T15:19:31.134Z"
   },
   {
    "duration": 17,
    "start_time": "2024-05-06T15:19:31.176Z"
   },
   {
    "duration": 44,
    "start_time": "2024-05-06T15:19:31.195Z"
   },
   {
    "duration": 30,
    "start_time": "2024-05-06T15:19:31.240Z"
   },
   {
    "duration": 39,
    "start_time": "2024-05-06T15:19:31.271Z"
   },
   {
    "duration": 34,
    "start_time": "2024-05-06T15:19:31.312Z"
   },
   {
    "duration": 23,
    "start_time": "2024-05-06T15:19:31.347Z"
   },
   {
    "duration": 43,
    "start_time": "2024-05-06T15:19:31.372Z"
   },
   {
    "duration": 39,
    "start_time": "2024-05-06T15:19:31.416Z"
   },
   {
    "duration": 44,
    "start_time": "2024-05-06T15:19:31.457Z"
   },
   {
    "duration": 35,
    "start_time": "2024-05-06T15:19:31.503Z"
   },
   {
    "duration": 42,
    "start_time": "2024-05-06T15:19:31.540Z"
   },
   {
    "duration": 36,
    "start_time": "2024-05-06T15:19:31.583Z"
   },
   {
    "duration": 27,
    "start_time": "2024-05-06T15:19:31.620Z"
   },
   {
    "duration": 24,
    "start_time": "2024-05-06T15:19:31.649Z"
   },
   {
    "duration": 28,
    "start_time": "2024-05-06T15:19:31.674Z"
   },
   {
    "duration": 22,
    "start_time": "2024-05-06T15:19:31.703Z"
   },
   {
    "duration": 43,
    "start_time": "2024-05-06T15:19:31.726Z"
   },
   {
    "duration": 15,
    "start_time": "2024-05-06T15:19:31.770Z"
   },
   {
    "duration": 25,
    "start_time": "2024-05-06T15:19:31.787Z"
   },
   {
    "duration": 11,
    "start_time": "2024-05-06T15:19:31.814Z"
   },
   {
    "duration": 27,
    "start_time": "2024-05-06T15:19:31.827Z"
   },
   {
    "duration": 141,
    "start_time": "2024-05-06T15:19:31.856Z"
   },
   {
    "duration": 81,
    "start_time": "2024-05-06T15:19:31.999Z"
   },
   {
    "duration": 121,
    "start_time": "2024-05-06T15:19:36.810Z"
   },
   {
    "duration": 144,
    "start_time": "2024-05-06T15:33:51.055Z"
   },
   {
    "duration": 125,
    "start_time": "2024-05-06T15:34:01.091Z"
   },
   {
    "duration": 204,
    "start_time": "2024-05-06T15:34:09.658Z"
   },
   {
    "duration": 135,
    "start_time": "2024-05-06T15:34:31.243Z"
   },
   {
    "duration": 126,
    "start_time": "2024-05-06T15:34:51.522Z"
   },
   {
    "duration": 126,
    "start_time": "2024-05-06T15:35:02.748Z"
   },
   {
    "duration": 143,
    "start_time": "2024-05-06T15:35:08.701Z"
   },
   {
    "duration": 121,
    "start_time": "2024-05-06T15:36:12.626Z"
   },
   {
    "duration": 2,
    "start_time": "2024-05-06T15:44:47.269Z"
   },
   {
    "duration": 54,
    "start_time": "2024-05-06T15:44:47.273Z"
   },
   {
    "duration": 27,
    "start_time": "2024-05-06T15:44:47.329Z"
   },
   {
    "duration": 25,
    "start_time": "2024-05-06T15:44:47.357Z"
   },
   {
    "duration": 11,
    "start_time": "2024-05-06T15:44:47.384Z"
   },
   {
    "duration": 32,
    "start_time": "2024-05-06T15:44:47.396Z"
   },
   {
    "duration": 34,
    "start_time": "2024-05-06T15:44:47.430Z"
   },
   {
    "duration": 34,
    "start_time": "2024-05-06T15:44:47.466Z"
   },
   {
    "duration": 37,
    "start_time": "2024-05-06T15:44:47.501Z"
   },
   {
    "duration": 10,
    "start_time": "2024-05-06T15:44:47.540Z"
   },
   {
    "duration": 26,
    "start_time": "2024-05-06T15:44:47.552Z"
   },
   {
    "duration": 30,
    "start_time": "2024-05-06T15:44:47.580Z"
   },
   {
    "duration": 39,
    "start_time": "2024-05-06T15:44:47.611Z"
   },
   {
    "duration": 32,
    "start_time": "2024-05-06T15:44:47.653Z"
   },
   {
    "duration": 22,
    "start_time": "2024-05-06T15:44:47.687Z"
   },
   {
    "duration": 20,
    "start_time": "2024-05-06T15:44:47.711Z"
   },
   {
    "duration": 28,
    "start_time": "2024-05-06T15:44:47.732Z"
   },
   {
    "duration": 12,
    "start_time": "2024-05-06T15:44:47.762Z"
   },
   {
    "duration": 25,
    "start_time": "2024-05-06T15:44:47.776Z"
   },
   {
    "duration": 10,
    "start_time": "2024-05-06T15:44:47.803Z"
   },
   {
    "duration": 34,
    "start_time": "2024-05-06T15:44:47.814Z"
   },
   {
    "duration": 27,
    "start_time": "2024-05-06T15:44:47.850Z"
   },
   {
    "duration": 24,
    "start_time": "2024-05-06T15:44:47.879Z"
   },
   {
    "duration": 5,
    "start_time": "2024-05-06T15:44:47.905Z"
   },
   {
    "duration": 17,
    "start_time": "2024-05-06T15:44:47.912Z"
   },
   {
    "duration": 171,
    "start_time": "2024-05-06T15:44:47.931Z"
   },
   {
    "duration": 82,
    "start_time": "2024-05-06T15:44:48.103Z"
   },
   {
    "duration": 125,
    "start_time": "2024-05-06T15:44:54.113Z"
   },
   {
    "duration": 121,
    "start_time": "2024-05-06T15:47:55.764Z"
   },
   {
    "duration": 237,
    "start_time": "2024-05-06T15:49:41.105Z"
   },
   {
    "duration": 123,
    "start_time": "2024-05-06T15:50:18.523Z"
   },
   {
    "duration": 238,
    "start_time": "2024-05-06T15:55:50.278Z"
   },
   {
    "duration": 1389,
    "start_time": "2024-05-06T19:38:29.980Z"
   },
   {
    "duration": 107,
    "start_time": "2024-05-06T19:38:31.372Z"
   },
   {
    "duration": 143,
    "start_time": "2024-05-06T19:38:31.481Z"
   },
   {
    "duration": 71,
    "start_time": "2024-05-06T19:38:31.626Z"
   },
   {
    "duration": 14,
    "start_time": "2024-05-06T19:38:31.699Z"
   },
   {
    "duration": 17,
    "start_time": "2024-05-06T19:38:31.714Z"
   },
   {
    "duration": 30,
    "start_time": "2024-05-06T19:38:31.733Z"
   },
   {
    "duration": 13,
    "start_time": "2024-05-06T19:38:31.765Z"
   },
   {
    "duration": 29,
    "start_time": "2024-05-06T19:38:31.779Z"
   },
   {
    "duration": 7,
    "start_time": "2024-05-06T19:38:31.810Z"
   },
   {
    "duration": 56,
    "start_time": "2024-05-06T19:38:31.819Z"
   },
   {
    "duration": 8,
    "start_time": "2024-05-06T19:38:31.876Z"
   },
   {
    "duration": 20,
    "start_time": "2024-05-06T19:38:31.886Z"
   },
   {
    "duration": 9,
    "start_time": "2024-05-06T19:38:31.909Z"
   },
   {
    "duration": 11,
    "start_time": "2024-05-06T19:38:31.920Z"
   },
   {
    "duration": 7,
    "start_time": "2024-05-06T19:38:31.933Z"
   },
   {
    "duration": 32,
    "start_time": "2024-05-06T19:38:31.942Z"
   },
   {
    "duration": 8,
    "start_time": "2024-05-06T19:38:31.976Z"
   },
   {
    "duration": 17,
    "start_time": "2024-05-06T19:38:31.986Z"
   },
   {
    "duration": 12,
    "start_time": "2024-05-06T19:38:32.005Z"
   },
   {
    "duration": 10,
    "start_time": "2024-05-06T19:38:32.019Z"
   },
   {
    "duration": 7,
    "start_time": "2024-05-06T19:38:32.031Z"
   },
   {
    "duration": 8,
    "start_time": "2024-05-06T19:38:32.040Z"
   },
   {
    "duration": 24,
    "start_time": "2024-05-06T19:38:32.049Z"
   },
   {
    "duration": 6,
    "start_time": "2024-05-06T19:38:32.075Z"
   },
   {
    "duration": 184,
    "start_time": "2024-05-06T19:38:32.084Z"
   },
   {
    "duration": 81,
    "start_time": "2024-05-06T19:38:41.508Z"
   },
   {
    "duration": 278,
    "start_time": "2024-05-06T19:52:20.964Z"
   },
   {
    "duration": 298,
    "start_time": "2024-05-06T19:53:41.982Z"
   },
   {
    "duration": 16,
    "start_time": "2024-05-06T20:10:14.490Z"
   },
   {
    "duration": 103,
    "start_time": "2024-05-06T20:10:55.112Z"
   },
   {
    "duration": 1113,
    "start_time": "2024-05-06T20:11:11.827Z"
   },
   {
    "duration": 12,
    "start_time": "2024-05-06T20:11:30.788Z"
   },
   {
    "duration": 9,
    "start_time": "2024-05-06T20:12:16.872Z"
   },
   {
    "duration": 16,
    "start_time": "2024-05-06T20:12:27.454Z"
   },
   {
    "duration": 29,
    "start_time": "2024-05-06T20:16:37.639Z"
   },
   {
    "duration": 23,
    "start_time": "2024-05-06T20:17:15.605Z"
   },
   {
    "duration": 263,
    "start_time": "2024-05-06T20:18:05.482Z"
   },
   {
    "duration": 30,
    "start_time": "2024-05-06T20:18:38.542Z"
   },
   {
    "duration": 16,
    "start_time": "2024-05-06T20:19:09.040Z"
   },
   {
    "duration": 14,
    "start_time": "2024-05-06T20:21:16.241Z"
   },
   {
    "duration": 24,
    "start_time": "2024-05-06T20:21:38.896Z"
   },
   {
    "duration": 25,
    "start_time": "2024-05-06T20:22:04.342Z"
   },
   {
    "duration": 111,
    "start_time": "2024-05-06T20:22:36.980Z"
   },
   {
    "duration": 24,
    "start_time": "2024-05-06T20:22:55.854Z"
   },
   {
    "duration": 25,
    "start_time": "2024-05-06T20:23:43.116Z"
   },
   {
    "duration": 14,
    "start_time": "2024-05-06T20:24:12.559Z"
   },
   {
    "duration": 258,
    "start_time": "2024-05-06T20:24:48.569Z"
   },
   {
    "duration": 251,
    "start_time": "2024-05-06T20:29:53.561Z"
   },
   {
    "duration": 272,
    "start_time": "2024-05-06T20:30:23.443Z"
   },
   {
    "duration": 2,
    "start_time": "2024-05-06T20:32:37.850Z"
   },
   {
    "duration": 48,
    "start_time": "2024-05-06T20:32:37.855Z"
   },
   {
    "duration": 29,
    "start_time": "2024-05-06T20:32:37.905Z"
   },
   {
    "duration": 15,
    "start_time": "2024-05-06T20:32:37.936Z"
   },
   {
    "duration": 9,
    "start_time": "2024-05-06T20:32:37.953Z"
   },
   {
    "duration": 30,
    "start_time": "2024-05-06T20:32:37.964Z"
   },
   {
    "duration": 8,
    "start_time": "2024-05-06T20:32:37.996Z"
   },
   {
    "duration": 13,
    "start_time": "2024-05-06T20:32:38.006Z"
   },
   {
    "duration": 25,
    "start_time": "2024-05-06T20:32:38.021Z"
   },
   {
    "duration": 7,
    "start_time": "2024-05-06T20:32:38.047Z"
   },
   {
    "duration": 27,
    "start_time": "2024-05-06T20:32:38.056Z"
   },
   {
    "duration": 11,
    "start_time": "2024-05-06T20:32:38.085Z"
   },
   {
    "duration": 20,
    "start_time": "2024-05-06T20:32:38.098Z"
   },
   {
    "duration": 9,
    "start_time": "2024-05-06T20:32:38.121Z"
   },
   {
    "duration": 15,
    "start_time": "2024-05-06T20:32:38.132Z"
   },
   {
    "duration": 6,
    "start_time": "2024-05-06T20:32:38.173Z"
   },
   {
    "duration": 13,
    "start_time": "2024-05-06T20:32:38.181Z"
   },
   {
    "duration": 15,
    "start_time": "2024-05-06T20:32:38.196Z"
   },
   {
    "duration": 8,
    "start_time": "2024-05-06T20:32:38.213Z"
   },
   {
    "duration": 8,
    "start_time": "2024-05-06T20:32:38.223Z"
   },
   {
    "duration": 11,
    "start_time": "2024-05-06T20:32:38.232Z"
   },
   {
    "duration": 26,
    "start_time": "2024-05-06T20:32:38.245Z"
   },
   {
    "duration": 8,
    "start_time": "2024-05-06T20:32:38.273Z"
   },
   {
    "duration": 9,
    "start_time": "2024-05-06T20:32:38.283Z"
   },
   {
    "duration": 4,
    "start_time": "2024-05-06T20:32:38.294Z"
   },
   {
    "duration": 164,
    "start_time": "2024-05-06T20:32:38.299Z"
   },
   {
    "duration": 85,
    "start_time": "2024-05-06T20:32:38.464Z"
   },
   {
    "duration": 163,
    "start_time": "2024-05-06T20:32:38.550Z"
   },
   {
    "duration": 395,
    "start_time": "2024-05-06T20:32:38.715Z"
   },
   {
    "duration": 7,
    "start_time": "2024-05-06T20:34:12.059Z"
   },
   {
    "duration": 7,
    "start_time": "2024-05-06T20:34:25.783Z"
   },
   {
    "duration": 6,
    "start_time": "2024-05-06T20:34:41.668Z"
   },
   {
    "duration": 270,
    "start_time": "2024-05-06T20:34:51.019Z"
   },
   {
    "duration": 276,
    "start_time": "2024-05-06T20:36:27.748Z"
   },
   {
    "duration": 263,
    "start_time": "2024-05-06T20:36:32.533Z"
   },
   {
    "duration": 257,
    "start_time": "2024-05-06T20:36:40.005Z"
   },
   {
    "duration": 239,
    "start_time": "2024-05-06T20:36:50.534Z"
   },
   {
    "duration": 7,
    "start_time": "2024-05-06T20:59:30.621Z"
   },
   {
    "duration": 7,
    "start_time": "2024-05-06T20:59:54.058Z"
   },
   {
    "duration": 6,
    "start_time": "2024-05-06T21:00:03.740Z"
   },
   {
    "duration": 7,
    "start_time": "2024-05-06T21:00:08.240Z"
   },
   {
    "duration": 8,
    "start_time": "2024-05-06T21:00:16.682Z"
   },
   {
    "duration": 8,
    "start_time": "2024-05-06T21:01:12.131Z"
   },
   {
    "duration": 6,
    "start_time": "2024-05-06T21:01:20.721Z"
   },
   {
    "duration": 7,
    "start_time": "2024-05-06T21:17:13.502Z"
   },
   {
    "duration": 7,
    "start_time": "2024-05-06T21:18:47.476Z"
   },
   {
    "duration": 1178,
    "start_time": "2024-05-07T08:09:32.934Z"
   },
   {
    "duration": 102,
    "start_time": "2024-05-07T08:09:34.114Z"
   },
   {
    "duration": 135,
    "start_time": "2024-05-07T08:09:34.218Z"
   },
   {
    "duration": 69,
    "start_time": "2024-05-07T08:09:34.354Z"
   },
   {
    "duration": 11,
    "start_time": "2024-05-07T08:09:34.424Z"
   },
   {
    "duration": 34,
    "start_time": "2024-05-07T08:09:34.437Z"
   },
   {
    "duration": 27,
    "start_time": "2024-05-07T08:09:34.473Z"
   },
   {
    "duration": 39,
    "start_time": "2024-05-07T08:09:34.501Z"
   },
   {
    "duration": 50,
    "start_time": "2024-05-07T08:09:34.541Z"
   },
   {
    "duration": 31,
    "start_time": "2024-05-07T08:09:34.593Z"
   },
   {
    "duration": 63,
    "start_time": "2024-05-07T08:09:34.625Z"
   },
   {
    "duration": 50,
    "start_time": "2024-05-07T08:09:34.690Z"
   },
   {
    "duration": 52,
    "start_time": "2024-05-07T08:09:34.742Z"
   },
   {
    "duration": 37,
    "start_time": "2024-05-07T08:09:34.795Z"
   },
   {
    "duration": 39,
    "start_time": "2024-05-07T08:09:34.833Z"
   },
   {
    "duration": 27,
    "start_time": "2024-05-07T08:09:34.873Z"
   },
   {
    "duration": 57,
    "start_time": "2024-05-07T08:09:34.902Z"
   },
   {
    "duration": 49,
    "start_time": "2024-05-07T08:09:34.961Z"
   },
   {
    "duration": 54,
    "start_time": "2024-05-07T08:09:35.012Z"
   },
   {
    "duration": 31,
    "start_time": "2024-05-07T08:09:35.067Z"
   },
   {
    "duration": 35,
    "start_time": "2024-05-07T08:09:35.099Z"
   },
   {
    "duration": 48,
    "start_time": "2024-05-07T08:09:35.135Z"
   },
   {
    "duration": 56,
    "start_time": "2024-05-07T08:09:35.185Z"
   },
   {
    "duration": 36,
    "start_time": "2024-05-07T08:09:35.242Z"
   },
   {
    "duration": 49,
    "start_time": "2024-05-07T08:09:35.279Z"
   },
   {
    "duration": 170,
    "start_time": "2024-05-07T08:09:35.329Z"
   },
   {
    "duration": 63,
    "start_time": "2024-05-07T08:09:35.500Z"
   },
   {
    "duration": 139,
    "start_time": "2024-05-07T08:09:35.566Z"
   },
   {
    "duration": 219,
    "start_time": "2024-05-07T08:09:35.706Z"
   },
   {
    "duration": 5,
    "start_time": "2024-05-07T08:09:35.927Z"
   },
   {
    "duration": 225,
    "start_time": "2024-05-07T08:09:35.933Z"
   },
   {
    "duration": 5,
    "start_time": "2024-05-07T08:09:44.920Z"
   },
   {
    "duration": 6,
    "start_time": "2024-05-07T08:09:57.040Z"
   },
   {
    "duration": 6,
    "start_time": "2024-05-07T11:03:52.751Z"
   },
   {
    "duration": 7,
    "start_time": "2024-05-07T11:05:21.207Z"
   },
   {
    "duration": 67,
    "start_time": "2024-05-07T11:06:39.220Z"
   },
   {
    "duration": 7,
    "start_time": "2024-05-07T11:06:55.228Z"
   },
   {
    "duration": 13,
    "start_time": "2024-05-07T11:07:31.559Z"
   },
   {
    "duration": 11,
    "start_time": "2024-05-07T11:08:07.756Z"
   },
   {
    "duration": 11,
    "start_time": "2024-05-07T11:09:47.210Z"
   },
   {
    "duration": 13,
    "start_time": "2024-05-07T11:10:22.399Z"
   },
   {
    "duration": 11,
    "start_time": "2024-05-07T11:11:17.534Z"
   },
   {
    "duration": 13,
    "start_time": "2024-05-07T11:11:46.925Z"
   },
   {
    "duration": 12,
    "start_time": "2024-05-07T11:11:52.282Z"
   },
   {
    "duration": 11,
    "start_time": "2024-05-07T11:12:33.875Z"
   },
   {
    "duration": 18,
    "start_time": "2024-05-07T11:13:00.431Z"
   },
   {
    "duration": 90,
    "start_time": "2024-05-07T11:14:17.873Z"
   },
   {
    "duration": 9,
    "start_time": "2024-05-07T11:14:33.414Z"
   },
   {
    "duration": 10,
    "start_time": "2024-05-07T11:14:58.282Z"
   },
   {
    "duration": 13,
    "start_time": "2024-05-07T11:15:22.281Z"
   },
   {
    "duration": 14,
    "start_time": "2024-05-07T11:15:42.776Z"
   },
   {
    "duration": 12,
    "start_time": "2024-05-07T11:15:58.989Z"
   },
   {
    "duration": 12,
    "start_time": "2024-05-07T11:16:16.306Z"
   },
   {
    "duration": 16,
    "start_time": "2024-05-07T11:16:58.792Z"
   },
   {
    "duration": 15,
    "start_time": "2024-05-07T11:18:45.144Z"
   },
   {
    "duration": 16,
    "start_time": "2024-05-07T11:19:00.885Z"
   },
   {
    "duration": 12,
    "start_time": "2024-05-07T11:19:10.233Z"
   },
   {
    "duration": 14,
    "start_time": "2024-05-07T11:47:00.869Z"
   },
   {
    "duration": 3,
    "start_time": "2024-05-07T11:48:14.997Z"
   },
   {
    "duration": 14,
    "start_time": "2024-05-07T11:48:35.971Z"
   },
   {
    "duration": 12,
    "start_time": "2024-05-07T11:48:59.352Z"
   },
   {
    "duration": 116,
    "start_time": "2024-05-07T11:50:10.234Z"
   },
   {
    "duration": 170,
    "start_time": "2024-05-07T11:52:25.465Z"
   },
   {
    "duration": 169,
    "start_time": "2024-05-07T11:52:48.672Z"
   },
   {
    "duration": 77,
    "start_time": "2024-05-07T11:54:05.730Z"
   },
   {
    "duration": 165,
    "start_time": "2024-05-07T11:54:10.321Z"
   },
   {
    "duration": 122,
    "start_time": "2024-05-07T11:54:41.432Z"
   },
   {
    "duration": 1148,
    "start_time": "2024-05-07T11:56:08.580Z"
   },
   {
    "duration": 1101,
    "start_time": "2024-05-07T11:56:57.692Z"
   },
   {
    "duration": 1112,
    "start_time": "2024-05-07T11:57:13.421Z"
   },
   {
    "duration": 12,
    "start_time": "2024-05-07T11:58:50.087Z"
   },
   {
    "duration": 12,
    "start_time": "2024-05-07T11:59:07.519Z"
   },
   {
    "duration": 14,
    "start_time": "2024-05-07T11:59:27.824Z"
   },
   {
    "duration": 13,
    "start_time": "2024-05-07T11:59:59.386Z"
   },
   {
    "duration": 14,
    "start_time": "2024-05-07T12:10:09.083Z"
   },
   {
    "duration": 14,
    "start_time": "2024-05-07T12:10:16.390Z"
   },
   {
    "duration": 14,
    "start_time": "2024-05-07T12:10:24.607Z"
   },
   {
    "duration": 5,
    "start_time": "2024-05-07T12:56:44.187Z"
   },
   {
    "duration": 5,
    "start_time": "2024-05-07T12:56:57.840Z"
   },
   {
    "duration": 5,
    "start_time": "2024-05-07T13:04:23.727Z"
   },
   {
    "duration": 15,
    "start_time": "2024-05-07T14:32:05.382Z"
   },
   {
    "duration": 3,
    "start_time": "2024-05-07T14:32:31.661Z"
   },
   {
    "duration": 30,
    "start_time": "2024-05-07T14:32:31.667Z"
   },
   {
    "duration": 25,
    "start_time": "2024-05-07T14:32:31.699Z"
   },
   {
    "duration": 35,
    "start_time": "2024-05-07T14:32:31.725Z"
   },
   {
    "duration": 49,
    "start_time": "2024-05-07T14:32:31.761Z"
   },
   {
    "duration": 101,
    "start_time": "2024-05-07T14:32:31.812Z"
   },
   {
    "duration": 29,
    "start_time": "2024-05-07T14:32:31.914Z"
   },
   {
    "duration": 21,
    "start_time": "2024-05-07T14:32:31.944Z"
   },
   {
    "duration": 39,
    "start_time": "2024-05-07T14:32:31.967Z"
   },
   {
    "duration": 14,
    "start_time": "2024-05-07T14:32:32.007Z"
   },
   {
    "duration": 36,
    "start_time": "2024-05-07T14:32:32.022Z"
   },
   {
    "duration": 22,
    "start_time": "2024-05-07T14:32:32.059Z"
   },
   {
    "duration": 32,
    "start_time": "2024-05-07T14:32:32.082Z"
   },
   {
    "duration": 8,
    "start_time": "2024-05-07T14:32:32.194Z"
   },
   {
    "duration": 18,
    "start_time": "2024-05-07T14:32:32.204Z"
   },
   {
    "duration": 34,
    "start_time": "2024-05-07T14:32:32.224Z"
   },
   {
    "duration": 19,
    "start_time": "2024-05-07T14:32:32.260Z"
   },
   {
    "duration": 14,
    "start_time": "2024-05-07T14:32:32.281Z"
   },
   {
    "duration": 6,
    "start_time": "2024-05-07T14:32:32.296Z"
   },
   {
    "duration": 7,
    "start_time": "2024-05-07T14:32:32.303Z"
   },
   {
    "duration": 17,
    "start_time": "2024-05-07T14:32:32.312Z"
   },
   {
    "duration": 6,
    "start_time": "2024-05-07T14:32:32.330Z"
   },
   {
    "duration": 17,
    "start_time": "2024-05-07T14:32:32.337Z"
   },
   {
    "duration": 16,
    "start_time": "2024-05-07T14:32:32.355Z"
   },
   {
    "duration": 13,
    "start_time": "2024-05-07T14:32:32.373Z"
   },
   {
    "duration": 124,
    "start_time": "2024-05-07T14:32:32.388Z"
   },
   {
    "duration": 60,
    "start_time": "2024-05-07T14:32:32.514Z"
   },
   {
    "duration": 124,
    "start_time": "2024-05-07T14:32:32.575Z"
   },
   {
    "duration": 261,
    "start_time": "2024-05-07T14:32:32.701Z"
   },
   {
    "duration": 185,
    "start_time": "2024-05-07T14:32:32.963Z"
   },
   {
    "duration": 15,
    "start_time": "2024-05-07T14:32:36.462Z"
   },
   {
    "duration": 3,
    "start_time": "2024-05-07T14:36:28.078Z"
   },
   {
    "duration": 3,
    "start_time": "2024-05-07T14:36:47.396Z"
   },
   {
    "duration": 3,
    "start_time": "2024-05-07T14:36:59.087Z"
   },
   {
    "duration": 3,
    "start_time": "2024-05-07T14:37:14.350Z"
   },
   {
    "duration": 3,
    "start_time": "2024-05-07T14:37:29.122Z"
   },
   {
    "duration": 3,
    "start_time": "2024-05-07T14:40:03.435Z"
   },
   {
    "duration": 3,
    "start_time": "2024-05-07T14:40:07.331Z"
   },
   {
    "duration": 4,
    "start_time": "2024-05-07T14:40:12.890Z"
   },
   {
    "duration": 4,
    "start_time": "2024-05-07T14:48:24.657Z"
   },
   {
    "duration": 3,
    "start_time": "2024-05-07T14:48:46.839Z"
   },
   {
    "duration": 3,
    "start_time": "2024-05-07T14:50:22.423Z"
   },
   {
    "duration": 4,
    "start_time": "2024-05-07T14:50:32.699Z"
   },
   {
    "duration": 3,
    "start_time": "2024-05-07T15:41:21.910Z"
   },
   {
    "duration": 2,
    "start_time": "2024-05-07T15:46:42.986Z"
   },
   {
    "duration": 42,
    "start_time": "2024-05-07T15:46:42.992Z"
   },
   {
    "duration": 26,
    "start_time": "2024-05-07T15:46:43.035Z"
   },
   {
    "duration": 14,
    "start_time": "2024-05-07T15:46:43.062Z"
   },
   {
    "duration": 7,
    "start_time": "2024-05-07T15:46:43.077Z"
   },
   {
    "duration": 8,
    "start_time": "2024-05-07T15:46:43.085Z"
   },
   {
    "duration": 6,
    "start_time": "2024-05-07T15:46:43.094Z"
   },
   {
    "duration": 12,
    "start_time": "2024-05-07T15:46:43.101Z"
   },
   {
    "duration": 17,
    "start_time": "2024-05-07T15:46:43.114Z"
   },
   {
    "duration": 5,
    "start_time": "2024-05-07T15:46:43.132Z"
   },
   {
    "duration": 10,
    "start_time": "2024-05-07T15:46:43.138Z"
   },
   {
    "duration": 12,
    "start_time": "2024-05-07T15:46:43.149Z"
   },
   {
    "duration": 27,
    "start_time": "2024-05-07T15:46:43.162Z"
   },
   {
    "duration": 8,
    "start_time": "2024-05-07T15:46:43.190Z"
   },
   {
    "duration": 12,
    "start_time": "2024-05-07T15:46:43.200Z"
   },
   {
    "duration": 4,
    "start_time": "2024-05-07T15:46:43.214Z"
   },
   {
    "duration": 20,
    "start_time": "2024-05-07T15:46:43.220Z"
   },
   {
    "duration": 4,
    "start_time": "2024-05-07T15:46:43.241Z"
   },
   {
    "duration": 14,
    "start_time": "2024-05-07T15:46:43.246Z"
   },
   {
    "duration": 5,
    "start_time": "2024-05-07T15:46:43.261Z"
   },
   {
    "duration": 5,
    "start_time": "2024-05-07T15:46:43.267Z"
   },
   {
    "duration": 8,
    "start_time": "2024-05-07T15:46:43.273Z"
   },
   {
    "duration": 6,
    "start_time": "2024-05-07T15:46:43.282Z"
   },
   {
    "duration": 4,
    "start_time": "2024-05-07T15:46:43.289Z"
   },
   {
    "duration": 6,
    "start_time": "2024-05-07T15:46:43.294Z"
   },
   {
    "duration": 130,
    "start_time": "2024-05-07T15:46:43.301Z"
   },
   {
    "duration": 68,
    "start_time": "2024-05-07T15:46:43.433Z"
   },
   {
    "duration": 111,
    "start_time": "2024-05-07T15:46:43.503Z"
   },
   {
    "duration": 208,
    "start_time": "2024-05-07T15:46:43.615Z"
   },
   {
    "duration": 246,
    "start_time": "2024-05-07T15:46:43.824Z"
   },
   {
    "duration": 23,
    "start_time": "2024-05-07T15:46:44.071Z"
   },
   {
    "duration": 3,
    "start_time": "2024-05-07T15:46:44.095Z"
   },
   {
    "duration": 11,
    "start_time": "2024-05-07T15:57:29.969Z"
   },
   {
    "duration": 10,
    "start_time": "2024-05-07T15:57:51.193Z"
   },
   {
    "duration": 11,
    "start_time": "2024-05-07T15:58:29.847Z"
   },
   {
    "duration": 10,
    "start_time": "2024-05-07T16:00:41.854Z"
   },
   {
    "duration": 14,
    "start_time": "2024-05-07T16:04:51.290Z"
   },
   {
    "duration": 7,
    "start_time": "2024-05-07T16:05:02.698Z"
   },
   {
    "duration": 6,
    "start_time": "2024-05-07T16:05:27.433Z"
   },
   {
    "duration": 7,
    "start_time": "2024-05-07T16:05:28.878Z"
   },
   {
    "duration": 4,
    "start_time": "2024-05-07T16:06:19.722Z"
   },
   {
    "duration": 3,
    "start_time": "2024-05-07T16:06:40.808Z"
   },
   {
    "duration": 3,
    "start_time": "2024-05-07T16:06:51.439Z"
   },
   {
    "duration": 161,
    "start_time": "2024-05-07T16:10:35.052Z"
   },
   {
    "duration": 165,
    "start_time": "2024-05-07T16:11:03.005Z"
   },
   {
    "duration": 159,
    "start_time": "2024-05-07T16:11:10.171Z"
   },
   {
    "duration": 168,
    "start_time": "2024-05-07T16:11:18.682Z"
   },
   {
    "duration": 156,
    "start_time": "2024-05-07T16:11:25.376Z"
   },
   {
    "duration": 158,
    "start_time": "2024-05-07T16:11:34.453Z"
   },
   {
    "duration": 153,
    "start_time": "2024-05-07T16:11:51.811Z"
   },
   {
    "duration": 160,
    "start_time": "2024-05-07T16:12:01.691Z"
   },
   {
    "duration": 189,
    "start_time": "2024-05-07T16:29:20.473Z"
   },
   {
    "duration": 185,
    "start_time": "2024-05-07T16:30:10.190Z"
   },
   {
    "duration": 265,
    "start_time": "2024-05-07T16:30:19.131Z"
   },
   {
    "duration": 68,
    "start_time": "2024-05-07T16:31:16.166Z"
   },
   {
    "duration": 72,
    "start_time": "2024-05-07T16:31:30.850Z"
   },
   {
    "duration": 63,
    "start_time": "2024-05-07T16:32:01.953Z"
   },
   {
    "duration": 69,
    "start_time": "2024-05-07T16:32:23.504Z"
   },
   {
    "duration": 67,
    "start_time": "2024-05-07T16:32:32.752Z"
   },
   {
    "duration": 181,
    "start_time": "2024-05-07T16:33:07.289Z"
   },
   {
    "duration": 171,
    "start_time": "2024-05-07T16:33:19.061Z"
   },
   {
    "duration": 188,
    "start_time": "2024-05-07T16:40:11.625Z"
   },
   {
    "duration": 208,
    "start_time": "2024-05-07T16:40:45.761Z"
   },
   {
    "duration": 206,
    "start_time": "2024-05-07T16:41:03.615Z"
   },
   {
    "duration": 201,
    "start_time": "2024-05-07T16:41:13.608Z"
   },
   {
    "duration": 196,
    "start_time": "2024-05-07T16:41:22.900Z"
   },
   {
    "duration": 2,
    "start_time": "2024-05-07T19:30:26.564Z"
   },
   {
    "duration": 31,
    "start_time": "2024-05-07T19:30:26.568Z"
   },
   {
    "duration": 25,
    "start_time": "2024-05-07T19:30:26.600Z"
   },
   {
    "duration": 14,
    "start_time": "2024-05-07T19:30:26.626Z"
   },
   {
    "duration": 11,
    "start_time": "2024-05-07T19:30:26.642Z"
   },
   {
    "duration": 11,
    "start_time": "2024-05-07T19:30:26.654Z"
   },
   {
    "duration": 7,
    "start_time": "2024-05-07T19:30:26.666Z"
   },
   {
    "duration": 13,
    "start_time": "2024-05-07T19:30:26.675Z"
   },
   {
    "duration": 19,
    "start_time": "2024-05-07T19:30:26.689Z"
   },
   {
    "duration": 7,
    "start_time": "2024-05-07T19:30:26.710Z"
   },
   {
    "duration": 22,
    "start_time": "2024-05-07T19:30:26.718Z"
   },
   {
    "duration": 14,
    "start_time": "2024-05-07T19:30:26.741Z"
   },
   {
    "duration": 23,
    "start_time": "2024-05-07T19:30:26.756Z"
   },
   {
    "duration": 7,
    "start_time": "2024-05-07T19:30:26.781Z"
   },
   {
    "duration": 13,
    "start_time": "2024-05-07T19:30:26.789Z"
   },
   {
    "duration": 4,
    "start_time": "2024-05-07T19:30:26.803Z"
   },
   {
    "duration": 7,
    "start_time": "2024-05-07T19:30:26.808Z"
   },
   {
    "duration": 12,
    "start_time": "2024-05-07T19:30:26.817Z"
   },
   {
    "duration": 7,
    "start_time": "2024-05-07T19:30:26.830Z"
   },
   {
    "duration": 6,
    "start_time": "2024-05-07T19:30:26.838Z"
   },
   {
    "duration": 4,
    "start_time": "2024-05-07T19:30:26.845Z"
   },
   {
    "duration": 7,
    "start_time": "2024-05-07T19:30:26.850Z"
   },
   {
    "duration": 6,
    "start_time": "2024-05-07T19:30:26.858Z"
   },
   {
    "duration": 5,
    "start_time": "2024-05-07T19:30:26.865Z"
   },
   {
    "duration": 3,
    "start_time": "2024-05-07T19:30:26.884Z"
   },
   {
    "duration": 113,
    "start_time": "2024-05-07T19:30:26.888Z"
   },
   {
    "duration": 125,
    "start_time": "2024-05-07T19:30:27.003Z"
   },
   {
    "duration": 112,
    "start_time": "2024-05-07T19:30:27.129Z"
   },
   {
    "duration": 219,
    "start_time": "2024-05-07T19:30:27.242Z"
   },
   {
    "duration": 192,
    "start_time": "2024-05-07T19:30:27.462Z"
   },
   {
    "duration": 15,
    "start_time": "2024-05-07T19:30:27.655Z"
   },
   {
    "duration": 14,
    "start_time": "2024-05-07T19:30:27.671Z"
   },
   {
    "duration": 18,
    "start_time": "2024-05-07T19:30:27.687Z"
   },
   {
    "duration": 9,
    "start_time": "2024-05-07T19:30:27.707Z"
   },
   {
    "duration": 9,
    "start_time": "2024-05-07T19:30:27.717Z"
   },
   {
    "duration": 6,
    "start_time": "2024-05-07T19:30:27.727Z"
   },
   {
    "duration": 216,
    "start_time": "2024-05-07T19:30:27.734Z"
   },
   {
    "duration": 182,
    "start_time": "2024-05-07T19:30:33.930Z"
   },
   {
    "duration": 86,
    "start_time": "2024-05-07T19:38:11.732Z"
   },
   {
    "duration": 3,
    "start_time": "2024-05-07T19:38:53.598Z"
   },
   {
    "duration": 39,
    "start_time": "2024-05-07T19:38:53.602Z"
   },
   {
    "duration": 24,
    "start_time": "2024-05-07T19:38:53.642Z"
   },
   {
    "duration": 14,
    "start_time": "2024-05-07T19:38:53.668Z"
   },
   {
    "duration": 6,
    "start_time": "2024-05-07T19:38:53.684Z"
   },
   {
    "duration": 8,
    "start_time": "2024-05-07T19:38:53.691Z"
   },
   {
    "duration": 7,
    "start_time": "2024-05-07T19:38:53.701Z"
   },
   {
    "duration": 14,
    "start_time": "2024-05-07T19:38:53.709Z"
   },
   {
    "duration": 17,
    "start_time": "2024-05-07T19:38:53.724Z"
   },
   {
    "duration": 5,
    "start_time": "2024-05-07T19:38:53.742Z"
   },
   {
    "duration": 7,
    "start_time": "2024-05-07T19:38:53.749Z"
   },
   {
    "duration": 27,
    "start_time": "2024-05-07T19:38:53.757Z"
   },
   {
    "duration": 11,
    "start_time": "2024-05-07T19:38:53.785Z"
   },
   {
    "duration": 7,
    "start_time": "2024-05-07T19:38:53.798Z"
   },
   {
    "duration": 11,
    "start_time": "2024-05-07T19:38:53.806Z"
   },
   {
    "duration": 8,
    "start_time": "2024-05-07T19:38:53.819Z"
   },
   {
    "duration": 9,
    "start_time": "2024-05-07T19:38:53.828Z"
   },
   {
    "duration": 7,
    "start_time": "2024-05-07T19:38:53.838Z"
   },
   {
    "duration": 10,
    "start_time": "2024-05-07T19:38:53.847Z"
   },
   {
    "duration": 4,
    "start_time": "2024-05-07T19:38:53.858Z"
   },
   {
    "duration": 16,
    "start_time": "2024-05-07T19:38:53.863Z"
   },
   {
    "duration": 8,
    "start_time": "2024-05-07T19:38:53.880Z"
   },
   {
    "duration": 6,
    "start_time": "2024-05-07T19:38:53.889Z"
   },
   {
    "duration": 4,
    "start_time": "2024-05-07T19:38:53.896Z"
   },
   {
    "duration": 6,
    "start_time": "2024-05-07T19:38:53.901Z"
   },
   {
    "duration": 124,
    "start_time": "2024-05-07T19:38:53.908Z"
   },
   {
    "duration": 147,
    "start_time": "2024-05-07T19:38:54.033Z"
   },
   {
    "duration": 108,
    "start_time": "2024-05-07T19:38:54.185Z"
   },
   {
    "duration": 204,
    "start_time": "2024-05-07T19:38:54.294Z"
   },
   {
    "duration": 191,
    "start_time": "2024-05-07T19:38:54.499Z"
   },
   {
    "duration": 16,
    "start_time": "2024-05-07T19:38:54.691Z"
   },
   {
    "duration": 2,
    "start_time": "2024-05-07T19:38:54.708Z"
   },
   {
    "duration": 19,
    "start_time": "2024-05-07T19:38:54.712Z"
   },
   {
    "duration": 9,
    "start_time": "2024-05-07T19:38:54.732Z"
   },
   {
    "duration": 8,
    "start_time": "2024-05-07T19:38:54.742Z"
   },
   {
    "duration": 5,
    "start_time": "2024-05-07T19:38:54.751Z"
   },
   {
    "duration": 209,
    "start_time": "2024-05-07T19:38:54.757Z"
   },
   {
    "duration": 196,
    "start_time": "2024-05-07T19:38:54.967Z"
   },
   {
    "duration": 61,
    "start_time": "2024-05-07T19:38:58.104Z"
   },
   {
    "duration": 27,
    "start_time": "2024-05-07T19:39:34.905Z"
   },
   {
    "duration": 16,
    "start_time": "2024-05-07T19:46:30.602Z"
   },
   {
    "duration": 16,
    "start_time": "2024-05-07T19:46:35.392Z"
   },
   {
    "duration": 17,
    "start_time": "2024-05-07T19:49:24.180Z"
   },
   {
    "duration": 11,
    "start_time": "2024-05-07T19:49:39.735Z"
   },
   {
    "duration": 34,
    "start_time": "2024-05-07T19:59:52.593Z"
   },
   {
    "duration": 12,
    "start_time": "2024-05-07T19:59:55.553Z"
   },
   {
    "duration": 389,
    "start_time": "2024-05-07T20:10:29.761Z"
   },
   {
    "duration": 34,
    "start_time": "2024-05-07T20:10:43.674Z"
   },
   {
    "duration": 25,
    "start_time": "2024-05-07T20:13:29.960Z"
   },
   {
    "duration": 14,
    "start_time": "2024-05-07T20:13:50.225Z"
   },
   {
    "duration": 25,
    "start_time": "2024-05-07T20:17:14.441Z"
   },
   {
    "duration": 12,
    "start_time": "2024-05-07T20:17:40.631Z"
   },
   {
    "duration": 43,
    "start_time": "2024-05-08T11:18:33.728Z"
   },
   {
    "duration": 1090,
    "start_time": "2024-05-08T11:19:13.420Z"
   },
   {
    "duration": 72,
    "start_time": "2024-05-08T11:19:14.512Z"
   },
   {
    "duration": 75,
    "start_time": "2024-05-08T11:19:14.585Z"
   },
   {
    "duration": 59,
    "start_time": "2024-05-08T11:19:14.662Z"
   },
   {
    "duration": 10,
    "start_time": "2024-05-08T11:19:14.723Z"
   },
   {
    "duration": 21,
    "start_time": "2024-05-08T11:19:14.734Z"
   },
   {
    "duration": 20,
    "start_time": "2024-05-08T11:19:14.756Z"
   },
   {
    "duration": 22,
    "start_time": "2024-05-08T11:19:14.777Z"
   },
   {
    "duration": 34,
    "start_time": "2024-05-08T11:19:14.800Z"
   },
   {
    "duration": 26,
    "start_time": "2024-05-08T11:19:14.836Z"
   },
   {
    "duration": 12,
    "start_time": "2024-05-08T11:19:14.864Z"
   },
   {
    "duration": 10,
    "start_time": "2024-05-08T11:19:14.878Z"
   },
   {
    "duration": 23,
    "start_time": "2024-05-08T11:19:14.889Z"
   },
   {
    "duration": 7,
    "start_time": "2024-05-08T11:19:14.913Z"
   },
   {
    "duration": 30,
    "start_time": "2024-05-08T11:19:14.921Z"
   },
   {
    "duration": 5,
    "start_time": "2024-05-08T11:19:14.952Z"
   },
   {
    "duration": 7,
    "start_time": "2024-05-08T11:19:14.958Z"
   },
   {
    "duration": 4,
    "start_time": "2024-05-08T11:19:14.966Z"
   },
   {
    "duration": 18,
    "start_time": "2024-05-08T11:19:14.971Z"
   },
   {
    "duration": 33,
    "start_time": "2024-05-08T11:19:14.990Z"
   },
   {
    "duration": 67,
    "start_time": "2024-05-08T11:19:15.025Z"
   },
   {
    "duration": 54,
    "start_time": "2024-05-08T11:19:15.094Z"
   },
   {
    "duration": 36,
    "start_time": "2024-05-08T11:19:15.149Z"
   },
   {
    "duration": 42,
    "start_time": "2024-05-08T11:19:15.186Z"
   },
   {
    "duration": 28,
    "start_time": "2024-05-08T11:19:15.229Z"
   },
   {
    "duration": 152,
    "start_time": "2024-05-08T11:19:15.259Z"
   },
   {
    "duration": 62,
    "start_time": "2024-05-08T11:19:15.413Z"
   },
   {
    "duration": 116,
    "start_time": "2024-05-08T11:19:15.478Z"
   },
   {
    "duration": 210,
    "start_time": "2024-05-08T11:19:15.596Z"
   },
   {
    "duration": 185,
    "start_time": "2024-05-08T11:19:15.807Z"
   },
   {
    "duration": 21,
    "start_time": "2024-05-08T11:19:15.993Z"
   },
   {
    "duration": 3,
    "start_time": "2024-05-08T11:19:16.015Z"
   },
   {
    "duration": 13,
    "start_time": "2024-05-08T11:19:16.019Z"
   },
   {
    "duration": 9,
    "start_time": "2024-05-08T11:19:16.033Z"
   },
   {
    "duration": 11,
    "start_time": "2024-05-08T11:19:16.043Z"
   },
   {
    "duration": 5,
    "start_time": "2024-05-08T11:19:16.055Z"
   },
   {
    "duration": 261,
    "start_time": "2024-05-08T11:19:16.061Z"
   },
   {
    "duration": 193,
    "start_time": "2024-05-08T11:19:16.323Z"
   },
   {
    "duration": 29,
    "start_time": "2024-05-08T11:19:16.517Z"
   },
   {
    "duration": 28,
    "start_time": "2024-05-08T11:19:16.548Z"
   },
   {
    "duration": 27,
    "start_time": "2024-05-08T11:19:41.691Z"
   },
   {
    "duration": 12,
    "start_time": "2024-05-08T11:19:44.315Z"
   },
   {
    "duration": 61,
    "start_time": "2024-05-08T11:22:30.710Z"
   },
   {
    "duration": 12,
    "start_time": "2024-05-08T11:22:56.887Z"
   },
   {
    "duration": 2,
    "start_time": "2024-05-08T11:23:24.935Z"
   },
   {
    "duration": 37,
    "start_time": "2024-05-08T11:23:24.942Z"
   },
   {
    "duration": 25,
    "start_time": "2024-05-08T11:23:24.981Z"
   },
   {
    "duration": 14,
    "start_time": "2024-05-08T11:23:25.007Z"
   },
   {
    "duration": 7,
    "start_time": "2024-05-08T11:23:25.023Z"
   },
   {
    "duration": 15,
    "start_time": "2024-05-08T11:23:25.032Z"
   },
   {
    "duration": 11,
    "start_time": "2024-05-08T11:23:25.049Z"
   },
   {
    "duration": 12,
    "start_time": "2024-05-08T11:23:25.061Z"
   },
   {
    "duration": 19,
    "start_time": "2024-05-08T11:23:25.074Z"
   },
   {
    "duration": 10,
    "start_time": "2024-05-08T11:23:25.095Z"
   },
   {
    "duration": 11,
    "start_time": "2024-05-08T11:23:25.107Z"
   },
   {
    "duration": 12,
    "start_time": "2024-05-08T11:23:25.120Z"
   },
   {
    "duration": 13,
    "start_time": "2024-05-08T11:23:25.133Z"
   },
   {
    "duration": 7,
    "start_time": "2024-05-08T11:23:25.147Z"
   },
   {
    "duration": 10,
    "start_time": "2024-05-08T11:23:25.156Z"
   },
   {
    "duration": 7,
    "start_time": "2024-05-08T11:23:25.168Z"
   },
   {
    "duration": 26,
    "start_time": "2024-05-08T11:23:25.176Z"
   },
   {
    "duration": 7,
    "start_time": "2024-05-08T11:23:25.204Z"
   },
   {
    "duration": 7,
    "start_time": "2024-05-08T11:23:25.213Z"
   },
   {
    "duration": 4,
    "start_time": "2024-05-08T11:23:25.221Z"
   },
   {
    "duration": 14,
    "start_time": "2024-05-08T11:23:25.226Z"
   },
   {
    "duration": 6,
    "start_time": "2024-05-08T11:23:25.242Z"
   },
   {
    "duration": 8,
    "start_time": "2024-05-08T11:23:25.249Z"
   },
   {
    "duration": 4,
    "start_time": "2024-05-08T11:23:25.258Z"
   },
   {
    "duration": 9,
    "start_time": "2024-05-08T11:23:25.263Z"
   },
   {
    "duration": 130,
    "start_time": "2024-05-08T11:23:25.273Z"
   },
   {
    "duration": 62,
    "start_time": "2024-05-08T11:23:25.404Z"
   },
   {
    "duration": 113,
    "start_time": "2024-05-08T11:23:25.467Z"
   },
   {
    "duration": 221,
    "start_time": "2024-05-08T11:23:25.581Z"
   },
   {
    "duration": 192,
    "start_time": "2024-05-08T11:23:25.803Z"
   },
   {
    "duration": 15,
    "start_time": "2024-05-08T11:23:26.001Z"
   },
   {
    "duration": 14,
    "start_time": "2024-05-08T11:23:26.017Z"
   },
   {
    "duration": 63,
    "start_time": "2024-05-08T11:23:26.032Z"
   },
   {
    "duration": 17,
    "start_time": "2024-05-08T11:23:26.096Z"
   },
   {
    "duration": 24,
    "start_time": "2024-05-08T11:23:26.114Z"
   },
   {
    "duration": 11,
    "start_time": "2024-05-08T11:23:26.139Z"
   },
   {
    "duration": 276,
    "start_time": "2024-05-08T11:23:26.152Z"
   },
   {
    "duration": 219,
    "start_time": "2024-05-08T11:23:26.429Z"
   },
   {
    "duration": 43,
    "start_time": "2024-05-08T11:23:26.649Z"
   },
   {
    "duration": 12,
    "start_time": "2024-05-08T11:23:26.694Z"
   },
   {
    "duration": 12,
    "start_time": "2024-05-08T11:23:35.651Z"
   },
   {
    "duration": 4,
    "start_time": "2024-05-08T11:29:12.871Z"
   },
   {
    "duration": 3,
    "start_time": "2024-05-08T11:29:37.295Z"
   },
   {
    "duration": 3,
    "start_time": "2024-05-08T11:31:08.751Z"
   },
   {
    "duration": 47,
    "start_time": "2024-05-08T11:31:08.757Z"
   },
   {
    "duration": 66,
    "start_time": "2024-05-08T11:31:08.806Z"
   },
   {
    "duration": 32,
    "start_time": "2024-05-08T11:31:08.873Z"
   },
   {
    "duration": 77,
    "start_time": "2024-05-08T11:31:08.906Z"
   },
   {
    "duration": 67,
    "start_time": "2024-05-08T11:31:08.985Z"
   },
   {
    "duration": 42,
    "start_time": "2024-05-08T11:31:09.053Z"
   },
   {
    "duration": 52,
    "start_time": "2024-05-08T11:31:09.096Z"
   },
   {
    "duration": 66,
    "start_time": "2024-05-08T11:31:09.150Z"
   },
   {
    "duration": 33,
    "start_time": "2024-05-08T11:31:09.217Z"
   },
   {
    "duration": 46,
    "start_time": "2024-05-08T11:31:09.251Z"
   },
   {
    "duration": 21,
    "start_time": "2024-05-08T11:31:09.298Z"
   },
   {
    "duration": 50,
    "start_time": "2024-05-08T11:31:09.320Z"
   },
   {
    "duration": 70,
    "start_time": "2024-05-08T11:31:09.372Z"
   },
   {
    "duration": 44,
    "start_time": "2024-05-08T11:31:09.444Z"
   },
   {
    "duration": 27,
    "start_time": "2024-05-08T11:31:09.489Z"
   },
   {
    "duration": 45,
    "start_time": "2024-05-08T11:31:09.517Z"
   },
   {
    "duration": 24,
    "start_time": "2024-05-08T11:31:09.563Z"
   },
   {
    "duration": 59,
    "start_time": "2024-05-08T11:31:09.588Z"
   },
   {
    "duration": 37,
    "start_time": "2024-05-08T11:31:09.648Z"
   },
   {
    "duration": 39,
    "start_time": "2024-05-08T11:31:09.687Z"
   },
   {
    "duration": 65,
    "start_time": "2024-05-08T11:31:09.727Z"
   },
   {
    "duration": 41,
    "start_time": "2024-05-08T11:31:09.794Z"
   },
   {
    "duration": 21,
    "start_time": "2024-05-08T11:31:09.836Z"
   },
   {
    "duration": 32,
    "start_time": "2024-05-08T11:31:09.859Z"
   },
   {
    "duration": 169,
    "start_time": "2024-05-08T11:31:09.893Z"
   },
   {
    "duration": 65,
    "start_time": "2024-05-08T11:31:10.063Z"
   },
   {
    "duration": 143,
    "start_time": "2024-05-08T11:31:10.129Z"
   },
   {
    "duration": 250,
    "start_time": "2024-05-08T11:31:10.274Z"
   },
   {
    "duration": 269,
    "start_time": "2024-05-08T11:31:10.525Z"
   },
   {
    "duration": 18,
    "start_time": "2024-05-08T11:31:10.796Z"
   },
   {
    "duration": 30,
    "start_time": "2024-05-08T11:31:10.815Z"
   },
   {
    "duration": 39,
    "start_time": "2024-05-08T11:31:10.846Z"
   },
   {
    "duration": 22,
    "start_time": "2024-05-08T11:31:10.886Z"
   },
   {
    "duration": 30,
    "start_time": "2024-05-08T11:31:10.910Z"
   },
   {
    "duration": 34,
    "start_time": "2024-05-08T11:31:10.942Z"
   },
   {
    "duration": 213,
    "start_time": "2024-05-08T11:31:10.978Z"
   },
   {
    "duration": 215,
    "start_time": "2024-05-08T11:31:11.192Z"
   },
   {
    "duration": 28,
    "start_time": "2024-05-08T11:31:11.408Z"
   },
   {
    "duration": 17,
    "start_time": "2024-05-08T11:31:11.437Z"
   },
   {
    "duration": 24,
    "start_time": "2024-05-08T11:31:11.455Z"
   },
   {
    "duration": 0,
    "start_time": "2024-05-08T11:31:11.480Z"
   },
   {
    "duration": 0,
    "start_time": "2024-05-08T11:31:11.481Z"
   },
   {
    "duration": 2,
    "start_time": "2024-05-08T11:32:18.835Z"
   },
   {
    "duration": 33,
    "start_time": "2024-05-08T11:32:18.841Z"
   },
   {
    "duration": 24,
    "start_time": "2024-05-08T11:32:18.876Z"
   },
   {
    "duration": 14,
    "start_time": "2024-05-08T11:32:18.901Z"
   },
   {
    "duration": 7,
    "start_time": "2024-05-08T11:32:18.916Z"
   },
   {
    "duration": 8,
    "start_time": "2024-05-08T11:32:18.925Z"
   },
   {
    "duration": 14,
    "start_time": "2024-05-08T11:32:18.934Z"
   },
   {
    "duration": 9,
    "start_time": "2024-05-08T11:32:18.950Z"
   },
   {
    "duration": 21,
    "start_time": "2024-05-08T11:32:18.960Z"
   },
   {
    "duration": 11,
    "start_time": "2024-05-08T11:32:18.982Z"
   },
   {
    "duration": 36,
    "start_time": "2024-05-08T11:32:18.994Z"
   },
   {
    "duration": 68,
    "start_time": "2024-05-08T11:32:19.031Z"
   },
   {
    "duration": 53,
    "start_time": "2024-05-08T11:32:19.101Z"
   },
   {
    "duration": 30,
    "start_time": "2024-05-08T11:32:19.155Z"
   },
   {
    "duration": 18,
    "start_time": "2024-05-08T11:32:19.187Z"
   },
   {
    "duration": 5,
    "start_time": "2024-05-08T11:32:19.206Z"
   },
   {
    "duration": 5,
    "start_time": "2024-05-08T11:32:19.212Z"
   },
   {
    "duration": 4,
    "start_time": "2024-05-08T11:32:19.218Z"
   },
   {
    "duration": 7,
    "start_time": "2024-05-08T11:32:19.223Z"
   },
   {
    "duration": 8,
    "start_time": "2024-05-08T11:32:19.231Z"
   },
   {
    "duration": 35,
    "start_time": "2024-05-08T11:32:19.240Z"
   },
   {
    "duration": 15,
    "start_time": "2024-05-08T11:32:19.276Z"
   },
   {
    "duration": 16,
    "start_time": "2024-05-08T11:32:19.292Z"
   },
   {
    "duration": 8,
    "start_time": "2024-05-08T11:32:19.309Z"
   },
   {
    "duration": 22,
    "start_time": "2024-05-08T11:32:19.318Z"
   },
   {
    "duration": 110,
    "start_time": "2024-05-08T11:32:19.342Z"
   },
   {
    "duration": 67,
    "start_time": "2024-05-08T11:32:19.454Z"
   },
   {
    "duration": 108,
    "start_time": "2024-05-08T11:32:19.523Z"
   },
   {
    "duration": 214,
    "start_time": "2024-05-08T11:32:19.633Z"
   },
   {
    "duration": 259,
    "start_time": "2024-05-08T11:32:19.849Z"
   },
   {
    "duration": 15,
    "start_time": "2024-05-08T11:32:20.110Z"
   },
   {
    "duration": 86,
    "start_time": "2024-05-08T11:32:20.127Z"
   },
   {
    "duration": 84,
    "start_time": "2024-05-08T11:32:20.215Z"
   },
   {
    "duration": 67,
    "start_time": "2024-05-08T11:32:20.301Z"
   },
   {
    "duration": 16,
    "start_time": "2024-05-08T11:32:20.369Z"
   },
   {
    "duration": 33,
    "start_time": "2024-05-08T11:32:20.386Z"
   },
   {
    "duration": 203,
    "start_time": "2024-05-08T11:32:20.420Z"
   },
   {
    "duration": 219,
    "start_time": "2024-05-08T11:32:20.625Z"
   },
   {
    "duration": 38,
    "start_time": "2024-05-08T11:32:20.846Z"
   },
   {
    "duration": 17,
    "start_time": "2024-05-08T11:32:20.885Z"
   },
   {
    "duration": 4,
    "start_time": "2024-05-08T11:32:20.903Z"
   },
   {
    "duration": 21,
    "start_time": "2024-05-08T11:32:20.910Z"
   },
   {
    "duration": 8,
    "start_time": "2024-05-08T11:32:20.932Z"
   },
   {
    "duration": 3,
    "start_time": "2024-05-08T11:40:28.735Z"
   },
   {
    "duration": 88,
    "start_time": "2024-05-08T11:40:28.741Z"
   },
   {
    "duration": 24,
    "start_time": "2024-05-08T11:40:28.831Z"
   },
   {
    "duration": 15,
    "start_time": "2024-05-08T11:40:28.856Z"
   },
   {
    "duration": 25,
    "start_time": "2024-05-08T11:40:28.872Z"
   },
   {
    "duration": 41,
    "start_time": "2024-05-08T11:40:28.899Z"
   },
   {
    "duration": 10,
    "start_time": "2024-05-08T11:40:28.942Z"
   },
   {
    "duration": 17,
    "start_time": "2024-05-08T11:40:28.953Z"
   },
   {
    "duration": 26,
    "start_time": "2024-05-08T11:40:28.971Z"
   },
   {
    "duration": 10,
    "start_time": "2024-05-08T11:40:28.998Z"
   },
   {
    "duration": 22,
    "start_time": "2024-05-08T11:40:29.009Z"
   },
   {
    "duration": 16,
    "start_time": "2024-05-08T11:40:29.033Z"
   },
   {
    "duration": 24,
    "start_time": "2024-05-08T11:40:29.051Z"
   },
   {
    "duration": 16,
    "start_time": "2024-05-08T11:40:29.077Z"
   },
   {
    "duration": 15,
    "start_time": "2024-05-08T11:40:29.095Z"
   },
   {
    "duration": 5,
    "start_time": "2024-05-08T11:40:29.111Z"
   },
   {
    "duration": 14,
    "start_time": "2024-05-08T11:40:29.117Z"
   },
   {
    "duration": 7,
    "start_time": "2024-05-08T11:40:29.132Z"
   },
   {
    "duration": 10,
    "start_time": "2024-05-08T11:40:29.140Z"
   },
   {
    "duration": 7,
    "start_time": "2024-05-08T11:40:29.151Z"
   },
   {
    "duration": 19,
    "start_time": "2024-05-08T11:40:29.159Z"
   },
   {
    "duration": 7,
    "start_time": "2024-05-08T11:40:29.180Z"
   },
   {
    "duration": 9,
    "start_time": "2024-05-08T11:40:29.189Z"
   },
   {
    "duration": 8,
    "start_time": "2024-05-08T11:40:29.199Z"
   },
   {
    "duration": 8,
    "start_time": "2024-05-08T11:40:29.208Z"
   },
   {
    "duration": 131,
    "start_time": "2024-05-08T11:40:29.217Z"
   },
   {
    "duration": 64,
    "start_time": "2024-05-08T11:40:29.349Z"
   },
   {
    "duration": 110,
    "start_time": "2024-05-08T11:40:29.414Z"
   },
   {
    "duration": 280,
    "start_time": "2024-05-08T11:40:29.526Z"
   },
   {
    "duration": 197,
    "start_time": "2024-05-08T11:40:29.807Z"
   },
   {
    "duration": 17,
    "start_time": "2024-05-08T11:40:30.005Z"
   },
   {
    "duration": 111,
    "start_time": "2024-05-08T11:40:30.023Z"
   },
   {
    "duration": 222,
    "start_time": "2024-05-08T11:40:30.136Z"
   },
   {
    "duration": 60,
    "start_time": "2024-05-08T11:40:30.359Z"
   },
   {
    "duration": 121,
    "start_time": "2024-05-08T11:40:30.420Z"
   },
   {
    "duration": 47,
    "start_time": "2024-05-08T11:40:30.542Z"
   },
   {
    "duration": 234,
    "start_time": "2024-05-08T11:40:30.590Z"
   },
   {
    "duration": 204,
    "start_time": "2024-05-08T11:40:30.825Z"
   },
   {
    "duration": 30,
    "start_time": "2024-05-08T11:40:31.031Z"
   },
   {
    "duration": 22,
    "start_time": "2024-05-08T11:40:31.063Z"
   },
   {
    "duration": 41,
    "start_time": "2024-05-08T11:40:31.086Z"
   },
   {
    "duration": 55,
    "start_time": "2024-05-08T11:40:31.131Z"
   },
   {
    "duration": 35,
    "start_time": "2024-05-08T11:40:31.187Z"
   },
   {
    "duration": 51,
    "start_time": "2024-05-08T11:40:31.223Z"
   },
   {
    "duration": 54,
    "start_time": "2024-05-08T11:40:31.275Z"
   },
   {
    "duration": 3,
    "start_time": "2024-05-08T11:42:41.587Z"
   },
   {
    "duration": 11,
    "start_time": "2024-05-08T11:44:25.613Z"
   },
   {
    "duration": 10,
    "start_time": "2024-05-08T11:48:41.384Z"
   },
   {
    "duration": 11,
    "start_time": "2024-05-08T11:48:57.007Z"
   },
   {
    "duration": 8,
    "start_time": "2024-05-08T11:49:04.789Z"
   },
   {
    "duration": 3,
    "start_time": "2024-05-08T12:04:24.134Z"
   },
   {
    "duration": 55,
    "start_time": "2024-05-08T12:04:24.138Z"
   },
   {
    "duration": 25,
    "start_time": "2024-05-08T12:04:24.194Z"
   },
   {
    "duration": 15,
    "start_time": "2024-05-08T12:04:24.220Z"
   },
   {
    "duration": 15,
    "start_time": "2024-05-08T12:04:24.237Z"
   },
   {
    "duration": 16,
    "start_time": "2024-05-08T12:04:24.253Z"
   },
   {
    "duration": 7,
    "start_time": "2024-05-08T12:04:24.271Z"
   },
   {
    "duration": 20,
    "start_time": "2024-05-08T12:04:24.279Z"
   },
   {
    "duration": 33,
    "start_time": "2024-05-08T12:04:24.300Z"
   },
   {
    "duration": 7,
    "start_time": "2024-05-08T12:04:24.334Z"
   },
   {
    "duration": 9,
    "start_time": "2024-05-08T12:04:24.343Z"
   },
   {
    "duration": 9,
    "start_time": "2024-05-08T12:04:24.353Z"
   },
   {
    "duration": 15,
    "start_time": "2024-05-08T12:04:24.363Z"
   },
   {
    "duration": 19,
    "start_time": "2024-05-08T12:04:24.380Z"
   },
   {
    "duration": 40,
    "start_time": "2024-05-08T12:04:24.402Z"
   },
   {
    "duration": 13,
    "start_time": "2024-05-08T12:04:24.443Z"
   },
   {
    "duration": 34,
    "start_time": "2024-05-08T12:04:24.457Z"
   },
   {
    "duration": 55,
    "start_time": "2024-05-08T12:04:24.492Z"
   },
   {
    "duration": 80,
    "start_time": "2024-05-08T12:04:24.548Z"
   },
   {
    "duration": 17,
    "start_time": "2024-05-08T12:04:24.630Z"
   },
   {
    "duration": 19,
    "start_time": "2024-05-08T12:04:24.649Z"
   },
   {
    "duration": 11,
    "start_time": "2024-05-08T12:04:24.669Z"
   },
   {
    "duration": 15,
    "start_time": "2024-05-08T12:04:24.681Z"
   },
   {
    "duration": 17,
    "start_time": "2024-05-08T12:04:24.697Z"
   },
   {
    "duration": 8,
    "start_time": "2024-05-08T12:04:24.715Z"
   },
   {
    "duration": 122,
    "start_time": "2024-05-08T12:04:24.724Z"
   },
   {
    "duration": 67,
    "start_time": "2024-05-08T12:04:24.847Z"
   },
   {
    "duration": 112,
    "start_time": "2024-05-08T12:04:24.916Z"
   },
   {
    "duration": 314,
    "start_time": "2024-05-08T12:04:25.031Z"
   },
   {
    "duration": 201,
    "start_time": "2024-05-08T12:04:25.346Z"
   },
   {
    "duration": 26,
    "start_time": "2024-05-08T12:04:25.549Z"
   },
   {
    "duration": 4,
    "start_time": "2024-05-08T12:04:25.576Z"
   },
   {
    "duration": 31,
    "start_time": "2024-05-08T12:04:25.581Z"
   },
   {
    "duration": 13,
    "start_time": "2024-05-08T12:04:25.613Z"
   },
   {
    "duration": 15,
    "start_time": "2024-05-08T12:04:25.627Z"
   },
   {
    "duration": 6,
    "start_time": "2024-05-08T12:04:25.643Z"
   },
   {
    "duration": 202,
    "start_time": "2024-05-08T12:04:25.650Z"
   },
   {
    "duration": 190,
    "start_time": "2024-05-08T12:04:25.853Z"
   },
   {
    "duration": 27,
    "start_time": "2024-05-08T12:04:26.044Z"
   },
   {
    "duration": 6,
    "start_time": "2024-05-08T12:04:26.072Z"
   },
   {
    "duration": 10,
    "start_time": "2024-05-08T12:04:26.079Z"
   },
   {
    "duration": 16,
    "start_time": "2024-05-08T12:04:26.091Z"
   },
   {
    "duration": 5,
    "start_time": "2024-05-08T12:04:26.108Z"
   },
   {
    "duration": 73,
    "start_time": "2024-05-08T12:04:26.114Z"
   },
   {
    "duration": 42,
    "start_time": "2024-05-08T13:28:24.193Z"
   },
   {
    "duration": 5,
    "start_time": "2024-05-08T13:29:22.983Z"
   },
   {
    "duration": 4,
    "start_time": "2024-05-08T13:29:36.357Z"
   },
   {
    "duration": 2,
    "start_time": "2024-05-08T14:07:08.651Z"
   },
   {
    "duration": 47,
    "start_time": "2024-05-08T14:07:08.655Z"
   },
   {
    "duration": 25,
    "start_time": "2024-05-08T14:07:08.704Z"
   },
   {
    "duration": 28,
    "start_time": "2024-05-08T14:07:08.730Z"
   },
   {
    "duration": 8,
    "start_time": "2024-05-08T14:07:08.760Z"
   },
   {
    "duration": 38,
    "start_time": "2024-05-08T14:07:08.770Z"
   },
   {
    "duration": 23,
    "start_time": "2024-05-08T14:07:08.810Z"
   },
   {
    "duration": 15,
    "start_time": "2024-05-08T14:07:08.835Z"
   },
   {
    "duration": 30,
    "start_time": "2024-05-08T14:07:08.852Z"
   },
   {
    "duration": 7,
    "start_time": "2024-05-08T14:07:08.884Z"
   },
   {
    "duration": 22,
    "start_time": "2024-05-08T14:07:08.894Z"
   },
   {
    "duration": 17,
    "start_time": "2024-05-08T14:07:08.917Z"
   },
   {
    "duration": 14,
    "start_time": "2024-05-08T14:07:08.936Z"
   },
   {
    "duration": 17,
    "start_time": "2024-05-08T14:07:08.951Z"
   },
   {
    "duration": 28,
    "start_time": "2024-05-08T14:07:08.970Z"
   },
   {
    "duration": 39,
    "start_time": "2024-05-08T14:07:08.999Z"
   },
   {
    "duration": 40,
    "start_time": "2024-05-08T14:07:09.039Z"
   },
   {
    "duration": 34,
    "start_time": "2024-05-08T14:07:09.081Z"
   },
   {
    "duration": 8,
    "start_time": "2024-05-08T14:07:09.116Z"
   },
   {
    "duration": 9,
    "start_time": "2024-05-08T14:07:09.126Z"
   },
   {
    "duration": 12,
    "start_time": "2024-05-08T14:07:09.136Z"
   },
   {
    "duration": 22,
    "start_time": "2024-05-08T14:07:09.149Z"
   },
   {
    "duration": 11,
    "start_time": "2024-05-08T14:07:09.172Z"
   },
   {
    "duration": 19,
    "start_time": "2024-05-08T14:07:09.185Z"
   },
   {
    "duration": 9,
    "start_time": "2024-05-08T14:07:09.205Z"
   },
   {
    "duration": 140,
    "start_time": "2024-05-08T14:07:09.215Z"
   },
   {
    "duration": 68,
    "start_time": "2024-05-08T14:07:09.357Z"
   },
   {
    "duration": 110,
    "start_time": "2024-05-08T14:07:09.426Z"
   },
   {
    "duration": 315,
    "start_time": "2024-05-08T14:07:09.539Z"
   },
   {
    "duration": 210,
    "start_time": "2024-05-08T14:07:09.855Z"
   },
   {
    "duration": 16,
    "start_time": "2024-05-08T14:07:10.066Z"
   },
   {
    "duration": 16,
    "start_time": "2024-05-08T14:07:10.084Z"
   },
   {
    "duration": 30,
    "start_time": "2024-05-08T14:07:10.101Z"
   },
   {
    "duration": 39,
    "start_time": "2024-05-08T14:07:10.132Z"
   },
   {
    "duration": 19,
    "start_time": "2024-05-08T14:07:10.172Z"
   },
   {
    "duration": 31,
    "start_time": "2024-05-08T14:07:10.192Z"
   },
   {
    "duration": 242,
    "start_time": "2024-05-08T14:07:10.224Z"
   },
   {
    "duration": 205,
    "start_time": "2024-05-08T14:07:10.467Z"
   },
   {
    "duration": 34,
    "start_time": "2024-05-08T14:07:10.673Z"
   },
   {
    "duration": 6,
    "start_time": "2024-05-08T14:07:10.708Z"
   },
   {
    "duration": 13,
    "start_time": "2024-05-08T14:07:10.715Z"
   },
   {
    "duration": 12,
    "start_time": "2024-05-08T14:07:10.729Z"
   },
   {
    "duration": 7,
    "start_time": "2024-05-08T14:07:10.742Z"
   },
   {
    "duration": 17,
    "start_time": "2024-05-08T14:07:10.750Z"
   },
   {
    "duration": 6,
    "start_time": "2024-05-08T14:07:24.457Z"
   },
   {
    "duration": 6,
    "start_time": "2024-05-08T14:07:47.528Z"
   },
   {
    "duration": 6,
    "start_time": "2024-05-08T14:07:55.953Z"
   },
   {
    "duration": 7,
    "start_time": "2024-05-08T14:15:39.460Z"
   },
   {
    "duration": 5,
    "start_time": "2024-05-08T14:17:59.684Z"
   },
   {
    "duration": 5,
    "start_time": "2024-05-08T14:30:18.485Z"
   },
   {
    "duration": 1238,
    "start_time": "2024-05-08T19:30:23.754Z"
   },
   {
    "duration": 84,
    "start_time": "2024-05-08T19:30:24.994Z"
   },
   {
    "duration": 91,
    "start_time": "2024-05-08T19:30:25.080Z"
   },
   {
    "duration": 59,
    "start_time": "2024-05-08T19:30:25.173Z"
   },
   {
    "duration": 21,
    "start_time": "2024-05-08T19:30:25.234Z"
   },
   {
    "duration": 11,
    "start_time": "2024-05-08T19:30:25.256Z"
   },
   {
    "duration": 11,
    "start_time": "2024-05-08T19:30:25.268Z"
   },
   {
    "duration": 12,
    "start_time": "2024-05-08T19:30:25.280Z"
   },
   {
    "duration": 22,
    "start_time": "2024-05-08T19:30:25.293Z"
   },
   {
    "duration": 13,
    "start_time": "2024-05-08T19:30:25.317Z"
   },
   {
    "duration": 34,
    "start_time": "2024-05-08T19:30:25.331Z"
   },
   {
    "duration": 7,
    "start_time": "2024-05-08T19:30:25.367Z"
   },
   {
    "duration": 15,
    "start_time": "2024-05-08T19:30:25.375Z"
   },
   {
    "duration": 7,
    "start_time": "2024-05-08T19:30:25.393Z"
   },
   {
    "duration": 10,
    "start_time": "2024-05-08T19:30:25.402Z"
   },
   {
    "duration": 6,
    "start_time": "2024-05-08T19:30:25.413Z"
   },
   {
    "duration": 8,
    "start_time": "2024-05-08T19:30:25.420Z"
   },
   {
    "duration": 19,
    "start_time": "2024-05-08T19:30:25.430Z"
   },
   {
    "duration": 10,
    "start_time": "2024-05-08T19:30:25.450Z"
   },
   {
    "duration": 4,
    "start_time": "2024-05-08T19:30:25.462Z"
   },
   {
    "duration": 7,
    "start_time": "2024-05-08T19:30:25.467Z"
   },
   {
    "duration": 6,
    "start_time": "2024-05-08T19:30:25.476Z"
   },
   {
    "duration": 27,
    "start_time": "2024-05-08T19:30:25.484Z"
   },
   {
    "duration": 9,
    "start_time": "2024-05-08T19:30:25.512Z"
   },
   {
    "duration": 24,
    "start_time": "2024-05-08T19:30:25.522Z"
   },
   {
    "duration": 148,
    "start_time": "2024-05-08T19:30:25.547Z"
   },
   {
    "duration": 77,
    "start_time": "2024-05-08T19:30:25.696Z"
   },
   {
    "duration": 133,
    "start_time": "2024-05-08T19:30:25.774Z"
   },
   {
    "duration": 257,
    "start_time": "2024-05-08T19:30:25.908Z"
   },
   {
    "duration": 216,
    "start_time": "2024-05-08T19:30:26.167Z"
   },
   {
    "duration": 18,
    "start_time": "2024-05-08T19:30:26.384Z"
   },
   {
    "duration": 4,
    "start_time": "2024-05-08T19:30:26.403Z"
   },
   {
    "duration": 106,
    "start_time": "2024-05-08T19:30:26.408Z"
   },
   {
    "duration": 14,
    "start_time": "2024-05-08T19:30:26.515Z"
   },
   {
    "duration": 25,
    "start_time": "2024-05-08T19:30:26.530Z"
   },
   {
    "duration": 10,
    "start_time": "2024-05-08T19:30:26.556Z"
   },
   {
    "duration": 221,
    "start_time": "2024-05-08T19:30:26.567Z"
   },
   {
    "duration": 238,
    "start_time": "2024-05-08T19:30:26.790Z"
   },
   {
    "duration": 45,
    "start_time": "2024-05-08T19:30:27.030Z"
   },
   {
    "duration": 7,
    "start_time": "2024-05-08T19:30:27.077Z"
   },
   {
    "duration": 3,
    "start_time": "2024-05-08T19:30:27.088Z"
   },
   {
    "duration": 10,
    "start_time": "2024-05-08T19:30:27.092Z"
   },
   {
    "duration": 9,
    "start_time": "2024-05-08T19:30:27.104Z"
   },
   {
    "duration": 13,
    "start_time": "2024-05-08T19:30:27.114Z"
   },
   {
    "duration": 25,
    "start_time": "2024-05-08T19:30:27.128Z"
   },
   {
    "duration": 8,
    "start_time": "2024-05-08T19:30:27.156Z"
   },
   {
    "duration": 20,
    "start_time": "2024-05-08T21:08:07.272Z"
   },
   {
    "duration": 14,
    "start_time": "2024-05-08T21:08:45.911Z"
   },
   {
    "duration": 18,
    "start_time": "2024-05-08T21:09:12.506Z"
   },
   {
    "duration": 3,
    "start_time": "2024-05-08T21:12:11.502Z"
   },
   {
    "duration": 29,
    "start_time": "2024-05-08T21:12:11.507Z"
   },
   {
    "duration": 27,
    "start_time": "2024-05-08T21:12:11.537Z"
   },
   {
    "duration": 15,
    "start_time": "2024-05-08T21:12:11.565Z"
   },
   {
    "duration": 7,
    "start_time": "2024-05-08T21:12:11.582Z"
   },
   {
    "duration": 11,
    "start_time": "2024-05-08T21:12:11.590Z"
   },
   {
    "duration": 8,
    "start_time": "2024-05-08T21:12:11.610Z"
   },
   {
    "duration": 10,
    "start_time": "2024-05-08T21:12:11.619Z"
   },
   {
    "duration": 21,
    "start_time": "2024-05-08T21:12:11.631Z"
   },
   {
    "duration": 6,
    "start_time": "2024-05-08T21:12:11.653Z"
   },
   {
    "duration": 11,
    "start_time": "2024-05-08T21:12:11.661Z"
   },
   {
    "duration": 8,
    "start_time": "2024-05-08T21:12:11.673Z"
   },
   {
    "duration": 14,
    "start_time": "2024-05-08T21:12:11.723Z"
   },
   {
    "duration": 8,
    "start_time": "2024-05-08T21:12:11.739Z"
   },
   {
    "duration": 10,
    "start_time": "2024-05-08T21:12:11.748Z"
   },
   {
    "duration": 6,
    "start_time": "2024-05-08T21:12:11.759Z"
   },
   {
    "duration": 6,
    "start_time": "2024-05-08T21:12:11.767Z"
   },
   {
    "duration": 6,
    "start_time": "2024-05-08T21:12:11.774Z"
   },
   {
    "duration": 5,
    "start_time": "2024-05-08T21:12:11.782Z"
   },
   {
    "duration": 6,
    "start_time": "2024-05-08T21:12:11.829Z"
   },
   {
    "duration": 19,
    "start_time": "2024-05-08T21:12:11.837Z"
   },
   {
    "duration": 6,
    "start_time": "2024-05-08T21:12:11.858Z"
   },
   {
    "duration": 9,
    "start_time": "2024-05-08T21:12:11.866Z"
   },
   {
    "duration": 5,
    "start_time": "2024-05-08T21:12:11.877Z"
   },
   {
    "duration": 9,
    "start_time": "2024-05-08T21:12:11.883Z"
   },
   {
    "duration": 132,
    "start_time": "2024-05-08T21:12:11.934Z"
   },
   {
    "duration": 91,
    "start_time": "2024-05-08T21:12:12.068Z"
   },
   {
    "duration": 127,
    "start_time": "2024-05-08T21:12:12.161Z"
   },
   {
    "duration": 257,
    "start_time": "2024-05-08T21:12:12.290Z"
   },
   {
    "duration": 285,
    "start_time": "2024-05-08T21:12:12.549Z"
   },
   {
    "duration": 24,
    "start_time": "2024-05-08T21:12:12.835Z"
   },
   {
    "duration": 3,
    "start_time": "2024-05-08T21:12:12.861Z"
   },
   {
    "duration": 16,
    "start_time": "2024-05-08T21:12:12.865Z"
   },
   {
    "duration": 10,
    "start_time": "2024-05-08T21:12:12.882Z"
   },
   {
    "duration": 9,
    "start_time": "2024-05-08T21:12:12.894Z"
   },
   {
    "duration": 7,
    "start_time": "2024-05-08T21:12:12.905Z"
   },
   {
    "duration": 255,
    "start_time": "2024-05-08T21:12:12.913Z"
   },
   {
    "duration": 259,
    "start_time": "2024-05-08T21:12:13.169Z"
   },
   {
    "duration": 36,
    "start_time": "2024-05-08T21:12:13.430Z"
   },
   {
    "duration": 7,
    "start_time": "2024-05-08T21:12:13.468Z"
   },
   {
    "duration": 10,
    "start_time": "2024-05-08T21:12:13.476Z"
   },
   {
    "duration": 13,
    "start_time": "2024-05-08T21:12:13.488Z"
   },
   {
    "duration": 8,
    "start_time": "2024-05-08T21:12:13.503Z"
   },
   {
    "duration": 33,
    "start_time": "2024-05-08T21:12:13.513Z"
   },
   {
    "duration": 8,
    "start_time": "2024-05-08T21:12:13.548Z"
   },
   {
    "duration": 7,
    "start_time": "2024-05-08T21:12:13.558Z"
   },
   {
    "duration": 21,
    "start_time": "2024-05-08T21:12:13.567Z"
   },
   {
    "duration": 17,
    "start_time": "2024-05-08T21:34:39.717Z"
   },
   {
    "duration": 10,
    "start_time": "2024-05-08T21:55:12.245Z"
   },
   {
    "duration": 6,
    "start_time": "2024-05-08T22:13:12.397Z"
   },
   {
    "duration": 6,
    "start_time": "2024-05-08T22:16:15.018Z"
   },
   {
    "duration": 1197,
    "start_time": "2024-05-09T08:22:13.791Z"
   },
   {
    "duration": 85,
    "start_time": "2024-05-09T08:22:14.990Z"
   },
   {
    "duration": 78,
    "start_time": "2024-05-09T08:22:15.077Z"
   },
   {
    "duration": 60,
    "start_time": "2024-05-09T08:22:15.156Z"
   },
   {
    "duration": 12,
    "start_time": "2024-05-09T08:22:15.218Z"
   },
   {
    "duration": 25,
    "start_time": "2024-05-09T08:22:15.231Z"
   },
   {
    "duration": 33,
    "start_time": "2024-05-09T08:22:15.257Z"
   },
   {
    "duration": 34,
    "start_time": "2024-05-09T08:22:15.292Z"
   },
   {
    "duration": 44,
    "start_time": "2024-05-09T08:22:15.327Z"
   },
   {
    "duration": 16,
    "start_time": "2024-05-09T08:22:15.373Z"
   },
   {
    "duration": 39,
    "start_time": "2024-05-09T08:22:15.390Z"
   },
   {
    "duration": 34,
    "start_time": "2024-05-09T08:22:15.430Z"
   },
   {
    "duration": 28,
    "start_time": "2024-05-09T08:22:15.466Z"
   },
   {
    "duration": 14,
    "start_time": "2024-05-09T08:22:15.498Z"
   },
   {
    "duration": 15,
    "start_time": "2024-05-09T08:22:15.514Z"
   },
   {
    "duration": 12,
    "start_time": "2024-05-09T08:22:15.530Z"
   },
   {
    "duration": 16,
    "start_time": "2024-05-09T08:22:15.543Z"
   },
   {
    "duration": 14,
    "start_time": "2024-05-09T08:22:15.560Z"
   },
   {
    "duration": 16,
    "start_time": "2024-05-09T08:22:15.576Z"
   },
   {
    "duration": 10,
    "start_time": "2024-05-09T08:22:15.593Z"
   },
   {
    "duration": 12,
    "start_time": "2024-05-09T08:22:15.604Z"
   },
   {
    "duration": 5,
    "start_time": "2024-05-09T08:22:15.618Z"
   },
   {
    "duration": 7,
    "start_time": "2024-05-09T08:22:15.625Z"
   },
   {
    "duration": 11,
    "start_time": "2024-05-09T08:22:15.633Z"
   },
   {
    "duration": 5,
    "start_time": "2024-05-09T08:22:15.646Z"
   },
   {
    "duration": 144,
    "start_time": "2024-05-09T08:22:15.652Z"
   },
   {
    "duration": 78,
    "start_time": "2024-05-09T08:22:15.799Z"
   },
   {
    "duration": 138,
    "start_time": "2024-05-09T08:22:15.879Z"
   },
   {
    "duration": 263,
    "start_time": "2024-05-09T08:22:16.019Z"
   },
   {
    "duration": 228,
    "start_time": "2024-05-09T08:22:16.284Z"
   },
   {
    "duration": 19,
    "start_time": "2024-05-09T08:22:16.514Z"
   },
   {
    "duration": 4,
    "start_time": "2024-05-09T08:22:16.545Z"
   },
   {
    "duration": 29,
    "start_time": "2024-05-09T08:22:16.550Z"
   },
   {
    "duration": 10,
    "start_time": "2024-05-09T08:22:16.580Z"
   },
   {
    "duration": 11,
    "start_time": "2024-05-09T08:22:16.592Z"
   },
   {
    "duration": 5,
    "start_time": "2024-05-09T08:22:16.605Z"
   },
   {
    "duration": 298,
    "start_time": "2024-05-09T08:22:16.611Z"
   },
   {
    "duration": 252,
    "start_time": "2024-05-09T08:22:16.911Z"
   },
   {
    "duration": 36,
    "start_time": "2024-05-09T08:22:17.164Z"
   },
   {
    "duration": 6,
    "start_time": "2024-05-09T08:22:17.201Z"
   },
   {
    "duration": 12,
    "start_time": "2024-05-09T08:22:17.211Z"
   },
   {
    "duration": 26,
    "start_time": "2024-05-09T08:22:17.224Z"
   },
   {
    "duration": 9,
    "start_time": "2024-05-09T08:22:17.253Z"
   },
   {
    "duration": 23,
    "start_time": "2024-05-09T08:22:17.264Z"
   },
   {
    "duration": 8,
    "start_time": "2024-05-09T08:22:17.289Z"
   },
   {
    "duration": 6,
    "start_time": "2024-05-09T08:22:17.299Z"
   },
   {
    "duration": 18,
    "start_time": "2024-05-09T08:22:17.306Z"
   },
   {
    "duration": 4,
    "start_time": "2024-05-09T09:18:58.391Z"
   },
   {
    "duration": 37,
    "start_time": "2024-05-09T09:18:58.397Z"
   },
   {
    "duration": 26,
    "start_time": "2024-05-09T09:18:58.435Z"
   },
   {
    "duration": 14,
    "start_time": "2024-05-09T09:18:58.463Z"
   },
   {
    "duration": 8,
    "start_time": "2024-05-09T09:18:58.480Z"
   },
   {
    "duration": 11,
    "start_time": "2024-05-09T09:18:58.490Z"
   },
   {
    "duration": 10,
    "start_time": "2024-05-09T09:18:58.503Z"
   },
   {
    "duration": 17,
    "start_time": "2024-05-09T09:18:58.515Z"
   },
   {
    "duration": 45,
    "start_time": "2024-05-09T09:18:58.534Z"
   },
   {
    "duration": 8,
    "start_time": "2024-05-09T09:18:58.581Z"
   },
   {
    "duration": 15,
    "start_time": "2024-05-09T09:18:58.590Z"
   },
   {
    "duration": 19,
    "start_time": "2024-05-09T09:18:58.607Z"
   },
   {
    "duration": 26,
    "start_time": "2024-05-09T09:18:58.627Z"
   },
   {
    "duration": 8,
    "start_time": "2024-05-09T09:18:58.656Z"
   },
   {
    "duration": 9,
    "start_time": "2024-05-09T09:18:58.666Z"
   },
   {
    "duration": 5,
    "start_time": "2024-05-09T09:18:58.677Z"
   },
   {
    "duration": 5,
    "start_time": "2024-05-09T09:18:58.683Z"
   },
   {
    "duration": 12,
    "start_time": "2024-05-09T09:18:58.690Z"
   },
   {
    "duration": 6,
    "start_time": "2024-05-09T09:18:58.703Z"
   },
   {
    "duration": 5,
    "start_time": "2024-05-09T09:18:58.711Z"
   },
   {
    "duration": 31,
    "start_time": "2024-05-09T09:18:58.718Z"
   },
   {
    "duration": 7,
    "start_time": "2024-05-09T09:18:58.751Z"
   },
   {
    "duration": 9,
    "start_time": "2024-05-09T09:18:58.760Z"
   },
   {
    "duration": 5,
    "start_time": "2024-05-09T09:18:58.770Z"
   },
   {
    "duration": 5,
    "start_time": "2024-05-09T09:18:58.777Z"
   },
   {
    "duration": 163,
    "start_time": "2024-05-09T09:18:58.784Z"
   },
   {
    "duration": 72,
    "start_time": "2024-05-09T09:18:58.949Z"
   },
   {
    "duration": 144,
    "start_time": "2024-05-09T09:18:59.023Z"
   },
   {
    "duration": 243,
    "start_time": "2024-05-09T09:18:59.168Z"
   },
   {
    "duration": 223,
    "start_time": "2024-05-09T09:18:59.412Z"
   },
   {
    "duration": 23,
    "start_time": "2024-05-09T09:18:59.637Z"
   },
   {
    "duration": 3,
    "start_time": "2024-05-09T09:18:59.662Z"
   },
   {
    "duration": 15,
    "start_time": "2024-05-09T09:18:59.666Z"
   },
   {
    "duration": 11,
    "start_time": "2024-05-09T09:18:59.682Z"
   },
   {
    "duration": 7,
    "start_time": "2024-05-09T09:18:59.695Z"
   },
   {
    "duration": 10,
    "start_time": "2024-05-09T09:18:59.703Z"
   },
   {
    "duration": 316,
    "start_time": "2024-05-09T09:18:59.714Z"
   },
   {
    "duration": 230,
    "start_time": "2024-05-09T09:19:00.032Z"
   },
   {
    "duration": 32,
    "start_time": "2024-05-09T09:19:00.263Z"
   },
   {
    "duration": 48,
    "start_time": "2024-05-09T09:19:00.297Z"
   },
   {
    "duration": 43,
    "start_time": "2024-05-09T09:19:00.348Z"
   },
   {
    "duration": 62,
    "start_time": "2024-05-09T09:19:00.393Z"
   },
   {
    "duration": 69,
    "start_time": "2024-05-09T09:19:00.457Z"
   },
   {
    "duration": 83,
    "start_time": "2024-05-09T09:19:00.528Z"
   },
   {
    "duration": 42,
    "start_time": "2024-05-09T09:19:00.612Z"
   },
   {
    "duration": 68,
    "start_time": "2024-05-09T09:19:00.656Z"
   },
   {
    "duration": 94,
    "start_time": "2024-05-09T09:19:00.725Z"
   },
   {
    "duration": 238,
    "start_time": "2024-05-09T09:22:12.665Z"
   },
   {
    "duration": 95,
    "start_time": "2024-05-09T10:10:37.417Z"
   },
   {
    "duration": 21,
    "start_time": "2024-05-09T10:11:22.154Z"
   },
   {
    "duration": 16,
    "start_time": "2024-05-09T10:12:35.768Z"
   },
   {
    "duration": 3,
    "start_time": "2024-05-09T10:22:13.965Z"
   },
   {
    "duration": 49,
    "start_time": "2024-05-09T10:22:13.970Z"
   },
   {
    "duration": 26,
    "start_time": "2024-05-09T10:22:14.021Z"
   },
   {
    "duration": 15,
    "start_time": "2024-05-09T10:22:14.048Z"
   },
   {
    "duration": 7,
    "start_time": "2024-05-09T10:22:14.065Z"
   },
   {
    "duration": 9,
    "start_time": "2024-05-09T10:22:14.074Z"
   },
   {
    "duration": 22,
    "start_time": "2024-05-09T10:22:14.084Z"
   },
   {
    "duration": 21,
    "start_time": "2024-05-09T10:22:14.108Z"
   },
   {
    "duration": 33,
    "start_time": "2024-05-09T10:22:14.130Z"
   },
   {
    "duration": 7,
    "start_time": "2024-05-09T10:22:14.164Z"
   },
   {
    "duration": 10,
    "start_time": "2024-05-09T10:22:14.172Z"
   },
   {
    "duration": 7,
    "start_time": "2024-05-09T10:22:14.183Z"
   },
   {
    "duration": 18,
    "start_time": "2024-05-09T10:22:14.192Z"
   },
   {
    "duration": 8,
    "start_time": "2024-05-09T10:22:14.211Z"
   },
   {
    "duration": 27,
    "start_time": "2024-05-09T10:22:14.220Z"
   },
   {
    "duration": 6,
    "start_time": "2024-05-09T10:22:14.248Z"
   },
   {
    "duration": 5,
    "start_time": "2024-05-09T10:22:14.255Z"
   },
   {
    "duration": 15,
    "start_time": "2024-05-09T10:22:14.261Z"
   },
   {
    "duration": 6,
    "start_time": "2024-05-09T10:22:14.277Z"
   },
   {
    "duration": 8,
    "start_time": "2024-05-09T10:22:14.284Z"
   },
   {
    "duration": 29,
    "start_time": "2024-05-09T10:22:14.293Z"
   },
   {
    "duration": 16,
    "start_time": "2024-05-09T10:22:14.324Z"
   },
   {
    "duration": 61,
    "start_time": "2024-05-09T10:22:14.341Z"
   },
   {
    "duration": 12,
    "start_time": "2024-05-09T10:22:14.404Z"
   },
   {
    "duration": 25,
    "start_time": "2024-05-09T10:22:14.417Z"
   },
   {
    "duration": 134,
    "start_time": "2024-05-09T10:22:14.444Z"
   },
   {
    "duration": 75,
    "start_time": "2024-05-09T10:22:14.580Z"
   },
   {
    "duration": 120,
    "start_time": "2024-05-09T10:22:14.656Z"
   },
   {
    "duration": 304,
    "start_time": "2024-05-09T10:22:14.777Z"
   },
   {
    "duration": 218,
    "start_time": "2024-05-09T10:22:15.082Z"
   },
   {
    "duration": 17,
    "start_time": "2024-05-09T10:22:15.301Z"
   },
   {
    "duration": 35,
    "start_time": "2024-05-09T10:22:15.320Z"
   },
   {
    "duration": 47,
    "start_time": "2024-05-09T10:22:15.356Z"
   },
   {
    "duration": 22,
    "start_time": "2024-05-09T10:22:15.404Z"
   },
   {
    "duration": 39,
    "start_time": "2024-05-09T10:22:15.428Z"
   },
   {
    "duration": 13,
    "start_time": "2024-05-09T10:22:15.469Z"
   },
   {
    "duration": 248,
    "start_time": "2024-05-09T10:22:15.485Z"
   },
   {
    "duration": 237,
    "start_time": "2024-05-09T10:22:15.734Z"
   },
   {
    "duration": 32,
    "start_time": "2024-05-09T10:22:15.973Z"
   },
   {
    "duration": 10,
    "start_time": "2024-05-09T10:22:16.007Z"
   },
   {
    "duration": 19,
    "start_time": "2024-05-09T10:22:16.018Z"
   },
   {
    "duration": 43,
    "start_time": "2024-05-09T10:22:16.038Z"
   },
   {
    "duration": 18,
    "start_time": "2024-05-09T10:22:16.083Z"
   },
   {
    "duration": 14,
    "start_time": "2024-05-09T10:22:16.102Z"
   },
   {
    "duration": 39,
    "start_time": "2024-05-09T10:22:16.117Z"
   },
   {
    "duration": 38,
    "start_time": "2024-05-09T10:22:16.157Z"
   },
   {
    "duration": 255,
    "start_time": "2024-05-09T10:22:16.196Z"
   },
   {
    "duration": 11,
    "start_time": "2024-05-09T10:22:16.453Z"
   },
   {
    "duration": 23,
    "start_time": "2024-05-09T10:22:16.465Z"
   },
   {
    "duration": 532,
    "start_time": "2024-05-09T10:23:31.105Z"
   },
   {
    "duration": 6,
    "start_time": "2024-05-09T10:23:51.185Z"
   },
   {
    "duration": 7,
    "start_time": "2024-05-09T10:24:26.605Z"
   },
   {
    "duration": 3,
    "start_time": "2024-05-09T11:01:24.219Z"
   },
   {
    "duration": 33,
    "start_time": "2024-05-09T11:01:24.224Z"
   },
   {
    "duration": 27,
    "start_time": "2024-05-09T11:01:24.258Z"
   },
   {
    "duration": 15,
    "start_time": "2024-05-09T11:01:24.286Z"
   },
   {
    "duration": 9,
    "start_time": "2024-05-09T11:01:24.303Z"
   },
   {
    "duration": 13,
    "start_time": "2024-05-09T11:01:24.313Z"
   },
   {
    "duration": 13,
    "start_time": "2024-05-09T11:01:24.327Z"
   },
   {
    "duration": 14,
    "start_time": "2024-05-09T11:01:24.341Z"
   },
   {
    "duration": 23,
    "start_time": "2024-05-09T11:01:24.357Z"
   },
   {
    "duration": 6,
    "start_time": "2024-05-09T11:01:24.381Z"
   },
   {
    "duration": 20,
    "start_time": "2024-05-09T11:01:24.389Z"
   },
   {
    "duration": 25,
    "start_time": "2024-05-09T11:01:24.411Z"
   },
   {
    "duration": 14,
    "start_time": "2024-05-09T11:01:24.438Z"
   },
   {
    "duration": 8,
    "start_time": "2024-05-09T11:01:24.455Z"
   },
   {
    "duration": 10,
    "start_time": "2024-05-09T11:01:24.464Z"
   },
   {
    "duration": 5,
    "start_time": "2024-05-09T11:01:24.476Z"
   },
   {
    "duration": 5,
    "start_time": "2024-05-09T11:01:24.483Z"
   },
   {
    "duration": 5,
    "start_time": "2024-05-09T11:01:24.490Z"
   },
   {
    "duration": 6,
    "start_time": "2024-05-09T11:01:24.496Z"
   },
   {
    "duration": 45,
    "start_time": "2024-05-09T11:01:24.503Z"
   },
   {
    "duration": 9,
    "start_time": "2024-05-09T11:01:24.550Z"
   },
   {
    "duration": 9,
    "start_time": "2024-05-09T11:01:24.560Z"
   },
   {
    "duration": 17,
    "start_time": "2024-05-09T11:01:24.571Z"
   },
   {
    "duration": 6,
    "start_time": "2024-05-09T11:01:24.589Z"
   },
   {
    "duration": 14,
    "start_time": "2024-05-09T11:01:24.596Z"
   },
   {
    "duration": 136,
    "start_time": "2024-05-09T11:01:24.611Z"
   },
   {
    "duration": 159,
    "start_time": "2024-05-09T11:01:24.748Z"
   },
   {
    "duration": 131,
    "start_time": "2024-05-09T11:01:24.908Z"
   },
   {
    "duration": 236,
    "start_time": "2024-05-09T11:01:25.044Z"
   },
   {
    "duration": 223,
    "start_time": "2024-05-09T11:01:25.282Z"
   },
   {
    "duration": 18,
    "start_time": "2024-05-09T11:01:25.506Z"
   },
   {
    "duration": 3,
    "start_time": "2024-05-09T11:01:25.525Z"
   },
   {
    "duration": 29,
    "start_time": "2024-05-09T11:01:25.529Z"
   },
   {
    "duration": 11,
    "start_time": "2024-05-09T11:01:25.559Z"
   },
   {
    "duration": 16,
    "start_time": "2024-05-09T11:01:25.571Z"
   },
   {
    "duration": 5,
    "start_time": "2024-05-09T11:01:25.588Z"
   },
   {
    "duration": 299,
    "start_time": "2024-05-09T11:01:25.595Z"
   },
   {
    "duration": 238,
    "start_time": "2024-05-09T11:01:25.896Z"
   },
   {
    "duration": 37,
    "start_time": "2024-05-09T11:01:26.136Z"
   },
   {
    "duration": 7,
    "start_time": "2024-05-09T11:01:26.174Z"
   },
   {
    "duration": 25,
    "start_time": "2024-05-09T11:01:26.184Z"
   },
   {
    "duration": 37,
    "start_time": "2024-05-09T11:01:26.211Z"
   },
   {
    "duration": 16,
    "start_time": "2024-05-09T11:01:26.250Z"
   },
   {
    "duration": 11,
    "start_time": "2024-05-09T11:01:26.268Z"
   },
   {
    "duration": 17,
    "start_time": "2024-05-09T11:01:26.281Z"
   },
   {
    "duration": 6,
    "start_time": "2024-05-09T11:01:26.299Z"
   },
   {
    "duration": 232,
    "start_time": "2024-05-09T11:01:26.306Z"
   },
   {
    "duration": 15,
    "start_time": "2024-05-09T11:01:26.539Z"
   },
   {
    "duration": 15,
    "start_time": "2024-05-09T11:01:26.556Z"
   },
   {
    "duration": 326,
    "start_time": "2024-05-09T11:02:15.601Z"
   },
   {
    "duration": 257,
    "start_time": "2024-05-09T11:12:31.991Z"
   },
   {
    "duration": 3,
    "start_time": "2024-05-09T11:27:56.466Z"
   },
   {
    "duration": 35,
    "start_time": "2024-05-09T11:27:56.471Z"
   },
   {
    "duration": 26,
    "start_time": "2024-05-09T11:27:56.507Z"
   },
   {
    "duration": 15,
    "start_time": "2024-05-09T11:27:56.534Z"
   },
   {
    "duration": 8,
    "start_time": "2024-05-09T11:27:56.550Z"
   },
   {
    "duration": 12,
    "start_time": "2024-05-09T11:27:56.559Z"
   },
   {
    "duration": 9,
    "start_time": "2024-05-09T11:27:56.572Z"
   },
   {
    "duration": 32,
    "start_time": "2024-05-09T11:27:56.582Z"
   },
   {
    "duration": 22,
    "start_time": "2024-05-09T11:27:56.616Z"
   },
   {
    "duration": 8,
    "start_time": "2024-05-09T11:27:56.639Z"
   },
   {
    "duration": 10,
    "start_time": "2024-05-09T11:27:56.650Z"
   },
   {
    "duration": 7,
    "start_time": "2024-05-09T11:27:56.661Z"
   },
   {
    "duration": 13,
    "start_time": "2024-05-09T11:27:56.670Z"
   },
   {
    "duration": 8,
    "start_time": "2024-05-09T11:27:56.684Z"
   },
   {
    "duration": 18,
    "start_time": "2024-05-09T11:27:56.694Z"
   },
   {
    "duration": 31,
    "start_time": "2024-05-09T11:27:56.714Z"
   },
   {
    "duration": 5,
    "start_time": "2024-05-09T11:27:56.748Z"
   },
   {
    "duration": 12,
    "start_time": "2024-05-09T11:27:56.754Z"
   },
   {
    "duration": 13,
    "start_time": "2024-05-09T11:27:56.767Z"
   },
   {
    "duration": 9,
    "start_time": "2024-05-09T11:27:56.781Z"
   },
   {
    "duration": 17,
    "start_time": "2024-05-09T11:27:56.791Z"
   },
   {
    "duration": 6,
    "start_time": "2024-05-09T11:27:56.809Z"
   },
   {
    "duration": 8,
    "start_time": "2024-05-09T11:27:56.817Z"
   },
   {
    "duration": 9,
    "start_time": "2024-05-09T11:27:56.826Z"
   },
   {
    "duration": 4,
    "start_time": "2024-05-09T11:27:56.845Z"
   },
   {
    "duration": 142,
    "start_time": "2024-05-09T11:27:56.851Z"
   },
   {
    "duration": 76,
    "start_time": "2024-05-09T11:27:56.995Z"
   },
   {
    "duration": 128,
    "start_time": "2024-05-09T11:27:57.072Z"
   },
   {
    "duration": 240,
    "start_time": "2024-05-09T11:27:57.201Z"
   },
   {
    "duration": 232,
    "start_time": "2024-05-09T11:27:57.447Z"
   },
   {
    "duration": 18,
    "start_time": "2024-05-09T11:27:57.680Z"
   },
   {
    "duration": 4,
    "start_time": "2024-05-09T11:27:57.699Z"
   },
   {
    "duration": 25,
    "start_time": "2024-05-09T11:27:57.705Z"
   },
   {
    "duration": 25,
    "start_time": "2024-05-09T11:27:57.731Z"
   },
   {
    "duration": 30,
    "start_time": "2024-05-09T11:27:57.758Z"
   },
   {
    "duration": 22,
    "start_time": "2024-05-09T11:27:57.790Z"
   },
   {
    "duration": 227,
    "start_time": "2024-05-09T11:27:57.813Z"
   },
   {
    "duration": 342,
    "start_time": "2024-05-09T11:27:58.044Z"
   },
   {
    "duration": 32,
    "start_time": "2024-05-09T11:27:58.388Z"
   },
   {
    "duration": 7,
    "start_time": "2024-05-09T11:27:58.422Z"
   },
   {
    "duration": 4,
    "start_time": "2024-05-09T11:27:58.444Z"
   },
   {
    "duration": 18,
    "start_time": "2024-05-09T11:27:58.449Z"
   },
   {
    "duration": 16,
    "start_time": "2024-05-09T11:27:58.468Z"
   },
   {
    "duration": 21,
    "start_time": "2024-05-09T11:27:58.485Z"
   },
   {
    "duration": 11,
    "start_time": "2024-05-09T11:27:58.507Z"
   },
   {
    "duration": 13,
    "start_time": "2024-05-09T11:27:58.519Z"
   },
   {
    "duration": 219,
    "start_time": "2024-05-09T11:27:58.533Z"
   },
   {
    "duration": 15,
    "start_time": "2024-05-09T11:27:58.754Z"
   },
   {
    "duration": 3,
    "start_time": "2024-05-09T11:28:15.625Z"
   },
   {
    "duration": 31,
    "start_time": "2024-05-09T11:28:15.630Z"
   },
   {
    "duration": 26,
    "start_time": "2024-05-09T11:28:15.662Z"
   },
   {
    "duration": 15,
    "start_time": "2024-05-09T11:28:15.690Z"
   },
   {
    "duration": 8,
    "start_time": "2024-05-09T11:28:15.706Z"
   },
   {
    "duration": 15,
    "start_time": "2024-05-09T11:28:15.715Z"
   },
   {
    "duration": 11,
    "start_time": "2024-05-09T11:28:15.731Z"
   },
   {
    "duration": 22,
    "start_time": "2024-05-09T11:28:15.743Z"
   },
   {
    "duration": 22,
    "start_time": "2024-05-09T11:28:15.767Z"
   },
   {
    "duration": 6,
    "start_time": "2024-05-09T11:28:15.791Z"
   },
   {
    "duration": 11,
    "start_time": "2024-05-09T11:28:15.798Z"
   },
   {
    "duration": 6,
    "start_time": "2024-05-09T11:28:15.811Z"
   },
   {
    "duration": 25,
    "start_time": "2024-05-09T11:28:15.818Z"
   },
   {
    "duration": 8,
    "start_time": "2024-05-09T11:28:15.844Z"
   },
   {
    "duration": 14,
    "start_time": "2024-05-09T11:28:15.854Z"
   },
   {
    "duration": 6,
    "start_time": "2024-05-09T11:28:15.869Z"
   },
   {
    "duration": 9,
    "start_time": "2024-05-09T11:28:15.876Z"
   },
   {
    "duration": 14,
    "start_time": "2024-05-09T11:28:15.886Z"
   },
   {
    "duration": 6,
    "start_time": "2024-05-09T11:28:15.902Z"
   },
   {
    "duration": 8,
    "start_time": "2024-05-09T11:28:15.909Z"
   },
   {
    "duration": 8,
    "start_time": "2024-05-09T11:28:15.918Z"
   },
   {
    "duration": 22,
    "start_time": "2024-05-09T11:28:15.927Z"
   },
   {
    "duration": 6,
    "start_time": "2024-05-09T11:28:15.950Z"
   },
   {
    "duration": 5,
    "start_time": "2024-05-09T11:28:15.959Z"
   },
   {
    "duration": 7,
    "start_time": "2024-05-09T11:28:15.965Z"
   },
   {
    "duration": 149,
    "start_time": "2024-05-09T11:28:15.973Z"
   },
   {
    "duration": 79,
    "start_time": "2024-05-09T11:28:16.124Z"
   },
   {
    "duration": 126,
    "start_time": "2024-05-09T11:28:16.204Z"
   },
   {
    "duration": 234,
    "start_time": "2024-05-09T11:28:16.332Z"
   },
   {
    "duration": 234,
    "start_time": "2024-05-09T11:28:16.567Z"
   },
   {
    "duration": 18,
    "start_time": "2024-05-09T11:28:16.803Z"
   },
   {
    "duration": 3,
    "start_time": "2024-05-09T11:28:16.823Z"
   },
   {
    "duration": 31,
    "start_time": "2024-05-09T11:28:16.828Z"
   },
   {
    "duration": 11,
    "start_time": "2024-05-09T11:28:16.861Z"
   },
   {
    "duration": 13,
    "start_time": "2024-05-09T11:28:16.873Z"
   },
   {
    "duration": 21,
    "start_time": "2024-05-09T11:28:16.887Z"
   },
   {
    "duration": 238,
    "start_time": "2024-05-09T11:28:16.910Z"
   },
   {
    "duration": 356,
    "start_time": "2024-05-09T11:28:17.149Z"
   },
   {
    "duration": 39,
    "start_time": "2024-05-09T11:28:17.507Z"
   },
   {
    "duration": 6,
    "start_time": "2024-05-09T11:28:17.548Z"
   },
   {
    "duration": 4,
    "start_time": "2024-05-09T11:28:17.555Z"
   },
   {
    "duration": 11,
    "start_time": "2024-05-09T11:28:17.560Z"
   },
   {
    "duration": 5,
    "start_time": "2024-05-09T11:28:17.572Z"
   },
   {
    "duration": 8,
    "start_time": "2024-05-09T11:28:17.578Z"
   },
   {
    "duration": 7,
    "start_time": "2024-05-09T11:28:17.587Z"
   },
   {
    "duration": 5,
    "start_time": "2024-05-09T11:28:17.596Z"
   },
   {
    "duration": 285,
    "start_time": "2024-05-09T11:28:17.602Z"
   },
   {
    "duration": 14,
    "start_time": "2024-05-09T11:28:17.889Z"
   },
   {
    "duration": 1178,
    "start_time": "2024-05-09T12:22:31.601Z"
   },
   {
    "duration": 28,
    "start_time": "2024-05-09T12:22:32.781Z"
   },
   {
    "duration": 29,
    "start_time": "2024-05-09T12:22:32.810Z"
   },
   {
    "duration": 19,
    "start_time": "2024-05-09T12:22:32.840Z"
   },
   {
    "duration": 45,
    "start_time": "2024-05-09T12:22:32.860Z"
   },
   {
    "duration": 19,
    "start_time": "2024-05-09T12:22:32.906Z"
   },
   {
    "duration": 9,
    "start_time": "2024-05-09T12:22:32.926Z"
   },
   {
    "duration": 21,
    "start_time": "2024-05-09T12:22:32.937Z"
   },
   {
    "duration": 35,
    "start_time": "2024-05-09T12:22:32.959Z"
   },
   {
    "duration": 7,
    "start_time": "2024-05-09T12:22:32.997Z"
   },
   {
    "duration": 22,
    "start_time": "2024-05-09T12:22:33.006Z"
   },
   {
    "duration": 33,
    "start_time": "2024-05-09T12:22:33.030Z"
   },
   {
    "duration": 30,
    "start_time": "2024-05-09T12:22:33.065Z"
   },
   {
    "duration": 28,
    "start_time": "2024-05-09T12:22:33.097Z"
   },
   {
    "duration": 29,
    "start_time": "2024-05-09T12:22:33.127Z"
   },
   {
    "duration": 7,
    "start_time": "2024-05-09T12:22:33.158Z"
   },
   {
    "duration": 20,
    "start_time": "2024-05-09T12:22:33.167Z"
   },
   {
    "duration": 18,
    "start_time": "2024-05-09T12:22:33.189Z"
   },
   {
    "duration": 16,
    "start_time": "2024-05-09T12:22:33.209Z"
   },
   {
    "duration": 6,
    "start_time": "2024-05-09T12:22:33.227Z"
   },
   {
    "duration": 7,
    "start_time": "2024-05-09T12:22:33.235Z"
   },
   {
    "duration": 18,
    "start_time": "2024-05-09T12:22:33.243Z"
   },
   {
    "duration": 35,
    "start_time": "2024-05-09T12:22:33.263Z"
   },
   {
    "duration": 12,
    "start_time": "2024-05-09T12:22:33.299Z"
   },
   {
    "duration": 20,
    "start_time": "2024-05-09T12:22:33.312Z"
   },
   {
    "duration": 179,
    "start_time": "2024-05-09T12:22:33.334Z"
   },
   {
    "duration": 84,
    "start_time": "2024-05-09T12:22:33.515Z"
   },
   {
    "duration": 180,
    "start_time": "2024-05-09T12:22:33.604Z"
   },
   {
    "duration": 308,
    "start_time": "2024-05-09T12:22:33.786Z"
   },
   {
    "duration": 265,
    "start_time": "2024-05-09T12:22:34.096Z"
   },
   {
    "duration": 32,
    "start_time": "2024-05-09T12:22:34.363Z"
   },
   {
    "duration": 17,
    "start_time": "2024-05-09T12:22:34.397Z"
   },
   {
    "duration": 61,
    "start_time": "2024-05-09T12:22:34.416Z"
   },
   {
    "duration": 19,
    "start_time": "2024-05-09T12:22:34.479Z"
   },
   {
    "duration": 32,
    "start_time": "2024-05-09T12:22:34.500Z"
   },
   {
    "duration": 31,
    "start_time": "2024-05-09T12:22:34.534Z"
   },
   {
    "duration": 359,
    "start_time": "2024-05-09T12:22:34.567Z"
   },
   {
    "duration": 294,
    "start_time": "2024-05-09T12:22:34.928Z"
   },
   {
    "duration": 37,
    "start_time": "2024-05-09T12:22:35.223Z"
   },
   {
    "duration": 66,
    "start_time": "2024-05-09T12:22:35.262Z"
   },
   {
    "duration": 80,
    "start_time": "2024-05-09T12:22:35.329Z"
   },
   {
    "duration": 81,
    "start_time": "2024-05-09T12:22:35.411Z"
   },
   {
    "duration": 24,
    "start_time": "2024-05-09T12:22:35.493Z"
   },
   {
    "duration": 48,
    "start_time": "2024-05-09T12:22:35.518Z"
   },
   {
    "duration": 35,
    "start_time": "2024-05-09T12:22:35.568Z"
   },
   {
    "duration": 17,
    "start_time": "2024-05-09T12:22:35.604Z"
   },
   {
    "duration": 303,
    "start_time": "2024-05-09T12:22:35.622Z"
   },
   {
    "duration": 16,
    "start_time": "2024-05-09T12:22:35.927Z"
   },
   {
    "duration": 6,
    "start_time": "2024-05-09T12:28:43.773Z"
   },
   {
    "duration": 1188,
    "start_time": "2024-05-09T12:31:07.594Z"
   },
   {
    "duration": 28,
    "start_time": "2024-05-09T12:31:08.784Z"
   },
   {
    "duration": 28,
    "start_time": "2024-05-09T12:31:08.814Z"
   },
   {
    "duration": 28,
    "start_time": "2024-05-09T12:31:08.845Z"
   },
   {
    "duration": 12,
    "start_time": "2024-05-09T12:31:08.875Z"
   },
   {
    "duration": 11,
    "start_time": "2024-05-09T12:31:08.889Z"
   },
   {
    "duration": 12,
    "start_time": "2024-05-09T12:31:08.902Z"
   },
   {
    "duration": 30,
    "start_time": "2024-05-09T12:31:08.916Z"
   },
   {
    "duration": 60,
    "start_time": "2024-05-09T12:31:08.947Z"
   },
   {
    "duration": 8,
    "start_time": "2024-05-09T12:31:09.010Z"
   },
   {
    "duration": 14,
    "start_time": "2024-05-09T12:31:09.020Z"
   },
   {
    "duration": 8,
    "start_time": "2024-05-09T12:31:09.036Z"
   },
   {
    "duration": 53,
    "start_time": "2024-05-09T12:31:09.045Z"
   },
   {
    "duration": 9,
    "start_time": "2024-05-09T12:31:09.100Z"
   },
   {
    "duration": 19,
    "start_time": "2024-05-09T12:31:09.110Z"
   },
   {
    "duration": 25,
    "start_time": "2024-05-09T12:31:09.130Z"
   },
   {
    "duration": 19,
    "start_time": "2024-05-09T12:31:09.156Z"
   },
   {
    "duration": 18,
    "start_time": "2024-05-09T12:31:09.176Z"
   },
   {
    "duration": 6,
    "start_time": "2024-05-09T12:31:09.196Z"
   },
   {
    "duration": 8,
    "start_time": "2024-05-09T12:31:09.203Z"
   },
   {
    "duration": 10,
    "start_time": "2024-05-09T12:31:09.213Z"
   },
   {
    "duration": 10,
    "start_time": "2024-05-09T12:31:09.224Z"
   },
   {
    "duration": 19,
    "start_time": "2024-05-09T12:31:09.235Z"
   },
   {
    "duration": 12,
    "start_time": "2024-05-09T12:31:09.255Z"
   },
   {
    "duration": 7,
    "start_time": "2024-05-09T12:31:09.268Z"
   },
   {
    "duration": 208,
    "start_time": "2024-05-09T12:31:09.277Z"
   },
   {
    "duration": 85,
    "start_time": "2024-05-09T12:31:09.487Z"
   },
   {
    "duration": 155,
    "start_time": "2024-05-09T12:31:09.576Z"
   },
   {
    "duration": 269,
    "start_time": "2024-05-09T12:31:09.733Z"
   },
   {
    "duration": 245,
    "start_time": "2024-05-09T12:31:10.003Z"
   },
   {
    "duration": 19,
    "start_time": "2024-05-09T12:31:10.249Z"
   },
   {
    "duration": 4,
    "start_time": "2024-05-09T12:31:10.270Z"
   },
   {
    "duration": 31,
    "start_time": "2024-05-09T12:31:10.275Z"
   },
   {
    "duration": 20,
    "start_time": "2024-05-09T12:31:10.308Z"
   },
   {
    "duration": 10,
    "start_time": "2024-05-09T12:31:10.329Z"
   },
   {
    "duration": 8,
    "start_time": "2024-05-09T12:31:10.341Z"
   },
   {
    "duration": 331,
    "start_time": "2024-05-09T12:31:10.350Z"
   },
   {
    "duration": 272,
    "start_time": "2024-05-09T12:31:10.682Z"
   },
   {
    "duration": 39,
    "start_time": "2024-05-09T12:31:10.955Z"
   },
   {
    "duration": 8,
    "start_time": "2024-05-09T12:31:10.995Z"
   },
   {
    "duration": 9,
    "start_time": "2024-05-09T12:31:11.004Z"
   },
   {
    "duration": 22,
    "start_time": "2024-05-09T12:31:11.014Z"
   },
   {
    "duration": 5,
    "start_time": "2024-05-09T12:31:11.038Z"
   },
   {
    "duration": 14,
    "start_time": "2024-05-09T12:31:11.045Z"
   },
   {
    "duration": 9,
    "start_time": "2024-05-09T12:31:11.061Z"
   },
   {
    "duration": 22,
    "start_time": "2024-05-09T12:31:11.072Z"
   },
   {
    "duration": 266,
    "start_time": "2024-05-09T12:31:11.096Z"
   },
   {
    "duration": 16,
    "start_time": "2024-05-09T12:31:11.364Z"
   },
   {
    "duration": 7,
    "start_time": "2024-05-09T13:51:08.871Z"
   },
   {
    "duration": 6,
    "start_time": "2024-05-09T13:51:50.964Z"
   },
   {
    "duration": 2,
    "start_time": "2024-05-09T13:59:43.332Z"
   },
   {
    "duration": 48,
    "start_time": "2024-05-09T13:59:43.336Z"
   },
   {
    "duration": 32,
    "start_time": "2024-05-09T13:59:43.386Z"
   },
   {
    "duration": 16,
    "start_time": "2024-05-09T13:59:43.419Z"
   },
   {
    "duration": 10,
    "start_time": "2024-05-09T13:59:43.436Z"
   },
   {
    "duration": 17,
    "start_time": "2024-05-09T13:59:43.449Z"
   },
   {
    "duration": 15,
    "start_time": "2024-05-09T13:59:43.468Z"
   },
   {
    "duration": 17,
    "start_time": "2024-05-09T13:59:43.485Z"
   },
   {
    "duration": 55,
    "start_time": "2024-05-09T13:59:43.503Z"
   },
   {
    "duration": 7,
    "start_time": "2024-05-09T13:59:43.559Z"
   },
   {
    "duration": 11,
    "start_time": "2024-05-09T13:59:43.568Z"
   },
   {
    "duration": 28,
    "start_time": "2024-05-09T13:59:43.580Z"
   },
   {
    "duration": 15,
    "start_time": "2024-05-09T13:59:43.609Z"
   },
   {
    "duration": 17,
    "start_time": "2024-05-09T13:59:43.625Z"
   },
   {
    "duration": 22,
    "start_time": "2024-05-09T13:59:43.643Z"
   },
   {
    "duration": 14,
    "start_time": "2024-05-09T13:59:43.666Z"
   },
   {
    "duration": 18,
    "start_time": "2024-05-09T13:59:43.681Z"
   },
   {
    "duration": 8,
    "start_time": "2024-05-09T13:59:43.702Z"
   },
   {
    "duration": 9,
    "start_time": "2024-05-09T13:59:43.711Z"
   },
   {
    "duration": 7,
    "start_time": "2024-05-09T13:59:43.722Z"
   },
   {
    "duration": 13,
    "start_time": "2024-05-09T13:59:43.730Z"
   },
   {
    "duration": 17,
    "start_time": "2024-05-09T13:59:43.744Z"
   },
   {
    "duration": 7,
    "start_time": "2024-05-09T13:59:43.763Z"
   },
   {
    "duration": 5,
    "start_time": "2024-05-09T13:59:43.771Z"
   },
   {
    "duration": 9,
    "start_time": "2024-05-09T13:59:43.778Z"
   },
   {
    "duration": 131,
    "start_time": "2024-05-09T13:59:43.789Z"
   },
   {
    "duration": 5,
    "start_time": "2024-05-09T13:59:43.922Z"
   },
   {
    "duration": 2,
    "start_time": "2024-05-09T13:59:53.321Z"
   },
   {
    "duration": 56,
    "start_time": "2024-05-09T13:59:53.326Z"
   },
   {
    "duration": 26,
    "start_time": "2024-05-09T13:59:53.384Z"
   },
   {
    "duration": 22,
    "start_time": "2024-05-09T13:59:53.412Z"
   },
   {
    "duration": 35,
    "start_time": "2024-05-09T13:59:53.435Z"
   },
   {
    "duration": 32,
    "start_time": "2024-05-09T13:59:53.472Z"
   },
   {
    "duration": 25,
    "start_time": "2024-05-09T13:59:53.506Z"
   },
   {
    "duration": 30,
    "start_time": "2024-05-09T13:59:53.533Z"
   },
   {
    "duration": 40,
    "start_time": "2024-05-09T13:59:53.565Z"
   },
   {
    "duration": 7,
    "start_time": "2024-05-09T13:59:53.607Z"
   },
   {
    "duration": 17,
    "start_time": "2024-05-09T13:59:53.616Z"
   },
   {
    "duration": 30,
    "start_time": "2024-05-09T13:59:53.635Z"
   },
   {
    "duration": 22,
    "start_time": "2024-05-09T13:59:53.666Z"
   },
   {
    "duration": 27,
    "start_time": "2024-05-09T13:59:53.690Z"
   },
   {
    "duration": 14,
    "start_time": "2024-05-09T13:59:53.720Z"
   },
   {
    "duration": 6,
    "start_time": "2024-05-09T13:59:53.736Z"
   },
   {
    "duration": 15,
    "start_time": "2024-05-09T13:59:53.744Z"
   },
   {
    "duration": 21,
    "start_time": "2024-05-09T13:59:53.761Z"
   },
   {
    "duration": 23,
    "start_time": "2024-05-09T13:59:53.783Z"
   },
   {
    "duration": 19,
    "start_time": "2024-05-09T13:59:53.808Z"
   },
   {
    "duration": 12,
    "start_time": "2024-05-09T13:59:53.829Z"
   },
   {
    "duration": 29,
    "start_time": "2024-05-09T13:59:53.843Z"
   },
   {
    "duration": 20,
    "start_time": "2024-05-09T13:59:53.874Z"
   },
   {
    "duration": 30,
    "start_time": "2024-05-09T13:59:53.895Z"
   },
   {
    "duration": 10,
    "start_time": "2024-05-09T13:59:53.926Z"
   },
   {
    "duration": 145,
    "start_time": "2024-05-09T13:59:53.937Z"
   },
   {
    "duration": 5,
    "start_time": "2024-05-09T13:59:54.084Z"
   },
   {
    "duration": 96,
    "start_time": "2024-05-09T13:59:54.090Z"
   },
   {
    "duration": 82,
    "start_time": "2024-05-09T14:00:01.296Z"
   },
   {
    "duration": 78,
    "start_time": "2024-05-09T14:07:10.170Z"
   },
   {
    "duration": 70,
    "start_time": "2024-05-09T14:07:44.080Z"
   },
   {
    "duration": 84,
    "start_time": "2024-05-09T14:08:17.165Z"
   },
   {
    "duration": 4,
    "start_time": "2024-05-09T14:13:26.173Z"
   },
   {
    "duration": 3,
    "start_time": "2024-05-09T14:19:17.837Z"
   },
   {
    "duration": 35,
    "start_time": "2024-05-09T14:19:17.844Z"
   },
   {
    "duration": 28,
    "start_time": "2024-05-09T14:19:17.880Z"
   },
   {
    "duration": 16,
    "start_time": "2024-05-09T14:19:17.910Z"
   },
   {
    "duration": 8,
    "start_time": "2024-05-09T14:19:17.928Z"
   },
   {
    "duration": 11,
    "start_time": "2024-05-09T14:19:17.937Z"
   },
   {
    "duration": 9,
    "start_time": "2024-05-09T14:19:17.950Z"
   },
   {
    "duration": 17,
    "start_time": "2024-05-09T14:19:17.960Z"
   },
   {
    "duration": 23,
    "start_time": "2024-05-09T14:19:17.978Z"
   },
   {
    "duration": 6,
    "start_time": "2024-05-09T14:19:18.003Z"
   },
   {
    "duration": 33,
    "start_time": "2024-05-09T14:19:18.013Z"
   },
   {
    "duration": 15,
    "start_time": "2024-05-09T14:19:18.048Z"
   },
   {
    "duration": 16,
    "start_time": "2024-05-09T14:19:18.064Z"
   },
   {
    "duration": 12,
    "start_time": "2024-05-09T14:19:18.082Z"
   },
   {
    "duration": 13,
    "start_time": "2024-05-09T14:19:18.096Z"
   },
   {
    "duration": 5,
    "start_time": "2024-05-09T14:19:18.110Z"
   },
   {
    "duration": 6,
    "start_time": "2024-05-09T14:19:18.116Z"
   },
   {
    "duration": 12,
    "start_time": "2024-05-09T14:19:18.123Z"
   },
   {
    "duration": 17,
    "start_time": "2024-05-09T14:19:18.136Z"
   },
   {
    "duration": 4,
    "start_time": "2024-05-09T14:19:18.155Z"
   },
   {
    "duration": 8,
    "start_time": "2024-05-09T14:19:18.161Z"
   },
   {
    "duration": 8,
    "start_time": "2024-05-09T14:19:18.170Z"
   },
   {
    "duration": 14,
    "start_time": "2024-05-09T14:19:18.179Z"
   },
   {
    "duration": 5,
    "start_time": "2024-05-09T14:19:18.195Z"
   },
   {
    "duration": 9,
    "start_time": "2024-05-09T14:19:18.202Z"
   },
   {
    "duration": 151,
    "start_time": "2024-05-09T14:19:18.213Z"
   },
   {
    "duration": 5,
    "start_time": "2024-05-09T14:19:18.365Z"
   },
   {
    "duration": 237,
    "start_time": "2024-05-09T14:19:18.371Z"
   },
   {
    "duration": 129,
    "start_time": "2024-05-09T14:19:18.611Z"
   },
   {
    "duration": 235,
    "start_time": "2024-05-09T14:19:18.744Z"
   },
   {
    "duration": 213,
    "start_time": "2024-05-09T14:19:18.981Z"
   },
   {
    "duration": 17,
    "start_time": "2024-05-09T14:19:19.196Z"
   },
   {
    "duration": 22,
    "start_time": "2024-05-09T14:19:19.214Z"
   },
   {
    "duration": 51,
    "start_time": "2024-05-09T14:19:19.238Z"
   },
   {
    "duration": 10,
    "start_time": "2024-05-09T14:19:19.291Z"
   },
   {
    "duration": 7,
    "start_time": "2024-05-09T14:19:19.303Z"
   },
   {
    "duration": 11,
    "start_time": "2024-05-09T14:19:19.312Z"
   },
   {
    "duration": 4,
    "start_time": "2024-05-09T14:22:05.686Z"
   },
   {
    "duration": 9,
    "start_time": "2024-05-09T14:26:19.939Z"
   },
   {
    "duration": 2,
    "start_time": "2024-05-09T14:26:53.273Z"
   },
   {
    "duration": 36,
    "start_time": "2024-05-09T14:26:53.277Z"
   },
   {
    "duration": 27,
    "start_time": "2024-05-09T14:26:53.315Z"
   },
   {
    "duration": 15,
    "start_time": "2024-05-09T14:26:53.343Z"
   },
   {
    "duration": 8,
    "start_time": "2024-05-09T14:26:53.359Z"
   },
   {
    "duration": 24,
    "start_time": "2024-05-09T14:26:53.368Z"
   },
   {
    "duration": 12,
    "start_time": "2024-05-09T14:26:53.394Z"
   },
   {
    "duration": 25,
    "start_time": "2024-05-09T14:26:53.408Z"
   },
   {
    "duration": 33,
    "start_time": "2024-05-09T14:26:53.435Z"
   },
   {
    "duration": 7,
    "start_time": "2024-05-09T14:26:53.469Z"
   },
   {
    "duration": 26,
    "start_time": "2024-05-09T14:26:53.478Z"
   },
   {
    "duration": 22,
    "start_time": "2024-05-09T14:26:53.505Z"
   },
   {
    "duration": 40,
    "start_time": "2024-05-09T14:26:53.529Z"
   },
   {
    "duration": 29,
    "start_time": "2024-05-09T14:26:53.572Z"
   },
   {
    "duration": 13,
    "start_time": "2024-05-09T14:26:53.603Z"
   },
   {
    "duration": 16,
    "start_time": "2024-05-09T14:26:53.617Z"
   },
   {
    "duration": 8,
    "start_time": "2024-05-09T14:26:53.634Z"
   },
   {
    "duration": 24,
    "start_time": "2024-05-09T14:26:53.643Z"
   },
   {
    "duration": 7,
    "start_time": "2024-05-09T14:26:53.669Z"
   },
   {
    "duration": 21,
    "start_time": "2024-05-09T14:26:53.677Z"
   },
   {
    "duration": 31,
    "start_time": "2024-05-09T14:26:53.699Z"
   },
   {
    "duration": 14,
    "start_time": "2024-05-09T14:26:53.732Z"
   },
   {
    "duration": 14,
    "start_time": "2024-05-09T14:26:53.748Z"
   },
   {
    "duration": 13,
    "start_time": "2024-05-09T14:26:53.763Z"
   },
   {
    "duration": 26,
    "start_time": "2024-05-09T14:26:53.777Z"
   },
   {
    "duration": 148,
    "start_time": "2024-05-09T14:26:53.804Z"
   },
   {
    "duration": 6,
    "start_time": "2024-05-09T14:26:53.953Z"
   },
   {
    "duration": 64,
    "start_time": "2024-05-09T14:26:53.960Z"
   },
   {
    "duration": 132,
    "start_time": "2024-05-09T14:26:54.025Z"
   },
   {
    "duration": 240,
    "start_time": "2024-05-09T14:26:54.159Z"
   },
   {
    "duration": 213,
    "start_time": "2024-05-09T14:26:54.401Z"
   },
   {
    "duration": 17,
    "start_time": "2024-05-09T14:26:54.617Z"
   },
   {
    "duration": 3,
    "start_time": "2024-05-09T14:26:54.645Z"
   },
   {
    "duration": 25,
    "start_time": "2024-05-09T14:26:54.650Z"
   },
   {
    "duration": 10,
    "start_time": "2024-05-09T14:26:54.677Z"
   },
   {
    "duration": 8,
    "start_time": "2024-05-09T14:26:54.688Z"
   },
   {
    "duration": 10,
    "start_time": "2024-05-09T14:26:54.697Z"
   },
   {
    "duration": 7,
    "start_time": "2024-05-09T14:26:54.708Z"
   },
   {
    "duration": 5,
    "start_time": "2024-05-09T14:26:54.717Z"
   },
   {
    "duration": 240,
    "start_time": "2024-05-09T14:26:54.723Z"
   },
   {
    "duration": 238,
    "start_time": "2024-05-09T14:26:54.965Z"
   },
   {
    "duration": 4,
    "start_time": "2024-05-09T14:26:55.205Z"
   },
   {
    "duration": 47,
    "start_time": "2024-05-09T14:26:55.210Z"
   },
   {
    "duration": 7,
    "start_time": "2024-05-09T14:26:55.258Z"
   },
   {
    "duration": 9,
    "start_time": "2024-05-09T14:26:55.266Z"
   },
   {
    "duration": 5,
    "start_time": "2024-05-09T14:26:55.276Z"
   },
   {
    "duration": 8,
    "start_time": "2024-05-09T14:26:55.282Z"
   },
   {
    "duration": 3,
    "start_time": "2024-05-09T14:27:32.244Z"
   },
   {
    "duration": 42,
    "start_time": "2024-05-09T14:27:32.249Z"
   },
   {
    "duration": 27,
    "start_time": "2024-05-09T14:27:32.292Z"
   },
   {
    "duration": 16,
    "start_time": "2024-05-09T14:27:32.320Z"
   },
   {
    "duration": 15,
    "start_time": "2024-05-09T14:27:32.337Z"
   },
   {
    "duration": 24,
    "start_time": "2024-05-09T14:27:32.353Z"
   },
   {
    "duration": 13,
    "start_time": "2024-05-09T14:27:32.379Z"
   },
   {
    "duration": 18,
    "start_time": "2024-05-09T14:27:32.393Z"
   },
   {
    "duration": 23,
    "start_time": "2024-05-09T14:27:32.414Z"
   },
   {
    "duration": 151,
    "start_time": "2024-05-09T14:27:32.439Z"
   },
   {
    "duration": 10,
    "start_time": "2024-05-09T14:27:32.592Z"
   },
   {
    "duration": 7,
    "start_time": "2024-05-09T14:27:32.603Z"
   },
   {
    "duration": 34,
    "start_time": "2024-05-09T14:27:32.611Z"
   },
   {
    "duration": 8,
    "start_time": "2024-05-09T14:27:32.647Z"
   },
   {
    "duration": 13,
    "start_time": "2024-05-09T14:27:32.656Z"
   },
   {
    "duration": 5,
    "start_time": "2024-05-09T14:27:32.671Z"
   },
   {
    "duration": 8,
    "start_time": "2024-05-09T14:27:32.677Z"
   },
   {
    "duration": 5,
    "start_time": "2024-05-09T14:27:32.686Z"
   },
   {
    "duration": 5,
    "start_time": "2024-05-09T14:27:32.692Z"
   },
   {
    "duration": 4,
    "start_time": "2024-05-09T14:27:32.699Z"
   },
   {
    "duration": 10,
    "start_time": "2024-05-09T14:27:32.704Z"
   },
   {
    "duration": 33,
    "start_time": "2024-05-09T14:27:32.715Z"
   },
   {
    "duration": 12,
    "start_time": "2024-05-09T14:27:32.749Z"
   },
   {
    "duration": 9,
    "start_time": "2024-05-09T14:27:32.764Z"
   },
   {
    "duration": 5,
    "start_time": "2024-05-09T14:27:32.775Z"
   },
   {
    "duration": 137,
    "start_time": "2024-05-09T14:27:32.782Z"
   },
   {
    "duration": 5,
    "start_time": "2024-05-09T14:27:32.920Z"
   },
   {
    "duration": 75,
    "start_time": "2024-05-09T14:27:32.926Z"
   },
   {
    "duration": 133,
    "start_time": "2024-05-09T14:27:33.002Z"
   },
   {
    "duration": 244,
    "start_time": "2024-05-09T14:27:33.136Z"
   },
   {
    "duration": 257,
    "start_time": "2024-05-09T14:27:33.382Z"
   },
   {
    "duration": 20,
    "start_time": "2024-05-09T14:27:33.645Z"
   },
   {
    "duration": 5,
    "start_time": "2024-05-09T14:27:33.667Z"
   },
   {
    "duration": 15,
    "start_time": "2024-05-09T14:27:33.674Z"
   },
   {
    "duration": 12,
    "start_time": "2024-05-09T14:27:33.690Z"
   },
   {
    "duration": 6,
    "start_time": "2024-05-09T14:27:33.703Z"
   },
   {
    "duration": 41,
    "start_time": "2024-05-09T14:27:33.710Z"
   },
   {
    "duration": 14,
    "start_time": "2024-05-09T14:27:33.752Z"
   },
   {
    "duration": 7,
    "start_time": "2024-05-09T14:27:33.767Z"
   },
   {
    "duration": 229,
    "start_time": "2024-05-09T14:27:33.775Z"
   },
   {
    "duration": 239,
    "start_time": "2024-05-09T14:27:34.006Z"
   },
   {
    "duration": 4,
    "start_time": "2024-05-09T14:27:34.246Z"
   },
   {
    "duration": 53,
    "start_time": "2024-05-09T14:27:34.251Z"
   },
   {
    "duration": 7,
    "start_time": "2024-05-09T14:27:34.306Z"
   },
   {
    "duration": 9,
    "start_time": "2024-05-09T14:27:34.314Z"
   },
   {
    "duration": 7,
    "start_time": "2024-05-09T14:27:34.325Z"
   },
   {
    "duration": 16,
    "start_time": "2024-05-09T14:27:34.335Z"
   },
   {
    "duration": 3,
    "start_time": "2024-05-09T14:32:36.260Z"
   },
   {
    "duration": 28,
    "start_time": "2024-05-09T14:32:36.267Z"
   },
   {
    "duration": 26,
    "start_time": "2024-05-09T14:32:36.297Z"
   },
   {
    "duration": 14,
    "start_time": "2024-05-09T14:32:36.324Z"
   },
   {
    "duration": 7,
    "start_time": "2024-05-09T14:32:36.340Z"
   },
   {
    "duration": 19,
    "start_time": "2024-05-09T14:32:36.348Z"
   },
   {
    "duration": 7,
    "start_time": "2024-05-09T14:32:36.368Z"
   },
   {
    "duration": 14,
    "start_time": "2024-05-09T14:32:36.377Z"
   },
   {
    "duration": 22,
    "start_time": "2024-05-09T14:32:36.392Z"
   },
   {
    "duration": 6,
    "start_time": "2024-05-09T14:32:36.416Z"
   },
   {
    "duration": 27,
    "start_time": "2024-05-09T14:32:36.424Z"
   },
   {
    "duration": 6,
    "start_time": "2024-05-09T14:32:36.452Z"
   },
   {
    "duration": 13,
    "start_time": "2024-05-09T14:32:36.460Z"
   },
   {
    "duration": 7,
    "start_time": "2024-05-09T14:32:36.474Z"
   },
   {
    "duration": 13,
    "start_time": "2024-05-09T14:32:36.482Z"
   },
   {
    "duration": 16,
    "start_time": "2024-05-09T14:32:36.496Z"
   },
   {
    "duration": 8,
    "start_time": "2024-05-09T14:32:36.513Z"
   },
   {
    "duration": 10,
    "start_time": "2024-05-09T14:32:36.522Z"
   },
   {
    "duration": 15,
    "start_time": "2024-05-09T14:32:36.533Z"
   },
   {
    "duration": 4,
    "start_time": "2024-05-09T14:32:36.549Z"
   },
   {
    "duration": 4,
    "start_time": "2024-05-09T14:32:36.555Z"
   },
   {
    "duration": 11,
    "start_time": "2024-05-09T14:32:36.561Z"
   },
   {
    "duration": 10,
    "start_time": "2024-05-09T14:32:36.573Z"
   },
   {
    "duration": 5,
    "start_time": "2024-05-09T14:32:36.584Z"
   },
   {
    "duration": 4,
    "start_time": "2024-05-09T14:32:36.591Z"
   },
   {
    "duration": 149,
    "start_time": "2024-05-09T14:32:36.596Z"
   },
   {
    "duration": 5,
    "start_time": "2024-05-09T14:32:36.746Z"
   },
   {
    "duration": 73,
    "start_time": "2024-05-09T14:32:36.752Z"
   },
   {
    "duration": 127,
    "start_time": "2024-05-09T14:32:36.828Z"
   },
   {
    "duration": 398,
    "start_time": "2024-05-09T14:32:36.957Z"
   },
   {
    "duration": 252,
    "start_time": "2024-05-09T14:32:37.356Z"
   },
   {
    "duration": 21,
    "start_time": "2024-05-09T14:32:37.609Z"
   },
   {
    "duration": 14,
    "start_time": "2024-05-09T14:32:37.632Z"
   },
   {
    "duration": 17,
    "start_time": "2024-05-09T14:32:37.647Z"
   },
   {
    "duration": 11,
    "start_time": "2024-05-09T14:32:37.666Z"
   },
   {
    "duration": 12,
    "start_time": "2024-05-09T14:32:37.679Z"
   },
   {
    "duration": 9,
    "start_time": "2024-05-09T14:32:37.692Z"
   },
   {
    "duration": 9,
    "start_time": "2024-05-09T14:32:37.702Z"
   },
   {
    "duration": 9,
    "start_time": "2024-05-09T14:32:37.712Z"
   },
   {
    "duration": 224,
    "start_time": "2024-05-09T14:32:37.744Z"
   },
   {
    "duration": 230,
    "start_time": "2024-05-09T14:32:37.971Z"
   },
   {
    "duration": 4,
    "start_time": "2024-05-09T14:32:38.202Z"
   },
   {
    "duration": 47,
    "start_time": "2024-05-09T14:32:38.207Z"
   },
   {
    "duration": 7,
    "start_time": "2024-05-09T14:32:38.255Z"
   },
   {
    "duration": 11,
    "start_time": "2024-05-09T14:32:38.263Z"
   },
   {
    "duration": 6,
    "start_time": "2024-05-09T14:32:38.275Z"
   },
   {
    "duration": 9,
    "start_time": "2024-05-09T14:32:38.282Z"
   },
   {
    "duration": 9,
    "start_time": "2024-05-09T14:32:38.292Z"
   },
   {
    "duration": 5,
    "start_time": "2024-05-09T14:32:38.302Z"
   },
   {
    "duration": 4,
    "start_time": "2024-05-09T15:15:58.537Z"
   },
   {
    "duration": 3,
    "start_time": "2024-05-09T15:17:56.626Z"
   },
   {
    "duration": 34,
    "start_time": "2024-05-09T15:17:56.631Z"
   },
   {
    "duration": 26,
    "start_time": "2024-05-09T15:17:56.666Z"
   },
   {
    "duration": 15,
    "start_time": "2024-05-09T15:17:56.694Z"
   },
   {
    "duration": 8,
    "start_time": "2024-05-09T15:17:56.711Z"
   },
   {
    "duration": 12,
    "start_time": "2024-05-09T15:17:56.721Z"
   },
   {
    "duration": 8,
    "start_time": "2024-05-09T15:17:56.734Z"
   },
   {
    "duration": 10,
    "start_time": "2024-05-09T15:17:56.743Z"
   },
   {
    "duration": 22,
    "start_time": "2024-05-09T15:17:56.755Z"
   },
   {
    "duration": 6,
    "start_time": "2024-05-09T15:17:56.778Z"
   },
   {
    "duration": 9,
    "start_time": "2024-05-09T15:17:56.786Z"
   },
   {
    "duration": 9,
    "start_time": "2024-05-09T15:17:56.797Z"
   },
   {
    "duration": 41,
    "start_time": "2024-05-09T15:17:56.807Z"
   },
   {
    "duration": 8,
    "start_time": "2024-05-09T15:17:56.850Z"
   },
   {
    "duration": 10,
    "start_time": "2024-05-09T15:17:56.860Z"
   },
   {
    "duration": 5,
    "start_time": "2024-05-09T15:17:56.872Z"
   },
   {
    "duration": 6,
    "start_time": "2024-05-09T15:17:57.021Z"
   },
   {
    "duration": 4,
    "start_time": "2024-05-09T15:17:57.029Z"
   },
   {
    "duration": 6,
    "start_time": "2024-05-09T15:17:57.035Z"
   },
   {
    "duration": 4,
    "start_time": "2024-05-09T15:17:57.043Z"
   },
   {
    "duration": 4,
    "start_time": "2024-05-09T15:17:57.049Z"
   },
   {
    "duration": 6,
    "start_time": "2024-05-09T15:17:57.054Z"
   },
   {
    "duration": 18,
    "start_time": "2024-05-09T15:17:57.061Z"
   },
   {
    "duration": 5,
    "start_time": "2024-05-09T15:17:57.080Z"
   },
   {
    "duration": 6,
    "start_time": "2024-05-09T15:17:57.087Z"
   },
   {
    "duration": 153,
    "start_time": "2024-05-09T15:17:57.094Z"
   },
   {
    "duration": 6,
    "start_time": "2024-05-09T15:17:57.248Z"
   },
   {
    "duration": 69,
    "start_time": "2024-05-09T15:17:57.256Z"
   },
   {
    "duration": 139,
    "start_time": "2024-05-09T15:17:57.327Z"
   },
   {
    "duration": 284,
    "start_time": "2024-05-09T15:17:57.470Z"
   },
   {
    "duration": 246,
    "start_time": "2024-05-09T15:17:57.755Z"
   },
   {
    "duration": 20,
    "start_time": "2024-05-09T15:17:58.002Z"
   },
   {
    "duration": 4,
    "start_time": "2024-05-09T15:17:58.023Z"
   },
   {
    "duration": 32,
    "start_time": "2024-05-09T15:17:58.028Z"
   },
   {
    "duration": 11,
    "start_time": "2024-05-09T15:17:58.061Z"
   },
   {
    "duration": 6,
    "start_time": "2024-05-09T15:17:58.074Z"
   },
   {
    "duration": 9,
    "start_time": "2024-05-09T15:17:58.081Z"
   },
   {
    "duration": 8,
    "start_time": "2024-05-09T15:17:58.091Z"
   },
   {
    "duration": 13,
    "start_time": "2024-05-09T15:17:58.100Z"
   },
   {
    "duration": 262,
    "start_time": "2024-05-09T15:17:58.114Z"
   },
   {
    "duration": 399,
    "start_time": "2024-05-09T15:17:58.378Z"
   },
   {
    "duration": 4,
    "start_time": "2024-05-09T15:17:58.778Z"
   },
   {
    "duration": 44,
    "start_time": "2024-05-09T15:17:58.783Z"
   },
   {
    "duration": 17,
    "start_time": "2024-05-09T15:17:58.828Z"
   },
   {
    "duration": 9,
    "start_time": "2024-05-09T15:17:58.846Z"
   },
   {
    "duration": 11,
    "start_time": "2024-05-09T15:17:58.856Z"
   },
   {
    "duration": 16,
    "start_time": "2024-05-09T15:17:58.868Z"
   },
   {
    "duration": 7,
    "start_time": "2024-05-09T15:17:58.885Z"
   },
   {
    "duration": 6,
    "start_time": "2024-05-09T15:17:58.893Z"
   },
   {
    "duration": 258,
    "start_time": "2024-05-09T15:17:58.900Z"
   },
   {
    "duration": 17,
    "start_time": "2024-05-09T15:17:59.160Z"
   },
   {
    "duration": 1180,
    "start_time": "2024-05-09T17:13:25.550Z"
   },
   {
    "duration": 101,
    "start_time": "2024-05-09T17:13:26.732Z"
   },
   {
    "duration": 154,
    "start_time": "2024-05-09T17:13:26.835Z"
   },
   {
    "duration": 69,
    "start_time": "2024-05-09T17:13:26.991Z"
   },
   {
    "duration": 19,
    "start_time": "2024-05-09T17:13:27.063Z"
   },
   {
    "duration": 13,
    "start_time": "2024-05-09T17:13:27.084Z"
   },
   {
    "duration": 17,
    "start_time": "2024-05-09T17:13:27.099Z"
   },
   {
    "duration": 25,
    "start_time": "2024-05-09T17:13:27.118Z"
   },
   {
    "duration": 33,
    "start_time": "2024-05-09T17:13:27.159Z"
   },
   {
    "duration": 10,
    "start_time": "2024-05-09T17:13:27.194Z"
   },
   {
    "duration": 26,
    "start_time": "2024-05-09T17:13:27.206Z"
   },
   {
    "duration": 25,
    "start_time": "2024-05-09T17:13:27.234Z"
   },
   {
    "duration": 16,
    "start_time": "2024-05-09T17:13:27.261Z"
   },
   {
    "duration": 9,
    "start_time": "2024-05-09T17:13:27.280Z"
   },
   {
    "duration": 18,
    "start_time": "2024-05-09T17:13:27.291Z"
   },
   {
    "duration": 10,
    "start_time": "2024-05-09T17:13:27.311Z"
   },
   {
    "duration": 22,
    "start_time": "2024-05-09T17:13:27.323Z"
   },
   {
    "duration": 14,
    "start_time": "2024-05-09T17:13:27.347Z"
   },
   {
    "duration": 14,
    "start_time": "2024-05-09T17:13:27.363Z"
   },
   {
    "duration": 12,
    "start_time": "2024-05-09T17:13:27.379Z"
   },
   {
    "duration": 17,
    "start_time": "2024-05-09T17:13:27.393Z"
   },
   {
    "duration": 6,
    "start_time": "2024-05-09T17:13:27.412Z"
   },
   {
    "duration": 9,
    "start_time": "2024-05-09T17:13:27.419Z"
   },
   {
    "duration": 5,
    "start_time": "2024-05-09T17:13:27.429Z"
   },
   {
    "duration": 23,
    "start_time": "2024-05-09T17:13:27.436Z"
   },
   {
    "duration": 178,
    "start_time": "2024-05-09T17:13:27.461Z"
   },
   {
    "duration": 5,
    "start_time": "2024-05-09T17:13:27.641Z"
   },
   {
    "duration": 85,
    "start_time": "2024-05-09T17:13:27.648Z"
   },
   {
    "duration": 153,
    "start_time": "2024-05-09T17:13:27.735Z"
   },
   {
    "duration": 301,
    "start_time": "2024-05-09T17:13:27.890Z"
   },
   {
    "duration": 245,
    "start_time": "2024-05-09T17:13:28.192Z"
   },
   {
    "duration": 28,
    "start_time": "2024-05-09T17:13:28.439Z"
   },
   {
    "duration": 3,
    "start_time": "2024-05-09T17:13:28.469Z"
   },
   {
    "duration": 18,
    "start_time": "2024-05-09T17:13:28.474Z"
   },
   {
    "duration": 12,
    "start_time": "2024-05-09T17:13:28.494Z"
   },
   {
    "duration": 5,
    "start_time": "2024-05-09T17:13:28.507Z"
   },
   {
    "duration": 11,
    "start_time": "2024-05-09T17:13:28.514Z"
   },
   {
    "duration": 37,
    "start_time": "2024-05-09T17:13:28.526Z"
   },
   {
    "duration": 6,
    "start_time": "2024-05-09T17:13:28.565Z"
   },
   {
    "duration": 329,
    "start_time": "2024-05-09T17:13:28.573Z"
   },
   {
    "duration": 270,
    "start_time": "2024-05-09T17:13:28.906Z"
   },
   {
    "duration": 4,
    "start_time": "2024-05-09T17:13:29.178Z"
   },
   {
    "duration": 54,
    "start_time": "2024-05-09T17:13:29.183Z"
   },
   {
    "duration": 8,
    "start_time": "2024-05-09T17:13:29.239Z"
   },
   {
    "duration": 20,
    "start_time": "2024-05-09T17:13:29.248Z"
   },
   {
    "duration": 9,
    "start_time": "2024-05-09T17:13:29.269Z"
   },
   {
    "duration": 22,
    "start_time": "2024-05-09T17:13:29.279Z"
   },
   {
    "duration": 21,
    "start_time": "2024-05-09T17:13:29.303Z"
   },
   {
    "duration": 8,
    "start_time": "2024-05-09T17:13:29.326Z"
   },
   {
    "duration": 305,
    "start_time": "2024-05-09T17:13:29.336Z"
   },
   {
    "duration": 21,
    "start_time": "2024-05-09T17:13:29.643Z"
   },
   {
    "duration": 1406,
    "start_time": "2024-05-10T10:05:54.472Z"
   },
   {
    "duration": 105,
    "start_time": "2024-05-10T10:05:55.881Z"
   },
   {
    "duration": 139,
    "start_time": "2024-05-10T10:05:55.988Z"
   },
   {
    "duration": 69,
    "start_time": "2024-05-10T10:05:56.129Z"
   },
   {
    "duration": 14,
    "start_time": "2024-05-10T10:05:56.200Z"
   },
   {
    "duration": 22,
    "start_time": "2024-05-10T10:05:56.215Z"
   },
   {
    "duration": 30,
    "start_time": "2024-05-10T10:05:56.239Z"
   },
   {
    "duration": 15,
    "start_time": "2024-05-10T10:05:56.271Z"
   },
   {
    "duration": 28,
    "start_time": "2024-05-10T10:05:56.288Z"
   },
   {
    "duration": 8,
    "start_time": "2024-05-10T10:05:56.317Z"
   },
   {
    "duration": 14,
    "start_time": "2024-05-10T10:05:56.327Z"
   },
   {
    "duration": 10,
    "start_time": "2024-05-10T10:05:56.343Z"
   },
   {
    "duration": 36,
    "start_time": "2024-05-10T10:05:56.355Z"
   },
   {
    "duration": 11,
    "start_time": "2024-05-10T10:05:56.394Z"
   },
   {
    "duration": 11,
    "start_time": "2024-05-10T10:05:56.407Z"
   },
   {
    "duration": 6,
    "start_time": "2024-05-10T10:05:56.420Z"
   },
   {
    "duration": 9,
    "start_time": "2024-05-10T10:05:56.427Z"
   },
   {
    "duration": 6,
    "start_time": "2024-05-10T10:05:56.437Z"
   },
   {
    "duration": 38,
    "start_time": "2024-05-10T10:05:56.445Z"
   },
   {
    "duration": 5,
    "start_time": "2024-05-10T10:05:56.485Z"
   },
   {
    "duration": 7,
    "start_time": "2024-05-10T10:05:56.492Z"
   },
   {
    "duration": 8,
    "start_time": "2024-05-10T10:05:56.501Z"
   },
   {
    "duration": 7,
    "start_time": "2024-05-10T10:05:56.511Z"
   },
   {
    "duration": 6,
    "start_time": "2024-05-10T10:05:56.520Z"
   },
   {
    "duration": 17,
    "start_time": "2024-05-10T10:05:56.527Z"
   },
   {
    "duration": 189,
    "start_time": "2024-05-10T10:05:56.546Z"
   },
   {
    "duration": 6,
    "start_time": "2024-05-10T10:05:56.737Z"
   },
   {
    "duration": 97,
    "start_time": "2024-05-10T10:05:56.744Z"
   },
   {
    "duration": 145,
    "start_time": "2024-05-10T10:05:56.843Z"
   },
   {
    "duration": 294,
    "start_time": "2024-05-10T10:05:56.990Z"
   },
   {
    "duration": 268,
    "start_time": "2024-05-10T10:05:57.287Z"
   },
   {
    "duration": 35,
    "start_time": "2024-05-10T10:05:57.557Z"
   },
   {
    "duration": 4,
    "start_time": "2024-05-10T10:05:57.593Z"
   },
   {
    "duration": 20,
    "start_time": "2024-05-10T10:05:57.599Z"
   },
   {
    "duration": 49,
    "start_time": "2024-05-10T10:05:57.621Z"
   },
   {
    "duration": 5,
    "start_time": "2024-05-10T10:05:57.672Z"
   },
   {
    "duration": 15,
    "start_time": "2024-05-10T10:05:57.678Z"
   },
   {
    "duration": 9,
    "start_time": "2024-05-10T10:05:57.695Z"
   },
   {
    "duration": 6,
    "start_time": "2024-05-10T10:05:57.705Z"
   },
   {
    "duration": 377,
    "start_time": "2024-05-10T10:05:57.713Z"
   },
   {
    "duration": 276,
    "start_time": "2024-05-10T10:05:58.094Z"
   },
   {
    "duration": 10,
    "start_time": "2024-05-10T10:05:58.372Z"
   },
   {
    "duration": 42,
    "start_time": "2024-05-10T10:05:58.383Z"
   },
   {
    "duration": 7,
    "start_time": "2024-05-10T10:05:58.427Z"
   },
   {
    "duration": 9,
    "start_time": "2024-05-10T10:05:58.436Z"
   },
   {
    "duration": 5,
    "start_time": "2024-05-10T10:05:58.447Z"
   },
   {
    "duration": 36,
    "start_time": "2024-05-10T10:05:58.453Z"
   },
   {
    "duration": 10,
    "start_time": "2024-05-10T10:05:58.491Z"
   },
   {
    "duration": 7,
    "start_time": "2024-05-10T10:05:58.503Z"
   },
   {
    "duration": 312,
    "start_time": "2024-05-10T10:05:58.511Z"
   },
   {
    "duration": 18,
    "start_time": "2024-05-10T10:05:58.824Z"
   }
  ],
  "kernelspec": {
   "display_name": "Python 3 (ipykernel)",
   "language": "python",
   "name": "python3"
  },
  "language_info": {
   "codemirror_mode": {
    "name": "ipython",
    "version": 3
   },
   "file_extension": ".py",
   "mimetype": "text/x-python",
   "name": "python",
   "nbconvert_exporter": "python",
   "pygments_lexer": "ipython3",
   "version": "3.11.9"
  },
  "toc": {
   "base_numbering": 1,
   "nav_menu": {},
   "number_sections": false,
   "sideBar": true,
   "skip_h1_title": true,
   "title_cell": "Table of Contents",
   "title_sidebar": "Contents",
   "toc_cell": false,
   "toc_position": {},
   "toc_section_display": true,
   "toc_window_display": false
  }
 },
 "nbformat": 4,
 "nbformat_minor": 5
}
